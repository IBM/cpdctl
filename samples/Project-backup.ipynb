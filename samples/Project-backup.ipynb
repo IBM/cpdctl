{
 "cells": [
  {
   "cell_type": "markdown",
   "metadata": {},
   "source": [
    "# Backup assets from a project and restore to the new one"
   ]
  },
  {
   "cell_type": "markdown",
   "metadata": {},
   "source": [
    "This notebook contains steps and code to demonstrate support of backup and restore features in Cloud Pak for Data. \n",
    "It contains steps and code to work with [`cpdctl`](https://github.com/IBM/cpdctl) CLI tool available in IBM GitHub repository. \n",
    "It also introduces commands for working with assets, exporting them from a project, creating the new project and importing assets there.\n",
    "\n",
    "Some familiarity with Python is helpful. This notebook uses Python 3.7."
   ]
  },
  {
   "cell_type": "code",
   "execution_count": 1,
   "metadata": {},
   "outputs": [],
   "source": [
    "import base64\n",
    "import json\n",
    "import os\n",
    "import platform\n",
    "import requests\n",
    "import tarfile\n",
    "import zipfile\n",
    "from IPython.core.display import display, HTML"
   ]
  },
  {
   "cell_type": "markdown",
   "metadata": {},
   "source": [
    "## CPD Credentials\n",
    "**Note**: when running this notebook inside IBM Cloud Pak for Data (CP4D) cluster, cpdctl takes advantage of [zero-configuration mode](https://github.com/IBM/cpdctl#zero-configuration) which means it can connect to the CP4D without explicit configuration. In that case the cells below that set credential and URL variables as well as cells that run `cpdctl config ...` commands can be skipped."
   ]
  },
  {
   "cell_type": "code",
   "execution_count": 2,
   "metadata": {},
   "outputs": [],
   "source": [
    "CPD_USER_NAME = 'YOUR CPD USER NAME'\n",
    "CPD_USER_PASSWORD = 'YOUR CPD USER PASSWORD'\n",
    "CPD_URL = 'YOUR CPD CLUSTER URL'"
   ]
  },
  {
   "cell_type": "markdown",
   "metadata": {},
   "source": [
    "### Install the latest version of `cpdctl`"
   ]
  },
  {
   "cell_type": "code",
   "execution_count": 3,
   "metadata": {},
   "outputs": [
    {
     "data": {
      "text/html": [
       "<code>cpdctl</code> binary downloaded from: <a href=\"https://github.com/IBM/cpdctl/releases/download/v1.0.0/cpdctl_darwin_amd64.tar.gz\">cpdctl_darwin_amd64.tar.gz</a>"
      ],
      "text/plain": [
       "<IPython.core.display.HTML object>"
      ]
     },
     "metadata": {},
     "output_type": "display_data"
    }
   ],
   "source": [
    "PLATFORM = platform.system().lower()\n",
    "CPDCTL_ARCH = \"{}_amd64\".format(PLATFORM)\n",
    "CPDCTL_RELEASES_URL=\"https://api.github.com/repos/IBM/cpdctl/releases\"\n",
    "CWD = os.getcwd()\n",
    "PATH = os.environ['PATH']\n",
    "CPD_CONFIG = os.path.join(CWD, '.cpdctl.config.yml')\n",
    "\n",
    "response = requests.get(CPDCTL_RELEASES_URL)\n",
    "assets = response.json()[0]['assets']\n",
    "platform_asset = next(a for a in assets if CPDCTL_ARCH in a['name'])\n",
    "cpdctl_url = platform_asset['url']\n",
    "cpdctl_file_name = platform_asset['name']\n",
    "\n",
    "response = requests.get(cpdctl_url, headers={'Accept': 'application/octet-stream'})\n",
    "with open(cpdctl_file_name, 'wb') as f:\n",
    "    f.write(response.content)\n",
    "    \n",
    "display(HTML('<code>cpdctl</code> binary downloaded from: <a href=\"{}\">{}</a>'.format(platform_asset['browser_download_url'], platform_asset['name'])))"
   ]
  },
  {
   "cell_type": "code",
   "execution_count": 4,
   "metadata": {},
   "outputs": [],
   "source": [
    "%%capture\n",
    "\n",
    "%env PATH={CWD}:{PATH}\n",
    "%env CPD_CONFIG={CPD_CONFIG}"
   ]
  },
  {
   "cell_type": "code",
   "execution_count": 5,
   "metadata": {},
   "outputs": [
    {
     "name": "stdout",
     "output_type": "stream",
     "text": [
      "cpdctl version: 1.0.0\n"
     ]
    }
   ],
   "source": [
    "if cpdctl_file_name.endswith('tar.gz'):\n",
    "    with tarfile.open(cpdctl_file_name, \"r:gz\") as tar:\n",
    "        tar.extractall()\n",
    "elif cpdctl_file_name.endswith('zip'):\n",
    "    with zipfile.ZipFile(cpdctl_file_name, 'r') as zf:\n",
    "        zf.extractall()\n",
    "\n",
    "if CPD_CONFIG and os.path.exists(CPD_CONFIG):\n",
    "    os.remove(CPD_CONFIG)\n",
    "    \n",
    "version_r = ! cpdctl version\n",
    "CPDCTL_VERSION = version_r.s\n",
    "\n",
    "print(\"cpdctl version: {}\".format(CPDCTL_VERSION))"
   ]
  },
  {
   "cell_type": "markdown",
   "metadata": {},
   "source": [
    "### Add CPD user and profile configuration"
   ]
  },
  {
   "cell_type": "markdown",
   "metadata": {},
   "source": [
    "Add \"cpd_user\" user to the `cpdctl` configuration"
   ]
  },
  {
   "cell_type": "code",
   "execution_count": 6,
   "metadata": {},
   "outputs": [],
   "source": [
    "! cpdctl config user set cpd_user --username {CPD_USER_NAME} --password {CPD_USER_PASSWORD}"
   ]
  },
  {
   "cell_type": "markdown",
   "metadata": {},
   "source": [
    "Add \"cpd\" profile to the `cpdctl` configuration"
   ]
  },
  {
   "cell_type": "code",
   "execution_count": 7,
   "metadata": {},
   "outputs": [],
   "source": [
    "! cpdctl config profile set cpd --url {CPD_URL}"
   ]
  },
  {
   "cell_type": "markdown",
   "metadata": {},
   "source": [
    "List available profiles"
   ]
  },
  {
   "cell_type": "code",
   "execution_count": 1,
   "metadata": {},
   "outputs": [
    {
     "name": "stdout",
     "output_type": "stream",
     "text": [
      "\u001b[1mName\u001b[0m   \u001b[1mType\u001b[0m      \u001b[1mUser\u001b[0m       \u001b[1mURL\u001b[0m                                              \u001b[1mCurrent\u001b[0m\r\n",
      "\u001b[36;1mcpd\u001b[0m    private   cpd_user   https://cpd-zen.apps.wp463case.cp.fyre.ibm.com   *\r\n"
     ]
    }
   ],
   "source": [
    "! cpdctl config profile list"
   ]
  },
  {
   "cell_type": "markdown",
   "metadata": {},
   "source": [
    "Switch the current profile"
   ]
  },
  {
   "cell_type": "code",
   "execution_count": 2,
   "metadata": {},
   "outputs": [
    {
     "name": "stdout",
     "output_type": "stream",
     "text": [
      "Switched to profile \"cpd\".\r\n"
     ]
    }
   ],
   "source": [
    "! cpdctl config profile use cpd"
   ]
  },
  {
   "cell_type": "markdown",
   "metadata": {},
   "source": [
    "List available projects in \"cpd\" profile"
   ]
  },
  {
   "cell_type": "code",
   "execution_count": 11,
   "metadata": {},
   "outputs": [
    {
     "name": "stdout",
     "output_type": "stream",
     "text": [
      "...\n",
      "\u001b[1mID\u001b[0m                                     \u001b[1mName\u001b[0m          \u001b[1mCreated\u001b[0m                    \u001b[1mDescription\u001b[0m   \u001b[1mTags\u001b[0m   \n",
      "\u001b[36;1m7fb76cf7-25be-435d-818e-bd6e9b5254f5\u001b[0m   cpdctl-demo   2021-01-29T08:01:23.363Z                 []   \n"
     ]
    }
   ],
   "source": [
    "! cpdctl project list"
   ]
  },
  {
   "cell_type": "markdown",
   "metadata": {},
   "source": [
    "### Access the selected project assets"
   ]
  },
  {
   "cell_type": "markdown",
   "metadata": {},
   "source": [
    "Get the first project ID and show details"
   ]
  },
  {
   "cell_type": "code",
   "execution_count": 12,
   "metadata": {
    "scrolled": true
   },
   "outputs": [],
   "source": [
    "result = ! cpdctl project list --output json --raw-output --jmes-query 'resources[0].metadata.guid'\n",
    "PROJECT_ID = result.s"
   ]
  },
  {
   "cell_type": "code",
   "execution_count": 13,
   "metadata": {},
   "outputs": [
    {
     "name": "stdout",
     "output_type": "stream",
     "text": [
      "...\n",
      "\u001b[1m\u001b[0m               \u001b[1m\u001b[0m   \n",
      "\u001b[36;1mID:\u001b[0m            7fb76cf7-25be-435d-818e-bd6e9b5254f5   \n",
      "\u001b[36;1mName:\u001b[0m          cpdctl-demo   \n",
      "\u001b[36;1mCreated:\u001b[0m       2021-01-29T08:01:23.363Z   \n",
      "\u001b[36;1mDescription:\u001b[0m      \n",
      "\u001b[36;1mTags:\u001b[0m          []   \n"
     ]
    }
   ],
   "source": [
    "! cpdctl project get --project-id {PROJECT_ID}"
   ]
  },
  {
   "cell_type": "code",
   "execution_count": 14,
   "metadata": {},
   "outputs": [
    {
     "name": "stdout",
     "output_type": "stream",
     "text": [
      "'cpdctl-demo' project ID is: 7fb76cf7-25be-435d-818e-bd6e9b5254f5\n"
     ]
    }
   ],
   "source": [
    "result = ! cpdctl project get --project-id {PROJECT_ID} --output json --jmes-query \"entity.name\" --raw-output\n",
    "PROJECT_NAME = result.s\n",
    "print(\"'{}' project ID is: {}\".format(PROJECT_NAME, PROJECT_ID))"
   ]
  },
  {
   "cell_type": "markdown",
   "metadata": {},
   "source": [
    "List assets in the project"
   ]
  },
  {
   "cell_type": "code",
   "execution_count": 15,
   "metadata": {},
   "outputs": [
    {
     "name": "stdout",
     "output_type": "stream",
     "text": [
      "...\n",
      "\u001b[1mID\u001b[0m                                     \u001b[1mName\u001b[0m                                                \u001b[1mCreated\u001b[0m                    \u001b[1mDescription\u001b[0m                 \u001b[1mType\u001b[0m         \u001b[1mState\u001b[0m       \u001b[1mTags\u001b[0m            \u001b[1mSize\u001b[0m   \n",
      "\u001b[36;1m8a8c8daa-f6eb-4e2b-9526-b6f13a457785\u001b[0m   car_rental_training_data.csv                        2021-01-29T08:54:47.000Z                               data_asset   available   [cpdctl-demo]   79518   \n",
      "\u001b[36;1m17ebcd96-588e-4287-9cb9-eb4608a4693e\u001b[0m   housing_data.csv                                    2021-01-29T10:20:26.000Z                               data_asset   available   [cpdctl-demo]   41399   \n",
      "\u001b[36;1medb6fe21-77c4-4cb3-aa6d-9e36d2b18edd\u001b[0m   credit_risk_training.csv                            2021-01-29T08:51:00.000Z                               data_asset   available   []              689622   \n",
      "\u001b[36;1mceea9923-7ff7-4084-a560-818716e65b4d\u001b[0m   Sample notebook                                     2021-01-29T08:51:49.000Z   Notebook run using cpdctl   notebook     available   [notebook]      207   \n",
      "\u001b[36;1maa508183-945b-4c68-82b7-5557ab33a2be\u001b[0m   train-scikit-model-job                              2021-01-29T09:20:04.000Z                               job          available   []              0   \n",
      "\u001b[36;1mec805c4c-1ba9-4a80-82e0-4c05b67043d9\u001b[0m   Notebook Job                                        2021-01-29T09:20:46.000Z                               job_run      available   []              0   \n",
      "\u001b[36;1me4f0d078-04b1-49a4-b360-2939a2dfab34\u001b[0m   train-scikit-model-to-predict-boston-house-prices   2021-01-29T09:06:41.000Z                               notebook     available   [notebook]      19655   \n"
     ]
    }
   ],
   "source": [
    "! cpdctl asset search --project-id {PROJECT_ID} --type-name asset --query \"*:*\""
   ]
  },
  {
   "cell_type": "markdown",
   "metadata": {},
   "source": [
    "### Download data asset"
   ]
  },
  {
   "cell_type": "markdown",
   "metadata": {},
   "source": [
    "Get \"credit_risk_training.csv\" data asset ID"
   ]
  },
  {
   "cell_type": "code",
   "execution_count": 20,
   "metadata": {},
   "outputs": [
    {
     "name": "stdout",
     "output_type": "stream",
     "text": [
      "'credit_risk_training.csv' data asset ID is: edb6fe21-77c4-4cb3-aa6d-9e36d2b18edd\n"
     ]
    }
   ],
   "source": [
    "result = ! cpdctl asset search --project-id {PROJECT_ID} --type-name data_asset --query \"asset.name:credit_risk_training.csv\" --output json --jmes-query \"results[0].metadata.asset_id\" --raw-output\n",
    "DATA_ASSET_ID = result.s\n",
    "print(\"'credit_risk_training.csv' data asset ID is: {}\".format(DATA_ASSET_ID))"
   ]
  },
  {
   "cell_type": "markdown",
   "metadata": {},
   "source": [
    "Download data asset"
   ]
  },
  {
   "cell_type": "code",
   "execution_count": 21,
   "metadata": {},
   "outputs": [
    {
     "name": "stdout",
     "output_type": "stream",
     "text": [
      "...\n",
      "\u001b[1m\u001b[0m               \u001b[1m\u001b[0m   \n",
      "\u001b[36;1mID:\u001b[0m            edb6fe21-77c4-4cb3-aa6d-9e36d2b18edd   \n",
      "\u001b[36;1mName:\u001b[0m          credit_risk_training.csv   \n",
      "\u001b[36;1mCreated:\u001b[0m       2021-01-29T08:51:00.000Z   \n",
      "\u001b[36;1mDescription:\u001b[0m      \n",
      "\u001b[36;1mType:\u001b[0m          data_asset   \n",
      "\u001b[36;1mState:\u001b[0m         available   \n",
      "\u001b[36;1mTags:\u001b[0m          []   \n",
      "\u001b[36;1mSize:\u001b[0m          689622   \n",
      "\u001b[36;1mAttachments:\u001b[0m   \u001b[1mID\u001b[0m                                     \u001b[1mName\u001b[0m                       \u001b[1mType\u001b[0m         \u001b[1mMime Type\u001b[0m      \n",
      "\u001b[36;1m\u001b[0m               \u001b[36;1m0d7bc498-8913-4a53-91d3-b419e8ba070a\u001b[0m   credit_risk_training.csv   data_asset   text/csv      \n",
      "\u001b[36;1m\u001b[0m                  \n"
     ]
    }
   ],
   "source": [
    "! cpdctl asset get --project-id {PROJECT_ID} --asset-id {DATA_ASSET_ID}"
   ]
  },
  {
   "cell_type": "code",
   "execution_count": 37,
   "metadata": {},
   "outputs": [
    {
     "name": "stdout",
     "output_type": "stream",
     "text": [
      "Data asset attachment ID is: 535ed8dd-8ea9-4dc7-b686-bb4e7d70192c\n"
     ]
    }
   ],
   "source": [
    "result = ! cpdctl asset get --project-id {PROJECT_ID} --asset-id {DATA_ASSET_ID} --output json -j \"attachments[0].id\" --raw-output\n",
    "DATA_ATTACHMENT_ID = result.s\n",
    "print(\"Data asset attachment ID is: {}\".format(DATA_ATTACHMENT_ID))"
   ]
  },
  {
   "cell_type": "code",
   "execution_count": 38,
   "metadata": {},
   "outputs": [
    {
     "name": "stdout",
     "output_type": "stream",
     "text": [
      "...\n",
      "\u001b[32;1mOK\u001b[0m\n",
      "Output written to credit_risk_training.csv\n"
     ]
    }
   ],
   "source": [
    "! cpdctl asset attachment download --project-id {PROJECT_ID} --asset-id {DATA_ASSET_ID} --attachment-id {DATA_ATTACHMENT_ID} --output-file credit_risk_training.csv"
   ]
  },
  {
   "cell_type": "markdown",
   "metadata": {},
   "source": [
    "### Upload a new data asset"
   ]
  },
  {
   "cell_type": "markdown",
   "metadata": {},
   "source": [
    "Clean up the existing \"housing_data.csv\" data assets"
   ]
  },
  {
   "cell_type": "code",
   "execution_count": 22,
   "metadata": {},
   "outputs": [],
   "source": [
    "UPLOAD_DATASET_NAME = 'housing_data.csv'\n",
    "ASSET_QUERY = \"asset.name:{}\".format(UPLOAD_DATASET_NAME)"
   ]
  },
  {
   "cell_type": "code",
   "execution_count": 25,
   "metadata": {},
   "outputs": [],
   "source": [
    "result = ! cpdctl asset search --project-id {PROJECT_ID} --type-name data_asset --query \"{ASSET_QUERY}\" --output json --jmes-query \"results[*].metadata.asset_id\" --raw-output\n",
    "DATA_ASSET_IDS = json.loads(result.s)\n",
    "for data_asset_id in DATA_ASSET_IDS:\n",
    "    print(\"Deleteing data asset with ID: {}\".format(data_asset_id))\n",
    "    ! cpdctl asset delete --project-id {PROJECT_ID} --asset-id {data_asset_id}"
   ]
  },
  {
   "cell_type": "markdown",
   "metadata": {},
   "source": [
    "Download the full training set from github "
   ]
  },
  {
   "cell_type": "code",
   "execution_count": 26,
   "metadata": {},
   "outputs": [
    {
     "name": "stdout",
     "output_type": "stream",
     "text": [
      "  % Total    % Received % Xferd  Average Speed   Time    Time     Time  Current\n",
      "                                 Dload  Upload   Total   Spent    Left  Speed\n",
      "100 41399  100 41399    0     0   117k      0 --:--:-- --:--:-- --:--:--  117k\n",
      "     507 housing_data.csv\n"
     ]
    }
   ],
   "source": [
    "! curl https://raw.githubusercontent.com/pmservice/wml-sample-models/master/scikit-learn/boston/data/housing_data.csv -o {UPLOAD_DATASET_NAME}\n",
    "! wc -l {UPLOAD_DATASET_NAME}"
   ]
  },
  {
   "cell_type": "markdown",
   "metadata": {},
   "source": [
    "Create a new data asset in the project from the downloaded file"
   ]
  },
  {
   "cell_type": "code",
   "execution_count": 27,
   "metadata": {
    "scrolled": true
   },
   "outputs": [
    {
     "name": "stdout",
     "output_type": "stream",
     "text": [
      "...\n",
      "40.65 KiB / 40.43 KiB [---------------------------------------] 100.54% ? p/s 0s\n",
      "\u001b[1m\u001b[0m               \u001b[1m\u001b[0m   \n",
      "\u001b[36;1mID:\u001b[0m            17ebcd96-588e-4287-9cb9-eb4608a4693e   \n",
      "\u001b[36;1mName:\u001b[0m          housing_data.csv   \n",
      "\u001b[36;1mCreated:\u001b[0m       2021-01-29T10:20:26.000Z   \n",
      "\u001b[36;1mDescription:\u001b[0m      \n",
      "\u001b[36;1mType:\u001b[0m          data_asset   \n",
      "\u001b[36;1mState:\u001b[0m         available   \n",
      "\u001b[36;1mTags:\u001b[0m          [cpdctl-demo]   \n",
      "\u001b[36;1mSize:\u001b[0m          41399   \n",
      "\u001b[36;1mAttachments:\u001b[0m   \u001b[1mID\u001b[0m                                     \u001b[1mName\u001b[0m               \u001b[1mType\u001b[0m         \u001b[1mMime Type\u001b[0m      \n",
      "\u001b[36;1m\u001b[0m               \u001b[36;1m7f6c9650-36e5-414e-9620-8e8f0bf90c71\u001b[0m   housing_data.csv   data_asset   text/csv      \n",
      "\u001b[36;1m\u001b[0m                  \n"
     ]
    }
   ],
   "source": [
    "! cpdctl asset data-asset upload --file {UPLOAD_DATASET_NAME} --project-id {PROJECT_ID} --progress true --tag \"cpdctl-demo\" --mime \"text/csv\"\n"
   ]
  },
  {
   "cell_type": "code",
   "execution_count": 28,
   "metadata": {},
   "outputs": [
    {
     "name": "stdout",
     "output_type": "stream",
     "text": [
      "'housing_data.csv' data asset ID is: edb6fe21-77c4-4cb3-aa6d-9e36d2b18edd\n"
     ]
    }
   ],
   "source": [
    "result = ! cpdctl asset search --project-id {PROJECT_ID} --type-name data_asset --query \"asset.name:credit_risk_training.csv\" --output json --jmes-query \"results[0].metadata.asset_id\" --raw-output\n",
    "NEW_DATA_ASSET_ID = result.s\n",
    "print(\"'{}' data asset ID is: {}\".format(UPLOAD_DATASET_NAME, NEW_DATA_ASSET_ID))"
   ]
  },
  {
   "cell_type": "code",
   "execution_count": 29,
   "metadata": {},
   "outputs": [
    {
     "name": "stdout",
     "output_type": "stream",
     "text": [
      "...\n",
      "\u001b[1mID\u001b[0m                                     \u001b[1mName\u001b[0m                           \u001b[1mCreated\u001b[0m                    \u001b[1mDescription\u001b[0m   \u001b[1mType\u001b[0m         \u001b[1mState\u001b[0m       \u001b[1mTags\u001b[0m            \u001b[1mSize\u001b[0m   \n",
      "\u001b[36;1m8a8c8daa-f6eb-4e2b-9526-b6f13a457785\u001b[0m   car_rental_training_data.csv   2021-01-29T08:54:47.000Z                 data_asset   available   [cpdctl-demo]   79518   \n",
      "\u001b[36;1m17ebcd96-588e-4287-9cb9-eb4608a4693e\u001b[0m   housing_data.csv               2021-01-29T10:20:26.000Z                 data_asset   available   [cpdctl-demo]   41399   \n",
      "\u001b[36;1medb6fe21-77c4-4cb3-aa6d-9e36d2b18edd\u001b[0m   credit_risk_training.csv       2021-01-29T08:51:00.000Z                 data_asset   available   []              689622   \n"
     ]
    }
   ],
   "source": [
    "! cpdctl asset search --project-id {PROJECT_ID} --type-name data_asset --query \"*:*\""
   ]
  },
  {
   "cell_type": "markdown",
   "metadata": {},
   "source": [
    "Export all assets from the selected project"
   ]
  },
  {
   "cell_type": "code",
   "execution_count": 32,
   "metadata": {},
   "outputs": [
    {
     "name": "stdout",
     "output_type": "stream",
     "text": [
      "Export ID: 0988ee86-33b1-4bf4-90cb-676009d3d463\n"
     ]
    }
   ],
   "source": [
    "EXPORT = {\n",
    "    'all_assets': True\n",
    "}\n",
    "EXPORT_JSON = json.dumps(EXPORT)\n",
    "result = ! cpdctl asset export start --project-id {PROJECT_ID} --assets '{EXPORT_JSON}' --name demo-project-assets --output json --jmes-query \"metadata.id\" --raw-output\n",
    "EXPORT_ID = result.s\n",
    "print('Export ID: {}'.format(EXPORT_ID))"
   ]
  },
  {
   "cell_type": "code",
   "execution_count": 33,
   "metadata": {},
   "outputs": [
    {
     "name": "stdout",
     "output_type": "stream",
     "text": [
      "...\n",
      "\u001b[32;1mOK\u001b[0m\n",
      "Output written to project-assets.zip\n"
     ]
    }
   ],
   "source": [
    "! cpdctl asset export download --project-id {PROJECT_ID} --export-id {EXPORT_ID} --output-file project-assets.zip --progress"
   ]
  },
  {
   "cell_type": "code",
   "execution_count": 34,
   "metadata": {},
   "outputs": [
    {
     "name": "stdout",
     "output_type": "stream",
     "text": [
      "Archive:  project-assets.zip\r\n",
      "  Length      Date    Time    Name\r\n",
      "---------  ---------- -----   ----\r\n",
      "      358  01-29-2021 10:23   project.json\r\n",
      "       44  01-29-2021 10:23   deflate.log\r\n",
      "      416  01-29-2021 10:23   assettypes/folder_asset.json\r\n",
      "      988  01-29-2021 10:23   assettypes/column_info.json\r\n",
      "      234  01-29-2021 10:23   assettypes/policy_transform.json\r\n",
      "      543  01-29-2021 10:23   assettypes/asset_terms.json\r\n",
      "      459  01-29-2021 10:23   assettypes/omrs_relationship_message.json\r\n",
      "      288  01-29-2021 10:23   assettypes/package_extension.json\r\n",
      "      526  01-29-2021 10:23   assettypes/environment.json\r\n",
      "      465  01-29-2021 10:23   assettypes/connection_credentials.json\r\n",
      "      311  01-29-2021 10:23   assettypes/shiny_asset.json\r\n",
      "     1442  01-29-2021 10:23   assettypes/job_run.json\r\n",
      "    38778  01-29-2021 10:23   assettypes/wml_model.json\r\n",
      "     2528  01-29-2021 10:23   assettypes/wml_remote_training_system.json\r\n",
      "    27504  01-29-2021 10:23   assettypes/wml_training_definition.json\r\n",
      "      513  01-29-2021 10:23   assettypes/software_specification.json\r\n",
      "      477  01-29-2021 10:23   assettypes/notebook.json\r\n",
      "      327  01-29-2021 10:23   assettypes/omrs_entity.json\r\n",
      "      462  01-29-2021 10:23   assettypes/omrs_relationship.json\r\n",
      "      452  01-29-2021 10:23   assettypes/data_asset.json\r\n",
      "     1026  01-29-2021 10:23   assettypes/hardware_specification.json\r\n",
      "      309  01-29-2021 10:23   assettypes/connection.json\r\n",
      "     1038  01-29-2021 10:23   assettypes/job.json\r\n",
      "    43368  01-29-2021 10:23   assettypes/wml_pipeline.json\r\n",
      "     2846  01-29-2021 10:23   assettypes/wml_model_definition.json\r\n",
      "    12964  01-29-2021 10:23   assettypes/wml_experiment.json\r\n",
      "    16556  01-29-2021 10:23   assettypes/wml_function.json\r\n",
      "    40733  01-29-2021 10:23   assettypes/wml_deployment_job_definition.json\r\n",
      "      389  01-29-2021 10:23   assettypes/script.json\r\n",
      "      189  01-29-2021 10:23   assettypes/data_flow.json\r\n",
      "      208  01-29-2021 10:23   assettypes/datasource_type.json\r\n",
      "    79518  01-29-2021 08:54   assets/76cd0e62-8c46-4ffd-bcc5-6eb1f3bc76c7/8a8c8daa-f6eb-4e2b-9526-b6f13a457785/8c197d6a-ae23-4d30-a8be-0c4ad68e1be3\r\n",
      "     1291  01-29-2021 10:23   assets/.METADATA/data_asset.8a8c8daa-f6eb-4e2b-9526-b6f13a457785.json\r\n",
      "    41399  01-29-2021 10:20   assets/76cd0e62-8c46-4ffd-bcc5-6eb1f3bc76c7/17ebcd96-588e-4287-9cb9-eb4608a4693e/7f6c9650-36e5-414e-9620-8e8f0bf90c71\r\n",
      "     1267  01-29-2021 10:23   assets/.METADATA/data_asset.17ebcd96-588e-4287-9cb9-eb4608a4693e.json\r\n",
      "     1227  01-29-2021 10:23   assets/.METADATA/data_asset.edb6fe21-77c4-4cb3-aa6d-9e36d2b18edd.json\r\n",
      "   689622  01-29-2021 08:50   assets/data_asset/credit_risk_training.csv\r\n",
      "---------                     -------\r\n",
      "  1011065                     37 files\r\n"
     ]
    }
   ],
   "source": [
    "! unzip -l project-assets.zip"
   ]
  },
  {
   "cell_type": "markdown",
   "metadata": {},
   "source": [
    "### Create a new project from backup"
   ]
  },
  {
   "cell_type": "markdown",
   "metadata": {},
   "source": [
    "Ensure there is no restored project"
   ]
  },
  {
   "cell_type": "code",
   "execution_count": 12,
   "metadata": {},
   "outputs": [],
   "source": [
    "RESTORED_PROJECT_NAME = 'cpdctl-demo-restored-project'"
   ]
  },
  {
   "cell_type": "code",
   "execution_count": 31,
   "metadata": {},
   "outputs": [],
   "source": [
    "JMES_QUERY = \"resources[?entity.name == '{}'].metadata.guid\".format(RESTORED_PROJECT_NAME)\n",
    "result = ! cpdctl project list --output json --jmes-query \"{JMES_QUERY}\"\n",
    "PROJECT_IDS = json.loads(result.s)\n",
    "if PROJECT_IDS:\n",
    "    for project_id in PROJECT_IDS:\n",
    "        print('Deleting project with ID: {}'.format(project_id))\n",
    "        ! cpdctl project delete --project-id {project_id}"
   ]
  },
  {
   "cell_type": "code",
   "execution_count": 19,
   "metadata": {},
   "outputs": [
    {
     "name": "stdout",
     "output_type": "stream",
     "text": [
      "{\r\n",
      "  \"resources\": [\r\n",
      "    {\r\n",
      "      \"entity\": {\r\n",
      "        \"creator\": \"demouser\",\r\n",
      "        \"creator_iam_id\": \"1000331004\",\r\n",
      "        \"name\": \"cpdctl-demo-restored-project\",\r\n",
      "        \"public\": false,\r\n",
      "        \"scope\": {\r\n",
      "          \"bss_account_id\": \"999\",\r\n",
      "          \"enforce_members\": true\r\n",
      "        },\r\n",
      "        \"storage\": {\r\n",
      "          \"guid\": \"dcb94a38-4356-424f-9fa0-3e5b34c648ed\",\r\n",
      "          \"type\": \"assetfiles\"\r\n",
      "        }\r\n",
      "      },\r\n",
      "      \"metadata\": {\r\n",
      "        \"created_at\": \"2021-01-29T10:30:12.419Z\",\r\n",
      "        \"guid\": \"26ec966c-5fd6-4d28-bd32-5ab0aa3fc51e\",\r\n",
      "        \"updated_at\": \"2021-01-29T10:30:14.083Z\",\r\n",
      "        \"url\": \"/v2/projects/26ec966c-5fd6-4d28-bd32-5ab0aa3fc51e\"\r\n",
      "      }\r\n",
      "    },\r\n",
      "    {\r\n",
      "      \"entity\": {\r\n",
      "        \"creator\": \"demouser\",\r\n",
      "        \"creator_iam_id\": \"1000331004\",\r\n",
      "        \"description\": \"\",\r\n",
      "        \"name\": \"cpdctl-samples\",\r\n",
      "        \"public\": false,\r\n",
      "        \"scope\": {\r\n",
      "          \"bss_account_id\": \"999\",\r\n",
      "          \"enforce_members\": true\r\n",
      "        },\r\n",
      "        \"storage\": {\r\n",
      "          \"guid\": \"4502095b-b79a-41fc-af23-4be3d46583c5\",\r\n",
      "          \"type\": \"assetfiles\"\r\n",
      "        }\r\n",
      "      },\r\n",
      "      \"metadata\": {\r\n",
      "        \"created_at\": \"2021-01-30T12:26:22.978Z\",\r\n",
      "        \"guid\": \"40dd7006-d289-4e7c-8a1f-560a4f3459c0\",\r\n",
      "        \"updated_at\": \"2021-01-30T12:26:24.789Z\",\r\n",
      "        \"url\": \"/v2/projects/40dd7006-d289-4e7c-8a1f-560a4f3459c0\"\r\n",
      "      }\r\n",
      "    },\r\n",
      "    {\r\n",
      "      \"entity\": {\r\n",
      "        \"creator\": \"demouser\",\r\n",
      "        \"creator_iam_id\": \"1000331004\",\r\n",
      "        \"description\": \"\",\r\n",
      "        \"name\": \"cpdctl-demo\",\r\n",
      "        \"public\": false,\r\n",
      "        \"scope\": {\r\n",
      "          \"bss_account_id\": \"999\",\r\n",
      "          \"enforce_members\": true\r\n",
      "        },\r\n",
      "        \"storage\": {\r\n",
      "          \"guid\": \"95590fa0-1246-499d-84a8-7cb030d14112\",\r\n",
      "          \"type\": \"assetfiles\"\r\n",
      "        }\r\n",
      "      },\r\n",
      "      \"metadata\": {\r\n",
      "        \"created_at\": \"2021-01-29T08:01:23.363Z\",\r\n",
      "        \"guid\": \"7fb76cf7-25be-435d-818e-bd6e9b5254f5\",\r\n",
      "        \"updated_at\": \"2021-01-29T08:01:27.103Z\",\r\n",
      "        \"url\": \"/v2/projects/7fb76cf7-25be-435d-818e-bd6e9b5254f5\"\r\n",
      "      }\r\n",
      "    }\r\n",
      "  ],\r\n",
      "  \"total_results\": 3\r\n",
      "}\r\n"
     ]
    }
   ],
   "source": [
    "! cpdctl project list --output json"
   ]
  },
  {
   "cell_type": "markdown",
   "metadata": {},
   "source": [
    "Create a new project"
   ]
  },
  {
   "cell_type": "code",
   "execution_count": 44,
   "metadata": {},
   "outputs": [
    {
     "name": "stdout",
     "output_type": "stream",
     "text": [
      "The new 'cpdctl-demo-restored-project' project ID is: 26ec966c-5fd6-4d28-bd32-5ab0aa3fc51e\n"
     ]
    }
   ],
   "source": [
    "import uuid\n",
    "STORAGE = {\"type\": \"assetfiles\", \"guid\": str(uuid.uuid4())}\n",
    "STORAGE_JSON = json.dumps(STORAGE)\n",
    "result = ! cpdctl project create --name {RESTORED_PROJECT_NAME} --output json --raw-output --storage '{STORAGE_JSON}' --jmes-query 'location'\n",
    "RESTORED_PROJECT_ID = result.s.split('/')[-1]\n",
    "print(\"The new '{}' project ID is: {}\".format(RESTORED_PROJECT_NAME, RESTORED_PROJECT_ID))"
   ]
  },
  {
   "cell_type": "code",
   "execution_count": 45,
   "metadata": {},
   "outputs": [
    {
     "name": "stdout",
     "output_type": "stream",
     "text": [
      "The new import ID is: 1696b550-0415-42d8-a494-1ff2283d7f2f\n"
     ]
    }
   ],
   "source": [
    "result = ! cpdctl asset import start --project-id {RESTORED_PROJECT_ID} --import-file project-assets.zip --output json --jmes-query \"metadata.id\" --raw-output\n",
    "IMPORT_ID = result.s\n",
    "print(\"The new import ID is: {}\".format(IMPORT_ID))"
   ]
  },
  {
   "cell_type": "code",
   "execution_count": 46,
   "metadata": {},
   "outputs": [
    {
     "name": "stdout",
     "output_type": "stream",
     "text": [
      "...\n",
      "\u001b[1m\u001b[0m           \u001b[1m\u001b[0m   \n",
      "\u001b[36;1mID:\u001b[0m        1696b550-0415-42d8-a494-1ff2283d7f2f   \n",
      "\u001b[36;1mCreated:\u001b[0m   2021-01-29T10:30:39.607Z   \n",
      "\u001b[36;1mState:\u001b[0m     completed   \n"
     ]
    }
   ],
   "source": [
    "! cpdctl asset import get --project-id {RESTORED_PROJECT_ID} --import-id {IMPORT_ID}"
   ]
  },
  {
   "cell_type": "code",
   "execution_count": 47,
   "metadata": {},
   "outputs": [
    {
     "name": "stdout",
     "output_type": "stream",
     "text": [
      "...\n",
      "\u001b[1mID\u001b[0m                                     \u001b[1mName\u001b[0m                           \u001b[1mCreated\u001b[0m                    \u001b[1mDescription\u001b[0m   \u001b[1mType\u001b[0m         \u001b[1mState\u001b[0m       \u001b[1mTags\u001b[0m            \u001b[1mSize\u001b[0m   \n",
      "\u001b[36;1m3c7ef01c-d5df-4b9a-8bd5-120c917a2928\u001b[0m   housing_data.csv               2021-01-29T10:30:43.000Z                 data_asset   available   [cpdctl-demo]   41399   \n",
      "\u001b[36;1mc59be03f-4867-4281-a493-47f36a6e5291\u001b[0m   credit_risk_training.csv       2021-01-29T10:30:44.000Z                 data_asset   available   []              689622   \n",
      "\u001b[36;1m5d7aa59f-2202-465c-8276-906a5c90d16f\u001b[0m   car_rental_training_data.csv   2021-01-29T10:30:43.000Z                 data_asset   available   [cpdctl-demo]   79518   \n"
     ]
    }
   ],
   "source": [
    "! cpdctl asset search --query '*:*' --type-name asset --project-id {RESTORED_PROJECT_ID}"
   ]
  },
  {
   "cell_type": "markdown",
   "metadata": {},
   "source": [
    "### Author\n",
    "\n",
    "Rafał Bigaj, System Architect with long successful record of building and leading teams. Broad and practical knowledge in the area of cloud computing, machine learning and distributed systems development. "
   ]
  },
  {
   "cell_type": "markdown",
   "metadata": {},
   "source": [
    "Copyright © 2020 IBM. This notebook and its source code are released under the terms of the MIT License."
   ]
  }
 ],
 "metadata": {
  "kernelspec": {
   "display_name": "Python 3",
   "language": "python",
   "name": "python3"
  },
  "language_info": {
   "codemirror_mode": {
    "name": "ipython",
    "version": 3
   },
   "file_extension": ".py",
   "mimetype": "text/x-python",
   "name": "python",
   "nbconvert_exporter": "python",
   "pygments_lexer": "ipython3",
   "version": "3.7.4"
  }
 },
 "nbformat": 4,
 "nbformat_minor": 1
}
