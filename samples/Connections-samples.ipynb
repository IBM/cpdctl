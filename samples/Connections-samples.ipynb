{
 "cells": [
  {
   "cell_type": "markdown",
   "metadata": {},
   "source": [
    "# Manage connections and discover assets"
   ]
  },
  {
   "cell_type": "markdown",
   "metadata": {},
   "source": [
    "This notebook contains steps and code to demonstrate support for connections in Cloud Pak for Data using\n",
    "[`cpdctl`](https://github.com/IBM/cpdctl) CLI tool. \n",
    "\n",
    "Some familiarity with Python is helpful. This notebook uses Python 3.7.\n"
   ]
  },
  {
   "cell_type": "markdown",
   "metadata": {},
   "source": [
    "## Table of contents\n",
    "\n",
    "#### 1. Installation and Configuration of CPDCTL\n",
    "\n",
    "    1.1 Install the latest version of cpdctl \n",
    "    1.2 Check cpdctl version \n",
    "    1.3 Add CPD cluster configuration \n",
    "    \n",
    "    \n",
    "#### 2. Demo cpdctl connection commands\n",
    "\n",
    "    2.0 Create a project for connection or Choose an existing project\n",
    "    2.1 Create a connection\n",
    "    2.2 List connections\n",
    "    2.3 Discover connection ad-hoc\n",
    "    2.4 Discover data asset (not available until CPD 3.5)\n",
    "    2.5 Get connection\n",
    "    2.6 Update connection\n",
    "    2.7 List actions\n",
    "    2.8 Perform action\n",
    "    2.9 Discover connection\n",
    "    2.10 Delete connection\n",
    "    2.11 Clean up - Delete project created at the beggining (containing our connection)\n",
    "    \n",
    "#### 3. Demo cpdctl connection datasource types commands\n",
    "\n",
    "    3.1 List datasource types\n",
    "    3.2 Get datasource type\n",
    "    \n",
    "### Another useful documentation regarding connections parameters can be found here:\n",
    "\n",
    "Connections REST API docs https://api.dataplatform.dev.cloud.ibm.com/v2/connections/api/explorer/\n",
    "\n",
    "Watson Data API docs https://cloud.ibm.com/apidocs/watson-data-api#listconnections\n",
    "\n"
   ]
  },
  {
   "cell_type": "code",
   "execution_count": 1,
   "metadata": {},
   "outputs": [],
   "source": [
    "import base64\n",
    "import json\n",
    "import os\n",
    "import requests\n",
    "import platform\n",
    "import tarfile\n",
    "import zipfile\n",
    "from IPython.core.display import display, HTML"
   ]
  },
  {
   "cell_type": "markdown",
   "metadata": {},
   "source": [
    "## 1. Installation and Configuration of CPDCTL\n",
    "\n",
    "\n",
    "### 1.1 Install the latest version of cpdctl"
   ]
  },
  {
   "cell_type": "code",
   "execution_count": 2,
   "metadata": {
    "scrolled": true
   },
   "outputs": [
    {
     "data": {
      "text/html": [
       "<code>cpdctl</code> binary downloaded from: <a href=\"https://github.com/IBM/cpdctl/releases/download/v1.0.79/cpdctl_darwin_amd64.tar.gz\">cpdctl_darwin_amd64.tar.gz</a>"
      ],
      "text/plain": [
       "<IPython.core.display.HTML object>"
      ]
     },
     "metadata": {},
     "output_type": "display_data"
    }
   ],
   "source": [
    "PLATFORM = platform.system().lower()\n",
    "CPDCTL_ARCH = \"{}_amd64\".format(PLATFORM)\n",
    "CPDCTL_RELEASES_URL=\"https://api.github.com/repos/IBM/cpdctl/releases\"\n",
    "CWD = os.getcwd()\n",
    "PATH = os.environ['PATH']\n",
    "CPD_CONFIG = os.path.join(CWD, '.cpdctl.config.yml')\n",
    "\n",
    "response = requests.get(CPDCTL_RELEASES_URL)\n",
    "assets = response.json()[0]['assets']\n",
    "platform_asset = next(a for a in assets if CPDCTL_ARCH in a['name'])\n",
    "cpdctl_url = platform_asset['url']\n",
    "cpdctl_file_name = platform_asset['name']\n",
    "\n",
    "response = requests.get(cpdctl_url, headers={'Accept': 'application/octet-stream'})\n",
    "with open(cpdctl_file_name, 'wb') as f:\n",
    "    f.write(response.content)\n",
    "    \n",
    "display(HTML('<code>cpdctl</code> binary downloaded from: <a href=\"{}\">{}</a>'.format(platform_asset['browser_download_url'], platform_asset['name'])))"
   ]
  },
  {
   "cell_type": "code",
   "execution_count": 3,
   "metadata": {},
   "outputs": [],
   "source": [
    "%%capture\n",
    "\n",
    "%env PATH={CWD}:{PATH}\n",
    "%env CPD_CONFIG={CPD_CONFIG}"
   ]
  },
  {
   "cell_type": "markdown",
   "metadata": {},
   "source": [
    "### 1.2 Check cpdctl version"
   ]
  },
  {
   "cell_type": "code",
   "execution_count": 4,
   "metadata": {},
   "outputs": [
    {
     "name": "stdout",
     "output_type": "stream",
     "text": [
      "cpdctl version: 1.0.79\n"
     ]
    }
   ],
   "source": [
    "if cpdctl_file_name.endswith('tar.gz'):\n",
    "    with tarfile.open(cpdctl_file_name, \"r:gz\") as tar:\n",
    "        tar.extractall()\n",
    "elif cpdctl_file_name.endswith('zip'):\n",
    "    with zipfile.ZipFile(cpdctl_file_name, 'r') as zf:\n",
    "        zf.extractall()\n",
    "\n",
    "if CPD_CONFIG and os.path.exists(CPD_CONFIG):\n",
    "    os.remove(CPD_CONFIG)\n",
    "    \n",
    "version_r = ! cpdctl version\n",
    "CPDCTL_VERSION = version_r.s\n",
    "\n",
    "print(\"cpdctl version: {}\".format(CPDCTL_VERSION))"
   ]
  },
  {
   "cell_type": "markdown",
   "metadata": {},
   "source": [
    "### 1.3 Add CPD cluster configuration"
   ]
  },
  {
   "cell_type": "code",
   "execution_count": 5,
   "metadata": {},
   "outputs": [],
   "source": [
    "CPD_USER_NAME = '<username>'\n",
    "CPD_USER_PASSWORD = '<password>'\n",
    "CPD_URL = '<cpd_url>'"
   ]
  },
  {
   "cell_type": "markdown",
   "metadata": {},
   "source": [
    "Add \"cpd35_user\" user to the cpdctl configuration"
   ]
  },
  {
   "cell_type": "code",
   "execution_count": 6,
   "metadata": {},
   "outputs": [],
   "source": [
    "! cpdctl config user set cpd_user --username {CPD_USER_NAME} --password {CPD_USER_PASSWORD}"
   ]
  },
  {
   "cell_type": "markdown",
   "metadata": {},
   "source": [
    "Add \"cpd35\" cluster to the cpdctl configuration"
   ]
  },
  {
   "cell_type": "code",
   "execution_count": 7,
   "metadata": {},
   "outputs": [],
   "source": [
    "! cpdctl config profile set cpd --url {CPD_URL} --user cpd_user"
   ]
  },
  {
   "cell_type": "markdown",
   "metadata": {},
   "source": [
    "Add \"cpd35\" context to the cpdctl configuration"
   ]
  },
  {
   "cell_type": "code",
   "execution_count": 8,
   "metadata": {},
   "outputs": [],
   "source": [
    "! cpdctl config context set cpd --profile cpd --user cpd_user"
   ]
  },
  {
   "cell_type": "markdown",
   "metadata": {},
   "source": [
    "List available contexts"
   ]
  },
  {
   "cell_type": "code",
   "execution_count": 9,
   "metadata": {},
   "outputs": [
    {
     "name": "stdout",
     "output_type": "stream",
     "text": [
      "\u001b[1mName\u001b[0m   \u001b[1mProfile\u001b[0m   \u001b[1mUser\u001b[0m       \u001b[1mCurrent\u001b[0m   \r\n",
      "\u001b[36;1mcpd\u001b[0m    cpd       cpd_user   *   \r\n"
     ]
    }
   ],
   "source": [
    "! cpdctl config context list"
   ]
  },
  {
   "cell_type": "markdown",
   "metadata": {},
   "source": [
    "Make sure you use context which you prefer"
   ]
  },
  {
   "cell_type": "code",
   "execution_count": 10,
   "metadata": {},
   "outputs": [
    {
     "name": "stdout",
     "output_type": "stream",
     "text": [
      "Switched to context \"cpd\".\r\n"
     ]
    }
   ],
   "source": [
    "! cpdctl config context use cpd"
   ]
  },
  {
   "cell_type": "markdown",
   "metadata": {},
   "source": [
    "List available projects in context"
   ]
  },
  {
   "cell_type": "code",
   "execution_count": 11,
   "metadata": {},
   "outputs": [
    {
     "name": "stdout",
     "output_type": "stream",
     "text": [
      "...\n",
      "\u001b[1mID\u001b[0m                                     \u001b[1mName\u001b[0m                                                 \u001b[1mCreated\u001b[0m                    \u001b[1mDescription\u001b[0m                                          \u001b[1mTags\u001b[0m   \n",
      "\u001b[36;1m02351f31-ec56-4f83-b177-d5841d8bf162\u001b[0m   Imported (project.9bc31a1b-11fb-49cb-8b31-3e52512…   2021-06-23T08:12:44.324Z   project for testing export                           []   \n",
      "\u001b[36;1m02ab599b-538e-46d0-b652-d435ba58ac8f\u001b[0m   icp4dcatalogscenariocommon                           2021-06-16T18:12:58.265Z   The project for FVT test of the wkc catalog REST …   []   \n",
      "\u001b[36;1m04dbcac4-8877-40c1-ac1f-92055bed3eac\u001b[0m   knish_mdi_test                                       2021-06-08T08:23:22.148Z                                                        []   \n",
      "\u001b[36;1m0a746aa5-3bfb-40a6-bdab-764dd4f4a932\u001b[0m   MDI_Test_All_CONN                                    2021-06-17T09:30:16.401Z                                                        []   \n",
      "\u001b[36;1m13b302c3-d7d5-45c7-bcf1-d1c84bdaa9a4\u001b[0m   icp4dcatalogscenariocommon                           2021-06-24T00:29:10.150Z   The project for FVT test of the wkc catalog REST …   []   \n",
      "\u001b[36;1m1411bebc-01ce-429a-84fc-8486bc708dfd\u001b[0m   Imported (project.e37c7fb4-63d3-4dc1-9fb5-4bb913a…   2021-06-11T08:13:33.205Z   project for testing export                           []   \n",
      "\u001b[36;1m16cd781d-425c-4e69-90f4-43d4c03238ff\u001b[0m   icp4dcatalogscenariocommon                           2021-06-15T21:39:25.931Z   The project for FVT test of the wkc catalog REST …   []   \n",
      "\u001b[36;1m17dd74d2-38f1-4b53-a99d-463803f4db3b\u001b[0m   icp4dcatalogscenariocommon                           2021-06-25T17:04:27.215Z   The project for FVT test of the wkc catalog REST …   []   \n",
      "\u001b[36;1m1971a15c-ad27-4724-9361-dfcd0ce63db9\u001b[0m   testhelper                                           2021-06-19T07:08:04.643Z   The project for FVT test of the wkc catalog REST …   []   \n",
      "\u001b[36;1m1a625368-6746-4de6-8144-e625cca75f7f\u001b[0m   testhelper                                           2021-06-20T16:26:41.363Z   The project for FVT test of the wkc catalog REST …   []   \n"
     ]
    }
   ],
   "source": [
    "! cpdctl project list"
   ]
  },
  {
   "cell_type": "markdown",
   "metadata": {},
   "source": [
    "## 2. Demo cpdctl connections commands\n",
    "\n",
    "### 2.0 Create a project for connection or Choose an existing project\n",
    "\n",
    "To create a connection, first you need to have a project, catalog or space.\n",
    "You can either choose an existing project:"
   ]
  },
  {
   "cell_type": "code",
   "execution_count": 12,
   "metadata": {},
   "outputs": [
    {
     "name": "stdout",
     "output_type": "stream",
     "text": [
      "project id: 02351f31-ec56-4f83-b177-d5841d8bf162\n"
     ]
    }
   ],
   "source": [
    "result = ! cpdctl project list --output json -j \"(resources[].metadata.guid)[0]\" --raw-output\n",
    "PROJECT_ID = result.s\n",
    "print(f'project id: {PROJECT_ID}')\n",
    "\n",
    "# You can also specify your project id directly:\n",
    "# PROJECT_ID = \"Your project ID\""
   ]
  },
  {
   "cell_type": "markdown",
   "metadata": {},
   "source": [
    "Or create a new project:"
   ]
  },
  {
   "cell_type": "code",
   "execution_count": 13,
   "metadata": {},
   "outputs": [
    {
     "name": "stdout",
     "output_type": "stream",
     "text": [
      "project id: c494d4b7-9e1c-45c3-b9d4-092dc6f1f024\n"
     ]
    }
   ],
   "source": [
    "import uuid\n",
    "STORAGE = {\"type\": \"assetfiles\", \"guid\": str(uuid.uuid4())}\n",
    "STORAGE_JSON = json.dumps(STORAGE)\n",
    "result = ! cpdctl project create --name \"cpdctl-test-proj\" --output json --raw-output --generator cli --storage '{STORAGE_JSON}' -j 'location'\n",
    "PROJECT_ID = result.s.split('/')[-1]\n",
    "print(f'project id: {PROJECT_ID}')"
   ]
  },
  {
   "cell_type": "markdown",
   "metadata": {},
   "source": [
    "### 2.1 Create a connection\n",
    "\n",
    "Here, as an example, connection properties to dashdb were used. Type your connection properties."
   ]
  },
  {
   "cell_type": "code",
   "execution_count": 14,
   "metadata": {},
   "outputs": [],
   "source": [
    "CREATE_CONN_PROPERTIES = '''\n",
    "{\n",
    "      \"database\": \"<database>\",\n",
    "      \"host\": \"<host>\",\n",
    "      \"password\": \"<password>\",\n",
    "      \"username\": \"<username>\"\n",
    "}\n",
    "'''"
   ]
  },
  {
   "cell_type": "code",
   "execution_count": 15,
   "metadata": {},
   "outputs": [
    {
     "name": "stdout",
     "output_type": "stream",
     "text": [
      "connection id: 09771787-cc58-4404-b75d-6747c48b14b4\n"
     ]
    }
   ],
   "source": [
    "result = ! cpdctl connection create --name \"cpdctl-test-conn\" --description \"test connection to dashdb\" --datasource-type \"dashdb\" --project-id '{PROJECT_ID}' --properties '{CREATE_CONN_PROPERTIES}' -j metadata.asset_id --origin-country us --output json -j 'metadata.asset_id'\n",
    "CONNECTION_ID = result.s[1:-1]\n",
    "print(f'connection id: {CONNECTION_ID}')"
   ]
  },
  {
   "cell_type": "markdown",
   "metadata": {},
   "source": [
    "### 2.2 List connections"
   ]
  },
  {
   "cell_type": "code",
   "execution_count": 16,
   "metadata": {},
   "outputs": [
    {
     "name": "stdout",
     "output_type": "stream",
     "text": [
      "...\n",
      "\u001b[1mID\u001b[0m                                     \u001b[1mName\u001b[0m               \u001b[1mDescription\u001b[0m                 \u001b[1mType\u001b[0m         \u001b[1mTags\u001b[0m   \n",
      "\u001b[36;1m09771787-cc58-4404-b75d-6747c48b14b4\u001b[0m   cpdctl-test-conn   test connection to dashdb   connection   []   \n"
     ]
    }
   ],
   "source": [
    "! cpdctl connection list --project-id '{PROJECT_ID}'"
   ]
  },
  {
   "cell_type": "code",
   "execution_count": 17,
   "metadata": {},
   "outputs": [
    {
     "name": "stdout",
     "output_type": "stream",
     "text": [
      "...\n",
      "\u001b[1mID\u001b[0m                                     \u001b[1mName\u001b[0m               \u001b[1mDescription\u001b[0m                 \u001b[1mType\u001b[0m         \u001b[1mTags\u001b[0m   \n",
      "\u001b[36;1m09771787-cc58-4404-b75d-6747c48b14b4\u001b[0m   cpdctl-test-conn   test connection to dashdb   connection   []   \n"
     ]
    }
   ],
   "source": [
    "! cpdctl connection list --project-id '{PROJECT_ID}' --entity-name \"cpdctl-test-conn\""
   ]
  },
  {
   "cell_type": "code",
   "execution_count": 18,
   "metadata": {},
   "outputs": [
    {
     "name": "stdout",
     "output_type": "stream",
     "text": [
      "...\n",
      "\u001b[1mID\u001b[0m                                     \u001b[1mName\u001b[0m               \u001b[1mDescription\u001b[0m                 \u001b[1mType\u001b[0m         \u001b[1mTags\u001b[0m   \n",
      "\u001b[36;1m09771787-cc58-4404-b75d-6747c48b14b4\u001b[0m   cpdctl-test-conn   test connection to dashdb   connection   []   \n"
     ]
    }
   ],
   "source": [
    "! cpdctl connection list --project-id '{PROJECT_ID}' --entity-flags \"restricted\" --sort \"entity.name\""
   ]
  },
  {
   "cell_type": "markdown",
   "metadata": {},
   "source": [
    "### 2.3 Discover connection ad-hoc"
   ]
  },
  {
   "cell_type": "code",
   "execution_count": 19,
   "metadata": {},
   "outputs": [
    {
     "name": "stdout",
     "output_type": "stream",
     "text": [
      "...\n",
      "\u001b[1m\u001b[0m              \u001b[1m\u001b[0m   \n",
      "\u001b[36;1massets\u001b[0m        <Array>   \n",
      "\u001b[36;1mfirst\u001b[0m         <Nested Object>   \n",
      "\u001b[36;1mnext\u001b[0m          <Nested Object>   \n",
      "\u001b[36;1mpath\u001b[0m          /CONNUSER   \n",
      "\u001b[36;1mprev\u001b[0m          <Nested Object>   \n",
      "\u001b[36;1mtotal_count\u001b[0m   25   \n",
      "\u001b[36;1masset_types\u001b[0m   <Array>   \n"
     ]
    }
   ],
   "source": [
    "! cpdctl connection discover-adhoc --path \"/CONNUSER\" --datasource-type \"dashdb\" --name \"conn_dashdb_adhoc\" --properties '{CREATE_CONN_PROPERTIES}'"
   ]
  },
  {
   "cell_type": "code",
   "execution_count": 20,
   "metadata": {},
   "outputs": [
    {
     "name": "stdout",
     "output_type": "stream",
     "text": [
      "{\r\n",
      "  \"asset_types\": [\r\n",
      "    {\r\n",
      "      \"dataset\": true,\r\n",
      "      \"dataset_container\": false,\r\n",
      "      \"type\": \"table\"\r\n",
      "    }\r\n",
      "  ],\r\n",
      "  \"assets\": [\r\n",
      "    {\r\n",
      "      \"id\": \"FP_YS1DEV\",\r\n",
      "      \"name\": \"FP_YS1DEV\",\r\n",
      "      \"path\": \"/CONNUSER/FP_YS1DEV\",\r\n",
      "      \"type\": \"table\"\r\n",
      "    },\r\n",
      "    {\r\n",
      "      \"id\": \"FP_ypprod\",\r\n",
      "      \"name\": \"FP_ypprod\",\r\n",
      "      \"path\": \"/CONNUSER/FP_ypprod\",\r\n",
      "      \"type\": \"table\"\r\n",
      "    },\r\n",
      "    {\r\n",
      "      \"id\": \"FP_ypqa\",\r\n",
      "      \"name\": \"FP_ypqa\",\r\n",
      "      \"path\": \"/CONNUSER/FP_ypqa\",\r\n",
      "      \"type\": \"table\"\r\n",
      "    },\r\n",
      "    {\r\n",
      "      \"id\": \"FP_ys1dev\",\r\n",
      "      \"name\": \"FP_ys1dev\",\r\n",
      "      \"path\": \"/CONNUSER/FP_ys1dev\",\r\n",
      "      \"type\": \"table\"\r\n",
      "    },\r\n",
      "    {\r\n",
      "      \"id\": \"ISSUE43498\",\r\n",
      "      \"name\": \"ISSUE43498\",\r\n",
      "      \"path\": \"/CONNUSER/ISSUE43498\",\r\n",
      "      \"type\": \"table\"\r\n",
      "    },\r\n",
      "    {\r\n",
      "      \"id\": \"KMICHAL1\",\r\n",
      "      \"name\": \"KMICHAL1\",\r\n",
      "      \"path\": \"/CONNUSER/KMICHAL1\",\r\n",
      "      \"type\": \"table\"\r\n",
      "    },\r\n",
      "    {\r\n",
      "      \"id\": \"KMICHAL1SMALL\",\r\n",
      "      \"name\": \"KMICHAL1SMALL\",\r\n",
      "      \"path\": \"/CONNUSER/KMICHAL1SMALL\",\r",
      "\r\n",
      "      \"type\": \"table\"\r\n",
      "    },\r\n",
      "    {\r\n",
      "      \"id\": \"KMICHAL1_CUSTOMER_ISSUE\",\r\n",
      "      \"name\": \"KMICHAL1_CUSTOMER_ISSUE\",\r\n",
      "      \"path\": \"/CONNUSER/KMICHAL1_CUSTOMER_ISSUE\",\r\n",
      "      \"type\": \"table\"\r\n",
      "    },\r\n",
      "    {\r\n",
      "      \"id\": \"LGBINARYTABLE\",\r\n",
      "      \"name\": \"LGBINARYTABLE\",\r\n",
      "      \"path\": \"/CONNUSER/LGBINARYTABLE\",\r\n",
      "      \"type\": \"table\"\r\n",
      "    },\r\n",
      "    {\r\n",
      "      \"id\": \"PD 维修量-2016_2020 无删 V4.xlsx - 维修DATA.csv_shaped\",\r\n",
      "      \"name\": \"PD 维修量-2016_2020 无删 V4.xlsx - 维修DATA.csv_shaped\",\r\n",
      "      \"path\": \"/CONNUSER/PD 维修量-2016_2020 无删 V4.xlsx - 维修DATA.csv_shaped\",\r\n",
      "      \"type\": \"table\"\r\n",
      "    },\r\n",
      "    {\r\n",
      "      \"id\": \"PRODUCT-TEST\",\r\n",
      "      \"name\": \"PRODUCT-TEST\",\r\n",
      "      \"path\": \"/CONNUSER/PRODUCT-TEST\",\r\n",
      "      \"type\": \"table\"\r\n",
      "    },\r\n",
      "    {\r\n",
      "      \"id\": \"PRODUCT_FROM_CSV\",\r\n",
      "      \"name\": \"PRODUCT_FROM_CSV\",\r\n",
      "      \"path\": \"/CONNUSER/PRODUCT_FROM_CSV\",\r\n",
      "      \"type\": \"table\"\r\n",
      "    },\r\n",
      "    {\r\n",
      "      \"id\": \"TABLE10M\",\r\n",
      "      \"name\": \"TABLE10M\",\r\n",
      "      \"path\": \"/CONNUSER/TABLE10M\",\r\n",
      "      \"type\": \"table\"\r\n",
      "    },\r\n",
      "    {\r\n",
      "      \"id\": \"TABLE_KP\",\r\n",
      "      \"name\": \"TABLE_KP\",\r\n",
      "      \"path\": \"/CONNUSER/TABLE_KP\",\r\n",
      "      \"type\": \"table\"\r\n",
      "    },\r\n",
      "    {\r\n",
      "      \"id\": \"TAB_DESKTOP4GDVE_1624361931799\",\r\n",
      "      \"name\": \"TAB_DESKTOP4GDVE_1624361931799\",\r\n",
      "      \"path\": \"/CONNUSER/TAB_DESKTOP4GDVE_1624361931799\",\r\n",
      "      \"type\": \"table\"\r\n",
      "    },\r\n",
      "    {\r\n",
      "      \"id\": \"TAB_DESKTOP4GDVE_1624362215487\",\r\n",
      "      \"name\": \"TAB_DESKTOP4GDVE_1624362215487\",\r\n",
      "      \"path\": \"/CONNUSER/TAB_DESKTOP4GDVE_1624362215487\",\r\n",
      "      \"type\": \"table\"\r\n",
      "    },\r\n",
      "    {\r\n",
      "      \"id\": \"TESTDB2WAREHOUSE_TARGET_DEFAULT2\",\r\n",
      "      \"name\": \"TESTDB2WAREHOUSE_TARGET_DEFAULT2\",\r\n",
      "      \"path\": \"/CONNUSER/TESTDB2WAREHOUSE_TARGET_DEFAULT2\",\r\n",
      "      \"type\": \"table\"\r\n",
      "    },\r\n",
      "    {\r\n",
      "      \"id\": \"TEST_TARGET_VARCHAR_LENGTH\",\r\n",
      "      \"name\": \"TEST_TARGET_VARCHAR_LENGTH\",\r\n",
      "      \"path\": \"/CONNUSER/TEST_TARGET_VARCHAR_LENGTH\",\r\n",
      "      \"type\": \"table\"\r\n",
      "    },\r\n",
      "    {\r\n",
      "      \"id\": \"TRI_PO_LINE_ITEM\",\r\n",
      "      \"name\": \"TRI_PO_LINE_ITEM\",\r\n",
      "      \"path\": \"/CONNUSER/TRI_PO_LINE_ITEM\",\r\n",
      "      \"type\": \"table\"\r\n",
      "    },\r\n",
      "    {\r\n",
      "      \"id\": \"aditi_DB2WH-CONNUSER-product.csv\",\r\n",
      "      \"name\": \"aditi_DB2WH-CONNUSER-product.csv\",\r\n",
      "      \"path\": \"/CONNUSER/aditi_DB2WH-CONNUSER-product.csv\",\r\n",
      "      \"type\": \"table\"\r\n",
      "    },\r\n",
      "    {\r\n",
      "      \"id\": \"drug1n\",\r\n",
      "      \"name\": \"drug1n\",\r\n",
      "      \"path\": \"/CONNUSER/drug1n\",\r\n",
      "      \"type\": \"table\"\r\n",
      "    },\r\n",
      "    {\r\n",
      "      \"id\": \"fastpathTest\",\r\n",
      "      \"name\": \"fastpathTest\",\r\n",
      "      \"path\": \"/CONNUSER/fastpathTest\",\r\n",
      "      \"type\": \"table\"\r\n",
      "    },\r\n",
      "    {\r\n",
      "      \"id\": \"fdata1\",\r\n",
      "      \"name\": \"fdata1\",\r\n",
      "      \"path\": \"/CONNUSER/fdata1\",\r\n",
      "      \"type\": \"table\"\r\n",
      "    },\r\n",
      "    {\r\n",
      "      \"id\": \"product.csv\",\r\n",
      "      \"name\": \"product.csv\",\r\n",
      "      \"path\": \"/CONNUSER/product.csv\",\r\n",
      "      \"type\": \"table\"\r\n",
      "    },\r\n",
      "    {\r\n",
      "      \"id\": \"product.csv_shaped\",\r\n",
      "      \"name\": \"product.csv_shaped\",\r\n",
      "      \"path\": \"/CONNUSER/product.csv_shaped\",\r\n",
      "      \"type\": \"table\"\r\n",
      "    }\r\n",
      "  ],\r\n",
      "  \"first\": {\r\n",
      "    \"href\": \"https://internal-nginx-svc:12443/v2/connections/assets?offset=0\\u0026limit=100\\u0026path=%2FCONNUSER\"\r\n",
      "  },\r\n",
      "  \"next\": {\r\n",
      "    \"href\": \"https://internal-nginx-svc:12443/v2/connections/assets?offset=100\\u0026limit=100\\u0026path=%2FCONNUSER\"\r\n",
      "  },\r\n",
      "  \"path\": \"/CONNUSER\",\r\n",
      "  \"prev\": {\r\n",
      "    \"href\": \"https://internal-nginx-svc:12443/v2/connections/assets?offset=0\\u0026limit=100\\u0026path=%2FCONNUSER\"\r\n",
      "  },\r\n",
      "  \"total_count\": 25\r\n",
      "}\r\n"
     ]
    }
   ],
   "source": [
    "! cpdctl connection discover-adhoc --path \"/CONNUSER\" --datasource-type \"dashdb\" --name \"conn_dashdb_adhoc\" --properties '{CREATE_CONN_PROPERTIES}' --output json"
   ]
  },
  {
   "cell_type": "markdown",
   "metadata": {},
   "source": [
    "### 2.4 Discover data asset (not available until CPD 3.5)\n",
    "\n",
    "To discover data asset, we first need to have a connected data asset ID. \n",
    "\n",
    "To get it we may create a new connected data asset or take an existing data asset ID.\n",
    "\n",
    "\n",
    "#### Creating new connected data asset\n",
    "\n",
    "Replace properties with your data. Especially connection_path."
   ]
  },
  {
   "cell_type": "code",
   "execution_count": 21,
   "metadata": {},
   "outputs": [
    {
     "name": "stdout",
     "output_type": "stream",
     "text": [
      "data asset id: 6ec48ebf-6cf3-464b-9705-16b809ab41ea\n"
     ]
    }
   ],
   "source": [
    "ASSET_METADATA = '''\n",
    "{\n",
    "      \"name\": \"connected-data-asset\",\n",
    "      \"asset_type\": \"data_asset\",\n",
    "      \"origin_country\": \"us\",\n",
    "      \"asset_category\": \"USER\"\n",
    "}\n",
    "'''\n",
    "ASSET_ENTITY = '''\n",
    "{\n",
    "        \"data_asset\": {      \n",
    "            \"mime_type\": \"text/csv\",\n",
    "            \"dataset\": false\n",
    "        }\n",
    "}\n",
    "'''\n",
    "ATTACHMENTS = '''\n",
    "[\n",
    "        {\n",
    "            \"asset_type\": \"data_asset\",\n",
    "            \"connection_id\": \"replace_with_connection_id\",\n",
    "            \"connection_path\": \"CONNUSER/product.csv\"\n",
    "        }\n",
    "]\n",
    "'''\n",
    "\n",
    "ATTACHMENTS = ATTACHMENTS.replace(\"replace_with_connection_id\", CONNECTION_ID)\n",
    "result = ! cpdctl asset data-asset create --project-id '{PROJECT_ID}' --metadata '{ASSET_METADATA}' --entity '{ASSET_ENTITY}' --attachments '{ATTACHMENTS}' --output json -j metadata.asset_id\n",
    "DATA_ASSET_ID = result.s[1:-1]\n",
    "print(f'data asset id: {DATA_ASSET_ID}')"
   ]
  },
  {
   "cell_type": "markdown",
   "metadata": {},
   "source": [
    "#### Discover data asset"
   ]
  },
  {
   "cell_type": "code",
   "execution_count": 22,
   "metadata": {},
   "outputs": [
    {
     "name": "stdout",
     "output_type": "stream",
     "text": [
      "...\n",
      "\u001b[1mfirst\u001b[0m             \u001b[1mpath\u001b[0m                   \u001b[1mtotal_count\u001b[0m   \u001b[1mname\u001b[0m                  \u001b[1mtype\u001b[0m   \n",
      "\u001b[36;1m<Nested Object>\u001b[0m   CONNUSER/product.csv   1             PRODUCT_NUMBER        <Nested Object>   \n",
      "\u001b[36;1m<Nested Object>\u001b[0m   CONNUSER/product.csv   1             BASE_PRODUCT_NUMBER   <Nested Object>   \n",
      "\u001b[36;1m<Nested Object>\u001b[0m   CONNUSER/product.csv   1             INTRODUCTION_DATE     <Nested Object>   \n",
      "\u001b[36;1m<Nested Object>\u001b[0m   CONNUSER/product.csv   1             DISCONTINUED_DATE     <Nested Object>   \n",
      "\u001b[36;1m<Nested Object>\u001b[0m   CONNUSER/product.csv   1             PRODUCT_TYPE_CODE     <Nested Object>   \n",
      "\u001b[36;1m<Nested Object>\u001b[0m   CONNUSER/product.csv   1             PRODUCT_COLOR_CODE    <Nested Object>   \n",
      "\u001b[36;1m<Nested Object>\u001b[0m   CONNUSER/product.csv   1             PRODUCT_SIZE_CODE     <Nested Object>   \n",
      "\u001b[36;1m<Nested Object>\u001b[0m   CONNUSER/product.csv   1             PRODUCT_BRAND_CODE    <Nested Object>   \n",
      "\u001b[36;1m<Nested Object>\u001b[0m   CONNUSER/product.csv   1             PRODUCT_IMAGE         <Nested Object>   \n"
     ]
    }
   ],
   "source": [
    "! cpdctl connection discover-data-asset --data-asset-id '{DATA_ASSET_ID}' --project-id '{PROJECT_ID}'"
   ]
  },
  {
   "cell_type": "code",
   "execution_count": 23,
   "metadata": {},
   "outputs": [
    {
     "name": "stdout",
     "output_type": "stream",
     "text": [
      "{\n",
      "  \"fields\": [\n",
      "    {\n",
      "      \"name\": \"PRODUCT_NUMBER\",\n",
      "      \"type\": {\n",
      "        \"length\": 10,\n",
      "        \"nullable\": true,\n",
      "        \"scale\": 0,\n",
      "        \"signed\": true,\n",
      "        \"type\": \"integer\"\n",
      "      }\n",
      "    },\n",
      "    {\n",
      "      \"name\": \"BASE_PRODUCT_NUMBER\",\n",
      "      \"type\": {\n",
      "        \"length\": 10,\n",
      "        \"nullable\": true,\n",
      "        \"scale\": 0,\n",
      "        \"signed\": true,\n",
      "        \"type\": \"integer\"\n",
      "      }\n",
      "    },\n",
      "    {\n",
      "      \"name\": \"INTRODUCTION_DATE\",\n",
      "      \"type\": {\n",
      "        \"length\": 26,\n",
      "        \"nullable\": true,\n",
      "        \"scale\": 6,\n",
      "        \"signed\": false,\n",
      "        \"type\": \"timestamp\"\n",
      "      }\n",
      "    },\n",
      "    {\n",
      "      \"name\": \"DISCONTINUED_DATE\",\n",
      "      \"type\": {\n",
      "        \"length\": 26,\n",
      "        \"nullable\": true,\n",
      "        \"scale\": 6,\n",
      "        \"signed\": false,\n",
      "        \"type\": \"timestamp\"\n",
      "      }\n",
      "    },\n",
      "    {\n",
      "      \"name\": \"PRODUCT_TYPE_CODE\",\n",
      "      \"type\": {\n",
      "        \"length\": 10,\n",
      "        \"nullable\": true,\n",
      "        \"scale\": 0,\n",
      "        \"signed\": true,\n",
      "        \"type\": \"integer\"\n",
      "      }\n",
      "    },\n",
      "    {\n",
      "      \"name\": \"PRODUCT_COLOR_CODE\",\n",
      "      \"type\": {\n",
      "        \"length\": 10,\n",
      "        \"nullable\": true,\n",
      "        \"scale\": 0,\n",
      "        \"signed\": true,\n",
      "        \"type\": \"integer\"\n",
      "      }\n",
      "    },\n",
      "    {\n",
      "      \"name\": \"PRODUCT_SIZE_CODE\",\n",
      "      \"type\": {\n",
      "        \"length\": 10,\n",
      "        \"nullable\": true,\n",
      "        \"scale\": 0,\n",
      "        \"signed\": true,\n",
      "        \"type\": \"integer\"\n",
      "      }\n",
      "    },\n",
      "    {\n",
      "      \"name\": \"PRODUCT_BRAND_CODE\",\n",
      "      \"type\": {\n",
      "        \"length\": 10,\n",
      "        \"nullable\": true,\n",
      "        \"scale\": 0,\n",
      "        \"signed\": true,\n",
      "        \"type\": \"integer\"\n",
      "      }\n",
      "    },\n",
      "    {\n",
      "      \"name\": \"PRODUCT_IMAGE\",\n",
      "      \"type\": {\n",
      "        \"length\": 1048576,\n",
      "        \"nullable\": true,\n",
      "        \"scale\": 0,\n",
      "        \"signed\": false,\n",
      "        \"type\": \"nclob\"\n",
      "      }\n",
      "    }\n",
      "  ],\n",
      "  \"first\": {\n",
      "    \"href\": \"https://internal-nginx-svc:12443/v2/connections/assets/6ec48ebf-6cf3-464b-9705-16b809ab41ea?project_id=c494d4b7-9e1c-45c3-b9d4-092dc6f1f024\\u0026offset=0\\u0026limit=100\"\n",
      "  },\n",
      "  \"path\": \"CONNUSER/product.csv\",\n",
      "  \"total_count\": 1\n",
      "}\n"
     ]
    }
   ],
   "source": [
    "! cpdctl connection discover-data-asset --data-asset-id '{DATA_ASSET_ID}' --project-id '{PROJECT_ID}' --output json"
   ]
  },
  {
   "cell_type": "markdown",
   "metadata": {},
   "source": [
    "### 2.5 Get connection"
   ]
  },
  {
   "cell_type": "code",
   "execution_count": 24,
   "metadata": {},
   "outputs": [
    {
     "name": "stdout",
     "output_type": "stream",
     "text": [
      "...\n",
      "\u001b[1m\u001b[0m               \u001b[1m\u001b[0m   \n",
      "\u001b[36;1mID:\u001b[0m            09771787-cc58-4404-b75d-6747c48b14b4   \n",
      "\u001b[36;1mName:\u001b[0m          cpdctl-test-conn   \n",
      "\u001b[36;1mDescription:\u001b[0m   test connection to dashdb   \n",
      "\u001b[36;1mType:\u001b[0m          connection   \n",
      "\u001b[36;1mTags:\u001b[0m          []   \n"
     ]
    }
   ],
   "source": [
    "! cpdctl connection get --project-id '{PROJECT_ID}' --connection-id '{CONNECTION_ID}'"
   ]
  },
  {
   "cell_type": "markdown",
   "metadata": {},
   "source": [
    "### 2.6 Update connection\n",
    "\n",
    "Here is an example of updating name of connection, fom existing to the new one"
   ]
  },
  {
   "cell_type": "code",
   "execution_count": 25,
   "metadata": {},
   "outputs": [
    {
     "name": "stdout",
     "output_type": "stream",
     "text": [
      "...\n",
      "\u001b[1m\u001b[0m               \u001b[1m\u001b[0m   \n",
      "\u001b[36;1mName:\u001b[0m          updated-conn-name   \n",
      "\u001b[36;1mDescription:\u001b[0m   test connection to dashdb   \n",
      "\u001b[36;1mTags:\u001b[0m          []   \n"
     ]
    }
   ],
   "source": [
    "UPDATE_CONN_PROPERTIES = '''\n",
    "[{\n",
    "      \"op\": \"replace\",\n",
    "      \"path\": \"/name\",\n",
    "      \"from\": \"cpdctl-test-conn\",\n",
    "      \"value\": \"updated-conn-name\"\n",
    "}]\n",
    "'''\n",
    "\n",
    "! cpdctl connection update --project-id '{PROJECT_ID}' --connection-id '{CONNECTION_ID}' --patch-request '{UPDATE_CONN_PROPERTIES}'"
   ]
  },
  {
   "cell_type": "markdown",
   "metadata": {},
   "source": [
    "### 2.7 List actions"
   ]
  },
  {
   "cell_type": "code",
   "execution_count": 26,
   "metadata": {},
   "outputs": [
    {
     "name": "stdout",
     "output_type": "stream",
     "text": [
      "...\n",
      "\u001b[1mName\u001b[0m               \u001b[1mDescription\u001b[0m   \n",
      "\u001b[36;1mget_record_count\u001b[0m   Get the number of rows in the specified table   \n"
     ]
    }
   ],
   "source": [
    "! cpdctl connection list-actions --project-id '{PROJECT_ID}' --connection-id '{CONNECTION_ID}'"
   ]
  },
  {
   "cell_type": "code",
   "execution_count": 27,
   "metadata": {},
   "outputs": [
    {
     "name": "stdout",
     "output_type": "stream",
     "text": [
      "{\r\n",
      "  \"actions\": [\r\n",
      "    {\r\n",
      "      \"description\": \"Get the number of rows in the specified table\",\r\n",
      "      \"name\": \"get_record_count\",\r\n",
      "      \"properties\": {\r\n",
      "        \"input\": [\r\n",
      "          {\r\n",
      "            \"description\": \"Name of the schema that contains the table\",\r\n",
      "            \"hidden\": false,\r\n",
      "            \"label\": \"Schema name\",\r\n",
      "            \"masked\": false,\r\n",
      "            \"multiline\": false,\r\n",
      "            \"name\": \"schema_name\",\r\n",
      "            \"readonly\": false,\r\n",
      "            \"required\": false,\r\n",
      "            \"type\": \"string\",\r\n",
      "            \"user_defined\": false\r\n",
      "          },\r\n",
      "          {\r\n",
      "            \"description\": \"Name of the table for which to obtain the number of rows\",\r\n",
      "            \"hidden\": false,\r\n",
      "            \"label\": \"Table name\",\r\n",
      "            \"masked\": false,\r\n",
      "            \"multiline\": false,\r\n",
      "            \"name\": \"table_name\",\r\n",
      "            \"readonly\": false,\r\n",
      "            \"required\": true,\r\n",
      "            \"type\": \"string\",\r\n",
      "            \"user_defined\": false\r\n",
      "          }\r\n",
      "        ],\r\n",
      "        \"output\": [\r\n",
      "          {\r",
      "\r\n",
      "            \"description\": \"Number of available rows\",\r\n",
      "            \"hidden\": false,\r\n",
      "            \"label\": \"Record count\",\r\n",
      "            \"masked\": false,\r\n",
      "            \"multiline\": false,\r\n",
      "            \"name\": \"record_count\",\r\n",
      "            \"readonly\": false,\r\n",
      "            \"required\": true,\r\n",
      "            \"type\": \"integer\",\r\n",
      "            \"user_defined\": false\r\n",
      "          }\r\n",
      "        ]\r\n",
      "      }\r\n",
      "    }\r\n",
      "  ]\r\n",
      "}\r\n"
     ]
    }
   ],
   "source": [
    "! cpdctl connection list-actions --project-id '{PROJECT_ID}' --connection-id '{CONNECTION_ID}' --output json"
   ]
  },
  {
   "cell_type": "markdown",
   "metadata": {},
   "source": [
    "### 2.8 Perform action\n",
    "\n",
    "Actions are different for each connector.\n",
    "Action name with it's necassary properties can be taken from the list-actions output (look at 2.7 List actions)"
   ]
  },
  {
   "cell_type": "code",
   "execution_count": 28,
   "metadata": {},
   "outputs": [
    {
     "name": "stdout",
     "output_type": "stream",
     "text": [
      "...\n",
      "\u001b[1m\u001b[0m               \u001b[1m\u001b[0m   \n",
      "\u001b[36;1mrecord_count\u001b[0m   274   \n"
     ]
    }
   ],
   "source": [
    "PERFORM_ACTION_PROPS = '''\n",
    "{\n",
    "        \"schema_name\": \"CONNUSER\",\n",
    "        \"table_name\": \"product.csv\"\n",
    "}\n",
    "'''\n",
    "\n",
    "! cpdctl connection perform-action --project-id '{PROJECT_ID}' --connection-id '{CONNECTION_ID}' --action-name \"get_record_count\" --request='{PERFORM_ACTION_PROPS}'"
   ]
  },
  {
   "cell_type": "markdown",
   "metadata": {},
   "source": [
    "### 2.9 Discover connection"
   ]
  },
  {
   "cell_type": "code",
   "execution_count": 29,
   "metadata": {},
   "outputs": [
    {
     "name": "stdout",
     "output_type": "stream",
     "text": [
      "...\n",
      "\u001b[1m\u001b[0m              \u001b[1m\u001b[0m   \n",
      "\u001b[36;1masset_types\u001b[0m   <Array>   \n",
      "\u001b[36;1massets\u001b[0m        <Array>   \n",
      "\u001b[36;1mfirst\u001b[0m         <Nested Object>   \n",
      "\u001b[36;1mpath\u001b[0m          /CONNUSER   \n",
      "\u001b[36;1mtotal_count\u001b[0m   25   \n"
     ]
    }
   ],
   "source": [
    "! cpdctl connection discover --project-id '{PROJECT_ID}' --connection-id '{CONNECTION_ID}' --path=\"/CONNUSER\""
   ]
  },
  {
   "cell_type": "code",
   "execution_count": 30,
   "metadata": {},
   "outputs": [
    {
     "name": "stdout",
     "output_type": "stream",
     "text": [
      "{\r\n",
      "  \"asset_types\": [\r\n",
      "    {\r\n",
      "      \"dataset\": true,\r\n",
      "      \"dataset_container\": false,\r\n",
      "      \"type\": \"table\"\r\n",
      "    }\r\n",
      "  ],\r\n",
      "  \"assets\": [\r\n",
      "    {\r\n",
      "      \"id\": \"FP_YS1DEV\",\r\n",
      "      \"name\": \"FP_YS1DEV\",\r\n",
      "      \"path\": \"/CONNUSER/FP_YS1DEV\",\r\n",
      "      \"type\": \"table\"\r\n",
      "    },\r\n",
      "    {\r\n",
      "      \"id\": \"FP_ypprod\",\r\n",
      "      \"name\": \"FP_ypprod\",\r\n",
      "      \"path\": \"/CONNUSER/FP_ypprod\",\r\n",
      "      \"type\": \"table\"\r\n",
      "    },\r\n",
      "    {\r\n",
      "      \"id\": \"FP_ypqa\",\r\n",
      "      \"name\": \"FP_ypqa\",\r\n",
      "      \"path\": \"/CONNUSER/FP_ypqa\",\r\n",
      "      \"type\": \"table\"\r\n",
      "    },\r\n",
      "    {\r\n",
      "      \"id\": \"FP_ys1dev\",\r\n",
      "      \"name\": \"FP_ys1dev\",\r\n",
      "      \"path\": \"/CONNUSER/FP_ys1dev\",\r\n",
      "      \"type\": \"table\"\r\n",
      "    },\r\n",
      "    {\r\n",
      "      \"id\": \"ISSUE43498\",\r\n",
      "      \"name\": \"ISSUE43498\",\r\n",
      "      \"path\": \"/CONNUSER/ISSUE43498\",\r\n",
      "      \"type\": \"table\"\r\n",
      "    },\r\n",
      "    {\r\n",
      "      \"id\": \"KMICHAL1\",\r\n",
      "      \"name\": \"KMICHAL1\",\r\n",
      "      \"path\": \"/CONNUSER/KMICHAL1\",\r\n",
      "      \"type\": \"table\"\r\n",
      "    },\r\n",
      "    {\r\n",
      "      \"id\": \"KMICHAL1SMALL\",\r\n",
      "      \"name\": \"KMICHAL1SMALL\",\r\n",
      "      \"path\": \"/CONNUSER/KMICHAL1SMALL\",\r",
      "\r\n",
      "      \"type\": \"table\"\r\n",
      "    },\r\n",
      "    {\r\n",
      "      \"id\": \"KMICHAL1_CUSTOMER_ISSUE\",\r\n",
      "      \"name\": \"KMICHAL1_CUSTOMER_ISSUE\",\r\n",
      "      \"path\": \"/CONNUSER/KMICHAL1_CUSTOMER_ISSUE\",\r\n",
      "      \"type\": \"table\"\r\n",
      "    },\r\n",
      "    {\r\n",
      "      \"id\": \"LGBINARYTABLE\",\r\n",
      "      \"name\": \"LGBINARYTABLE\",\r\n",
      "      \"path\": \"/CONNUSER/LGBINARYTABLE\",\r\n",
      "      \"type\": \"table\"\r\n",
      "    },\r\n",
      "    {\r\n",
      "      \"id\": \"PD 维修量-2016_2020 无删 V4.xlsx - 维修DATA.csv_shaped\",\r\n",
      "      \"name\": \"PD 维修量-2016_2020 无删 V4.xlsx - 维修DATA.csv_shaped\",\r\n",
      "      \"path\": \"/CONNUSER/PD 维修量-2016_2020 无删 V4.xlsx - 维修DATA.csv_shaped\",\r\n",
      "      \"type\": \"table\"\r\n",
      "    },\r\n",
      "    {\r\n",
      "      \"id\": \"PRODUCT-TEST\",\r\n",
      "      \"name\": \"PRODUCT-TEST\",\r\n",
      "      \"path\": \"/CONNUSER/PRODUCT-TEST\",\r\n",
      "      \"type\": \"table\"\r\n",
      "    },\r\n",
      "    {\r\n",
      "      \"id\": \"PRODUCT_FROM_CSV\",\r\n",
      "      \"name\": \"PRODUCT_FROM_CSV\",\r\n",
      "      \"path\": \"/CONNUSER/PRODUCT_FROM_CSV\",\r\n",
      "      \"type\": \"table\"\r\n",
      "    },\r\n",
      "    {\r\n",
      "      \"id\": \"TABLE10M\",\r\n",
      "      \"name\": \"TABLE10M\",\r\n",
      "      \"path\": \"/CONNUSER/TABLE10M\",\r\n",
      "      \"type\": \"table\"\r\n",
      "    },\r\n",
      "    {\r\n",
      "      \"id\": \"TABLE_KP\",\r\n",
      "      \"name\": \"TABLE_KP\",\r\n",
      "      \"path\": \"/CONNUSER/TABLE_KP\",\r\n",
      "      \"type\": \"table\"\r\n",
      "    },\r\n",
      "    {\r\n",
      "      \"id\": \"TAB_DESKTOP4GDVE_1624361931799\",\r\n",
      "      \"name\": \"TAB_DESKTOP4GDVE_1624361931799\",\r\n",
      "      \"path\": \"/CONNUSER/TAB_DESKTOP4GDVE_1624361931799\",\r\n",
      "      \"type\": \"table\"\r\n",
      "    },\r\n",
      "    {\r\n",
      "      \"id\": \"TAB_DESKTOP4GDVE_1624362215487\",\r\n",
      "      \"name\": \"TAB_DESKTOP4GDVE_1624362215487\",\r\n",
      "      \"path\": \"/CONNUSER/TAB_DESKTOP4GDVE_1624362215487\",\r\n",
      "      \"type\": \"table\"\r\n",
      "    },\r\n",
      "    {\r\n",
      "      \"id\": \"TESTDB2WAREHOUSE_TARGET_DEFAULT2\",\r\n",
      "      \"name\": \"TESTDB2WAREHOUSE_TARGET_DEFAULT2\",\r\n",
      "      \"path\": \"/CONNUSER/TESTDB2WAREHOUSE_TARGET_DEFAULT2\",\r\n",
      "      \"type\": \"table\"\r\n",
      "    },\r\n",
      "    {\r\n",
      "      \"id\": \"TEST_TARGET_VARCHAR_LENGTH\",\r\n",
      "      \"name\": \"TEST_TARGET_VARCHAR_LENGTH\",\r\n",
      "      \"path\": \"/CONNUSER/TEST_TARGET_VARCHAR_LENGTH\",\r\n",
      "      \"type\": \"table\"\r\n",
      "    },\r\n",
      "    {\r\n",
      "      \"id\": \"TRI_PO_LINE_ITEM\",\r\n",
      "      \"name\": \"TRI_PO_LINE_ITEM\",\r\n",
      "      \"path\": \"/CONNUSER/TRI_PO_LINE_ITEM\",\r\n",
      "      \"type\": \"table\"\r\n",
      "    },\r\n",
      "    {\r\n",
      "      \"id\": \"aditi_DB2WH-CONNUSER-product.csv\",\r\n",
      "      \"name\": \"aditi_DB2WH-CONNUSER-product.csv\",\r\n",
      "      \"path\": \"/CONNUSER/aditi_DB2WH-CONNUSER-product.csv\",\r\n",
      "      \"type\": \"table\"\r\n",
      "    },\r\n",
      "    {\r\n",
      "      \"id\": \"drug1n\",\r\n",
      "      \"name\": \"drug1n\",\r\n",
      "      \"path\": \"/CONNUSER/drug1n\",\r\n",
      "      \"type\": \"table\"\r\n",
      "    },\r\n",
      "    {\r\n",
      "      \"id\": \"fastpathTest\",\r\n",
      "      \"name\": \"fastpathTest\",\r\n",
      "      \"path\": \"/CONNUSER/fastpathTest\",\r\n",
      "      \"type\": \"table\"\r\n",
      "    },\r\n",
      "    {\r\n",
      "      \"id\": \"fdata1\",\r\n",
      "      \"name\": \"fdata1\",\r\n",
      "      \"path\": \"/CONNUSER/fdata1\",\r\n",
      "      \"type\": \"table\"\r\n",
      "    },\r\n",
      "    {\r\n",
      "      \"id\": \"product.csv\",\r\n",
      "      \"name\": \"product.csv\",\r\n",
      "      \"path\": \"/CONNUSER/product.csv\",\r\n",
      "      \"type\": \"table\"\r\n",
      "    },\r\n",
      "    {\r\n",
      "      \"id\": \"product.csv_shaped\",\r\n",
      "      \"name\": \"product.csv_shaped\",\r\n",
      "      \"path\": \"/CONNUSER/product.csv_shaped\",\r\n",
      "      \"type\": \"table\"\r\n",
      "    }\r\n",
      "  ],\r\n",
      "  \"first\": {\r\n",
      "    \"href\": \"https://internal-nginx-svc:12443/v2/connections/09771787-cc58-4404-b75d-6747c48b14b4/assets?project_id=c494d4b7-9e1c-45c3-b9d4-092dc6f1f024\\u0026offset=0\\u0026limit=100\\u0026path=%2FCONNUSER\"\r\n",
      "  },\r\n",
      "  \"path\": \"/CONNUSER\",\r\n",
      "  \"total_count\": 25\r\n",
      "}\r\n"
     ]
    }
   ],
   "source": [
    "! cpdctl connection discover --project-id '{PROJECT_ID}' --connection-id '{CONNECTION_ID}' --path=\"/CONNUSER\" --output json"
   ]
  },
  {
   "cell_type": "markdown",
   "metadata": {},
   "source": [
    "### 2.10 Delete connection"
   ]
  },
  {
   "cell_type": "code",
   "execution_count": 31,
   "metadata": {},
   "outputs": [
    {
     "name": "stdout",
     "output_type": "stream",
     "text": [
      "...\n",
      "\u001b[32;1mOK\u001b[0m\n"
     ]
    }
   ],
   "source": [
    "! cpdctl connection delete --project-id '{PROJECT_ID}' --connection-id '{CONNECTION_ID}'"
   ]
  },
  {
   "cell_type": "markdown",
   "metadata": {},
   "source": [
    "### 2.11 Clean up - Delete project created at the beggining (containing our connection)"
   ]
  },
  {
   "cell_type": "code",
   "execution_count": 32,
   "metadata": {},
   "outputs": [
    {
     "name": "stdout",
     "output_type": "stream",
     "text": [
      "...\n",
      "\u001b[32;1mOK\u001b[0m\n"
     ]
    }
   ],
   "source": [
    "! cpdctl project delete --project-id '{PROJECT_ID}'"
   ]
  },
  {
   "cell_type": "markdown",
   "metadata": {},
   "source": [
    "## 3. Demo cpdctl connection datasource types commands\n",
    "\n",
    "### 3.1 List datasource types"
   ]
  },
  {
   "cell_type": "code",
   "execution_count": 33,
   "metadata": {},
   "outputs": [
    {
     "name": "stdout",
     "output_type": "stream",
     "text": [
      "...\n",
      "\u001b[1mID\u001b[0m                                     \u001b[1mName\u001b[0m                        \u001b[1mDescription\u001b[0m                                          \u001b[1mType\u001b[0m       \u001b[1mTags\u001b[0m   \n",
      "\u001b[36;1m029e5d1c-ba73-4b09-b742-14c3a39b6cf9\u001b[0m   informix                    IBM Informix database                                database   []   \n",
      "\u001b[36;1m048ed1bf-516c-46f0-ae90-fa3349d8bc1c\u001b[0m   postgresql-ibmcloud         Databases for PostgreSQL database                    database   []   \n",
      "\u001b[36;1m05b7f0ea-6ae4-45e2-a455-cc280f110825\u001b[0m   googlecloudstorage          Google Cloud Storage                                 file       []   \n",
      "\u001b[36;1m05c58384-862e-4597-b19a-c71ea7e760bc\u001b[0m   impala                      Cloudera Impala database                             database   []   \n",
      "\u001b[36;1m06847b16-07b4-4415-a924-c63d11a17aa1\u001b[0m   salesforce                  Salesforce.com                                       database   []   \n",
      "\u001b[36;1m0c431748-2572-11ea-978f-2e728ce88125\u001b[0m   cosmos                      Microsoft Azure Cosmos DB                            file       []   \n",
      "\u001b[36;1m0cd4b64c-b485-47ed-a8c4-329c25412de3\u001b[0m   mysql-compose               Compose for MySQL database                           database   []   \n",
      "\u001b[36;1m0fd83fe5-8995-4e2e-a1be-679bb8813a6d\u001b[0m   hive                        Apache Hive database                                 database   []   \n",
      "\u001b[36;1m11f3029d-a1cf-4c4d-b8e7-64422fa54a94\u001b[0m   cognos-analytics            Cognos Analytics                                     file       []   \n",
      "\u001b[36;1m13e8b257-1dff-49ed-bac8-7eca796a40b3\u001b[0m   hive-watson                 Hive via Execution Engine for Hadoop                 database   []   \n",
      "\u001b[36;1m193a97c1-4475-4a19-b90c-295c4fdc6517\u001b[0m   bluemixcloudobjectstorage   Cloud Object Storage service on IBM Cloud. Offers…   file       []   \n",
      "\u001b[36;1m200d71ab-24a5-4b3d-85a4-a365bdd0d4cb\u001b[0m   elasticsearch               Elasticsearch                                        file       []   \n",
      "\u001b[36;1m27c3e1b0-b7d2-4e32-9511-1b8aaa197de0\u001b[0m   odata                       OData                                                generic    []   \n",
      "\u001b[36;1m2a7b4fa1-c770-4807-8871-a3c5def5aa2d\u001b[0m   azurefilestorage            Microsoft Azure File Storage                         file       []   \n",
      "\u001b[36;1m2bdd9544-f13a-47b6-b6c3-f5964a08066a\u001b[0m   bigsql                      IBM Db2 Big SQL                                      database   []   \n",
      "\u001b[36;1m2fc1372f-b58c-4d45-b0c4-dfb32a1c78a5\u001b[0m   snowflake                   Snowflake database                                   database   []   \n",
      "\u001b[36;1m31170994-f54c-4148-9c5a-807832fa1d07\u001b[0m   redshift                    Amazon Redshift database                             database   []   \n",
      "\u001b[36;1m335cbfe7-e495-474e-8ad7-78ad63c05091\u001b[0m   db2iseries                  IBM Db2 database for i                               database   []   \n",
      "\u001b[36;1m39a78d59-ef34-4108-8e46-4460433a3b99\u001b[0m   dvm                         IBM Data Virtualization Manager for z/OS             database   []   \n",
      "\u001b[36;1m4210c294-8b0f-46b4-bcdc-1c6ada2b7e6b\u001b[0m   http                        Hypertext Transfer Protocol (HTTP)                   file       []   \n",
      "\u001b[36;1m44e904b5-0cb2-4d8e-a5c0-c48bc3e24fdd\u001b[0m   cloudant                    IBM Cloudant                                         file       []   \n",
      "\u001b[36;1m4656c47e-3ada-467e-a541-466c0c55df05\u001b[0m   saphana                     SAP HANA database                                    database   []   \n",
      "\u001b[36;1m48695e79-6279-474a-b539-342625d3dfc2\u001b[0m   sqlserver                   Microsoft SQL Server database                        database   []   \n",
      "\u001b[36;1m49079262-fac2-4762-99d1-452c1caf6b49\u001b[0m   sybaseiq                    SAP IQ database                                      database   []   \n",
      "\u001b[36;1m49686982-255f-423a-a5de-d825bfc0abe3\u001b[0m   dv                          IBM Data Virtualization                              database   []   \n",
      "\u001b[36;1m4bf2dedd-3809-4443-96ec-b7bc5726c07b\u001b[0m   cloudobjectstorage          Object storage for workloads requiring AWS SDKs a…   file       []   \n",
      "\u001b[36;1m506039fb-802f-4ef2-a2bf-c1682e9c8aa2\u001b[0m   db2cloud                    IBM Db2 fully-managed cloud SQL database             database   []   \n",
      "\u001b[36;1m507b850c-f4a1-41d7-ad64-4182a1264014\u001b[0m   dropbox                     Dropbox secure file sharing and storage service      file       []   \n",
      "\u001b[36;1m526f54ea-cde0-4818-a0b6-749efd35ccfa\u001b[0m   impala-watson               Impala via Execution Engine for Hadoop               database   []   \n",
      "\u001b[36;1m6863060d-97c4-4653-abbe-958bde533f8c\u001b[0m   azuredatalake               Microsoft Azure Data Lake Store via the WebHDFS A…   file       []   \n",
      "\u001b[36;1m6976a3fc-b2ad-4db6-818c-ea049cac309d\u001b[0m   sybase                      SAP ASE database                                     database   []   \n",
      "\u001b[36;1m69857d6b-2be8-4a59-8a70-723405f09708\u001b[0m   looker                      Looker                                               file       []   \n",
      "\u001b[36;1m79a0a133-cbb6-48d0-a3b0-0956a9655401\u001b[0m   sapodata                    SAP OData                                            generic    []   \n",
      "\u001b[36;1m81641c94-a3a7-4d3e-9ea8-bdf79bdd3b06\u001b[0m   minio                       MinIO                                                file       []   \n",
      "\u001b[36;1m81bafdbd-b7c6-45c5-a4fd-6ec135f66f4e\u001b[0m   assetfiles                  Asset Files                                          file       []   \n",
      "\u001b[36;1m82696f1d-600c-4f78-a03c-d8349ea1976f\u001b[0m   derby                       Apache Derby                                         database   []   \n",
      "\u001b[36;1m83da8a63-ffe3-4aa0-9127-adb5331c19cc\u001b[0m   hdfs-watson                 HDFS via Execution Engine for Hadoop                 file       []   \n",
      "\u001b[36;1m895507b6-f23e-40b2-b40a-5414fc9bd2ca\u001b[0m   hdfs-analyticsengine        IBM Analytics Engine HDFS via the WebHDFS API        file       []   \n",
      "\u001b[36;1m8c1a4480-1c29-4b33-9086-9cb799d7b157\u001b[0m   db2                         IBM Db2 database                                     database   []   \n",
      "\u001b[36;1m8e65204d-6156-49e7-96e5-d635b2aa05f6\u001b[0m   mongodb-ibmcloud            Databases for MongoDB database                       database   []   \n",
      "\u001b[36;1m933152db-99e1-453a-8ce5-ae0e6714d1a9\u001b[0m   bigquery                    Google BigQuery                                      database   []   \n",
      "\u001b[36;1m9493d830-882b-445e-96c7-8e4c635a1a5b\u001b[0m   postgresql-amazon           Amazon RDS for PostgreSQL database                   database   []   \n",
      "\u001b[36;1m9525f6a6-1c44-4925-b1a0-9a2b731518cb\u001b[0m   db2hosted                   IBM Db2 hosted database                              database   []   \n",
      "\u001b[36;1m96ec8f53-a818-4ba1-bd8d-c86cc33a0b45\u001b[0m   teradata                    Teradata database                                    database   []   \n",
      "\u001b[36;1m971223d3-093e-4957-8af9-a83181ee9dd9\u001b[0m   oracle                      Oracle database                                      database   []   \n",
      "\u001b[36;1m99c3c67b-2133-4006-81f6-2b375a0048a3\u001b[0m   box                         Box file sharing, storage, and collaboration         file       []   \n",
      "\u001b[36;1m9a22e0af-8d19-4c4e-9aea-1d733e81315b\u001b[0m   azureblobstorage            Microsoft Azure Blob Storage                         file       []   \n",
      "\u001b[36;1m9aa630f2-efc4-4d54-b8cb-254f31405b78\u001b[0m   mysql-amazon                Amazon RDS for MySQL database                        database   []   \n",
      "\u001b[36;1m9ebc33eb-8c01-43fd-be1e-7202cf5c2c82\u001b[0m   tableau                     Tableau                                              file       []   \n",
      "\u001b[36;1m9f30e3c3-b854-4144-b5c3-98b7a835dc79\u001b[0m   volumes                     Storage volume                                       file       []   \n",
      "\u001b[36;1ma0b1d14a-4767-404c-aac1-4ce0e62818c3\u001b[0m   amazons3                    Amazon Simple Storage Service (S3)                   file       []   \n",
      "\u001b[36;1me375c0ae-cba9-47fc-baf7-523bef88c09e\u001b[0m   azuresql                    Microsoft Azure SQL Database                         database   []   \n",
      "\u001b[36;1mb2cc3dc2-aff7-4a80-8f80-5e8c5703e9d2\u001b[0m   mysql                       MySQL database                                       database   []   \n",
      "\u001b[36;1mc10e5224-f17d-4524-844f-e97b1305e489\u001b[0m   hdfs-apache                 Apache HDFS via the WebHDFS API                      file       []   \n",
      "\u001b[36;1mc2a82a72-0711-4376-a468-4e9951cabf22\u001b[0m   netezza                     IBM Netezza (PureData System for Analytics) datab…   database   []   \n",
      "\u001b[36;1mc42bcde4-4345-4fb4-b7da-c8c557527c8b\u001b[0m   db2eventstore               IBM Db2 Event Store                                  database   []   \n",
      "\u001b[36;1mc6fb9293-51eb-4f2b-b20c-4dafa3136744\u001b[0m   mongodb                     MongoDB database                                     database   []   \n",
      "\u001b[36;1mc8d3eab2-25f6-4a90-8e10-0b4226693c45\u001b[0m   db2zos                      IBM Db2 database for z/OS                            database   []   \n",
      "\u001b[36;1mc8f3d379-78b2-4bad-969d-2e928277377e\u001b[0m   tm1odata                    Planning Analytics                                   generic    []   \n",
      "\u001b[36;1me6ff8c10-4199-4b58-9a93-749411eafacd\u001b[0m   cassandra                   Apache Cassandra database                            database   []   \n",
      "\u001b[36;1mcfdcb449-1204-44ba-baa6-9a8a878e6aa7\u001b[0m   dashdb                      Db2 Warehouse                                        database   []   \n",
      "\u001b[36;1md5dbc62f-7c4c-4d49-8eb2-dab6cef2969c\u001b[0m   ftp                         Remote file system (FTP)                             file       []   \n",
      "\u001b[36;1me1c23729-99d8-4407-b3df-336e33ffdc82\u001b[0m   postgresql                  PostgreSQL database                                  database   []   \n",
      "\u001b[36;1me278eff1-a7c4-4d60-9a02-bde1bb1d26ef\u001b[0m   greenplum                   Greenplum database                                   database   []   \n",
      "\u001b[36;1me59b1c36-6f30-4879-9f74-7e81dde4cca6\u001b[0m   genericjdbc                 Generic JDBC database                                database   []   \n",
      "\u001b[36;1mf3ee04c2-7c3b-4534-b300-eb6ef701646d\u001b[0m   mariadb                     MariaDB                                              database   []   \n",
      "\u001b[36;1mfc183fe5-cfe7-40a5-b473-e23ca025f05f\u001b[0m   spss                        IBM SPSS Analytic Server                             database   []   \n"
     ]
    }
   ],
   "source": [
    "! cpdctl connection datasource-type list"
   ]
  },
  {
   "cell_type": "code",
   "execution_count": 34,
   "metadata": {
    "scrolled": true
   },
   "outputs": [
    {
     "name": "stdout",
     "output_type": "stream",
     "text": [
      "...\n",
      "\u001b[1mID\u001b[0m                                     \u001b[1mName\u001b[0m               \u001b[1mDescription\u001b[0m                                          \u001b[1mType\u001b[0m   \u001b[1mTags\u001b[0m   \n",
      "\u001b[36;1ma0b1d14a-4767-404c-aac1-4ce0e62818c3\u001b[0m   amazons3           Amazon Simple Storage Service (S3)                   file   []   \n",
      "\u001b[36;1m81bafdbd-b7c6-45c5-a4fd-6ec135f66f4e\u001b[0m   assetfiles         Asset Files                                          file   []   \n",
      "\u001b[36;1m9a22e0af-8d19-4c4e-9aea-1d733e81315b\u001b[0m   azureblobstorage   Microsoft Azure Blob Storage                         file   []   \n",
      "\u001b[36;1m6863060d-97c4-4653-abbe-958bde533f8c\u001b[0m   azuredatalake      Microsoft Azure Data Lake Store via the WebHDFS A…   file   []   \n",
      "\u001b[36;1m2a7b4fa1-c770-4807-8871-a3c5def5aa2d\u001b[0m   azurefilestorage   Microsoft Azure File Storage                         file   []   \n",
      "Next token: 'https://internal-nginx-svc:12443/v2/datasource_types?offset=5&limit=5&sort=entity.name'\n"
     ]
    }
   ],
   "source": [
    "! cpdctl connection datasource-type list --sort entity.name --limit 5"
   ]
  },
  {
   "cell_type": "code",
   "execution_count": 35,
   "metadata": {},
   "outputs": [
    {
     "name": "stdout",
     "output_type": "stream",
     "text": [
      "...\n",
      "\u001b[1mID\u001b[0m                                     \u001b[1mName\u001b[0m               \u001b[1mDescription\u001b[0m                       \u001b[1mType\u001b[0m       \u001b[1mTags\u001b[0m   \n",
      "\u001b[36;1m0fd83fe5-8995-4e2e-a1be-679bb8813a6d\u001b[0m   hive               Apache Hive database              database   []   \n",
      "\u001b[36;1m48695e79-6279-474a-b539-342625d3dfc2\u001b[0m   sqlserver          Microsoft SQL Server database     database   []   \n",
      "\u001b[36;1m8c1a4480-1c29-4b33-9086-9cb799d7b157\u001b[0m   db2                IBM Db2 database                  database   []   \n",
      "\u001b[36;1m8e65204d-6156-49e7-96e5-d635b2aa05f6\u001b[0m   mongodb-ibmcloud   Databases for MongoDB database    database   []   \n",
      "\u001b[36;1m971223d3-093e-4957-8af9-a83181ee9dd9\u001b[0m   oracle             Oracle database                   database   []   \n",
      "\u001b[36;1mc10e5224-f17d-4524-844f-e97b1305e489\u001b[0m   hdfs-apache        Apache HDFS via the WebHDFS API   file       []   \n",
      "\u001b[36;1mc6fb9293-51eb-4f2b-b20c-4dafa3136744\u001b[0m   mongodb            MongoDB database                  database   []   \n",
      "\u001b[36;1mcfdcb449-1204-44ba-baa6-9a8a878e6aa7\u001b[0m   dashdb             Db2 Warehouse                     database   []   \n",
      "\u001b[36;1me59b1c36-6f30-4879-9f74-7e81dde4cca6\u001b[0m   genericjdbc        Generic JDBC database             database   []   \n"
     ]
    }
   ],
   "source": [
    "! cpdctl connection datasource-type list --entity-environment \"private\" --entity-product \"igc\""
   ]
  },
  {
   "cell_type": "code",
   "execution_count": 36,
   "metadata": {},
   "outputs": [
    {
     "name": "stdout",
     "output_type": "stream",
     "text": [
      "...\n",
      "\u001b[1mID\u001b[0m                                     \u001b[1mName\u001b[0m                        \u001b[1mDescription\u001b[0m                                          \u001b[1mType\u001b[0m       \u001b[1mTags\u001b[0m   \n",
      "\u001b[36;1m029e5d1c-ba73-4b09-b742-14c3a39b6cf9\u001b[0m   informix                    IBM Informix database                                database   []   \n",
      "\u001b[36;1m048ed1bf-516c-46f0-ae90-fa3349d8bc1c\u001b[0m   postgresql-ibmcloud         Databases for PostgreSQL database                    database   []   \n",
      "\u001b[36;1m05b7f0ea-6ae4-45e2-a455-cc280f110825\u001b[0m   googlecloudstorage          Google Cloud Storage                                 file       []   \n",
      "\u001b[36;1m05c58384-862e-4597-b19a-c71ea7e760bc\u001b[0m   impala                      Cloudera Impala database                             database   []   \n",
      "\u001b[36;1m06847b16-07b4-4415-a924-c63d11a17aa1\u001b[0m   salesforce                  Salesforce.com                                       database   []   \n",
      "\u001b[36;1m0c431748-2572-11ea-978f-2e728ce88125\u001b[0m   cosmos                      Microsoft Azure Cosmos DB                            file       []   \n",
      "\u001b[36;1m0cd4b64c-b485-47ed-a8c4-329c25412de3\u001b[0m   mysql-compose               Compose for MySQL database                           database   []   \n",
      "\u001b[36;1m0fd83fe5-8995-4e2e-a1be-679bb8813a6d\u001b[0m   hive                        Apache Hive database                                 database   []   \n",
      "\u001b[36;1m11f3029d-a1cf-4c4d-b8e7-64422fa54a94\u001b[0m   cognos-analytics            Cognos Analytics                                     file       []   \n",
      "\u001b[36;1m13e8b257-1dff-49ed-bac8-7eca796a40b3\u001b[0m   hive-watson                 Hive via Execution Engine for Hadoop                 database   []   \n",
      "\u001b[36;1m193a97c1-4475-4a19-b90c-295c4fdc6517\u001b[0m   bluemixcloudobjectstorage   Cloud Object Storage service on IBM Cloud. Offers…   file       []   \n",
      "\u001b[36;1m200d71ab-24a5-4b3d-85a4-a365bdd0d4cb\u001b[0m   elasticsearch               Elasticsearch                                        file       []   \n",
      "\u001b[36;1m27c3e1b0-b7d2-4e32-9511-1b8aaa197de0\u001b[0m   odata                       OData                                                generic    []   \n",
      "\u001b[36;1m2a7b4fa1-c770-4807-8871-a3c5def5aa2d\u001b[0m   azurefilestorage            Microsoft Azure File Storage                         file       []   \n",
      "\u001b[36;1m2bdd9544-f13a-47b6-b6c3-f5964a08066a\u001b[0m   bigsql                      IBM Db2 Big SQL                                      database   []   \n",
      "\u001b[36;1m2fc1372f-b58c-4d45-b0c4-dfb32a1c78a5\u001b[0m   snowflake                   Snowflake database                                   database   []   \n",
      "\u001b[36;1m31170994-f54c-4148-9c5a-807832fa1d07\u001b[0m   redshift                    Amazon Redshift database                             database   []   \n",
      "\u001b[36;1m335cbfe7-e495-474e-8ad7-78ad63c05091\u001b[0m   db2iseries                  IBM Db2 database for i                               database   []   \n",
      "\u001b[36;1m39a78d59-ef34-4108-8e46-4460433a3b99\u001b[0m   dvm                         IBM Data Virtualization Manager for z/OS             database   []   \n",
      "\u001b[36;1m4210c294-8b0f-46b4-bcdc-1c6ada2b7e6b\u001b[0m   http                        Hypertext Transfer Protocol (HTTP)                   file       []   \n",
      "\u001b[36;1m44e904b5-0cb2-4d8e-a5c0-c48bc3e24fdd\u001b[0m   cloudant                    IBM Cloudant                                         file       []   \n",
      "\u001b[36;1m4656c47e-3ada-467e-a541-466c0c55df05\u001b[0m   saphana                     SAP HANA database                                    database   []   \n",
      "\u001b[36;1m48695e79-6279-474a-b539-342625d3dfc2\u001b[0m   sqlserver                   Microsoft SQL Server database                        database   []   \n",
      "\u001b[36;1m49079262-fac2-4762-99d1-452c1caf6b49\u001b[0m   sybaseiq                    SAP IQ database                                      database   []   \n",
      "\u001b[36;1m49686982-255f-423a-a5de-d825bfc0abe3\u001b[0m   dv                          IBM Data Virtualization                              database   []   \n",
      "\u001b[36;1m4bf2dedd-3809-4443-96ec-b7bc5726c07b\u001b[0m   cloudobjectstorage          Object storage for workloads requiring AWS SDKs a…   file       []   \n",
      "\u001b[36;1m506039fb-802f-4ef2-a2bf-c1682e9c8aa2\u001b[0m   db2cloud                    IBM Db2 fully-managed cloud SQL database             database   []   \n",
      "\u001b[36;1m507b850c-f4a1-41d7-ad64-4182a1264014\u001b[0m   dropbox                     Dropbox secure file sharing and storage service      file       []   \n",
      "\u001b[36;1m526f54ea-cde0-4818-a0b6-749efd35ccfa\u001b[0m   impala-watson               Impala via Execution Engine for Hadoop               database   []   \n",
      "\u001b[36;1m6863060d-97c4-4653-abbe-958bde533f8c\u001b[0m   azuredatalake               Microsoft Azure Data Lake Store via the WebHDFS A…   file       []   \n",
      "\u001b[36;1m6976a3fc-b2ad-4db6-818c-ea049cac309d\u001b[0m   sybase                      SAP ASE database                                     database   []   \n",
      "\u001b[36;1m69857d6b-2be8-4a59-8a70-723405f09708\u001b[0m   looker                      Looker                                               file       []   \n",
      "\u001b[36;1m79a0a133-cbb6-48d0-a3b0-0956a9655401\u001b[0m   sapodata                    SAP OData                                            generic    []   \n",
      "\u001b[36;1m81641c94-a3a7-4d3e-9ea8-bdf79bdd3b06\u001b[0m   minio                       MinIO                                                file       []   \n",
      "\u001b[36;1m81bafdbd-b7c6-45c5-a4fd-6ec135f66f4e\u001b[0m   assetfiles                  Asset Files                                          file       []   \n",
      "\u001b[36;1m82696f1d-600c-4f78-a03c-d8349ea1976f\u001b[0m   derby                       Apache Derby                                         database   []   \n",
      "\u001b[36;1m83da8a63-ffe3-4aa0-9127-adb5331c19cc\u001b[0m   hdfs-watson                 HDFS via Execution Engine for Hadoop                 file       []   \n",
      "\u001b[36;1m895507b6-f23e-40b2-b40a-5414fc9bd2ca\u001b[0m   hdfs-analyticsengine        IBM Analytics Engine HDFS via the WebHDFS API        file       []   \n",
      "\u001b[36;1m8c1a4480-1c29-4b33-9086-9cb799d7b157\u001b[0m   db2                         IBM Db2 database                                     database   []   \n",
      "\u001b[36;1m8e65204d-6156-49e7-96e5-d635b2aa05f6\u001b[0m   mongodb-ibmcloud            Databases for MongoDB database                       database   []   \n",
      "\u001b[36;1m933152db-99e1-453a-8ce5-ae0e6714d1a9\u001b[0m   bigquery                    Google BigQuery                                      database   []   \n",
      "\u001b[36;1m9493d830-882b-445e-96c7-8e4c635a1a5b\u001b[0m   postgresql-amazon           Amazon RDS for PostgreSQL database                   database   []   \n",
      "\u001b[36;1m9525f6a6-1c44-4925-b1a0-9a2b731518cb\u001b[0m   db2hosted                   IBM Db2 hosted database                              database   []   \n",
      "\u001b[36;1m96ec8f53-a818-4ba1-bd8d-c86cc33a0b45\u001b[0m   teradata                    Teradata database                                    database   []   \n",
      "\u001b[36;1m971223d3-093e-4957-8af9-a83181ee9dd9\u001b[0m   oracle                      Oracle database                                      database   []   \n",
      "\u001b[36;1m99c3c67b-2133-4006-81f6-2b375a0048a3\u001b[0m   box                         Box file sharing, storage, and collaboration         file       []   \n",
      "\u001b[36;1m9a22e0af-8d19-4c4e-9aea-1d733e81315b\u001b[0m   azureblobstorage            Microsoft Azure Blob Storage                         file       []   \n",
      "\u001b[36;1m9aa630f2-efc4-4d54-b8cb-254f31405b78\u001b[0m   mysql-amazon                Amazon RDS for MySQL database                        database   []   \n",
      "\u001b[36;1m9ebc33eb-8c01-43fd-be1e-7202cf5c2c82\u001b[0m   tableau                     Tableau                                              file       []   \n",
      "\u001b[36;1m9f30e3c3-b854-4144-b5c3-98b7a835dc79\u001b[0m   volumes                     Storage volume                                       file       []   \n",
      "\u001b[36;1ma0b1d14a-4767-404c-aac1-4ce0e62818c3\u001b[0m   amazons3                    Amazon Simple Storage Service (S3)                   file       []   \n",
      "\u001b[36;1me375c0ae-cba9-47fc-baf7-523bef88c09e\u001b[0m   azuresql                    Microsoft Azure SQL Database                         database   []   \n",
      "\u001b[36;1mb2cc3dc2-aff7-4a80-8f80-5e8c5703e9d2\u001b[0m   mysql                       MySQL database                                       database   []   \n",
      "\u001b[36;1mc10e5224-f17d-4524-844f-e97b1305e489\u001b[0m   hdfs-apache                 Apache HDFS via the WebHDFS API                      file       []   \n",
      "\u001b[36;1mc2a82a72-0711-4376-a468-4e9951cabf22\u001b[0m   netezza                     IBM Netezza (PureData System for Analytics) datab…   database   []   \n",
      "\u001b[36;1mc42bcde4-4345-4fb4-b7da-c8c557527c8b\u001b[0m   db2eventstore               IBM Db2 Event Store                                  database   []   \n",
      "\u001b[36;1mc6fb9293-51eb-4f2b-b20c-4dafa3136744\u001b[0m   mongodb                     MongoDB database                                     database   []   \n",
      "\u001b[36;1mc8d3eab2-25f6-4a90-8e10-0b4226693c45\u001b[0m   db2zos                      IBM Db2 database for z/OS                            database   []   \n",
      "\u001b[36;1mc8f3d379-78b2-4bad-969d-2e928277377e\u001b[0m   tm1odata                    Planning Analytics                                   generic    []   \n",
      "\u001b[36;1me6ff8c10-4199-4b58-9a93-749411eafacd\u001b[0m   cassandra                   Apache Cassandra database                            database   []   \n",
      "\u001b[36;1mcfdcb449-1204-44ba-baa6-9a8a878e6aa7\u001b[0m   dashdb                      Db2 Warehouse                                        database   []   \n",
      "\u001b[36;1md5dbc62f-7c4c-4d49-8eb2-dab6cef2969c\u001b[0m   ftp                         Remote file system (FTP)                             file       []   \n",
      "\u001b[36;1me1c23729-99d8-4407-b3df-336e33ffdc82\u001b[0m   postgresql                  PostgreSQL database                                  database   []   \n",
      "\u001b[36;1me278eff1-a7c4-4d60-9a02-bde1bb1d26ef\u001b[0m   greenplum                   Greenplum database                                   database   []   \n",
      "\u001b[36;1me59b1c36-6f30-4879-9f74-7e81dde4cca6\u001b[0m   genericjdbc                 Generic JDBC database                                database   []   \n",
      "\u001b[36;1mf3ee04c2-7c3b-4534-b300-eb6ef701646d\u001b[0m   mariadb                     MariaDB                                              database   []   \n",
      "\u001b[36;1mfc183fe5-cfe7-40a5-b473-e23ca025f05f\u001b[0m   spss                        IBM SPSS Analytic Server                             database   []   \n"
     ]
    }
   ],
   "source": [
    "! cpdctl connection datasource-type list --connection-properties true --interaction-properties true --actions true"
   ]
  },
  {
   "cell_type": "markdown",
   "metadata": {},
   "source": [
    "### 3.2 Get datasource type"
   ]
  },
  {
   "cell_type": "code",
   "execution_count": 37,
   "metadata": {},
   "outputs": [
    {
     "name": "stdout",
     "output_type": "stream",
     "text": [
      "...\n",
      "\u001b[1m\u001b[0m               \u001b[1m\u001b[0m   \n",
      "\u001b[36;1mID:\u001b[0m            cfdcb449-1204-44ba-baa6-9a8a878e6aa7   \n",
      "\u001b[36;1mName:\u001b[0m          dashdb   \n",
      "\u001b[36;1mDescription:\u001b[0m   Db2 Warehouse   \n",
      "\u001b[36;1mType:\u001b[0m          database   \n",
      "\u001b[36;1mTags:\u001b[0m          []   \n"
     ]
    }
   ],
   "source": [
    "! cpdctl connection datasource-type get --datasource-type dashdb"
   ]
  },
  {
   "cell_type": "code",
   "execution_count": 38,
   "metadata": {},
   "outputs": [
    {
     "name": "stdout",
     "output_type": "stream",
     "text": [
      "...\n",
      "\u001b[1m\u001b[0m               \u001b[1m\u001b[0m   \n",
      "\u001b[36;1mID:\u001b[0m            cfdcb449-1204-44ba-baa6-9a8a878e6aa7   \n",
      "\u001b[36;1mName:\u001b[0m          dashdb   \n",
      "\u001b[36;1mDescription:\u001b[0m   Db2 Warehouse   \n",
      "\u001b[36;1mType:\u001b[0m          database   \n",
      "\u001b[36;1mTags:\u001b[0m          []   \n"
     ]
    }
   ],
   "source": [
    "! cpdctl connection datasource-type get --datasource-type dashdb --connection-properties true --interaction-properties true"
   ]
  }
 ],
 "metadata": {
  "kernelspec": {
   "display_name": "Python 3",
   "language": "python",
   "name": "python3"
  },
  "language_info": {
   "codemirror_mode": {
    "name": "ipython",
    "version": 3
   },
   "file_extension": ".py",
   "mimetype": "text/x-python",
   "name": "python",
   "nbconvert_exporter": "python",
   "pygments_lexer": "ipython3",
   "version": "3.8.2"
  }
 },
 "nbformat": 4,
 "nbformat_minor": 1
}
