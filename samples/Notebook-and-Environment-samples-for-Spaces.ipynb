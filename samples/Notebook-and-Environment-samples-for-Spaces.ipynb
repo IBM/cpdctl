{
 "cells": [
  {
   "cell_type": "markdown",
   "metadata": {},
   "source": [
    "# CPDCTL Samples for Notebooks and Environments in Spaces"
   ]
  },
  {
   "cell_type": "markdown",
   "metadata": {},
   "source": [
    "CPDCTL is a command-line interface (CLI) you can use to manage the lifecycle of notebooks. By using the notebook CLI, you can automate the flow for creating notebooks and running notebook jobs, as well as promoting notebooks from a project to a space.   \n",
    "\n",
    "This notebook begins by showing you how to install and configure CPDCTL and is then split up into three sections with examples of how to use the commands for:\n",
    "\n",
    "- Creating notebooks and running notebook jobs\n",
    "- Creating code packages and running code package jobs\n",
    "- Promoting notebooks from a project to a space"
   ]
  },
  {
   "cell_type": "markdown",
   "metadata": {},
   "source": [
    "## Table of Contents"
   ]
  },
  {
   "cell_type": "markdown",
   "metadata": {},
   "source": [
    "[1. Installing and configuring CPDCTL](#part1)\n",
    "- [1.1 Installing the latest version of CPDCTL](#part1.1)\n",
    "- [1.2 Adding CPD cluster configuration settings](#part1.2)\n",
    "\n",
    "[2. Demo 1: Creating a notebook asset and running a job](#part2)\n",
    "- [2.1 Creating a notebook asset](#part2.1)\n",
    "- [2.2 Running a job](#part2.2)\n",
    "\n",
    "[3. Demo 2: Creating a code package asset and running a job](#part3)\n",
    "- [3.1 Creating a code package asset](#part3.1)\n",
    "- [3.2 Running a job](#part3.2)\n",
    "\n",
    "[4. Demo 3: Promoting a notebook from a project to a space](#part4)"
   ]
  },
  {
   "cell_type": "markdown",
   "metadata": {},
   "source": [
    "## Before you begin\n",
    "Import the following libraries:"
   ]
  },
  {
   "cell_type": "code",
   "execution_count": 1,
   "metadata": {},
   "outputs": [],
   "source": [
    "import base64\n",
    "import json\n",
    "import os\n",
    "import requests\n",
    "import platform\n",
    "import tarfile\n",
    "import zipfile\n",
    "from IPython.core.display import display, HTML"
   ]
  },
  {
   "cell_type": "markdown",
   "metadata": {},
   "source": [
    "##  1. Installing and configuring CPDCTL <a class=\"anchor\" id=\"part1\"></a>"
   ]
  },
  {
   "cell_type": "markdown",
   "metadata": {},
   "source": [
    "### 1.1 Installing the latest version of CPDCTL <a class=\"anchor\" id=\"part1.1\"></a>"
   ]
  },
  {
   "cell_type": "markdown",
   "metadata": {},
   "source": [
    "To use the notebook and environment CLI commands, you need to install CPDCTL. Download the binary from the [CPDCTL GitHub respository](https://github.com/IBM/cpdctl/releases)."
   ]
  },
  {
   "cell_type": "markdown",
   "metadata": {},
   "source": [
    "Download the binary and then display the version number:"
   ]
  },
  {
   "cell_type": "code",
   "execution_count": 2,
   "metadata": {},
   "outputs": [
    {
     "data": {
      "text/html": [
       "<code>cpdctl</code> binary downloaded from: <a href=\"https://github.com/IBM/cpdctl/releases/download/v1.0.105/cpdctl_darwin_amd64.tar.gz\">cpdctl_darwin_amd64.tar.gz</a>"
      ],
      "text/plain": [
       "<IPython.core.display.HTML object>"
      ]
     },
     "metadata": {},
     "output_type": "display_data"
    }
   ],
   "source": [
    "PLATFORM = platform.system().lower()\n",
    "CPDCTL_ARCH = \"{}_amd64\".format(PLATFORM)\n",
    "CPDCTL_RELEASES_URL=\"https://api.github.com/repos/IBM/cpdctl/releases\"\n",
    "CWD = os.getcwd()\n",
    "PATH = os.environ['PATH']\n",
    "CPD_CONFIG = os.path.join(CWD, '.cpdctl.config.yml')\n",
    "\n",
    "response = requests.get(CPDCTL_RELEASES_URL)\n",
    "assets = response.json()[0]['assets']\n",
    "platform_asset = next(a for a in assets if CPDCTL_ARCH in a['name'])\n",
    "cpdctl_url = platform_asset['url']\n",
    "cpdctl_file_name = platform_asset['name']\n",
    "        \n",
    "response = requests.get(cpdctl_url, headers={'Accept': 'application/octet-stream'})\n",
    "with open(cpdctl_file_name, 'wb') as f:\n",
    "    f.write(response.content)\n",
    "    \n",
    "display(HTML('<code>cpdctl</code> binary downloaded from: <a href=\"{}\">{}</a>'.format(platform_asset['browser_download_url'], platform_asset['name'])))"
   ]
  },
  {
   "cell_type": "code",
   "execution_count": 3,
   "metadata": {},
   "outputs": [],
   "source": [
    "%%capture\n",
    "\n",
    "%env PATH={CWD}:{PATH}\n",
    "%env CPD_CONFIG={CPD_CONFIG}"
   ]
  },
  {
   "cell_type": "code",
   "execution_count": 4,
   "metadata": {},
   "outputs": [
    {
     "name": "stdout",
     "output_type": "stream",
     "text": [
      "cpdctl version: 1.0.105\n"
     ]
    }
   ],
   "source": [
    "if cpdctl_file_name.endswith('tar.gz'):\n",
    "    with tarfile.open(cpdctl_file_name, \"r:gz\") as tar:\n",
    "        tar.extractall()\n",
    "elif cpdctl_file_name.endswith('zip'):\n",
    "    with zipfile.ZipFile(cpdctl_file_name, 'r') as zf:\n",
    "        zf.extractall()\n",
    "\n",
    "if CPD_CONFIG and os.path.exists(CPD_CONFIG):\n",
    "    os.remove(CPD_CONFIG)\n",
    "    \n",
    "version_r = ! cpdctl version\n",
    "CPDCTL_VERSION = version_r.s\n",
    "\n",
    "print(\"cpdctl version: {}\".format(CPDCTL_VERSION))"
   ]
  },
  {
   "cell_type": "markdown",
   "metadata": {},
   "source": [
    "### 1.2  Adding CPD cluster configuration settings <a class=\"anchor\" id=\"part1.2\"></a>"
   ]
  },
  {
   "cell_type": "markdown",
   "metadata": {},
   "source": [
    "Before you can use CPDCTL, you need to add configuration settings. You only need to configure these settings once for the same IBM Cloud Pak for Data (CPD) user and cluster. Begin by entering your CPD credentials and the URL to the CPD cluster:"
   ]
  },
  {
   "cell_type": "code",
   "execution_count": 5,
   "metadata": {},
   "outputs": [],
   "source": [
    "CPD_USER_NAME = #'YOUR CPD user name'\n",
    "CPD_USER_PASSWORD = #'YOUR CPD user password'\n",
    "CPD_URL = #'YOUR CPD CLUSTER URL'"
   ]
  },
  {
   "cell_type": "markdown",
   "metadata": {},
   "source": [
    "Add \"cpd_user\" user to the cpdctl configuration:"
   ]
  },
  {
   "cell_type": "code",
   "execution_count": 6,
   "metadata": {},
   "outputs": [],
   "source": [
    "! cpdctl config user set cpd_user --username {CPD_USER_NAME} --password {CPD_USER_PASSWORD}"
   ]
  },
  {
   "cell_type": "markdown",
   "metadata": {},
   "source": [
    "Add \"cpd\" cluster to the cpdctl configuration:"
   ]
  },
  {
   "cell_type": "code",
   "execution_count": 7,
   "metadata": {},
   "outputs": [],
   "source": [
    "! cpdctl config profile set cpd --url {CPD_URL}"
   ]
  },
  {
   "cell_type": "markdown",
   "metadata": {},
   "source": [
    "Add \"cpd\" context to the cpdctl configuration:"
   ]
  },
  {
   "cell_type": "code",
   "execution_count": 8,
   "metadata": {},
   "outputs": [],
   "source": [
    "! cpdctl config context set cpd --profile cpd --user cpd_user"
   ]
  },
  {
   "cell_type": "markdown",
   "metadata": {},
   "source": [
    "List available contexts:"
   ]
  },
  {
   "cell_type": "code",
   "execution_count": 9,
   "metadata": {},
   "outputs": [
    {
     "name": "stdout",
     "output_type": "stream",
     "text": [
      "\u001b[1mName\u001b[0m   \u001b[1mProfile\u001b[0m   \u001b[1mUser\u001b[0m       \u001b[1mCurrent\u001b[0m   \r\n",
      "\u001b[36;1mcpd\u001b[0m    cpd       cpd_user   *   \r\n"
     ]
    }
   ],
   "source": [
    "! cpdctl config context list"
   ]
  },
  {
   "cell_type": "markdown",
   "metadata": {},
   "source": [
    "Switch to the context you just created if it is not marked in the `Current` column:"
   ]
  },
  {
   "cell_type": "code",
   "execution_count": 10,
   "metadata": {},
   "outputs": [
    {
     "name": "stdout",
     "output_type": "stream",
     "text": [
      "Switched to context \"cpd\".\r\n"
     ]
    }
   ],
   "source": [
    "! cpdctl config context use cpd"
   ]
  },
  {
   "cell_type": "markdown",
   "metadata": {},
   "source": [
    "List available spaces in context:"
   ]
  },
  {
   "cell_type": "code",
   "execution_count": 11,
   "metadata": {},
   "outputs": [
    {
     "name": "stdout",
     "output_type": "stream",
     "text": [
      "...\n",
      "\u001b[1mID\u001b[0m                                     \u001b[1mName\u001b[0m         \u001b[1mCreated\u001b[0m                    \u001b[1mDescription\u001b[0m   \u001b[1mState\u001b[0m    \u001b[1mTags\u001b[0m   \n",
      "\u001b[36;1m0f9bb565-a7d8-409b-baaf-5a56cd343155\u001b[0m   test_space   2021-05-17T13:52:54.619Z                 active   []   \n"
     ]
    }
   ],
   "source": [
    "! cpdctl space list"
   ]
  },
  {
   "cell_type": "markdown",
   "metadata": {},
   "source": [
    "Choose the space in which you want to work:"
   ]
  },
  {
   "cell_type": "code",
   "execution_count": 12,
   "metadata": {},
   "outputs": [
    {
     "name": "stdout",
     "output_type": "stream",
     "text": [
      "space id: 0f9bb565-a7d8-409b-baaf-5a56cd343155\n"
     ]
    }
   ],
   "source": [
    "result = ! cpdctl space list --output json -j \"(resources[].metadata.id)[0]\" --raw-output\n",
    "space_id = result.s\n",
    "print(\"space id: {}\".format(space_id))\n",
    "\n",
    "# You can also specify your space id directly:\n",
    "# space_id = \"Your space ID\""
   ]
  },
  {
   "cell_type": "markdown",
   "metadata": {},
   "source": [
    "## 2. Demo 1: Creating a notebook asset and running a job <a class=\"anchor\" id=\"part2\"></a>"
   ]
  },
  {
   "cell_type": "markdown",
   "metadata": {},
   "source": [
    "Before starting with this section, ensure that you have run the cells in [Section 1](#part1) and specified the ID of the space in which you will work."
   ]
  },
  {
   "cell_type": "markdown",
   "metadata": {},
   "source": [
    "Suppose you have a Jupyter Notebook (.ipynb) file on your local system and you would like to run the code in the file as a job on a CPD cluster. This section shows you how to create a notebook asset and run a job on a CPD cluster. "
   ]
  },
  {
   "cell_type": "markdown",
   "metadata": {},
   "source": [
    "### 2.1 Creating a notebook asset<a class=\"anchor\" id=\"part2.1\"></a>"
   ]
  },
  {
   "cell_type": "markdown",
   "metadata": {},
   "source": [
    "First of all, you need to create a notebook asset in your space. To create a notebook asset you need to specify:\n",
    "- The environment in which your notebook is to run\n",
    "- A notebook file (.ipynb)."
   ]
  },
  {
   "cell_type": "markdown",
   "metadata": {},
   "source": [
    "List all the environments in your space, filter them by their display name and get the ID of the environment in which your notebook will be run:"
   ]
  },
  {
   "cell_type": "code",
   "execution_count": 13,
   "metadata": {},
   "outputs": [],
   "source": [
    "environment_name = \"Default Python 3.8\"\n",
    "query_string = \"(resources[?entity.environment.display_name == '{}'].metadata.asset_id)[0]\".format(environment_name)"
   ]
  },
  {
   "cell_type": "code",
   "execution_count": 14,
   "metadata": {},
   "outputs": [
    {
     "name": "stdout",
     "output_type": "stream",
     "text": [
      "environment id: jupconda38-0f9bb565-a7d8-409b-baaf-5a56cd343155\n"
     ]
    }
   ],
   "source": [
    "result = ! cpdctl environment list --space-id {space_id} --output json -j \"{query_string}\" --raw-output\n",
    "env_id = result.s\n",
    "print(\"environment id: {}\".format(env_id))\n",
    "\n",
    "# You can also specify your environment id directly:\n",
    "# env_id = \"Your environment ID\""
   ]
  },
  {
   "cell_type": "markdown",
   "metadata": {},
   "source": [
    "Upload the .ipynb file:"
   ]
  },
  {
   "cell_type": "code",
   "execution_count": 15,
   "metadata": {},
   "outputs": [],
   "source": [
    "remote_file_path = \"notebook/cpdctl-test-notebook.ipynb\"\n",
    "local_file_path = \"cpdctl-test-notebook.ipynb\""
   ]
  },
  {
   "cell_type": "code",
   "execution_count": 16,
   "metadata": {},
   "outputs": [
    {
     "name": "stdout",
     "output_type": "stream",
     "text": [
      "...\n",
      "\u001b[32;1mOK\u001b[0m\n"
     ]
    }
   ],
   "source": [
    "! cpdctl asset file upload --path {remote_file_path} --file {local_file_path} --space-id {space_id}"
   ]
  },
  {
   "cell_type": "markdown",
   "metadata": {},
   "source": [
    "Create a notebook asset:"
   ]
  },
  {
   "cell_type": "code",
   "execution_count": 17,
   "metadata": {},
   "outputs": [],
   "source": [
    "file_name = \"cpdctl-test-notebook.ipynb\"\n",
    "runtime = {\n",
    "    'environment': env_id\n",
    "}\n",
    "runtime_json = json.dumps(runtime)"
   ]
  },
  {
   "cell_type": "code",
   "execution_count": 18,
   "metadata": {},
   "outputs": [
    {
     "name": "stdout",
     "output_type": "stream",
     "text": [
      "notebook id: d666abb7-969b-4e05-b2fe-0f263b319e86\n"
     ]
    }
   ],
   "source": [
    "result = ! cpdctl notebook create --file-reference {remote_file_path} --name {file_name} --space {space_id} --runtime '{runtime_json}' --output json -j \"metadata.asset_id\" --raw-output\n",
    "notebook_id = result.s\n",
    "print(\"notebook id: {}\".format(notebook_id))"
   ]
  },
  {
   "cell_type": "markdown",
   "metadata": {},
   "source": [
    "### 2.2 Running a job <a class=\"anchor\" id=\"part2.2\"></a>"
   ]
  },
  {
   "cell_type": "markdown",
   "metadata": {},
   "source": [
    "To create a notebook job, you need to give your job a name, add a description, and pass the notebook ID and environment ID you determined in [2.1](#part2.1). Additionally, you can add environment variables that will be used in your notebook:"
   ]
  },
  {
   "cell_type": "code",
   "execution_count": 19,
   "metadata": {},
   "outputs": [],
   "source": [
    "job_name = \"cpdctl-test-job\"\n",
    "job = {\n",
    "    'asset_ref': notebook_id, \n",
    "    'configuration': {\n",
    "        'env_id': env_id, \n",
    "        'env_variables': [\n",
    "            'foo=1', \n",
    "            'bar=2'\n",
    "        ]\n",
    "    }, \n",
    "    'description': 'my job', \n",
    "    'name': job_name\n",
    "}\n",
    "job_json = json.dumps(job)"
   ]
  },
  {
   "cell_type": "code",
   "execution_count": 20,
   "metadata": {},
   "outputs": [
    {
     "name": "stdout",
     "output_type": "stream",
     "text": [
      "job id: 7c1216dc-fc35-4cb5-bac5-c56cf25edd12\n"
     ]
    }
   ],
   "source": [
    "result = ! cpdctl job create --job '{job_json}' --space-id {space_id} --output json -j \"metadata.asset_id\" --raw-output\n",
    "job_id = result.s\n",
    "print(\"job id: {}\".format(job_id))"
   ]
  },
  {
   "cell_type": "markdown",
   "metadata": {},
   "source": [
    "Run a notebook job:"
   ]
  },
  {
   "cell_type": "code",
   "execution_count": 21,
   "metadata": {},
   "outputs": [],
   "source": [
    "job_run = {\n",
    "    'configuration': {\n",
    "        'env_variables': [\n",
    "            'key1=value1', \n",
    "            'key2=value2'\n",
    "        ]\n",
    "    }\n",
    "}\n",
    "job_run_json = json.dumps(job_run)"
   ]
  },
  {
   "cell_type": "code",
   "execution_count": 22,
   "metadata": {},
   "outputs": [
    {
     "name": "stdout",
     "output_type": "stream",
     "text": [
      "run id: 04135925-a097-4d95-af74-888cdc0bb735\n"
     ]
    }
   ],
   "source": [
    "result = ! cpdctl job run create --space-id {space_id} --job-id {job_id} --job-run '{job_run_json}' --output json -j \"metadata.asset_id\" --raw-output\n",
    "run_id = result.s\n",
    "print(\"run id: {}\".format(run_id))"
   ]
  },
  {
   "cell_type": "markdown",
   "metadata": {},
   "source": [
    "You can see the output of each cell in your .ipynb file by listing job run logs:"
   ]
  },
  {
   "cell_type": "code",
   "execution_count": 23,
   "metadata": {
    "scrolled": true
   },
   "outputs": [
    {
     "name": "stdout",
     "output_type": "stream",
     "text": [
      "...\n",
      "\n",
      "Cell 1:\n",
      "0\n",
      "1\n",
      "4\n",
      "9\n",
      "16\n",
      "\n",
      "\n"
     ]
    }
   ],
   "source": [
    "! cpdctl job run logs --job-id {job_id} --run-id {run_id} --space-id {space_id}"
   ]
  },
  {
   "cell_type": "markdown",
   "metadata": {},
   "source": [
    "## 3. Demo 2: Creating a code package asset and running a job <a class=\"anchor\" id=\"part3\"></a>"
   ]
  },
  {
   "cell_type": "markdown",
   "metadata": {},
   "source": [
    "Before starting with this section, ensure that you have run the cells in [Section 1](#part1) and specified the ID of the space in which you will work."
   ]
  },
  {
   "cell_type": "markdown",
   "metadata": {},
   "source": [
    "A code package is a way of organizing a set of dependent files in a folder structure. For example, a code package can contain a notebook file that calls other notebook files or functions in script files."
   ]
  },
  {
   "cell_type": "markdown",
   "metadata": {},
   "source": [
    "Suppose you have a ZIP file of this folder structure on your local system and would like to run the code in the folder as a job on a CPD cluster. This section shows you how to create and register a code package asset in a deployment space and run the files in the code package asset as a job."
   ]
  },
  {
   "cell_type": "markdown",
   "metadata": {},
   "source": [
    "### 3.1 Creating a code package asset<a class=\"anchor\" id=\"part3.1\"></a>"
   ]
  },
  {
   "cell_type": "markdown",
   "metadata": {},
   "source": [
    "Upload the .zip file:"
   ]
  },
  {
   "cell_type": "code",
   "execution_count": 26,
   "metadata": {},
   "outputs": [],
   "source": [
    "remote_file_path = \"code_package/cpdctl-test-code-package.zip\"\n",
    "local_file_path = \"cpdctl-test-code-package.zip\""
   ]
  },
  {
   "cell_type": "code",
   "execution_count": 27,
   "metadata": {},
   "outputs": [
    {
     "name": "stdout",
     "output_type": "stream",
     "text": [
      "...\n",
      "\u001b[32;1mOK\u001b[0m\n"
     ]
    }
   ],
   "source": [
    "! cpdctl asset file upload --path {remote_file_path} --file {local_file_path} --space-id {space_id}"
   ]
  },
  {
   "cell_type": "markdown",
   "metadata": {},
   "source": [
    "Create a code package asset. The code package asset has the same name as the ZIP file."
   ]
  },
  {
   "cell_type": "code",
   "execution_count": 39,
   "metadata": {},
   "outputs": [],
   "source": [
    "os.environ[\"CPDCTL_ENABLE_CODE_PACKAGE\"] = \"true\""
   ]
  },
  {
   "cell_type": "code",
   "execution_count": 41,
   "metadata": {},
   "outputs": [],
   "source": [
    "file_name = \"cpdctl-test-code-package.zip\""
   ]
  },
  {
   "cell_type": "code",
   "execution_count": 43,
   "metadata": {},
   "outputs": [
    {
     "name": "stdout",
     "output_type": "stream",
     "text": [
      "code package id: 5b81c35c-4ccd-4090-993e-62cf5f6dd6d7\n"
     ]
    }
   ],
   "source": [
    "result = ! cpdctl code-package create --file-reference {remote_file_path} --name {file_name} --space-id {space_id} --output json -j \"metadata.asset_id\" --raw-output\n",
    "code_package_id = result.s\n",
    "print(\"code package id: {}\".format(code_package_id))"
   ]
  },
  {
   "cell_type": "markdown",
   "metadata": {},
   "source": [
    "### 3.2 Running a job <a class=\"anchor\" id=\"part3.2\"></a>"
   ]
  },
  {
   "cell_type": "markdown",
   "metadata": {},
   "source": [
    "List all the environments in your space, filter them by their display name and get the ID of the environment in which your code package will be run:"
   ]
  },
  {
   "cell_type": "code",
   "execution_count": 44,
   "metadata": {},
   "outputs": [],
   "source": [
    "environment_name = \"Default Python 3.8\"\n",
    "query_string = \"(resources[?entity.environment.display_name == '{}'].metadata.asset_id)[0]\".format(environment_name)"
   ]
  },
  {
   "cell_type": "code",
   "execution_count": 45,
   "metadata": {},
   "outputs": [
    {
     "name": "stdout",
     "output_type": "stream",
     "text": [
      "environment id: jupconda38-0f9bb565-a7d8-409b-baaf-5a56cd343155\n"
     ]
    }
   ],
   "source": [
    "result = ! cpdctl environment list --space-id {space_id} --output json -j \"{query_string}\" --raw-output\n",
    "env_id = result.s\n",
    "print(\"environment id: {}\".format(env_id))\n",
    "\n",
    "# You can also specify your environment id directly:\n",
    "# env_id = \"Your environment ID\""
   ]
  },
  {
   "cell_type": "markdown",
   "metadata": {},
   "source": [
    "To create a code package job, you need to give your job a name, add a description, set an entrypoint and pass the code package ID and the environment ID. Additionally, you can add environment variables that will be used in your notebook:"
   ]
  },
  {
   "cell_type": "code",
   "execution_count": 46,
   "metadata": {},
   "outputs": [],
   "source": [
    "job_name = \"cpdctl-test-code-package-job\"\n",
    "job = {\n",
    "    'asset_ref': code_package_id, \n",
    "    'configuration': {\n",
    "        'env_id': env_id, \n",
    "        'env_variables': [\n",
    "            'foo=1', \n",
    "            'bar=2'\n",
    "        ],\n",
    "        'entrypoint': \"test.ipynb\"\n",
    "    }, \n",
    "    'description': 'my code package job', \n",
    "    'name': job_name\n",
    "}\n",
    "job_json = json.dumps(job)"
   ]
  },
  {
   "cell_type": "code",
   "execution_count": 47,
   "metadata": {},
   "outputs": [
    {
     "name": "stdout",
     "output_type": "stream",
     "text": [
      "job id: 6506e20b-33a6-4e80-9468-4982b046fb5d\n"
     ]
    }
   ],
   "source": [
    "result = ! cpdctl job create --job '{job_json}' --space-id {space_id} --output json -j \"metadata.asset_id\" --raw-output\n",
    "job_id = result.s\n",
    "print(\"job id: {}\".format(job_id))"
   ]
  },
  {
   "cell_type": "markdown",
   "metadata": {},
   "source": [
    "Run a code packge job:"
   ]
  },
  {
   "cell_type": "code",
   "execution_count": 48,
   "metadata": {},
   "outputs": [],
   "source": [
    "job_run = {\n",
    "    'configuration': {\n",
    "        'env_variables': [\n",
    "            'key1=value1', \n",
    "            'key2=value2'\n",
    "        ]\n",
    "    }\n",
    "}\n",
    "job_run_json = json.dumps(job_run)"
   ]
  },
  {
   "cell_type": "code",
   "execution_count": 49,
   "metadata": {},
   "outputs": [
    {
     "name": "stdout",
     "output_type": "stream",
     "text": [
      "run id: 42c620cb-834a-46d2-b262-1a15d77fc687\n"
     ]
    }
   ],
   "source": [
    "result = ! cpdctl job run create --space-id {space_id} --job-id {job_id} --job-run '{job_run_json}' --output json -j \"metadata.asset_id\" --raw-output\n",
    "run_id = result.s\n",
    "print(\"run id: {}\".format(run_id))"
   ]
  },
  {
   "cell_type": "markdown",
   "metadata": {},
   "source": [
    "You can see the output of each cell in your .ipynb file by listing job run logs:"
   ]
  },
  {
   "cell_type": "code",
   "execution_count": 50,
   "metadata": {
    "scrolled": true
   },
   "outputs": [
    {
     "name": "stdout",
     "output_type": "stream",
     "text": [
      "...\n",
      "\n",
      "Cell 1:\n",
      "0\n",
      "1\n",
      "2\n",
      "3\n",
      "4\n",
      "\n",
      "\n"
     ]
    }
   ],
   "source": [
    "! cpdctl job run logs --job-id {job_id} --run-id {run_id} --space-id {space_id}"
   ]
  },
  {
   "cell_type": "markdown",
   "metadata": {},
   "source": [
    "## 4. Demo 3: Promoting a notebook from a project to a space <a class=\"anchor\" id=\"part4\"></a>"
   ]
  },
  {
   "cell_type": "markdown",
   "metadata": {},
   "source": [
    "Before starting with this section, ensure that you have run the cells in [Section 1](#part1) and specified the ID of the space in which you will work."
   ]
  },
  {
   "cell_type": "markdown",
   "metadata": {},
   "source": [
    "Suppose you have a notebook in a project and would like to promote a specific version of this notebook to a space. This section shows you how to promote a notebook from a project to a space on a CPD cluster."
   ]
  },
  {
   "cell_type": "markdown",
   "metadata": {},
   "source": [
    "Choose a project from which you will promote your notebook:"
   ]
  },
  {
   "cell_type": "code",
   "execution_count": 51,
   "metadata": {},
   "outputs": [
    {
     "name": "stdout",
     "output_type": "stream",
     "text": [
      "project id: 0f5a1f58-7fdc-4a34-ad75-28c5b122758a\n"
     ]
    }
   ],
   "source": [
    "result = ! cpdctl project list --output json -j \"(resources[].metadata.guid)[0]\" --raw-output\n",
    "project_id = result.s\n",
    "print(\"project id: {}\".format(project_id))\n",
    "\n",
    "# You can also specify your project id directly:\n",
    "# project_id = \"Your project ID\""
   ]
  },
  {
   "cell_type": "markdown",
   "metadata": {},
   "source": [
    "Specify the notebook you would like to promote:"
   ]
  },
  {
   "cell_type": "code",
   "execution_count": 52,
   "metadata": {},
   "outputs": [
    {
     "name": "stdout",
     "output_type": "stream",
     "text": [
      "notebook id in project: 8ead5d49-0a5d-4325-9017-996c3bf40245\n"
     ]
    }
   ],
   "source": [
    "result = ! cpdctl asset search --type-name notebook --query \"asset.asset_type:notebook\" --project-id {project_id} --output json -j \"(results[].metadata.asset_id)[0]\" --raw-output\n",
    "notebook_id_in_project = result.s\n",
    "print(\"notebook id in project: {}\".format(notebook_id_in_project))\n",
    "\n",
    "# You can also specify your notebook id in project directly:\n",
    "# notebook_id_in_project = \"Your notebook ID in project\""
   ]
  },
  {
   "cell_type": "markdown",
   "metadata": {},
   "source": [
    "Create a version for your notebook if it has not any version and get its corresponding revision id:"
   ]
  },
  {
   "cell_type": "code",
   "execution_count": 58,
   "metadata": {},
   "outputs": [
    {
     "name": "stdout",
     "output_type": "stream",
     "text": [
      "revision id: 7\n"
     ]
    }
   ],
   "source": [
    "result = ! cpdctl notebook version create --notebook-id {notebook_id_in_project} --output json -j \"entity.rev_id\" --raw-output\n",
    "revision_id = result.s\n",
    "print(\"revision id: {}\".format(revision_id))"
   ]
  },
  {
   "cell_type": "markdown",
   "metadata": {},
   "source": [
    "Or specify an existing revision of the notebook:"
   ]
  },
  {
   "cell_type": "code",
   "execution_count": 59,
   "metadata": {},
   "outputs": [
    {
     "name": "stdout",
     "output_type": "stream",
     "text": [
      "revision id: 7\n"
     ]
    }
   ],
   "source": [
    "result = ! cpdctl notebook version list --notebook-id {notebook_id_in_project} --output json -j \"(resources[].entity.rev_id)[0]\" --raw-output\n",
    "revision_id = result.s\n",
    "print(\"revision id: {}\".format(revision_id))\n",
    "\n",
    "# You can also specify your revision id directly:\n",
    "# revision_id = \"Your revision ID\""
   ]
  },
  {
   "cell_type": "markdown",
   "metadata": {},
   "source": [
    "Promote the notebook to the space. The parameters `name` and `description` are optional. If they are not specified, the name and description of the original notebook in the project will be used."
   ]
  },
  {
   "cell_type": "code",
   "execution_count": 60,
   "metadata": {},
   "outputs": [],
   "source": [
    "notebook_name = \"cpdctl_test_promote\"\n",
    "notebook_description = \"cpdctl test promote\"\n",
    "request_body = {\n",
    "    'space_id': space_id,\n",
    "    'metadata': {\n",
    "        'name': notebook_name,\n",
    "        'description': notebook_description\n",
    "    }\n",
    "}\n",
    "request_body = json.dumps(request_body)"
   ]
  },
  {
   "cell_type": "code",
   "execution_count": 61,
   "metadata": {},
   "outputs": [
    {
     "name": "stdout",
     "output_type": "stream",
     "text": [
      "notebook id in space: [   \"20377bfa-4cb8-4a98-8e9b-94e83817daae\" ]\n"
     ]
    }
   ],
   "source": [
    "result = ! cpdctl asset promote --asset-id {notebook_id_in_project} --revision-id {revision_id} --project-id {project_id} --request-body '{request_body}'\n",
    "# verify that the notebook has been promoted into the space\n",
    "result = ! cpdctl asset search --space-id {space_id} --type-name notebook --query asset.name:{notebook_name} --output json -j \"(results[].metadata.asset_id)\" --raw-output\n",
    "notebook_id_in_space = result.s\n",
    "print(\"notebook id in space: {}\".format(notebook_id_in_space))"
   ]
  },
  {
   "cell_type": "markdown",
   "metadata": {},
   "source": [
    "Copyright © 2021 IBM. This notebook and its source code are released under the terms of the MIT License."
   ]
  }
 ],
 "metadata": {
  "kernelspec": {
   "display_name": "Python 3",
   "language": "python",
   "name": "python3"
  },
  "language_info": {
   "codemirror_mode": {
    "name": "ipython",
    "version": 3
   },
   "file_extension": ".py",
   "mimetype": "text/x-python",
   "name": "python",
   "nbconvert_exporter": "python",
   "pygments_lexer": "ipython3",
   "version": "3.9.2"
  }
 },
 "nbformat": 4,
 "nbformat_minor": 4
}
