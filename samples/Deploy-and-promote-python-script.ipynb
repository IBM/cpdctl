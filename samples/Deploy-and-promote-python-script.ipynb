{
 "cells": [
  {
   "cell_type": "markdown",
   "metadata": {},
   "source": [
    "# CPDCTL Demo - Python script lifecycle"
   ]
  },
  {
   "cell_type": "markdown",
   "metadata": {},
   "source": [
    "CPDCTL is a command-line interface (CLI) you can use to manage the lifecycle of notebooks. By using the notebook CLI, you can automate the flow for creating notebooks and running notebook jobs, moving notebooks between projects in Watson Studio, and adding custom libraries to notebook runtime environments.   \n",
    "\n",
    "This notebook begins by showing you how to install and configure CPDCTL and is then split up into three sections with examples of how to use the commands to:\n",
    "\n",
    "- Promote python script from the project to the space\n",
    "- Promote python script to the QA space\n",
    "- Download the script from the QA space and upload it to the production space"
   ]
  },
  {
   "cell_type": "markdown",
   "metadata": {},
   "source": [
    "## Table of Contents"
   ]
  },
  {
   "cell_type": "markdown",
   "metadata": {},
   "source": [
    "[1. Install and Configure CPDCTL](#part1)\n",
    "- [1.1 Installing the latest version of CPDCTL](#part1.1)\n",
    "- [1.2 Adding CPD cluster configuration settings](#part1.2)\n",
    "\n",
    "[2. Demo 1: Promote python script from the project to the space](#part2)\n",
    "- [2.1 Creating a notebook asset](#part2.1)\n",
    "- [2.2 Running a deployment job](#part2.2)\n",
    "\n",
    "[3. Demo 2: Promote python script to the QA space](#part3)\n",
    "- [3.1 Export all asssets from the source (DEV) space](#part3.1)\n",
    "- [3.2 Create QA space and import assets there](#part3.2)\n",
    "- [3.3 Run batch deployment job in the QA space](#part3.3)\n",
    "\n",
    "[4. Demo 3: Download the script from the QA space and upload it to the production space](#part4)\n",
    "- [4.1 Downloading a script](#part4.1)\n",
    "- [4.2 Creating the new script in the production space](#part4.2)\n",
    "- [4.2 Updating the existing script deployment](#part4.3)\n",
    "\n",
    "[5. Cleanup](#part5)"
   ]
  },
  {
   "cell_type": "markdown",
   "metadata": {},
   "source": [
    "## Before you begin\n",
    "Import the following libraries:"
   ]
  },
  {
   "cell_type": "code",
   "execution_count": 1,
   "metadata": {},
   "outputs": [],
   "source": [
    "import base64\n",
    "import json\n",
    "import os\n",
    "import requests\n",
    "import platform\n",
    "import tarfile\n",
    "import zipfile\n",
    "from datetime import datetime\n",
    "from IPython.core.display import display, HTML"
   ]
  },
  {
   "cell_type": "markdown",
   "metadata": {},
   "source": [
    "##  1. Installing and configurating CPDCTL <a class=\"anchor\" id=\"part1\"></a>"
   ]
  },
  {
   "cell_type": "markdown",
   "metadata": {},
   "source": [
    "### 1.1 Installing the latest version of CPDCTL <a class=\"anchor\" id=\"part1.1\"></a>"
   ]
  },
  {
   "cell_type": "markdown",
   "metadata": {},
   "source": [
    "To use the notebook and environment CLI commands, you need to install CPDCTL. Download the binary from the [CPDCTL GitHub respository](https://github.com/IBM/cpdctl/releases)."
   ]
  },
  {
   "cell_type": "markdown",
   "metadata": {},
   "source": [
    "Download the binary and then display the version number:"
   ]
  },
  {
   "cell_type": "code",
   "execution_count": 2,
   "metadata": {},
   "outputs": [
    {
     "data": {
      "text/html": [
       "<code>cpdctl</code> binary downloaded from: <a href=\"https://github.com/IBM/cpdctl/releases/download/v1.0.46/cpdctl_darwin_amd64.tar.gz\">cpdctl_darwin_amd64.tar.gz</a>"
      ],
      "text/plain": [
       "<IPython.core.display.HTML object>"
      ]
     },
     "metadata": {},
     "output_type": "display_data"
    },
    {
     "data": {
      "text/html": [
       "<style>div.output_area pre {white-space: pre;}</style>"
      ],
      "text/plain": [
       "<IPython.core.display.HTML object>"
      ]
     },
     "metadata": {},
     "output_type": "display_data"
    },
    {
     "data": {
      "text/html": [
       "<style>.container { width:90% !important; }</style>"
      ],
      "text/plain": [
       "<IPython.core.display.HTML object>"
      ]
     },
     "metadata": {},
     "output_type": "display_data"
    }
   ],
   "source": [
    "PLATFORM = platform.system().lower()\n",
    "CPDCTL_ARCH = \"{}_amd64\".format(PLATFORM)\n",
    "CPDCTL_RELEASES_URL=\"https://api.github.com/repos/IBM/cpdctl/releases\"\n",
    "CWD = os.getcwd()\n",
    "PATH = os.environ['PATH']\n",
    "CPD_CONFIG = os.path.join(CWD, '.cpdctl.config.yml')\n",
    "\n",
    "response = requests.get(CPDCTL_RELEASES_URL)\n",
    "assets = response.json()[0]['assets']\n",
    "platform_asset = next(a for a in assets if CPDCTL_ARCH in a['name'])\n",
    "cpdctl_url = platform_asset['url']\n",
    "cpdctl_file_name = platform_asset['name']\n",
    "\n",
    "response = requests.get(cpdctl_url, headers={'Accept': 'application/octet-stream'})\n",
    "with open(cpdctl_file_name, 'wb') as f:\n",
    "    f.write(response.content)\n",
    "    \n",
    "display(HTML('<code>cpdctl</code> binary downloaded from: <a href=\"{}\">{}</a>'.format(platform_asset['browser_download_url'], platform_asset['name'])))\n",
    "display(HTML(\"<style>div.output_area pre {white-space: pre;}</style>\"))\n",
    "display(HTML(\"<style>.container { width:90% !important; }</style>\"))"
   ]
  },
  {
   "cell_type": "code",
   "execution_count": 3,
   "metadata": {},
   "outputs": [],
   "source": [
    "%%capture\n",
    "\n",
    "%env PATH={CWD}:{PATH}\n",
    "%env CPD_CONFIG={CPD_CONFIG}"
   ]
  },
  {
   "cell_type": "code",
   "execution_count": 4,
   "metadata": {},
   "outputs": [
    {
     "name": "stdout",
     "output_type": "stream",
     "text": [
      "cpdctl version: 1.0.46\n"
     ]
    }
   ],
   "source": [
    "if cpdctl_file_name.endswith('tar.gz'):\n",
    "    with tarfile.open(cpdctl_file_name, \"r:gz\") as tar:\n",
    "        tar.extractall()\n",
    "elif cpdctl_file_name.endswith('zip'):\n",
    "    with zipfile.ZipFile(cpdctl_file_name, 'r') as zf:\n",
    "        zf.extractall()\n",
    "\n",
    "if CPD_CONFIG and os.path.exists(CPD_CONFIG):\n",
    "    os.remove(CPD_CONFIG)\n",
    "    \n",
    "version_r = ! cpdctl version\n",
    "CPDCTL_VERSION = version_r.s\n",
    "\n",
    "print(\"cpdctl version: {}\".format(CPDCTL_VERSION))"
   ]
  },
  {
   "cell_type": "markdown",
   "metadata": {},
   "source": [
    "### 1.2  Adding CPD cluster configuration settings <a class=\"anchor\" id=\"part1.2\"></a>"
   ]
  },
  {
   "cell_type": "markdown",
   "metadata": {},
   "source": [
    "Before you can use CPDCTL, you need to add configuration settings. You only need to configure these settings once for the same CPD user and cluster. Begin by entering your IBM Cloud Pak for Data (CPD) credentials and the URL to the CPD cluster.<br>**Note**: when running this notebook inside IBM Cloud Pak for Data (CP4D) cluster, cpdctl takes advantage of [zero-configuration mode](https://github.com/IBM/cpdctl#zero-configuration) which means it can connect to the CP4D without explicit configuration. In that case the cells below that set credential and URL variables as well as cells that run `cpdctl config ...` commands can be skipped."
   ]
  },
  {
   "cell_type": "code",
   "execution_count": null,
   "metadata": {},
   "outputs": [],
   "source": [
    "CPD_USER_NAME = #'YOUR CPD user name'\n",
    "CPD_USER_PASSWORD = #'YOUR CPD user password'\n",
    "CPD_URL = #'YOUR CPD CLUSTER URL'\n",
    "\n",
    "CPD_PROD_USER_NAME = #'YOUR CPD production user name'\n",
    "CPD_PROD_USER_PASSWORD = #'YOUR CPD production user password'\n",
    "CPD_PROD_URL = #'YOUR CPD PRODUCTION CLUSTER URL'"
   ]
  },
  {
   "cell_type": "markdown",
   "metadata": {},
   "source": [
    "Add \"cpd_user\" user to the cpdctl configuration:"
   ]
  },
  {
   "cell_type": "code",
   "execution_count": 7,
   "metadata": {},
   "outputs": [],
   "source": [
    "! cpdctl config user set cpd_user --username {CPD_USER_NAME} --password {CPD_USER_PASSWORD}"
   ]
  },
  {
   "cell_type": "markdown",
   "metadata": {},
   "source": [
    "Add \"cpd\" cluster to the cpdctl configuration:"
   ]
  },
  {
   "cell_type": "code",
   "execution_count": 8,
   "metadata": {},
   "outputs": [],
   "source": [
    "! cpdctl config profile set cpd --url {CPD_URL} --user cpd_user"
   ]
  },
  {
   "cell_type": "markdown",
   "metadata": {},
   "source": [
    "The same for the PROD cluster"
   ]
  },
  {
   "cell_type": "code",
   "execution_count": 10,
   "metadata": {},
   "outputs": [],
   "source": [
    "! cpdctl config user set cpd_prod_user --username {CPD_PROD_USER_NAME} --password {CPD_PROD_USER_PASSWORD}\n",
    "! cpdctl config profile set cpd_prod --url {CPD_PROD_URL} --user cpd_prod_user"
   ]
  },
  {
   "cell_type": "markdown",
   "metadata": {},
   "source": [
    "List available profiles:"
   ]
  },
  {
   "cell_type": "code",
   "execution_count": 1,
   "metadata": {},
   "outputs": [
    {
     "name": "stdout",
     "output_type": "stream",
     "text": [
      "\u001b[1mName\u001b[0m       \u001b[1mType\u001b[0m      \u001b[1mUser\u001b[0m            \u001b[1mURL\u001b[0m                                              \u001b[1mCurrent\u001b[0m\r\n",
      "\u001b[36;1mcpd\u001b[0m        private   cpd_user        https://cpd-zen.apps.wp463case.cp.fyre.ibm.com   *\r\n",
      "\u001b[36;1mcpd_prod\u001b[0m   private   cpd_prod_user   https://cpd-zen.apps.wp463case.cp.fyre.ibm.com   \r\n"
     ]
    }
   ],
   "source": [
    "! cpdctl config profile list"
   ]
  },
  {
   "cell_type": "markdown",
   "metadata": {},
   "source": [
    "Switch the current profile:"
   ]
  },
  {
   "cell_type": "code",
   "execution_count": 2,
   "metadata": {},
   "outputs": [
    {
     "name": "stdout",
     "output_type": "stream",
     "text": [
      "Switched to profile \"cpd\".\r\n"
     ]
    }
   ],
   "source": [
    "! cpdctl config profile use cpd"
   ]
  },
  {
   "cell_type": "markdown",
   "metadata": {},
   "source": [
    "List available projects in profile:"
   ]
  },
  {
   "cell_type": "code",
   "execution_count": 14,
   "metadata": {},
   "outputs": [
    {
     "name": "stdout",
     "output_type": "stream",
     "text": [
      "...\n",
      "\u001b[1mID\u001b[0m                                     \u001b[1mName\u001b[0m                               \u001b[1mCreated\u001b[0m                    \u001b[1mDescription\u001b[0m   \u001b[1mTags\u001b[0m   \n",
      "\u001b[36;1m0cabb425-56d9-48fc-a178-f30d22737778\u001b[0m   git-demo-project                   2021-02-19T13:47:11.811Z                 []   \n",
      "\u001b[36;1m45f48375-4cdf-4354-8f51-3dbe933dc0aa\u001b[0m   Clustering Demo (git integrated)   2021-05-20T06:31:48.099Z                 []   \n",
      "\u001b[36;1m7fb76cf7-25be-435d-818e-bd6e9b5254f5\u001b[0m   cpdctl-demo                        2021-01-29T08:01:23.363Z                 []   \n"
     ]
    }
   ],
   "source": [
    "! cpdctl project list"
   ]
  },
  {
   "cell_type": "markdown",
   "metadata": {},
   "source": [
    "Choose a project in which you will work:"
   ]
  },
  {
   "cell_type": "code",
   "execution_count": 15,
   "metadata": {},
   "outputs": [
    {
     "name": "stdout",
     "output_type": "stream",
     "text": [
      "project id: 0cabb425-56d9-48fc-a178-f30d22737778\n"
     ]
    }
   ],
   "source": [
    "result = ! cpdctl project list --output json -j \"(resources[].metadata.guid)[0]\" --raw-output\n",
    "project_id = result.s\n",
    "print(\"project id: {}\".format(project_id))\n",
    "\n",
    "# You can also specify your project id directly:\n",
    "# project_id = \"Your project ID\""
   ]
  },
  {
   "cell_type": "markdown",
   "metadata": {},
   "source": [
    "## 2. Demo 1: Promote python script from the project to the space  <a class=\"anchor\" id=\"part2\"></a>"
   ]
  },
  {
   "cell_type": "markdown",
   "metadata": {},
   "source": [
    "Before starting with this section, please ensure that you have run the cells in [Section 1](#part1) and specified the ID of the project in which you will work."
   ]
  },
  {
   "cell_type": "markdown",
   "metadata": {},
   "source": [
    "Suppose you have a python script created with JupyterLab in Watson Studio and you would like to run the code on a CPD cluster. This section shows how to promote a script asset from a project to a space and run a job on a CPD cluster. "
   ]
  },
  {
   "cell_type": "markdown",
   "metadata": {},
   "source": [
    "<img width=\"700px\" align=\"center\"  src=\"data:image/svg+xml;base64,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\">"
   ]
  },
  {
   "cell_type": "markdown",
   "metadata": {},
   "source": [
    "### 2.1 Promote script asset to the space<a class=\"anchor\" id=\"part2.1\"></a>"
   ]
  },
  {
   "cell_type": "markdown",
   "metadata": {},
   "source": [
    "List all the script assets in your project, filter them by their display name and get the ID of the script:"
   ]
  },
  {
   "cell_type": "code",
   "execution_count": 16,
   "metadata": {},
   "outputs": [
    {
     "name": "stdout",
     "output_type": "stream",
     "text": [
      "...\n",
      "\u001b[1mID\u001b[0m                                     \u001b[1mName\u001b[0m               \u001b[1mCreated\u001b[0m                    \u001b[1mDescription\u001b[0m   \u001b[1mType\u001b[0m     \u001b[1mState\u001b[0m       \u001b[1mTags\u001b[0m   \u001b[1mSize\u001b[0m   \n",
      "\u001b[36;1m14766a5b-b842-4f19-b2d0-690b64e46d25\u001b[0m   batch_job_script   2021-02-19T22:08:45.000Z                 script   available   []     4183   \n"
     ]
    }
   ],
   "source": [
    "! cpdctl asset search --project-id {project_id} --type-name script --query \"*:*\""
   ]
  },
  {
   "cell_type": "code",
   "execution_count": 17,
   "metadata": {},
   "outputs": [],
   "source": [
    "script_name = \"batch_job_script\"\n",
    "query = \"asset.name:{}\".format(script_name)\n",
    "jmes_query = \"results[0].metadata.asset_id\""
   ]
  },
  {
   "cell_type": "code",
   "execution_count": 18,
   "metadata": {},
   "outputs": [
    {
     "name": "stdout",
     "output_type": "stream",
     "text": [
      "\u001b[1;39m{\n",
      "  \u001b[0m\u001b[34;1m\"results\"\u001b[0m\u001b[1;39m: \u001b[0m\u001b[1;39m[\n",
      "    \u001b[1;39m{\n",
      "      \u001b[0m\u001b[34;1m\"href\"\u001b[0m\u001b[1;39m: \u001b[0m\u001b[0;32m\"/v2/assets/14766a5b-b842-4f19-b2d0-690b64e46d25?project_id=0cabb425-56d9-48fc-a178-f30d22737778\"\u001b[0m\u001b[1;39m,\n",
      "      \u001b[0m\u001b[34;1m\"metadata\"\u001b[0m\u001b[1;39m: \u001b[0m\u001b[1;39m{\n",
      "        \u001b[0m\u001b[34;1m\"asset_attributes\"\u001b[0m\u001b[1;39m: \u001b[0m\u001b[1;39m[\n",
      "          \u001b[0;32m\"script\"\u001b[0m\u001b[1;39m\n",
      "        \u001b[1;39m]\u001b[0m\u001b[1;39m,\n",
      "        \u001b[0m\u001b[34;1m\"asset_category\"\u001b[0m\u001b[1;39m: \u001b[0m\u001b[0;32m\"USER\"\u001b[0m\u001b[1;39m,\n",
      "        \u001b[0m\u001b[34;1m\"asset_id\"\u001b[0m\u001b[1;39m: \u001b[0m\u001b[0;32m\"14766a5b-b842-4f19-b2d0-690b64e46d25\"\u001b[0m\u001b[1;39m,\n",
      "        \u001b[0m\u001b[34;1m\"asset_state\"\u001b[0m\u001b[1;39m: \u001b[0m\u001b[0;32m\"available\"\u001b[0m\u001b[1;39m,\n",
      "        \u001b[0m\u001b[34;1m\"asset_type\"\u001b[0m\u001b[1;39m: \u001b[0m\u001b[0;32m\"script\"\u001b[0m\u001b[1;39m,\n",
      "        \u001b[0m\u001b[34;1m\"created_at\"\u001b[0m\u001b[1;39m: \u001b[0m\u001b[0;32m\"2021-02-19T22:08:45.000Z\"\u001b[0m\u001b[1;39m,\n",
      "        \u001b[0m\u001b[34;1m\"description\"\u001b[0m\u001b[1;39m: \u001b[0m\u001b[0;32m\"\"\u001b[0m\u001b[1;39m,\n",
      "        \u001b[0m\u001b[34;1m\"name\"\u001b[0m\u001b[1;39m: \u001b[0m\u001b[0;32m\"batch_job_script\"\u001b[0m\u001b[1;39m,\n",
      "        \u001b[0m\u001b[34;1m\"origin_country\"\u001b[0m\u001b[1;39m: \u001b[0m\u001b[0;32m\"us\"\u001b[0m\u001b[1;39m,\n",
      "        \u001b[0m\u001b[34;1m\"owner_id\"\u001b[0m\u001b[1;39m: \u001b[0m\u001b[0;32m\"1000331004\"\u001b[0m\u001b[1;39m,\n",
      "        \u001b[0m\u001b[34;1m\"rov\"\u001b[0m\u001b[1;39m: \u001b[0m\u001b[1;39m{\n",
      "          \u001b[0m\u001b[34;1m\"mode\"\u001b[0m\u001b[1;39m: \u001b[0m\u001b[0;39m0\u001b[0m\u001b[1;39m\n",
      "        \u001b[1;39m}\u001b[0m\u001b[1;39m,\n",
      "        \u001b[0m\u001b[34;1m\"size\"\u001b[0m\u001b[1;39m: \u001b[0m\u001b[0;39m4183\u001b[0m\u001b[1;39m\n",
      "      \u001b[1;39m}\u001b[0m\u001b[1;39m\n",
      "    \u001b[1;39m}\u001b[0m\u001b[1;39m\n",
      "  \u001b[1;39m]\u001b[0m\u001b[1;39m,\n",
      "  \u001b[0m\u001b[34;1m\"total_rows\"\u001b[0m\u001b[1;39m: \u001b[0m\u001b[0;39m1\u001b[0m\u001b[1;39m\n",
      "\u001b[1;39m}\u001b[0m\n"
     ]
    }
   ],
   "source": [
    "! cpdctl asset search --project-id {project_id} --query {query} --type-name script --output json | jq"
   ]
  },
  {
   "cell_type": "code",
   "execution_count": 19,
   "metadata": {},
   "outputs": [
    {
     "name": "stdout",
     "output_type": "stream",
     "text": [
      "script id: 14766a5b-b842-4f19-b2d0-690b64e46d25\n"
     ]
    }
   ],
   "source": [
    "result = ! cpdctl asset search --project-id {project_id} --query {query} --type-name script --output json --jmes-query \"{jmes_query}\" --raw-output\n",
    "script_id = result.s\n",
    "print(\"script id: {}\".format(script_id))"
   ]
  },
  {
   "cell_type": "markdown",
   "metadata": {},
   "source": [
    "List all spaces"
   ]
  },
  {
   "cell_type": "code",
   "execution_count": 20,
   "metadata": {},
   "outputs": [
    {
     "name": "stdout",
     "output_type": "stream",
     "text": [
      "...\n",
      "\u001b[1mID\u001b[0m                                     \u001b[1mName\u001b[0m                            \u001b[1mCreated\u001b[0m                    \u001b[1mState\u001b[0m    \u001b[1mTags\u001b[0m   \n",
      "\u001b[36;1md9bfa660-1be7-46ab-aa53-e9010a634bba\u001b[0m   cpdctl-demo-space               2021-01-29T08:56:07.389Z   active   []   \n",
      "\u001b[36;1m6c205951-1c61-49b9-b46d-e5e199492775\u001b[0m   cpdctl-prod-space-for-scripts   2021-02-22T07:45:34.787Z   active   []   \n",
      "\u001b[36;1m51824744-7b11-4a6b-aff0-6ee16de709d0\u001b[0m   cpdctl-demo-new-qa-space        2021-02-22T13:31:23.319Z   active   []   \n",
      "\u001b[36;1m77ece893-36c2-43cd-b1ce-b155decbc05c\u001b[0m   cpdctl-qa-space-for-scripts     2021-04-30T12:02:24.332Z   active   []   \n"
     ]
    }
   ],
   "source": [
    "! cpdctl space list"
   ]
  },
  {
   "cell_type": "markdown",
   "metadata": {},
   "source": [
    "Select the 'cpdctl-demo-space' space"
   ]
  },
  {
   "cell_type": "code",
   "execution_count": 21,
   "metadata": {},
   "outputs": [
    {
     "name": "stdout",
     "output_type": "stream",
     "text": [
      "Space ID: d9bfa660-1be7-46ab-aa53-e9010a634bba\n"
     ]
    }
   ],
   "source": [
    "dev_space_name = 'cpdctl-demo-space'\n",
    "jmes_query = \"resources[?entity.name == '{}'] | [0].metadata.id\".format(dev_space_name)\n",
    "result = ! cpdctl space list --output json --jmes-query \"{jmes_query}\" --raw-output\n",
    "space_id = result.s\n",
    "print('Space ID: {}'.format(space_id))"
   ]
  },
  {
   "cell_type": "markdown",
   "metadata": {},
   "source": [
    "Select script asset for promotion and provide expected name and metadata:"
   ]
  },
  {
   "cell_type": "code",
   "execution_count": 22,
   "metadata": {},
   "outputs": [
    {
     "name": "stdout",
     "output_type": "stream",
     "text": [
      "...\n",
      "\u001b[32;1mOK\u001b[0m\n"
     ]
    }
   ],
   "source": [
    "import json\n",
    "\n",
    "promote = {\n",
    "    \"mode\": 0,\n",
    "    \"space_id\": space_id,\n",
    "    \"metadata\": {\n",
    "        \"name\": \"batch_job_script.py\",\n",
    "        \"tags\": [\"cpdctl-demo\", \"promoted-asset-{}]\".format(script_id)]\n",
    "    }\n",
    "}\n",
    "promote_json = json.dumps(promote)\n",
    "\n",
    "! cpdctl asset promote --project-id {project_id} --asset-id {script_id} --request-body '{promote_json}'"
   ]
  },
  {
   "cell_type": "markdown",
   "metadata": {},
   "source": [
    "List assets in the space"
   ]
  },
  {
   "cell_type": "code",
   "execution_count": 23,
   "metadata": {},
   "outputs": [
    {
     "name": "stdout",
     "output_type": "stream",
     "text": [
      "...\n",
      "\u001b[1mID\u001b[0m                                     \u001b[1mName\u001b[0m                  \u001b[1mCreated\u001b[0m                    \u001b[1mDescription\u001b[0m   \u001b[1mType\u001b[0m     \u001b[1mState\u001b[0m       \u001b[1mTags\u001b[0m                                                 \u001b[1mSize\u001b[0m   \n",
      "\u001b[36;1mb7b753ab-e484-4bf1-9a8c-80c729fb5f64\u001b[0m   batch_job_script.py   2021-05-20T13:19:38.000Z                 script   available   [cpdctl-demo promoted-asset-14766a5b-b842-4f19-b2…   4183   \n"
     ]
    }
   ],
   "source": [
    "! cpdctl asset search --space-id {space_id} --type-name script --query \"*:*\""
   ]
  },
  {
   "cell_type": "markdown",
   "metadata": {},
   "source": [
    "Select the promoted script"
   ]
  },
  {
   "cell_type": "code",
   "execution_count": 24,
   "metadata": {},
   "outputs": [
    {
     "name": "stdout",
     "output_type": "stream",
     "text": [
      "promoted script id: b7b753ab-e484-4bf1-9a8c-80c729fb5f64\n"
     ]
    }
   ],
   "source": [
    "query = 'asset.name:batch_job_script.py'\n",
    "jmes_query = \"results[0].metadata.asset_id\"\n",
    "result = ! cpdctl asset search --space-id {space_id} --query {query} --type-name script --output json --jmes-query \"{jmes_query}\" --raw-output\n",
    "promoted_script_id = result.s\n",
    "print(\"promoted script id: {}\".format(promoted_script_id))"
   ]
  },
  {
   "cell_type": "markdown",
   "metadata": {},
   "source": [
    "List software specifications"
   ]
  },
  {
   "cell_type": "code",
   "execution_count": 25,
   "metadata": {},
   "outputs": [
    {
     "name": "stdout",
     "output_type": "stream",
     "text": [
      "software specification id: e4429883-c883-42b6-87a8-f419d64088cd\n"
     ]
    }
   ],
   "source": [
    "software_specification_name = \"default_py3.7\"\n",
    "jmes_query = \"resources[0].metadata.asset_id\"\n",
    "result = ! cpdctl environment software-specification list --space-id {space_id} --name '{software_specification_name}' --output json --jmes-query '{jmes_query}' --raw-output\n",
    "software_specification_id = result.s\n",
    "print(\"software specification id: {}\".format(software_specification_id))"
   ]
  },
  {
   "cell_type": "markdown",
   "metadata": {},
   "source": [
    "Set python script's software specification"
   ]
  },
  {
   "cell_type": "code",
   "execution_count": 32,
   "metadata": {},
   "outputs": [
    {
     "name": "stdout",
     "output_type": "stream",
     "text": [
      "...\n",
      "\u001b[32;1mOK\u001b[0m\n"
     ]
    }
   ],
   "source": [
    "software_spec = {\n",
    "    \"base_id\": \"{}\".format(software_specification_id),\n",
    "    \"name\": software_specification_name\n",
    "}\n",
    "\n",
    "patch = [{\n",
    "    \"op\": \"add\",\n",
    "    \"path\": \"/software_spec\",\n",
    "    \"value\": software_spec\n",
    "}]\n",
    "patch_json = json.dumps(patch)\n",
    "\n",
    "! cpdctl asset attribute update --space-id {space_id} --asset-id {promoted_script_id} --attribute-key script  --json-patch '{patch_json}'"
   ]
  },
  {
   "cell_type": "markdown",
   "metadata": {},
   "source": [
    "### 2.2 Run batch deployment job <a class=\"anchor\" id=\"part2.2\"></a>"
   ]
  },
  {
   "cell_type": "markdown",
   "metadata": {},
   "source": [
    "Create batch deployment:"
   ]
  },
  {
   "cell_type": "code",
   "execution_count": 33,
   "metadata": {},
   "outputs": [],
   "source": [
    "asset = {\n",
    "    'id': promoted_script_id\n",
    "}\n",
    "asset_json = json.dumps(asset)\n",
    "\n",
    "hardware_spec = {\n",
    "    'name': 'S'\n",
    "}\n",
    "hardware_spec_json = json.dumps(hardware_spec)\n",
    "\n",
    "batch_json = '{}'\n",
    "\n",
    "deployment_name = 'script_batch_deployment'"
   ]
  },
  {
   "cell_type": "code",
   "execution_count": 34,
   "metadata": {},
   "outputs": [
    {
     "name": "stdout",
     "output_type": "stream",
     "text": [
      "deployment id: 7f7a3a18-842a-422b-b60e-f742229f8853\n"
     ]
    }
   ],
   "source": [
    "result = ! cpdctl ml deployment create --space-id {space_id} --name '{deployment_name}' --asset '{asset_json}' --hardware-spec '{hardware_spec_json}' --batch '{batch_json}' --output json -j \"metadata.id\" --raw-output\n",
    "deployment_id = result.s\n",
    "print(\"deployment id: {}\".format(deployment_id))"
   ]
  },
  {
   "cell_type": "markdown",
   "metadata": {},
   "source": [
    "Create a deployment job"
   ]
  },
  {
   "cell_type": "code",
   "execution_count": 35,
   "metadata": {},
   "outputs": [],
   "source": [
    "deployment_job_name = 'script_batch_deployment_job'\n",
    "\n",
    "deployment = {\n",
    "    'id': deployment_id\n",
    "}\n",
    "deployment_json = json.dumps(deployment)\n",
    "\n",
    "scoring = {\n",
    "    \"input_data_references\": [\n",
    "      {\n",
    "        \"type\": \"data_asset\",\n",
    "        \"connection\": {},\n",
    "        \"location\": {\n",
    "          \"href\": \"/v2/assets/783d8fc5-ae2c-47d0-a311-f8890dfa1ce0?space_id=d9bfa660-1be7-46ab-aa53-e9010a634bba\"\n",
    "        }\n",
    "      }\n",
    "    ],\n",
    "    \"output_data_reference\": {\n",
    "      \"type\": \"data_asset\",\n",
    "      \"connection\": {},\n",
    "      \"location\": {\n",
    "        \"href\": \"/v2/assets/c7de9cb4-0ec5-41fa-8b94-3e89eb2cb795?space_id=d9bfa660-1be7-46ab-aa53-e9010a634bba\"\n",
    "      }\n",
    "    }\n",
    "}\n",
    "scoring_json = json.dumps(scoring)"
   ]
  },
  {
   "cell_type": "code",
   "execution_count": 36,
   "metadata": {},
   "outputs": [
    {
     "name": "stdout",
     "output_type": "stream",
     "text": [
      "{\n",
      "  \"entity\": {\n",
      "    \"deployment\": {\n",
      "      \"id\": \"7f7a3a18-842a-422b-b60e-f742229f8853\"\n",
      "    },\n",
      "    \"platform_job\": {\n",
      "      \"job_id\": \"5b17b549-43a1-469f-9239-cf8fdfc83340\",\n",
      "      \"run_id\": \"ddc60736-669d-4c73-af61-16037d835f8a\"\n",
      "    },\n",
      "    \"scoring\": {\n",
      "      \"input_data_references\": [\n",
      "        {\n",
      "          \"connection\": {},\n",
      "          \"location\": {\n",
      "            \"href\": \"/v2/assets/783d8fc5-ae2c-47d0-a311-f8890dfa1ce0?space_id=d9bfa660-1be7-46ab-aa53-e9010a634bba\"\n",
      "          },\n",
      "          \"type\": \"data_asset\"\n",
      "        }\n",
      "      ],\n",
      "      \"output_data_reference\": {\n",
      "        \"connection\": {},\n",
      "        \"location\": {\n",
      "          \"href\": \"/v2/assets/c7de9cb4-0ec5-41fa-8b94-3e89eb2cb795?space_id=d9bfa660-1be7-46ab-aa53-e9010a634bba\"\n",
      "        },\n",
      "        \"type\": \"data_asset\"\n",
      "      },\n",
      "      \"status\": {\n",
      "        \"state\": \"queued\"\n",
      "      }\n",
      "    }\n",
      "  },\n",
      "  \"metadata\": {\n",
      "    \"created_at\": \"2021-05-20T14:59:02.893Z\",\n",
      "    \"id\": \"4099ad31-fc54-4c6a-a6f5-63de53450959\",\n",
      "    \"name\": \"script_batch_deployment_job\",\n",
      "    \"space_id\": \"d9bfa660-1be7-46ab-aa53-e9010a634bba\"\n",
      "  }\n",
      "}\n"
     ]
    }
   ],
   "source": [
    "result = ! cpdctl ml deployment-job create --space-id {space_id} --name '{deployment_job_name}' --deployment '{deployment_json}' --scoring '{scoring_json}' --output json\n",
    "deployment_job = json.loads(result.s)\n",
    "print(json.dumps(deployment_job, indent=2))\n",
    "job_id = deployment_job['entity']['platform_job']['job_id']\n",
    "run_id = deployment_job['entity']['platform_job']['run_id']"
   ]
  },
  {
   "cell_type": "markdown",
   "metadata": {},
   "source": [
    "Wait for job completion"
   ]
  },
  {
   "cell_type": "code",
   "execution_count": 37,
   "metadata": {},
   "outputs": [
    {
     "name": "stdout",
     "output_type": "stream",
     "text": [
      "...\n",
      "\u001b[1m\u001b[0m               \u001b[1m\u001b[0m   \n",
      "\u001b[36;1mID:\u001b[0m            ddc60736-669d-4c73-af61-16037d835f8a   \n",
      "\u001b[36;1mName:\u001b[0m          job run   \n",
      "\u001b[36;1mCreated:\u001b[0m       2021-05-20T14:59:02Z   \n",
      "\u001b[36;1mDescription:\u001b[0m      \n",
      "\u001b[36;1mState:\u001b[0m         Completed   \n",
      "\u001b[36;1mTags:\u001b[0m          []   \n"
     ]
    }
   ],
   "source": [
    "! cpdctl job run wait --job-id {job_id} --run-id {run_id} --space-id {space_id}"
   ]
  },
  {
   "cell_type": "markdown",
   "metadata": {},
   "source": [
    "You can see the batch deployment log:"
   ]
  },
  {
   "cell_type": "code",
   "execution_count": 38,
   "metadata": {},
   "outputs": [
    {
     "name": "stdout",
     "output_type": "stream",
     "text": [
      "...\n",
      "{\n",
      "  \"deployment\": {\n",
      "    \"id\": \"7f7a3a18-842a-422b-b60e-f742229f8853\"\n",
      "  },\n",
      "  \"platform_job\": {\n",
      "    \"job_id\": \"5b17b549-43a1-469f-9239-cf8fdfc83340\",\n",
      "    \"run_id\": \"ddc60736-669d-4c73-af61-16037d835f8a\"\n",
      "  },\n",
      "  \"scoring\": {\n",
      "    \"input_data_references\": [\n",
      "      {\n",
      "        \"connection\": {},\n",
      "        \"location\": {\n",
      "          \"href\": \"/v2/assets/783d8fc5-ae2c-47d0-a311-f8890dfa1ce0?space_id=d9bfa660-1be7-46ab-aa53-e9010a634bba\"\n",
      "        },\n",
      "        \"type\": \"data_asset\"\n",
      "      }\n",
      "    ],\n",
      "    \"output_data_reference\": {\n",
      "      \"connection\": {},\n",
      "      \"location\": {\n",
      "        \"href\": \"/v2/assets/c7de9cb4-0ec5-41fa-8b94-3e89eb2cb795?space_id=d9bfa660-1be7-46ab-aa53-e9010a634bba\"\n",
      "      },\n",
      "      \"type\": \"data_asset\"\n",
      "    },\n",
      "    \"status\": {\n",
      "      \"completed_at\": \"2021-05-20T14:59:41.414608Z\",\n",
      "      \"message\": {\n",
      "        \"text\": \"The directory pointed by the environment variable BATCH_OUTPUT_DIR is empty, skipping content upload to data asset\",\n",
      "        \"level\": \"warning\"\n",
      "      },\n",
      "      \"running_at\": \"2021-05-20T14:59:15.267871Z\",\n",
      "      \"state\": \"completed\"\n",
      "    }\n",
      "  }\n",
      "}\n",
      "\n"
     ]
    }
   ],
   "source": [
    "! cpdctl job run logs --job-id {job_id} --run-id {run_id} --space-id {space_id}"
   ]
  },
  {
   "cell_type": "markdown",
   "metadata": {},
   "source": [
    "## 3. Demo 2: Promoting python script to the QA space <a class=\"anchor\" id=\"part3\"></a>"
   ]
  },
  {
   "cell_type": "markdown",
   "metadata": {},
   "source": [
    "Before starting with this section, please ensure that you have run the cells in [Section 1](#part1) and [Section 2](#part2)."
   ]
  },
  {
   "cell_type": "markdown",
   "metadata": {},
   "source": [
    "Suppose you have a Python script (.py) on your local system and you would like to run the code in the script as a job on a CPD cluster. This section shows you how to create a Python script asset and run a job on a CPD cluster."
   ]
  },
  {
   "cell_type": "markdown",
   "metadata": {},
   "source": [
    "<img width=\"700px\" align=\"center\"  src=\"data:image/svg+xml;base64,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\">"
   ]
  },
  {
   "cell_type": "markdown",
   "metadata": {},
   "source": [
    "### 3.1 Export all asssets from the source (DEV) space<a class=\"anchor\" id=\"part3.1\"></a>"
   ]
  },
  {
   "cell_type": "markdown",
   "metadata": {},
   "source": [
    "List all assets in the source (DEV) space"
   ]
  },
  {
   "cell_type": "code",
   "execution_count": 39,
   "metadata": {},
   "outputs": [
    {
     "name": "stdout",
     "output_type": "stream",
     "text": [
      "...\n",
      "\u001b[1mID\u001b[0m                                     \u001b[1mName\u001b[0m                                                 \u001b[1mCreated\u001b[0m                    \u001b[1mDescription\u001b[0m   \u001b[1mType\u001b[0m         \u001b[1mState\u001b[0m       \u001b[1mTags\u001b[0m                                                 \u001b[1mSize\u001b[0m   \n",
      "\u001b[36;1m783d8fc5-ae2c-47d0-a311-f8890dfa1ce0\u001b[0m   car_rental_training_data.csv                         2021-01-29T08:57:12.000Z                 data_asset   available   [cpdctl-demo promoted-7fb76cf7]]                     79518   \n",
      "\u001b[36;1mc7de9cb4-0ec5-41fa-8b94-3e89eb2cb795\u001b[0m   bank-marketing-batch-output.csv                      2021-02-19T16:54:38.000Z                 data_asset   available   [connected-data]                                     0   \n",
      "\u001b[36;1md8b147ce-d7e2-4155-8fd6-97f49953fa5e\u001b[0m   job run                                              2021-02-21T21:19:26.000Z                 job_run      available   []                                                   0   \n",
      "\u001b[36;1m8af92e6d-8cc4-42ad-8143-f74bad639ff7\u001b[0m   job run                                              2021-02-21T21:21:25.000Z                 job_run      available   []                                                   0   \n",
      "\u001b[36;1mc3f3cb47-ae2d-47a5-a66e-787d4896ef1c\u001b[0m   job run                                              2021-03-22T11:50:30.000Z                 job_run      available   []                                                   0   \n",
      "\u001b[36;1mb7b753ab-e484-4bf1-9a8c-80c729fb5f64\u001b[0m   batch_job_script.py                                  2021-05-20T13:19:38.000Z                 script       available   [cpdctl-demo promoted-asset-14766a5b-b842-4f19-b2…   4183   \n",
      "\u001b[36;1m384ddcde-a7fe-4652-baa9-b41c40b08284\u001b[0m   boston-house-prices-prediction-model                 2021-01-29T09:27:11.000Z                 wml_model    available   []                                                   839   \n",
      "\u001b[36;1md59ff8a1-e58b-4a6c-882c-a6ebfe3c7a70\u001b[0m   batch-job-outputs-connection                         2021-02-19T16:53:10.000Z                 connection   available   []                                                   0   \n",
      "\u001b[36;1m6b2d1087-2728-4d72-b5de-0cf0dd633912\u001b[0m   WML-Deployment-Job-94c2de39-51ab-40a1-b717-92a799…   2021-02-21T21:19:25.000Z                 job          available   []                                                   0   \n",
      "\u001b[36;1m7da35f6c-3428-4633-8cde-be438006b6ca\u001b[0m   WML-Deployment-Job-70103a43-f8af-4d99-9de0-5d10cc…   2021-03-22T11:50:29.000Z                 job          available   []                                                   0   \n",
      "\u001b[36;1m5b17b549-43a1-469f-9239-cf8fdfc83340\u001b[0m   WML-Deployment-Job-7f7a3a18-842a-422b-b60e-f74222…   2021-05-20T14:59:02.000Z                 job          available   []                                                   0   \n",
      "\u001b[36;1mddc60736-669d-4c73-af61-16037d835f8a\u001b[0m   job run                                              2021-05-20T14:59:02.000Z                 job_run      available   []                                                   0   \n"
     ]
    }
   ],
   "source": [
    "! cpdctl asset search --space-id {space_id} --query '*:*' --type-name asset"
   ]
  },
  {
   "cell_type": "markdown",
   "metadata": {},
   "source": [
    "Export all assets from the source (DEV) space"
   ]
  },
  {
   "cell_type": "code",
   "execution_count": 40,
   "metadata": {},
   "outputs": [
    {
     "name": "stdout",
     "output_type": "stream",
     "text": [
      "The new export with ID: \"ff08c50c-5b94-472c-a789-2853f8c517fc\"\n"
     ]
    }
   ],
   "source": [
    "EXPORT = {\n",
    "    'all_assets': True\n",
    "}\n",
    "EXPORT_JSON = json.dumps(EXPORT)\n",
    "result = ! cpdctl asset export start --space-id {space_id} --assets '{EXPORT_JSON}' --name dev-space-all-assets --output json --jmes-query \"metadata.id\"\n",
    "export_id = result.s\n",
    "print(\"The new export with ID: {}\".format(export_id))"
   ]
  },
  {
   "cell_type": "code",
   "execution_count": 41,
   "metadata": {},
   "outputs": [
    {
     "name": "stdout",
     "output_type": "stream",
     "text": [
      "...\n",
      "\u001b[1m\u001b[0m           \u001b[1m\u001b[0m   \n",
      "\u001b[36;1mID:\u001b[0m        ff08c50c-5b94-472c-a789-2853f8c517fc   \n",
      "\u001b[36;1mName:\u001b[0m      dev-space-all-assets   \n",
      "\u001b[36;1mCreated:\u001b[0m   2021-05-20T15:04:09.140Z   \n",
      "\u001b[36;1mState:\u001b[0m     completed   \n"
     ]
    }
   ],
   "source": [
    "! cpdctl asset export get --space-id {space_id} --export-id {export_id}"
   ]
  },
  {
   "cell_type": "code",
   "execution_count": 42,
   "metadata": {},
   "outputs": [
    {
     "name": "stdout",
     "output_type": "stream",
     "text": [
      "...\n",
      "\u001b[32;1mOK\u001b[0m\n",
      "Output written to ./dev-space-assets.zip\n"
     ]
    }
   ],
   "source": [
    "dev_space_archive_path = './dev-space-assets.zip'\n",
    "! cpdctl asset export download --space-id {space_id} --export-id {export_id} --output-file {dev_space_archive_path}"
   ]
  },
  {
   "cell_type": "code",
   "execution_count": 43,
   "metadata": {},
   "outputs": [
    {
     "name": "stdout",
     "output_type": "stream",
     "text": [
      "-rw-r--r--@ 1 rafalbigaj  staff  58590 May 20 17:04 ./dev-space-assets.zip\n"
     ]
    }
   ],
   "source": [
    "! ls -al {dev_space_archive_path}"
   ]
  },
  {
   "cell_type": "markdown",
   "metadata": {},
   "source": [
    "### 3.2 Create QA space and import assets there<a class=\"anchor\" id=\"part3.2\"></a>"
   ]
  },
  {
   "cell_type": "markdown",
   "metadata": {},
   "source": [
    "Create a new QA space"
   ]
  },
  {
   "cell_type": "code",
   "execution_count": 44,
   "metadata": {},
   "outputs": [
    {
     "name": "stdout",
     "output_type": "stream",
     "text": [
      "The new 'cpdctl-qa-space-for-scripts' space ID is: 76ac8fbb-af3a-456a-ad4d-6dfd37ec54bd\n"
     ]
    }
   ],
   "source": [
    "qa_space_name = 'cpdctl-qa-space-for-scripts'\n",
    "result = ! cpdctl space create --name '{qa_space_name}' --output json --jmes-query \"metadata.id\" --raw-output\n",
    "qa_space_id = result.s\n",
    "print(\"The new '{}' space ID is: {}\".format(qa_space_name, qa_space_id))"
   ]
  },
  {
   "cell_type": "markdown",
   "metadata": {},
   "source": [
    "Import assets from the exported archive into QA space"
   ]
  },
  {
   "cell_type": "code",
   "execution_count": 45,
   "metadata": {},
   "outputs": [
    {
     "name": "stdout",
     "output_type": "stream",
     "text": [
      "The new import ID is: 883e42aa-c9f1-4b3c-9a3d-707ed0a65484\n"
     ]
    }
   ],
   "source": [
    "result = ! cpdctl asset import start --space-id {qa_space_id} --import-file {dev_space_archive_path} --output json --jmes-query \"metadata.id\" --raw-output\n",
    "qa_import_id = result.s\n",
    "print(\"The new import ID is: {}\".format(qa_import_id))"
   ]
  },
  {
   "cell_type": "code",
   "execution_count": 46,
   "metadata": {},
   "outputs": [
    {
     "name": "stdout",
     "output_type": "stream",
     "text": [
      "...\n",
      "\u001b[1m\u001b[0m           \u001b[1m\u001b[0m   \n",
      "\u001b[36;1mID:\u001b[0m        883e42aa-c9f1-4b3c-9a3d-707ed0a65484   \n",
      "\u001b[36;1mCreated:\u001b[0m   2021-05-20T15:05:46.348Z   \n",
      "\u001b[36;1mState:\u001b[0m     completed   \n"
     ]
    }
   ],
   "source": [
    "! cpdctl asset import get --space-id {qa_space_id} --import-id {qa_import_id}"
   ]
  },
  {
   "cell_type": "markdown",
   "metadata": {},
   "source": [
    "List all assets in the QA space"
   ]
  },
  {
   "cell_type": "code",
   "execution_count": 47,
   "metadata": {},
   "outputs": [
    {
     "name": "stdout",
     "output_type": "stream",
     "text": [
      "...\n",
      "\u001b[1mID\u001b[0m                                     \u001b[1mName\u001b[0m                                   \u001b[1mCreated\u001b[0m                    \u001b[1mDescription\u001b[0m   \u001b[1mType\u001b[0m         \u001b[1mState\u001b[0m       \u001b[1mTags\u001b[0m                               \u001b[1mSize\u001b[0m   \n",
      "\u001b[36;1m4366cc47-d32d-4c9c-946e-a871f746d196\u001b[0m   batch-job-outputs-connection           2021-05-20T15:05:49.000Z                 connection   available   []                                 0   \n",
      "\u001b[36;1m6f188ad9-94fd-4a35-8aa5-532d258b47f2\u001b[0m   bank-marketing-batch-output.csv        2021-05-20T15:05:49.000Z                 data_asset   available   [connected-data]                   0   \n",
      "\u001b[36;1m6eff8009-81c5-4399-a8fc-f0a1bc3f5544\u001b[0m   car_rental_training_data.csv           2021-05-20T15:05:50.000Z                 data_asset   available   [cpdctl-demo promoted-7fb76cf7]]   79518   \n",
      "\u001b[36;1mfdaa3ecc-aed3-40b6-bcdb-fbbc73169dfe\u001b[0m   boston-house-prices-prediction-model   2021-05-20T15:05:50.000Z                 wml_model    available   []                                 839   \n",
      "\u001b[36;1m1d192318-7b85-41dd-9967-1b119b066113\u001b[0m   batch_job_script.py                    2021-05-20T15:05:50.000Z                 script       available   []                                 4183   \n"
     ]
    }
   ],
   "source": [
    "! cpdctl asset search --space-id {qa_space_id} --query '*:*' --type-name asset"
   ]
  },
  {
   "cell_type": "code",
   "execution_count": 66,
   "metadata": {},
   "outputs": [
    {
     "name": "stdout",
     "output_type": "stream",
     "text": [
      "Input asset ID: 6eff8009-81c5-4399-a8fc-f0a1bc3f5544\n",
      "Output asset ID: 6f188ad9-94fd-4a35-8aa5-532d258b47f2\n"
     ]
    }
   ],
   "source": [
    "result = ! cpdctl asset search --space-id {qa_space_id} --query 'asset.name:car_rental*' --type-name data_asset --raw-output -j 'results[0].metadata.asset_id' --output json\n",
    "qa_input_asset_id = result.s\n",
    "print('Input asset ID: {}'.format(qa_input_asset_id))\n",
    "result = ! cpdctl asset search --space-id {qa_space_id} --query 'asset.name:bank-marketing-batch-output*' --type-name data_asset --raw-output -j 'results[0].metadata.asset_id' --output json\n",
    "qa_output_asset_id = result.s\n",
    "print('Output asset ID: {}'.format(qa_output_asset_id))"
   ]
  },
  {
   "cell_type": "markdown",
   "metadata": {},
   "source": [
    "### 3.3 Run batch deployment job in the QA space<a class=\"anchor\" id=\"part3.3\"></a>"
   ]
  },
  {
   "cell_type": "markdown",
   "metadata": {},
   "source": [
    "Search for the imported script asset in the QA space"
   ]
  },
  {
   "cell_type": "code",
   "execution_count": 48,
   "metadata": {},
   "outputs": [
    {
     "name": "stdout",
     "output_type": "stream",
     "text": [
      "ID of the script in QA space: 1d192318-7b85-41dd-9967-1b119b066113\n"
     ]
    }
   ],
   "source": [
    "asset_type = 'script'\n",
    "query = 'asset.name:{}'.format('batch_job_script.py')\n",
    "jmes_query = 'results[0].metadata.asset_id'\n",
    "result = ! cpdctl asset search --space-id {qa_space_id} --query '{query}' --type-name {asset_type} --output json --jmes-query \"{jmes_query}\" --raw-output\n",
    "qa_script_id = result.s\n",
    "print(\"ID of the script in QA space: {}\".format(qa_script_id))\n"
   ]
  },
  {
   "cell_type": "markdown",
   "metadata": {},
   "source": [
    "Create the script batch deployment in the QA space:"
   ]
  },
  {
   "cell_type": "code",
   "execution_count": 49,
   "metadata": {},
   "outputs": [],
   "source": [
    "asset = {\n",
    "    'id': qa_script_id\n",
    "}\n",
    "asset_json = json.dumps(asset)\n",
    "\n",
    "hardware_spec = {\n",
    "    'name': 'S'\n",
    "}\n",
    "hardware_spec_json = json.dumps(hardware_spec)\n",
    "\n",
    "batch_json = '{}'\n",
    "\n",
    "deployment_name = 'script_batch_deployment'"
   ]
  },
  {
   "cell_type": "code",
   "execution_count": 50,
   "metadata": {},
   "outputs": [
    {
     "name": "stdout",
     "output_type": "stream",
     "text": [
      "ID of the deployment in QA space: 293dea38-cae3-4305-a735-8ebdd2a8a097\n"
     ]
    }
   ],
   "source": [
    "result = ! cpdctl ml deployment create --space-id {qa_space_id} --name '{deployment_name}' --asset '{asset_json}' --hardware-spec '{hardware_spec_json}' --batch '{batch_json}' --output json -j \"metadata.id\" --raw-output\n",
    "qa_deployment_id = result.s\n",
    "print(\"ID of the deployment in QA space: {}\".format(qa_deployment_id))"
   ]
  },
  {
   "cell_type": "markdown",
   "metadata": {},
   "source": [
    "Create a deployment job"
   ]
  },
  {
   "cell_type": "code",
   "execution_count": 67,
   "metadata": {},
   "outputs": [],
   "source": [
    "deployment_job_name = 'script_batch_deployment_job'\n",
    "\n",
    "deployment = {\n",
    "    'id': qa_deployment_id\n",
    "}\n",
    "deployment_json = json.dumps(deployment)\n",
    "\n",
    "scoring = {\n",
    "    \"input_data_references\": [\n",
    "      {\n",
    "        \"type\": \"data_asset\",\n",
    "        \"connection\": {},\n",
    "        \"location\": {\n",
    "          \"href\": \"/v2/assets/{}?space_id={}\".format(qa_input_asset_id, qa_space_id)\n",
    "        }\n",
    "      }\n",
    "    ],\n",
    "    \"output_data_reference\": {\n",
    "      \"type\": \"data_asset\",\n",
    "      \"connection\": {},\n",
    "      \"location\": {\n",
    "        \"href\": \"/v2/assets/{}?space_id={}\".format(qa_output_asset_id, qa_space_id)\n",
    "      }\n",
    "    }\n",
    "}\n",
    "scoring_json = json.dumps(scoring)"
   ]
  },
  {
   "cell_type": "code",
   "execution_count": 68,
   "metadata": {},
   "outputs": [
    {
     "name": "stdout",
     "output_type": "stream",
     "text": [
      "{\n",
      "  \"entity\": {\n",
      "    \"deployment\": {\n",
      "      \"id\": \"293dea38-cae3-4305-a735-8ebdd2a8a097\"\n",
      "    },\n",
      "    \"platform_job\": {\n",
      "      \"job_id\": \"4cb3886e-5864-4e53-8047-92b70bfe10b8\",\n",
      "      \"run_id\": \"8c756251-5d0c-44ef-9a71-6c6d4480b254\"\n",
      "    },\n",
      "    \"scoring\": {\n",
      "      \"input_data_references\": [\n",
      "        {\n",
      "          \"connection\": {},\n",
      "          \"location\": {\n",
      "            \"href\": \"/v2/assets/6eff8009-81c5-4399-a8fc-f0a1bc3f5544?space_id=76ac8fbb-af3a-456a-ad4d-6dfd37ec54bd\"\n",
      "          },\n",
      "          \"type\": \"data_asset\"\n",
      "        }\n",
      "      ],\n",
      "      \"output_data_reference\": {\n",
      "        \"connection\": {},\n",
      "        \"location\": {\n",
      "          \"href\": \"/v2/assets/6f188ad9-94fd-4a35-8aa5-532d258b47f2?space_id=76ac8fbb-af3a-456a-ad4d-6dfd37ec54bd\"\n",
      "        },\n",
      "        \"type\": \"data_asset\"\n",
      "      },\n",
      "      \"status\": {\n",
      "        \"state\": \"queued\"\n",
      "      }\n",
      "    }\n",
      "  },\n",
      "  \"metadata\": {\n",
      "    \"created_at\": \"2021-05-21T13:41:52.431Z\",\n",
      "    \"id\": \"aadec7c4-7f79-4072-84d2-0d6b2f392654\",\n",
      "    \"name\": \"script_batch_deployment_job\",\n",
      "    \"space_id\": \"76ac8fbb-af3a-456a-ad4d-6dfd37ec54bd\"\n",
      "  }\n",
      "}\n"
     ]
    }
   ],
   "source": [
    "result = ! cpdctl ml deployment-job create --space-id {qa_space_id} --name '{deployment_job_name}' --deployment '{deployment_json}' --scoring '{scoring_json}' --output json\n",
    "qa_deployment_job = json.loads(result.s)\n",
    "print(json.dumps(qa_deployment_job, indent=2))\n",
    "qa_job_id = qa_deployment_job['entity']['platform_job']['job_id']\n",
    "qa_run_id = qa_deployment_job['entity']['platform_job']['run_id']"
   ]
  },
  {
   "cell_type": "markdown",
   "metadata": {},
   "source": [
    "Wait for job completion"
   ]
  },
  {
   "cell_type": "code",
   "execution_count": 69,
   "metadata": {},
   "outputs": [
    {
     "name": "stdout",
     "output_type": "stream",
     "text": [
      "...\n",
      "\u001b[1m\u001b[0m               \u001b[1m\u001b[0m   \n",
      "\u001b[36;1mID:\u001b[0m            8c756251-5d0c-44ef-9a71-6c6d4480b254   \n",
      "\u001b[36;1mName:\u001b[0m          job run   \n",
      "\u001b[36;1mCreated:\u001b[0m       2021-05-21T13:41:52Z   \n",
      "\u001b[36;1mDescription:\u001b[0m      \n",
      "\u001b[36;1mState:\u001b[0m         Completed   \n",
      "\u001b[36;1mTags:\u001b[0m          []   \n"
     ]
    }
   ],
   "source": [
    "! cpdctl job run wait --job-id {qa_job_id} --run-id {qa_run_id} --space-id {qa_space_id}"
   ]
  },
  {
   "cell_type": "markdown",
   "metadata": {},
   "source": [
    "You can see the batch deployment log:"
   ]
  },
  {
   "cell_type": "code",
   "execution_count": 70,
   "metadata": {},
   "outputs": [
    {
     "name": "stdout",
     "output_type": "stream",
     "text": [
      "...\n",
      "{\n",
      "  \"deployment\": {\n",
      "    \"id\": \"293dea38-cae3-4305-a735-8ebdd2a8a097\"\n",
      "  },\n",
      "  \"platform_job\": {\n",
      "    \"job_id\": \"4cb3886e-5864-4e53-8047-92b70bfe10b8\",\n",
      "    \"run_id\": \"8c756251-5d0c-44ef-9a71-6c6d4480b254\"\n",
      "  },\n",
      "  \"scoring\": {\n",
      "    \"input_data_references\": [\n",
      "      {\n",
      "        \"connection\": {},\n",
      "        \"location\": {\n",
      "          \"href\": \"/v2/assets/6eff8009-81c5-4399-a8fc-f0a1bc3f5544?space_id=76ac8fbb-af3a-456a-ad4d-6dfd37ec54bd\"\n",
      "        },\n",
      "        \"type\": \"data_asset\"\n",
      "      }\n",
      "    ],\n",
      "    \"output_data_reference\": {\n",
      "      \"connection\": {},\n",
      "      \"location\": {\n",
      "        \"href\": \"/v2/assets/6f188ad9-94fd-4a35-8aa5-532d258b47f2?space_id=76ac8fbb-af3a-456a-ad4d-6dfd37ec54bd\"\n",
      "      },\n",
      "      \"type\": \"data_asset\"\n",
      "    },\n",
      "    \"status\": {\n",
      "      \"completed_at\": \"2021-05-21T13:42:27.233464Z\",\n",
      "      \"message\": {\n",
      "        \"text\": \"The directory pointed by the environment variable BATCH_OUTPUT_DIR is empty, skipping content upload to data asset\",\n",
      "        \"level\": \"warning\"\n",
      "      },\n",
      "      \"running_at\": \"2021-05-21T13:42:04.595265Z\",\n",
      "      \"state\": \"completed\"\n",
      "    }\n",
      "  }\n",
      "}\n",
      "\n"
     ]
    }
   ],
   "source": [
    "! cpdctl job run logs --job-id {qa_job_id} --run-id {qa_run_id} --space-id {qa_space_id}"
   ]
  },
  {
   "cell_type": "markdown",
   "metadata": {},
   "source": [
    "## 4. Demo 3: Download the script from the QA space and upload it to the production space <a class=\"anchor\" id=\"part4\"></a>"
   ]
  },
  {
   "cell_type": "markdown",
   "metadata": {},
   "source": [
    "Before starting with this section, please ensure that you have run the cells in all previous sections: [Section 1](#part1), [Section 2](#part2) and [Section 3](#part3)."
   ]
  },
  {
   "cell_type": "markdown",
   "metadata": {},
   "source": [
    "<img width=\"700px\" align=\"center\"  src=\"data:image/svg+xml;base64,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\">"
   ]
  },
  {
   "cell_type": "markdown",
   "metadata": {},
   "source": [
    "### 4.1 Downloading a script <a class=\"anchor\" id=\"part4.1\"></a>"
   ]
  },
  {
   "cell_type": "markdown",
   "metadata": {},
   "source": [
    "Download the script from the QA space"
   ]
  },
  {
   "cell_type": "code",
   "execution_count": 71,
   "metadata": {},
   "outputs": [
    {
     "name": "stdout",
     "output_type": "stream",
     "text": [
      "Path to the QA script: script/batch_job_script_9wdnvaqcqxsv1k8sjf9i279x0.py\n"
     ]
    }
   ],
   "source": [
    "jmes_query = 'attachments[0].object_key'\n",
    "result = ! cpdctl asset get --space-id {qa_space_id} --asset-id {qa_script_id} --output json --jmes-query '{jmes_query}' --raw-output\n",
    "qa_script_path = result.s\n",
    "print('Path to the QA script: {}'.format(qa_script_path))"
   ]
  },
  {
   "cell_type": "code",
   "execution_count": 72,
   "metadata": {},
   "outputs": [
    {
     "name": "stdout",
     "output_type": "stream",
     "text": [
      "...\n",
      "\u001b[32;1mOK\u001b[0m\n",
      "Output written to qa_batch_job_script.py\n"
     ]
    }
   ],
   "source": [
    "local_script_path = \"qa_batch_job_script.py\"\n",
    "! cpdctl asset file download --space-id {qa_space_id} --path {qa_script_path} --output-file {local_script_path}"
   ]
  },
  {
   "cell_type": "code",
   "execution_count": 73,
   "metadata": {},
   "outputs": [
    {
     "name": "stdout",
     "output_type": "stream",
     "text": [
      "import os\n",
      "import ibm_boto3\n",
      "import json\n",
      "import pandas as pd\n",
      "import requests\n",
      "from botocore.client import Config\n",
      "from ibm_watson_machine_learning import APIClient\n",
      "\n",
      "\n",
      "### Function to get asset details using REST API. This won't be needed once python client adds attachment details in asset meta ###\n"
     ]
    }
   ],
   "source": [
    "! head {local_script_path}"
   ]
  },
  {
   "cell_type": "code",
   "execution_count": 74,
   "metadata": {},
   "outputs": [],
   "source": [
    "! sed -i.bak 's#{CPD_URL}#{CPD_PROD_URL}#' {local_script_path}"
   ]
  },
  {
   "cell_type": "markdown",
   "metadata": {},
   "source": [
    "### 4.2 Creating the new script in production space<a class=\"anchor\" id=\"part4.2\"></a>"
   ]
  },
  {
   "cell_type": "markdown",
   "metadata": {},
   "source": [
    "Switch the CLI profile to `cpd_prod` - production cluster"
   ]
  },
  {
   "cell_type": "code",
   "execution_count": 3,
   "metadata": {},
   "outputs": [
    {
     "name": "stdout",
     "output_type": "stream",
     "text": [
      "Switched to profile \"cpd_prod\".\r\n"
     ]
    }
   ],
   "source": [
    "! cpdctl config profile use cpd_prod"
   ]
  },
  {
   "cell_type": "markdown",
   "metadata": {},
   "source": [
    "Upload the script file to production space:"
   ]
  },
  {
   "cell_type": "code",
   "execution_count": 76,
   "metadata": {},
   "outputs": [
    {
     "name": "stdout",
     "output_type": "stream",
     "text": [
      "Production space ID: f67d7982-7dd0-4ed3-9161-503145f4e0ae\n"
     ]
    }
   ],
   "source": [
    "prod_space_name = 'cpdctl-prod-space-for-scripts'\n",
    "jmes_query = \"resources[?entity.name == '{}'] | [0].metadata.id\".format(prod_space_name)\n",
    "result = ! cpdctl space list --output json --jmes-query \"{jmes_query}\" --raw-output\n",
    "prod_space_id = result.s\n",
    "print('Production space ID: {}'.format(prod_space_id))"
   ]
  },
  {
   "cell_type": "code",
   "execution_count": 77,
   "metadata": {},
   "outputs": [
    {
     "name": "stdout",
     "output_type": "stream",
     "text": [
      "...\n",
      "\u001b[32;1mOK\u001b[0m\n"
     ]
    }
   ],
   "source": [
    "remote_script_path = \"script/batch_job_script.py\"\n",
    "! cpdctl asset file upload --path {remote_script_path} --file {local_script_path} --space-id {prod_space_id}"
   ]
  },
  {
   "cell_type": "code",
   "execution_count": 78,
   "metadata": {},
   "outputs": [
    {
     "name": "stdout",
     "output_type": "stream",
     "text": [
      "software specification id: e4429883-c883-42b6-87a8-f419d64088cd\n"
     ]
    }
   ],
   "source": [
    "jmes_query = \"resources[0].metadata.asset_id\"\n",
    "result = ! cpdctl environment software-specification list --space-id {prod_space_id} --name '{software_specification_name}' --output json --jmes-query '{jmes_query}' --raw-output --profile cpd_prod\n",
    "prod_software_specification_id = result.s\n",
    "print(\"software specification id: {}\".format(prod_software_specification_id))"
   ]
  },
  {
   "cell_type": "markdown",
   "metadata": {},
   "source": [
    "Specify the metadata, entity and attachments of the script file in the production space:"
   ]
  },
  {
   "cell_type": "code",
   "execution_count": 79,
   "metadata": {},
   "outputs": [],
   "source": [
    "script_ts = datetime.now().strftime('%Y%m%d-%H%M%S')\n",
    "\n",
    "metadata = {\n",
    "    \"name\": \"batch_job_script_{}\".format(script_ts),\n",
    "    \"asset_type\": \"script\",\n",
    "    \"asset_category\": \"USER\",\n",
    "    \"origin_country\": \"us\"\n",
    "}\n",
    "metadata_json = json.dumps(metadata)\n",
    "\n",
    "entity = {\n",
    "    \"script\": {\n",
    "        \"language\": {\n",
    "            \"name\": \"python3\"\n",
    "        },\n",
    "        \"software_spec\": {\n",
    "            \"base_id\": \"{}\".format(prod_software_specification_id),\n",
    "            \"name\": software_specification_name\n",
    "        }\n",
    "    }\n",
    "}\n",
    "entity_json = json.dumps(entity)\n",
    "\n",
    "attachments = [\n",
    "    {\n",
    "        \"asset_type\": \"script\",\n",
    "        \"name\": \"batch_job_script.py\",\n",
    "        \"description\": \"attachment for script\",\n",
    "        \"mime\": \"application/text\",\n",
    "        \"object_key\": remote_script_path\n",
    "    }\n",
    "]\n",
    "attachments_json = json.dumps(attachments)"
   ]
  },
  {
   "cell_type": "markdown",
   "metadata": {},
   "source": [
    "Create a Python script asset:"
   ]
  },
  {
   "cell_type": "code",
   "execution_count": 80,
   "metadata": {},
   "outputs": [
    {
     "name": "stdout",
     "output_type": "stream",
     "text": [
      "ID of the script in production space: 0d39cded-9287-4ad0-91a0-d288147f431d\n"
     ]
    }
   ],
   "source": [
    "result = ! cpdctl asset create --metadata '{metadata_json}' --entity '{entity_json}' --attachments '{attachments_json}' --space-id {prod_space_id} --output json -j \"metadata.asset_id\" --raw-output\n",
    "prod_script_id = result.s\n",
    "print(\"ID of the script in production space: {}\".format(prod_script_id))"
   ]
  },
  {
   "cell_type": "code",
   "execution_count": 81,
   "metadata": {},
   "outputs": [
    {
     "name": "stdout",
     "output_type": "stream",
     "text": [
      "...\n",
      "\u001b[1mID\u001b[0m                                     \u001b[1mName\u001b[0m                                    \u001b[1mCreated\u001b[0m                    \u001b[1mDescription\u001b[0m   \u001b[1mType\u001b[0m                            \u001b[1mState\u001b[0m       \u001b[1mTags\u001b[0m                               \u001b[1mSize\u001b[0m   \n",
      "\u001b[36;1mba81206c-6f95-4200-b31d-727ba94b85fb\u001b[0m   bank-marketing-batch-output.csv         2021-04-30T12:35:42.000Z                 data_asset                      available   [connected-data]                   0   \n",
      "\u001b[36;1ma6f58baf-1faf-431f-b66a-fc6b3d0fe5e9\u001b[0m   default job - script_batch_deployment   2021-04-30T12:39:28.000Z                 job                             available   []                                 0   \n",
      "\u001b[36;1m9dbb9b27-2ba2-4ed6-bba3-461df78025d7\u001b[0m   job run                                 2021-04-30T12:41:46.000Z                 job_run                         available   []                                 0   \n",
      "\u001b[36;1m56474183-8df9-45ab-b132-057b2585213c\u001b[0m   batch_job_script_20210430-145137        2021-04-30T12:51:53.000Z                 script                          available   []                                 4177   \n",
      "\u001b[36;1m13db5c4c-0ca3-4857-9cbd-11c42e09460c\u001b[0m   job run                                 2021-04-30T12:54:23.000Z                 job_run                         available   []                                 0   \n",
      "\u001b[36;1mf426992e-d815-4e65-88dd-0c7300230fe8\u001b[0m   script_batch_deployment_job             2021-04-30T12:59:47.000Z                 job                             available   []                                 0   \n",
      "\u001b[36;1mdfb207d6-cdac-4db2-808e-34aa163dd2a6\u001b[0m   batch-job-outputs-connection            2021-04-30T12:35:42.000Z                 connection                      available   []                                 0   \n",
      "\u001b[36;1m093424a6-c966-447e-8552-7f2d991f9a76\u001b[0m   car_rental_training_data.csv            2021-04-30T12:35:42.000Z                 data_asset                      available   [cpdctl-demo promoted-7fb76cf7]]   79518   \n",
      "\u001b[36;1m63002195-9c8d-4f5f-80da-34b091872352\u001b[0m   boston-house-prices-prediction-model    2021-04-30T12:35:43.000Z                 wml_model                       available   []                                 839   \n",
      "\u001b[36;1m2dfe111e-0450-400f-b730-7c7b25918645\u001b[0m   script_batch_deployment_job             2021-04-30T12:59:47.000Z                 wml_deployment_job_definition   available   []                                 0   \n",
      "\u001b[36;1m4ebcd05e-69fc-4fc5-8bf7-7ccd018489eb\u001b[0m   job run                                 2021-04-30T12:59:49.000Z                 job_run                         available   []                                 0   \n",
      "\u001b[36;1mbc5d6bcd-06e4-412b-807a-7aaef0e71b35\u001b[0m   job run                                 2021-04-30T13:03:03.000Z                 job_run                         available   []                                 0   \n",
      "\u001b[36;1m0d39cded-9287-4ad0-91a0-d288147f431d\u001b[0m   batch_job_script_20210521-154404        2021-05-21T13:44:07.000Z                 script                          available   []                                 4177   \n",
      "\u001b[36;1m32c7783d-8a47-4aad-ab25-c6fedd821f98\u001b[0m   batch_job_script.py                     2021-04-30T12:35:43.000Z                 script                          available   []                                 4183   \n"
     ]
    }
   ],
   "source": [
    "! cpdctl asset search --space-id {prod_space_id} --query '*:*' --type-name asset"
   ]
  },
  {
   "cell_type": "markdown",
   "metadata": {},
   "source": [
    "### 4.3 Updating the existing script deployment<a class=\"anchor\" id=\"part4.3\"></a>"
   ]
  },
  {
   "cell_type": "markdown",
   "metadata": {},
   "source": [
    "Update the **existing** script batch deployment in the production space:"
   ]
  },
  {
   "cell_type": "code",
   "execution_count": 83,
   "metadata": {},
   "outputs": [
    {
     "name": "stdout",
     "output_type": "stream",
     "text": [
      "Existing production deployment ID: 25e17b86-9deb-4950-920d-47ba1fc781c1\n"
     ]
    }
   ],
   "source": [
    "deployment_name = 'script_batch_deployment'\n",
    "jmes_query = 'resources[0].metadata.id'\n",
    "result = ! cpdctl ml deployment list --space-id {prod_space_id} --name {deployment_name} --output json --jmes-query '{jmes_query}' --raw-output\n",
    "prod_deployment_id = result.s\n",
    "print('Existing production deployment ID: {}'.format(prod_deployment_id))"
   ]
  },
  {
   "cell_type": "markdown",
   "metadata": {},
   "source": [
    "Update the deployed asset with the newly created script"
   ]
  },
  {
   "cell_type": "code",
   "execution_count": 84,
   "metadata": {},
   "outputs": [],
   "source": [
    "asset = {\n",
    "    'id': prod_script_id\n",
    "}\n",
    "asset_json = json.dumps(asset)"
   ]
  },
  {
   "cell_type": "code",
   "execution_count": 85,
   "metadata": {},
   "outputs": [
    {
     "name": "stdout",
     "output_type": "stream",
     "text": [
      "...\n",
      "\u001b[1m\u001b[0m           \u001b[1m\u001b[0m   \n",
      "\u001b[36;1mID:\u001b[0m        25e17b86-9deb-4950-920d-47ba1fc781c1   \n",
      "\u001b[36;1mName:\u001b[0m      script_batch_deployment   \n",
      "\u001b[36;1mCreated:\u001b[0m   2021-04-30T12:39:28.441Z   \n",
      "\u001b[36;1mState:\u001b[0m     ready   \n",
      "\u001b[36;1mTags:\u001b[0m      []   \n"
     ]
    }
   ],
   "source": [
    "! cpdctl ml deployment update --space-id {prod_space_id} --deployment-id {prod_deployment_id} --asset '{asset_json}'"
   ]
  },
  {
   "cell_type": "markdown",
   "metadata": {},
   "source": [
    "Get the deployment job"
   ]
  },
  {
   "cell_type": "code",
   "execution_count": 189,
   "metadata": {},
   "outputs": [
    {
     "name": "stdout",
     "output_type": "stream",
     "text": [
      "Production job ID: 2bb4ef91-cd73-4748-a10a-6316b2a71550\n"
     ]
    }
   ],
   "source": [
    "jmes_query = 'resources[0].entity.platform_job.job_id'\n",
    "result = ! cpdctl ml deployment-job list --deployment-id {prod_deployment_id} --space-id {prod_space_id} --output json --jmes-query '{jmes_query}' --raw-output\n",
    "prod_job_id = result.s\n",
    "print('Production job ID: {}'.format(prod_job_id))"
   ]
  },
  {
   "cell_type": "code",
   "execution_count": 180,
   "metadata": {},
   "outputs": [
    {
     "name": "stdout",
     "output_type": "stream",
     "text": [
      "ID of the job run in production space: b558937d-66f1-4d7d-8182-aa1c3ce49cf9\n"
     ]
    }
   ],
   "source": [
    "run = '{}'\n",
    "jmes_query = 'metadata.asset_id'\n",
    "result = ! cpdctl job run create --space-id {prod_space_id} --job-id {prod_job_id} --job-run '{run}' --output json --jmes-query '{jmes_query}' --raw-output\n",
    "prod_run_id = result.s\n",
    "print('ID of the job run in production space: {}'.format(prod_run_id))"
   ]
  },
  {
   "cell_type": "markdown",
   "metadata": {},
   "source": [
    "Wait for job completion"
   ]
  },
  {
   "cell_type": "code",
   "execution_count": 181,
   "metadata": {},
   "outputs": [
    {
     "name": "stdout",
     "output_type": "stream",
     "text": [
      "...\n",
      "\u001b[1m\u001b[0m               \u001b[1m\u001b[0m   \n",
      "\u001b[36;1mID:\u001b[0m            b558937d-66f1-4d7d-8182-aa1c3ce49cf9   \n",
      "\u001b[36;1mName:\u001b[0m          job run   \n",
      "\u001b[36;1mCreated:\u001b[0m       2021-05-21T15:03:32Z   \n",
      "\u001b[36;1mDescription:\u001b[0m      \n",
      "\u001b[36;1mState:\u001b[0m         Completed   \n",
      "\u001b[36;1mTags:\u001b[0m          []   \n"
     ]
    }
   ],
   "source": [
    "! cpdctl job run wait --job-id {prod_job_id} --run-id {prod_run_id} --space-id {prod_space_id}"
   ]
  },
  {
   "cell_type": "markdown",
   "metadata": {},
   "source": [
    "You can see the batch deployment log:"
   ]
  },
  {
   "cell_type": "code",
   "execution_count": 182,
   "metadata": {},
   "outputs": [
    {
     "name": "stdout",
     "output_type": "stream",
     "text": [
      "...\n",
      "{\n",
      "  \"deployment\": {\n",
      "    \"id\": \"865c5d4b-3439-438a-a2a0-48305237f46d\"\n",
      "  },\n",
      "  \"hardware_spec\": {\n",
      "    \"id\": \"f3ebac7d-0a75-410c-8b48-a931428cc4c5\"\n",
      "  },\n",
      "  \"platform_job\": {\n",
      "    \"job_id\": \"2bb4ef91-cd73-4748-a10a-6316b2a71550\",\n",
      "    \"run_id\": \"b558937d-66f1-4d7d-8182-aa1c3ce49cf9\"\n",
      "  },\n",
      "  \"scoring\": {\n",
      "    \"input_data_references\": [\n",
      "      {\n",
      "        \"connection\": {},\n",
      "        \"location\": {\n",
      "          \"href\": \"/v2/assets/093424a6-c966-447e-8552-7f2d991f9a76?space_id=f67d7982-7dd0-4ed3-9161-503145f4e0ae\"\n",
      "        },\n",
      "        \"type\": \"data_asset\"\n",
      "      }\n",
      "    ],\n",
      "    \"output_data_reference\": {\n",
      "      \"connection\": {},\n",
      "      \"location\": {\n",
      "        \"href\": \"/v2/assets/ba81206c-6f95-4200-b31d-727ba94b85fb?space_id=f67d7982-7dd0-4ed3-9161-503145f4e0ae\"\n",
      "      },\n",
      "      \"type\": \"data_asset\"\n",
      "    },\n",
      "    \"status\": {\n",
      "      \"completed_at\": \"2021-05-21T15:04:16.176386Z\",\n",
      "      \"message\": {\n",
      "        \"level\": \"warning\",\n",
      "        \"text\": \"The directory pointed by the environment variable BATCH_OUTPUT_DIR is empty, skipping content upload to data asset\"\n",
      "      },\n",
      "      \"running_at\": \"2021-05-21T15:03:56.490537Z\",\n",
      "      \"state\": \"completed\"\n",
      "    }\n",
      "  }\n",
      "}\n",
      "\n"
     ]
    }
   ],
   "source": [
    "! cpdctl job run logs --job-id {prod_job_id} --run-id {prod_run_id} --space-id {prod_space_id}"
   ]
  },
  {
   "cell_type": "markdown",
   "metadata": {},
   "source": [
    "## 5. Cleanup <a class=\"anchor\" id=\"part5\"></a>"
   ]
  },
  {
   "cell_type": "markdown",
   "metadata": {},
   "source": [
    "Delete QA space"
   ]
  },
  {
   "cell_type": "code",
   "execution_count": 227,
   "metadata": {},
   "outputs": [
    {
     "name": "stdout",
     "output_type": "stream",
     "text": [
      "...\n",
      "\u001b[32;1mOK\u001b[0m\n"
     ]
    }
   ],
   "source": [
    "! cpdctl space delete --space-id {qa_space_id} --profile cpd"
   ]
  },
  {
   "cell_type": "markdown",
   "metadata": {},
   "source": [
    "### Author\n",
    "\n",
    "Rafał Bigaj, System Architect with long successful record of building and leading teams. Broad and practical knowledge in the area of cloud computing, machine learning and distributed systems development. "
   ]
  },
  {
   "cell_type": "markdown",
   "metadata": {},
   "source": [
    "Copyright © 2020 IBM. This notebook and its source code are released under the terms of the MIT License."
   ]
  }
 ],
 "metadata": {
  "kernelspec": {
   "display_name": "Python 3",
   "language": "python",
   "name": "python3"
  },
  "language_info": {
   "codemirror_mode": {
    "name": "ipython",
    "version": 3
   },
   "file_extension": ".py",
   "mimetype": "text/x-python",
   "name": "python",
   "nbconvert_exporter": "python",
   "pygments_lexer": "ipython3",
   "version": "3.8.8"
  }
 },
 "nbformat": 4,
 "nbformat_minor": 4
}
