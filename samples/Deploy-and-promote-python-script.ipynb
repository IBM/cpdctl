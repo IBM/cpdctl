{
 "cells": [
  {
   "cell_type": "markdown",
   "metadata": {},
   "source": [
    "# CPDCTL Demo - Python script lifecycle"
   ]
  },
  {
   "cell_type": "markdown",
   "metadata": {},
   "source": [
    "CPDCTL is a command-line interface (CLI) you can use to manage the lifecycle of notebooks. By using the notebook CLI, you can automate the flow for creating notebooks and running notebook jobs, moving notebooks between projects in Watson Studio, and adding custom libraries to notebook runtime environments.   \n",
    "\n",
    "This notebook begins by showing you how to install and configure CPDCTL and is then split up into three sections with examples of how to use the commands to:\n",
    "\n",
    "- Promote python script from the project to the space\n",
    "- Promote python script to the QA space\n",
    "- Download the script from the QA space and upload it to the production space"
   ]
  },
  {
   "cell_type": "markdown",
   "metadata": {},
   "source": [
    "## Table of Contents"
   ]
  },
  {
   "cell_type": "markdown",
   "metadata": {},
   "source": [
    "[1. Install and Configure CPDCTL](#part1)\n",
    "- [1.1 Installing the latest version of CPDCTL](#part1.1)\n",
    "- [1.2 Adding CPD cluster configuration settings](#part1.2)\n",
    "\n",
    "[2. Demo 1: Promote python script from the project to the space](#part2)\n",
    "- [2.1 Creating a notebook asset](#part2.1)\n",
    "- [2.2 Running a deployment job](#part2.2)\n",
    "\n",
    "[3. Demo 2: Promote python script to the QA space](#part3)\n",
    "- [3.1 Export all asssets from the source (DEV) space](#part3.1)\n",
    "- [3.2 Create QA space and import assets there](#part3.2)\n",
    "- [3.3 Run batch deployment job in the QA space](#part3.3)\n",
    "\n",
    "[4. Demo 3: Download the script from the QA space and upload it to the production space](#part4)\n",
    "- [4.1 Downloading a script](#part4.1)\n",
    "- [4.2 Creating the new script in the production space](#part4.2)\n",
    "- [4.2 Updating the existing script deployment](#part4.3)\n",
    "\n",
    "[5. Cleanup](#part5)"
   ]
  },
  {
   "cell_type": "markdown",
   "metadata": {},
   "source": [
    "## Before you begin\n",
    "Import the following libraries:"
   ]
  },
  {
   "cell_type": "code",
   "execution_count": 171,
   "metadata": {},
   "outputs": [],
   "source": [
    "import base64\n",
    "import json\n",
    "import os\n",
    "import requests\n",
    "import platform\n",
    "import tarfile\n",
    "import zipfile\n",
    "from datetime import datetime\n",
    "from IPython.core.display import display, HTML"
   ]
  },
  {
   "cell_type": "markdown",
   "metadata": {},
   "source": [
    "##  1. Installing and configurating CPDCTL <a class=\"anchor\" id=\"part1\"></a>"
   ]
  },
  {
   "cell_type": "markdown",
   "metadata": {},
   "source": [
    "### 1.1 Installing the latest version of CPDCTL <a class=\"anchor\" id=\"part1.1\"></a>"
   ]
  },
  {
   "cell_type": "markdown",
   "metadata": {},
   "source": [
    "To use the notebook and environment CLI commands, you need to install CPDCTL. Download the binary from the [CPDCTL GitHub respository](https://github.com/IBM/cpdctl/releases)."
   ]
  },
  {
   "cell_type": "markdown",
   "metadata": {},
   "source": [
    "Download the binary and then display the version number:"
   ]
  },
  {
   "cell_type": "code",
   "execution_count": 219,
   "metadata": {},
   "outputs": [
    {
     "data": {
      "text/html": [
       "<code>cpdctl</code> binary downloaded from: <a href=\"https://github.com/IBM/cpdctl/releases/download/v1.0.22/cpdctl_darwin_amd64.tar.gz\">cpdctl_darwin_amd64.tar.gz</a>"
      ],
      "text/plain": [
       "<IPython.core.display.HTML object>"
      ]
     },
     "metadata": {},
     "output_type": "display_data"
    },
    {
     "data": {
      "text/html": [
       "<style>div.output_area pre {white-space: pre;}</style>"
      ],
      "text/plain": [
       "<IPython.core.display.HTML object>"
      ]
     },
     "metadata": {},
     "output_type": "display_data"
    },
    {
     "data": {
      "text/html": [
       "<style>.container { width:90% !important; }</style>"
      ],
      "text/plain": [
       "<IPython.core.display.HTML object>"
      ]
     },
     "metadata": {},
     "output_type": "display_data"
    }
   ],
   "source": [
    "PLATFORM = platform.system().lower()\n",
    "CPDCTL_ARCH = \"{}_amd64\".format(PLATFORM)\n",
    "CPDCTL_RELEASES_URL=\"https://api.github.com/repos/IBM/cpdctl/releases\"\n",
    "CWD = os.getcwd()\n",
    "PATH = os.environ['PATH']\n",
    "CPDCONFIG = os.path.join(CWD, '.cpdctl.config.yml')\n",
    "\n",
    "response = requests.get(CPDCTL_RELEASES_URL)\n",
    "assets = response.json()[0]['assets']\n",
    "platform_asset = next(a for a in assets if CPDCTL_ARCH in a['name'])\n",
    "cpdctl_url = platform_asset['url']\n",
    "cpdctl_file_name = platform_asset['name']\n",
    "\n",
    "response = requests.get(cpdctl_url, headers={'Accept': 'application/octet-stream'})\n",
    "with open(cpdctl_file_name, 'wb') as f:\n",
    "    f.write(response.content)\n",
    "    \n",
    "display(HTML('<code>cpdctl</code> binary downloaded from: <a href=\"{}\">{}</a>'.format(platform_asset['browser_download_url'], platform_asset['name'])))\n",
    "display(HTML(\"<style>div.output_area pre {white-space: pre;}</style>\"))\n",
    "display(HTML(\"<style>.container { width:90% !important; }</style>\"))"
   ]
  },
  {
   "cell_type": "code",
   "execution_count": 24,
   "metadata": {},
   "outputs": [],
   "source": [
    "%%capture\n",
    "\n",
    "%env PATH={CWD}:{PATH}\n",
    "%env CPDCONFIG={CPDCONFIG}"
   ]
  },
  {
   "cell_type": "code",
   "execution_count": 25,
   "metadata": {},
   "outputs": [
    {
     "name": "stdout",
     "output_type": "stream",
     "text": [
      "cpdctl version: 1.0.22\n"
     ]
    }
   ],
   "source": [
    "if cpdctl_file_name.endswith('tar.gz'):\n",
    "    with tarfile.open(cpdctl_file_name, \"r:gz\") as tar:\n",
    "        tar.extractall()\n",
    "elif cpdctl_file_name.endswith('zip'):\n",
    "    with zipfile.ZipFile(cpdctl_file_name, 'r') as zf:\n",
    "        zf.extractall()\n",
    "\n",
    "if CPDCONFIG and os.path.exists(CPDCONFIG):\n",
    "    os.remove(CPDCONFIG)\n",
    "    \n",
    "version_r = ! cpdctl version\n",
    "CPDCTL_VERSION = version_r.s\n",
    "\n",
    "print(\"cpdctl version: {}\".format(CPDCTL_VERSION))"
   ]
  },
  {
   "cell_type": "markdown",
   "metadata": {},
   "source": [
    "### 1.2  Adding CPD cluster configuration settings <a class=\"anchor\" id=\"part1.2\"></a>"
   ]
  },
  {
   "cell_type": "markdown",
   "metadata": {},
   "source": [
    "Before you can use CPDCTL, you need to add configuration settings. You only need to configure these settings once for the same CPD user and cluster. Begin by entering your IBM Cloud Pak for Data (CPD) credentials and the URL to the CPD cluster:"
   ]
  },
  {
   "cell_type": "code",
   "execution_count": null,
   "metadata": {},
   "outputs": [],
   "source": [
    "CPD_USER_NAME = #'YOUR CPD user name'\n",
    "CPD_USER_PASSWORD = #'YOUR CPD user password'\n",
    "CPD_URL = #'YOUR CPD CLUSTER URL'"
   ]
  },
  {
   "cell_type": "markdown",
   "metadata": {},
   "source": [
    "Add \"cpd_user\" user to the cpdctl configuration:"
   ]
  },
  {
   "cell_type": "code",
   "execution_count": 27,
   "metadata": {},
   "outputs": [],
   "source": [
    "! cpdctl config user set cpd_user --username {CPD_USER_NAME} --password {CPD_USER_PASSWORD}"
   ]
  },
  {
   "cell_type": "markdown",
   "metadata": {},
   "source": [
    "Add \"cpd\" cluster to the cpdctl configuration:"
   ]
  },
  {
   "cell_type": "code",
   "execution_count": 28,
   "metadata": {},
   "outputs": [],
   "source": [
    "! cpdctl config profile set cpd --url {CPD_URL}"
   ]
  },
  {
   "cell_type": "markdown",
   "metadata": {},
   "source": [
    "Add \"cpd\" context to the cpdctl configuration:"
   ]
  },
  {
   "cell_type": "code",
   "execution_count": 29,
   "metadata": {},
   "outputs": [],
   "source": [
    "! cpdctl config context set cpd --profile cpd --user cpd_user"
   ]
  },
  {
   "cell_type": "markdown",
   "metadata": {},
   "source": [
    "List available contexts:"
   ]
  },
  {
   "cell_type": "code",
   "execution_count": 30,
   "metadata": {},
   "outputs": [
    {
     "name": "stdout",
     "output_type": "stream",
     "text": [
      "\u001b[1mName\u001b[0m   \u001b[1mProfile\u001b[0m   \u001b[1mUser\u001b[0m       \u001b[1mCurrent\u001b[0m   \r\n",
      "\u001b[36;1mcpd\u001b[0m    cpd       cpd_user   *   \r\n"
     ]
    }
   ],
   "source": [
    "! cpdctl config context list"
   ]
  },
  {
   "cell_type": "markdown",
   "metadata": {},
   "source": [
    "Switch the current context:"
   ]
  },
  {
   "cell_type": "code",
   "execution_count": 31,
   "metadata": {},
   "outputs": [
    {
     "name": "stdout",
     "output_type": "stream",
     "text": [
      "Switched to context \"cpd\".\r\n"
     ]
    }
   ],
   "source": [
    "! cpdctl config context use cpd"
   ]
  },
  {
   "cell_type": "markdown",
   "metadata": {},
   "source": [
    "List available projects in context:"
   ]
  },
  {
   "cell_type": "code",
   "execution_count": 32,
   "metadata": {},
   "outputs": [
    {
     "name": "stdout",
     "output_type": "stream",
     "text": [
      "...\n",
      "\u001b[1mID\u001b[0m                                     \u001b[1mName\u001b[0m               \u001b[1mCreated\u001b[0m                    \u001b[1mDescription\u001b[0m   \u001b[1mTags\u001b[0m   \n",
      "\u001b[36;1m0cabb425-56d9-48fc-a178-f30d22737778\u001b[0m   git-demo-project   2021-02-19T13:47:11.811Z                 []   \n",
      "\u001b[36;1m7fb76cf7-25be-435d-818e-bd6e9b5254f5\u001b[0m   cpdctl-demo        2021-01-29T08:01:23.363Z                 []   \n"
     ]
    }
   ],
   "source": [
    "! cpdctl project list"
   ]
  },
  {
   "cell_type": "markdown",
   "metadata": {},
   "source": [
    "Choose a project in which you will work:"
   ]
  },
  {
   "cell_type": "code",
   "execution_count": 33,
   "metadata": {},
   "outputs": [
    {
     "name": "stdout",
     "output_type": "stream",
     "text": [
      "project id: 0cabb425-56d9-48fc-a178-f30d22737778\n"
     ]
    }
   ],
   "source": [
    "result = ! cpdctl project list --output json -j \"(resources[].metadata.guid)[0]\" --raw-output\n",
    "project_id = result.s\n",
    "print(\"project id: {}\".format(project_id))\n",
    "\n",
    "# You can also specify your project id directly:\n",
    "# project_id = \"Your project ID\""
   ]
  },
  {
   "cell_type": "markdown",
   "metadata": {},
   "source": [
    "## 2. Demo 1: Promote python script from the project to the space  <a class=\"anchor\" id=\"part2\"></a>"
   ]
  },
  {
   "cell_type": "markdown",
   "metadata": {},
   "source": [
    "Before starting with this section, please ensure that you have run the cells in [Section 1](#part1) and specified the ID of the project in which you will work."
   ]
  },
  {
   "cell_type": "markdown",
   "metadata": {},
   "source": [
    "Suppose you have a python script created with JupyterLab in Watson Studio and you would like to run the code on a CPD cluster. This section shows how to promote a script asset from a project to a space and run a job on a CPD cluster. "
   ]
  },
  {
   "cell_type": "markdown",
   "metadata": {},
   "source": [
    "### 2.1 Promote script asset to the space<a class=\"anchor\" id=\"part2.1\"></a>"
   ]
  },
  {
   "cell_type": "markdown",
   "metadata": {},
   "source": [
    "List all the script assets in your project, filter them by their display name and get the ID of the script:"
   ]
  },
  {
   "cell_type": "code",
   "execution_count": 220,
   "metadata": {},
   "outputs": [
    {
     "name": "stdout",
     "output_type": "stream",
     "text": [
      "...\n",
      "\u001b[1mID\u001b[0m                                     \u001b[1mName\u001b[0m               \u001b[1mCreated\u001b[0m                    \u001b[1mDescription\u001b[0m   \u001b[1mType\u001b[0m     \u001b[1mState\u001b[0m       \u001b[1mTags\u001b[0m   \u001b[1mSize\u001b[0m   \n",
      "\u001b[36;1m14766a5b-b842-4f19-b2d0-690b64e46d25\u001b[0m   batch_job_script   2021-02-19T22:08:45.000Z                 script   available   []     4183   \n"
     ]
    }
   ],
   "source": [
    "! cpdctl asset search --project-id {project_id} --type-name script --query \"*:*\""
   ]
  },
  {
   "cell_type": "code",
   "execution_count": 211,
   "metadata": {},
   "outputs": [],
   "source": [
    "script_name = \"batch_job_script\"\n",
    "query = \"asset.name:{}\".format(script_name)\n",
    "jmes_query = \"results[0].metadata.asset_id\""
   ]
  },
  {
   "cell_type": "code",
   "execution_count": 212,
   "metadata": {},
   "outputs": [
    {
     "name": "stdout",
     "output_type": "stream",
     "text": [
      "script id: 14766a5b-b842-4f19-b2d0-690b64e46d25\n"
     ]
    }
   ],
   "source": [
    "result = ! cpdctl asset search --project-id {project_id} --query {query} --type-name script --output json --jmes-query \"{jmes_query}\" --raw-output\n",
    "script_id = result.s\n",
    "print(\"script id: {}\".format(script_id))"
   ]
  },
  {
   "cell_type": "markdown",
   "metadata": {},
   "source": [
    "List all spaces"
   ]
  },
  {
   "cell_type": "code",
   "execution_count": 213,
   "metadata": {},
   "outputs": [
    {
     "name": "stdout",
     "output_type": "stream",
     "text": [
      "...\n",
      "\u001b[1mID\u001b[0m                                     \u001b[1mName\u001b[0m                            \u001b[1mCreated\u001b[0m                    \u001b[1mState\u001b[0m    \u001b[1mTags\u001b[0m   \n",
      "\u001b[36;1md9bfa660-1be7-46ab-aa53-e9010a634bba\u001b[0m   cpdctl-demo-space               2021-01-29T08:56:07.389Z   active   []   \n",
      "\u001b[36;1m691dfe59-ffed-4241-a2a1-9c49be5aaf02\u001b[0m   cpdctl-qa-space-for-scripts     2021-02-22T06:39:52.763Z   active   []   \n",
      "\u001b[36;1m6c205951-1c61-49b9-b46d-e5e199492775\u001b[0m   cpdctl-prod-space-for-scripts   2021-02-22T07:45:34.787Z   active   []   \n"
     ]
    }
   ],
   "source": [
    "! cpdctl space list"
   ]
  },
  {
   "cell_type": "markdown",
   "metadata": {},
   "source": [
    "Select the 'cpdctl-demo-space' space"
   ]
  },
  {
   "cell_type": "code",
   "execution_count": 215,
   "metadata": {},
   "outputs": [
    {
     "name": "stdout",
     "output_type": "stream",
     "text": [
      "Space ID: d9bfa660-1be7-46ab-aa53-e9010a634bba\n"
     ]
    }
   ],
   "source": [
    "dev_space_name = 'cpdctl-demo-space'\n",
    "jmes_query = \"resources[?entity.name == '{}'] | [0].metadata.id\".format(dev_space_name)\n",
    "result = ! cpdctl space list --output json --jmes-query \"{jmes_query}\" --raw-output\n",
    "space_id = result.s\n",
    "print('Space ID: {}'.format(space_id))"
   ]
  },
  {
   "cell_type": "markdown",
   "metadata": {},
   "source": [
    "Select script asset for promotion and provide expected name and metadata:"
   ]
  },
  {
   "cell_type": "code",
   "execution_count": 43,
   "metadata": {},
   "outputs": [
    {
     "name": "stdout",
     "output_type": "stream",
     "text": [
      "...\n",
      "\u001b[32;1mOK\u001b[0m\n"
     ]
    }
   ],
   "source": [
    "import json\n",
    "\n",
    "promote = {\n",
    "    \"mode\": 0,\n",
    "    \"space_id\": space_id,\n",
    "    \"metadata\": {\n",
    "        \"name\": \"batch_job_script.py\",\n",
    "        \"tags\": [\"cpdctl-demo\", \"promoted-asset-{}]\".format(script_id)]\n",
    "    }\n",
    "}\n",
    "promote_json = json.dumps(promote)\n",
    "\n",
    "! cpdctl asset promote --project-id {project_id} --asset-id {script_id} --request-body '{promote_json}'"
   ]
  },
  {
   "cell_type": "markdown",
   "metadata": {},
   "source": [
    "List assets in the space"
   ]
  },
  {
   "cell_type": "code",
   "execution_count": 222,
   "metadata": {},
   "outputs": [
    {
     "name": "stdout",
     "output_type": "stream",
     "text": [
      "...\n",
      "\u001b[1mID\u001b[0m                                     \u001b[1mName\u001b[0m                  \u001b[1mCreated\u001b[0m                    \u001b[1mDescription\u001b[0m   \u001b[1mType\u001b[0m     \u001b[1mState\u001b[0m       \u001b[1mTags\u001b[0m                                                                 \u001b[1mSize\u001b[0m   \n",
      "\u001b[36;1md2f732ec-fc38-4d6e-90fb-6b9739b8fdba\u001b[0m   batch_job_script.py   2021-02-19T22:26:10.000Z                 script   available   [cpdctl-demo promoted-asset-14766a5b-b842-4f19-b2d0-690b64e46d25]]   4183   \n"
     ]
    }
   ],
   "source": [
    "! cpdctl asset search --space-id {space_id} --type-name script --query \"*:*\""
   ]
  },
  {
   "cell_type": "markdown",
   "metadata": {},
   "source": [
    "Select the promoted script"
   ]
  },
  {
   "cell_type": "code",
   "execution_count": 48,
   "metadata": {},
   "outputs": [
    {
     "name": "stdout",
     "output_type": "stream",
     "text": [
      "promoted script id: d2f732ec-fc38-4d6e-90fb-6b9739b8fdba\n"
     ]
    }
   ],
   "source": [
    "query = 'asset.name:batch_job_script.py'\n",
    "jmes_query = \"results[0].metadata.asset_id\"\n",
    "result = ! cpdctl asset search --space-id {space_id} --query {query} --type-name script --output json --jmes-query \"{jmes_query}\" --raw-output\n",
    "promoted_script_id = result.s\n",
    "print(\"promoted script id: {}\".format(promoted_script_id))"
   ]
  },
  {
   "cell_type": "markdown",
   "metadata": {},
   "source": [
    "List software specifications"
   ]
  },
  {
   "cell_type": "code",
   "execution_count": 80,
   "metadata": {},
   "outputs": [
    {
     "name": "stdout",
     "output_type": "stream",
     "text": [
      "software specification id: e4429883-c883-42b6-87a8-f419d64088cd\n"
     ]
    }
   ],
   "source": [
    "software_specification_name = \"default_py3.7\"\n",
    "jmes_query = \"resources[0].metadata.asset_id\"\n",
    "result = ! cpdctl environment software-specification list --space-id {space_id} --name '{software_specification_name}' --output json --jmes-query '{jmes_query}' --raw-output\n",
    "software_specification_id = result.s\n",
    "print(\"software specification id: {}\".format(software_specification_id))"
   ]
  },
  {
   "cell_type": "markdown",
   "metadata": {},
   "source": [
    "Set python script's software spececification"
   ]
  },
  {
   "cell_type": "code",
   "execution_count": 82,
   "metadata": {},
   "outputs": [
    {
     "name": "stdout",
     "output_type": "stream",
     "text": [
      "...\n",
      "\u001b[32;1mOK\u001b[0m\n"
     ]
    }
   ],
   "source": [
    "software_spec = {\n",
    "    \"base_id\": \"{}\".format(software_specification_id),\n",
    "    \"name\": software_specification_name\n",
    "}\n",
    "\n",
    "patch = [{\n",
    "    \"op\": \"replace\",\n",
    "    \"path\": \"/software_spec\",\n",
    "    \"value\": software_spec\n",
    "}]\n",
    "patch_json = json.dumps(patch)\n",
    "\n",
    "! cpdctl asset attribute update --space-id {space_id} --asset-id {promoted_script_id} --attribute-key script  --json-patch '{patch_json}'"
   ]
  },
  {
   "cell_type": "markdown",
   "metadata": {},
   "source": [
    "### 2.2 Run batch deployment job <a class=\"anchor\" id=\"part2.2\"></a>"
   ]
  },
  {
   "cell_type": "markdown",
   "metadata": {},
   "source": [
    "Create batch deployment:"
   ]
  },
  {
   "cell_type": "code",
   "execution_count": 89,
   "metadata": {},
   "outputs": [],
   "source": [
    "asset = {\n",
    "    'id': promoted_script_id\n",
    "}\n",
    "asset_json = json.dumps(asset)\n",
    "\n",
    "hardware_spec = {\n",
    "    'name': 'S'\n",
    "}\n",
    "hardware_spec_json = json.dumps(hardware_spec)\n",
    "\n",
    "batch_json = '{}'\n",
    "\n",
    "deployment_name = 'script_batch_deployment'"
   ]
  },
  {
   "cell_type": "code",
   "execution_count": 90,
   "metadata": {},
   "outputs": [
    {
     "name": "stdout",
     "output_type": "stream",
     "text": [
      "deployment id: 94c2de39-51ab-40a1-b717-92a7991c420e\n"
     ]
    }
   ],
   "source": [
    "result = ! cpdctl ml deployment create --space-id {space_id} --name '{deployment_name}' --asset '{asset_json}' --hardware-spec '{hardware_spec_json}' --batch '{batch_json}' --output json -j \"metadata.id\" --raw-output\n",
    "deployment_id = result.s\n",
    "print(\"deployment id: {}\".format(deployment_id))"
   ]
  },
  {
   "cell_type": "markdown",
   "metadata": {},
   "source": [
    "Create a deployment job"
   ]
  },
  {
   "cell_type": "code",
   "execution_count": 101,
   "metadata": {},
   "outputs": [],
   "source": [
    "deployment_job_name = 'script_batch_deployment_job'\n",
    "\n",
    "deployment = {\n",
    "    'id': deployment_id\n",
    "}\n",
    "deployment_json = json.dumps(deployment)\n",
    "\n",
    "scoring = {\n",
    "    \"input_data_references\": [\n",
    "      {\n",
    "        \"type\": \"data_asset\",\n",
    "        \"connection\": {},\n",
    "        \"location\": {\n",
    "          \"href\": \"/v2/assets/783d8fc5-ae2c-47d0-a311-f8890dfa1ce0?space_id=d9bfa660-1be7-46ab-aa53-e9010a634bba\"\n",
    "        }\n",
    "      }\n",
    "    ],\n",
    "    \"output_data_reference\": {\n",
    "      \"type\": \"data_asset\",\n",
    "      \"connection\": {},\n",
    "      \"location\": {\n",
    "        \"href\": \"/v2/assets/c7de9cb4-0ec5-41fa-8b94-3e89eb2cb795?space_id=d9bfa660-1be7-46ab-aa53-e9010a634bba\"\n",
    "      }\n",
    "    }\n",
    "}\n",
    "scoring_json = json.dumps(scoring)"
   ]
  },
  {
   "cell_type": "code",
   "execution_count": 103,
   "metadata": {},
   "outputs": [
    {
     "name": "stdout",
     "output_type": "stream",
     "text": [
      "{\n",
      "  \"entity\": {\n",
      "    \"deployment\": {\n",
      "      \"id\": \"94c2de39-51ab-40a1-b717-92a7991c420e\"\n",
      "    },\n",
      "    \"platform_job\": {\n",
      "      \"job_id\": \"6b2d1087-2728-4d72-b5de-0cf0dd633912\",\n",
      "      \"run_id\": \"8af92e6d-8cc4-42ad-8143-f74bad639ff7\"\n",
      "    },\n",
      "    \"scoring\": {\n",
      "      \"input_data_references\": [\n",
      "        {\n",
      "          \"connection\": {},\n",
      "          \"location\": {\n",
      "            \"href\": \"/v2/assets/783d8fc5-ae2c-47d0-a311-f8890dfa1ce0?space_id=d9bfa660-1be7-46ab-aa53-e9010a634bba\"\n",
      "          },\n",
      "          \"type\": \"data_asset\"\n",
      "        }\n",
      "      ],\n",
      "      \"output_data_reference\": {\n",
      "        \"connection\": {},\n",
      "        \"location\": {\n",
      "          \"href\": \"/v2/assets/c7de9cb4-0ec5-41fa-8b94-3e89eb2cb795?space_id=d9bfa660-1be7-46ab-aa53-e9010a634bba\"\n",
      "        },\n",
      "        \"type\": \"data_asset\"\n",
      "      },\n",
      "      \"status\": {\n",
      "        \"state\": \"queued\"\n",
      "      }\n",
      "    }\n",
      "  },\n",
      "  \"metadata\": {\n",
      "    \"created_at\": \"2021-02-21T21:21:25.338Z\",\n",
      "    \"id\": \"a6da3389-59b4-4f7f-bf34-b037f6721ba5\",\n",
      "    \"name\": \"script_batch_deployment_job\",\n",
      "    \"space_id\": \"d9bfa660-1be7-46ab-aa53-e9010a634bba\"\n",
      "  }\n",
      "}\n"
     ]
    }
   ],
   "source": [
    "result = ! cpdctl ml deployment-job create --space-id {space_id} --name '{deployment_job_name}' --deployment '{deployment_json}' --scoring '{scoring_json}' --output json\n",
    "deployment_job = json.loads(result.s)\n",
    "print(json.dumps(deployment_job, indent=2))\n",
    "job_id = deployment_job['entity']['platform_job']['job_id']\n",
    "run_id = deployment_job['entity']['platform_job']['run_id']"
   ]
  },
  {
   "cell_type": "markdown",
   "metadata": {},
   "source": [
    "Wait for job completion"
   ]
  },
  {
   "cell_type": "code",
   "execution_count": 106,
   "metadata": {},
   "outputs": [
    {
     "name": "stdout",
     "output_type": "stream",
     "text": [
      "...\n",
      "\u001b[1m\u001b[0m               \u001b[1m\u001b[0m   \n",
      "\u001b[36;1mID:\u001b[0m            8af92e6d-8cc4-42ad-8143-f74bad639ff7   \n",
      "\u001b[36;1mName:\u001b[0m          job run   \n",
      "\u001b[36;1mCreated:\u001b[0m       2021-02-21T21:21:25Z   \n",
      "\u001b[36;1mDescription:\u001b[0m      \n",
      "\u001b[36;1mState:\u001b[0m         Completed   \n",
      "\u001b[36;1mTags:\u001b[0m          []   \n"
     ]
    }
   ],
   "source": [
    "! cpdctl job run wait --job-id {job_id} --run-id {run_id} --space-id {space_id}"
   ]
  },
  {
   "cell_type": "markdown",
   "metadata": {},
   "source": [
    "You can see the batch deployment log:"
   ]
  },
  {
   "cell_type": "code",
   "execution_count": 107,
   "metadata": {},
   "outputs": [
    {
     "name": "stdout",
     "output_type": "stream",
     "text": [
      "...\n",
      "\u001b[1mtotal_count\u001b[0m   \u001b[1mresults\u001b[0m   \n",
      "\u001b[36;1m36\u001b[0m            {   \n",
      "\u001b[36;1m36\u001b[0m              \"deployment\": {   \n",
      "\u001b[36;1m36\u001b[0m                \"id\": \"94c2de39-51ab-40a1-b717-92a7991c420e\"   \n",
      "\u001b[36;1m36\u001b[0m              },   \n",
      "\u001b[36;1m36\u001b[0m              \"platform_job\": {   \n",
      "\u001b[36;1m36\u001b[0m                \"job_id\": \"6b2d1087-2728-4d72-b5de-0cf0dd633912\",   \n",
      "\u001b[36;1m36\u001b[0m                \"run_id\": \"8af92e6d-8cc4-42ad-8143-f74bad639ff7\"   \n",
      "\u001b[36;1m36\u001b[0m              },   \n",
      "\u001b[36;1m36\u001b[0m              \"scoring\": {   \n",
      "\u001b[36;1m36\u001b[0m                \"input_data_references\": [   \n",
      "\u001b[36;1m36\u001b[0m                  {   \n",
      "\u001b[36;1m36\u001b[0m                    \"connection\": {},   \n",
      "\u001b[36;1m36\u001b[0m                    \"location\": {   \n",
      "\u001b[36;1m36\u001b[0m                      \"href\": \"/v2/assets/783d8fc5-ae2c-47d0-a311-f8890dfa1ce0?space_id=d9bfa660-1be7-46ab-aa53-e9010a634bba\"   \n",
      "\u001b[36;1m36\u001b[0m                    },   \n",
      "\u001b[36;1m36\u001b[0m                    \"type\": \"data_asset\"   \n",
      "\u001b[36;1m36\u001b[0m                  }   \n",
      "\u001b[36;1m36\u001b[0m                ],   \n",
      "\u001b[36;1m36\u001b[0m                \"output_data_reference\": {   \n",
      "\u001b[36;1m36\u001b[0m                  \"connection\": {},   \n",
      "\u001b[36;1m36\u001b[0m                  \"location\": {   \n",
      "\u001b[36;1m36\u001b[0m                    \"href\": \"/v2/assets/c7de9cb4-0ec5-41fa-8b94-3e89eb2cb795?space_id=d9bfa660-1be7-46ab-aa53-e9010a634bba\"   \n",
      "\u001b[36;1m36\u001b[0m                  },   \n",
      "\u001b[36;1m36\u001b[0m                  \"type\": \"data_asset\"   \n",
      "\u001b[36;1m36\u001b[0m                },   \n",
      "\u001b[36;1m36\u001b[0m                \"status\": {   \n",
      "\u001b[36;1m36\u001b[0m                  \"completed_at\": \"2021-02-21T21:22:01.228453Z\",   \n",
      "\u001b[36;1m36\u001b[0m                  \"message\": {   \n",
      "\u001b[36;1m36\u001b[0m                    \"text\": \"The directory pointed by the environment variable BATCH_OUTPUT_DIR is empty, skipping content upload to data asset\",   \n",
      "\u001b[36;1m36\u001b[0m                    \"level\": \"warning\"   \n",
      "\u001b[36;1m36\u001b[0m                  },   \n",
      "\u001b[36;1m36\u001b[0m                  \"running_at\": \"2021-02-21T21:21:40.549339Z\",   \n",
      "\u001b[36;1m36\u001b[0m                  \"state\": \"completed\"   \n",
      "\u001b[36;1m36\u001b[0m                }   \n",
      "\u001b[36;1m36\u001b[0m              }   \n",
      "\u001b[36;1m36\u001b[0m            }   \n"
     ]
    }
   ],
   "source": [
    "! cpdctl job run logs --job-id {job_id} --run-id {run_id} --space-id {space_id}"
   ]
  },
  {
   "cell_type": "markdown",
   "metadata": {},
   "source": [
    "## 3. Demo 2: Promoting python script to the QA space <a class=\"anchor\" id=\"part3\"></a>"
   ]
  },
  {
   "cell_type": "markdown",
   "metadata": {},
   "source": [
    "Before starting with this section, please ensure that you have run the cells in [Section 1](#part1) and [Section 2](#part2)."
   ]
  },
  {
   "cell_type": "markdown",
   "metadata": {},
   "source": [
    "Suppose you have a Python script (.py) on your local system and you would like to run the code in the script as a job on a CPD cluster. This section shows you how to create a Python script asset and run a job on a CPD cluster."
   ]
  },
  {
   "cell_type": "markdown",
   "metadata": {},
   "source": [
    "### 3.1 Export all asssets from the source (DEV) space<a class=\"anchor\" id=\"part3.1\"></a>"
   ]
  },
  {
   "cell_type": "markdown",
   "metadata": {},
   "source": [
    "List all assets in the source (DEV) space"
   ]
  },
  {
   "cell_type": "code",
   "execution_count": 223,
   "metadata": {},
   "outputs": [
    {
     "name": "stdout",
     "output_type": "stream",
     "text": [
      "...\n",
      "\u001b[1mID\u001b[0m                                     \u001b[1mName\u001b[0m                                                      \u001b[1mCreated\u001b[0m                    \u001b[1mDescription\u001b[0m   \u001b[1mType\u001b[0m         \u001b[1mState\u001b[0m       \u001b[1mTags\u001b[0m                                                                 \u001b[1mSize\u001b[0m   \n",
      "\u001b[36;1m384ddcde-a7fe-4652-baa9-b41c40b08284\u001b[0m   boston-house-prices-prediction-model                      2021-01-29T09:27:11.000Z                 wml_model    available   []                                                                   839   \n",
      "\u001b[36;1md59ff8a1-e58b-4a6c-882c-a6ebfe3c7a70\u001b[0m   batch-job-outputs-connection                              2021-02-19T16:53:10.000Z                 connection   available   []                                                                   0   \n",
      "\u001b[36;1m6b2d1087-2728-4d72-b5de-0cf0dd633912\u001b[0m   WML-Deployment-Job-94c2de39-51ab-40a1-b717-92a7991c420e   2021-02-21T21:19:25.000Z                 job          available   []                                                                   0   \n",
      "\u001b[36;1m783d8fc5-ae2c-47d0-a311-f8890dfa1ce0\u001b[0m   car_rental_training_data.csv                              2021-01-29T08:57:12.000Z                 data_asset   available   [cpdctl-demo promoted-7fb76cf7]]                                     79518   \n",
      "\u001b[36;1mc7de9cb4-0ec5-41fa-8b94-3e89eb2cb795\u001b[0m   bank-marketing-batch-output.csv                           2021-02-19T16:54:38.000Z                 data_asset   available   [connected-data]                                                     0   \n",
      "\u001b[36;1md2f732ec-fc38-4d6e-90fb-6b9739b8fdba\u001b[0m   batch_job_script.py                                       2021-02-19T22:26:10.000Z                 script       available   [cpdctl-demo promoted-asset-14766a5b-b842-4f19-b2d0-690b64e46d25]]   4183   \n",
      "\u001b[36;1md8b147ce-d7e2-4155-8fd6-97f49953fa5e\u001b[0m   job run                                                   2021-02-21T21:19:26.000Z                 job_run      available   []                                                                   0   \n",
      "\u001b[36;1m8af92e6d-8cc4-42ad-8143-f74bad639ff7\u001b[0m   job run                                                   2021-02-21T21:21:25.000Z                 job_run      available   []                                                                   0   \n"
     ]
    }
   ],
   "source": [
    "! cpdctl asset search --space-id {space_id} --query '*:*' --type-name asset"
   ]
  },
  {
   "cell_type": "markdown",
   "metadata": {},
   "source": [
    "Export all assets from the source (DEV) space"
   ]
  },
  {
   "cell_type": "code",
   "execution_count": 110,
   "metadata": {},
   "outputs": [
    {
     "name": "stdout",
     "output_type": "stream",
     "text": [
      "The new export with ID: \"3916bbb2-9106-4125-b7a7-7368f36df48d\"\n"
     ]
    }
   ],
   "source": [
    "EXPORT = {\n",
    "    'all_assets': True\n",
    "}\n",
    "EXPORT_JSON = json.dumps(EXPORT)\n",
    "result = ! cpdctl asset export start --space-id {space_id} --assets '{EXPORT_JSON}' --name dev-space-all-assets --output json --jmes-query \"metadata.id\"\n",
    "export_id = result.s\n",
    "print(\"The new export with ID: {}\".format(export_id))"
   ]
  },
  {
   "cell_type": "code",
   "execution_count": 112,
   "metadata": {},
   "outputs": [
    {
     "name": "stdout",
     "output_type": "stream",
     "text": [
      "...\n",
      "\u001b[1m\u001b[0m           \u001b[1m\u001b[0m   \n",
      "\u001b[36;1mID:\u001b[0m        3916bbb2-9106-4125-b7a7-7368f36df48d   \n",
      "\u001b[36;1mName:\u001b[0m      dev-space-all-assets   \n",
      "\u001b[36;1mCreated:\u001b[0m   2021-02-22T06:35:18.568Z   \n",
      "\u001b[36;1mState:\u001b[0m     completed   \n"
     ]
    }
   ],
   "source": [
    "! cpdctl asset export get --space-id {space_id} --export-id {export_id}"
   ]
  },
  {
   "cell_type": "code",
   "execution_count": 114,
   "metadata": {},
   "outputs": [
    {
     "name": "stdout",
     "output_type": "stream",
     "text": [
      "...\n",
      "\u001b[32;1mOK\u001b[0m\n",
      "Output written to dev-space-assets.zip\n"
     ]
    }
   ],
   "source": [
    "dev_space_archive_path = './dev-space-assets.zip'\n",
    "! cpdctl asset export download --space-id {space_id} --export-id {export_id} --output-file {dev_space_archive_path}"
   ]
  },
  {
   "cell_type": "code",
   "execution_count": 118,
   "metadata": {},
   "outputs": [
    {
     "name": "stdout",
     "output_type": "stream",
     "text": [
      "-rw-r--r--  1 rafalbigaj  staff  58590 Feb 22 07:37 ./dev-space-assets.zip\r\n"
     ]
    }
   ],
   "source": [
    "! ls -al {dev_space_archive_path}"
   ]
  },
  {
   "cell_type": "markdown",
   "metadata": {},
   "source": [
    "### 3.2 Create QA space and import assets there<a class=\"anchor\" id=\"part3.2\"></a>"
   ]
  },
  {
   "cell_type": "markdown",
   "metadata": {},
   "source": [
    "Create a new QA space"
   ]
  },
  {
   "cell_type": "code",
   "execution_count": 116,
   "metadata": {},
   "outputs": [
    {
     "name": "stdout",
     "output_type": "stream",
     "text": [
      "The new 'cpdctl-qa-space-for-scripts' space ID is: 691dfe59-ffed-4241-a2a1-9c49be5aaf02\n"
     ]
    }
   ],
   "source": [
    "qa_space_name = 'cpdctl-qa-space-for-scripts'\n",
    "result = ! cpdctl space create --name '{qa_space_name}' --output json --jmes-query \"metadata.id\" --raw-output\n",
    "qa_space_id = result.s\n",
    "print(\"The new '{}' space ID is: {}\".format(qa_space_name, qa_space_id))"
   ]
  },
  {
   "cell_type": "markdown",
   "metadata": {},
   "source": [
    "Import assets from the exported archive into QA space"
   ]
  },
  {
   "cell_type": "code",
   "execution_count": 119,
   "metadata": {},
   "outputs": [
    {
     "name": "stdout",
     "output_type": "stream",
     "text": [
      "The new import ID is: d7781b9b-706f-4f84-9fc2-37ba93f465f5\n"
     ]
    }
   ],
   "source": [
    "result = ! cpdctl asset import start --space-id {qa_space_id} --import-file {dev_space_archive_path} --output json --jmes-query \"metadata.id\" --raw-output\n",
    "qa_import_id = result.s\n",
    "print(\"The new import ID is: {}\".format(qa_import_id))"
   ]
  },
  {
   "cell_type": "code",
   "execution_count": 121,
   "metadata": {},
   "outputs": [
    {
     "name": "stdout",
     "output_type": "stream",
     "text": [
      "...\n",
      "\u001b[1m\u001b[0m           \u001b[1m\u001b[0m   \n",
      "\u001b[36;1mID:\u001b[0m        d7781b9b-706f-4f84-9fc2-37ba93f465f5   \n",
      "\u001b[36;1mCreated:\u001b[0m   2021-02-22T06:43:20.629Z   \n",
      "\u001b[36;1mState:\u001b[0m     completed   \n"
     ]
    }
   ],
   "source": [
    "! cpdctl asset import get --space-id {qa_space_id} --import-id {qa_import_id}"
   ]
  },
  {
   "cell_type": "markdown",
   "metadata": {},
   "source": [
    "List all assets in the QA space"
   ]
  },
  {
   "cell_type": "code",
   "execution_count": 224,
   "metadata": {},
   "outputs": [
    {
     "name": "stdout",
     "output_type": "stream",
     "text": [
      "...\n",
      "\u001b[1mID\u001b[0m                                     \u001b[1mName\u001b[0m                                                      \u001b[1mCreated\u001b[0m                    \u001b[1mDescription\u001b[0m   \u001b[1mType\u001b[0m         \u001b[1mState\u001b[0m       \u001b[1mTags\u001b[0m                               \u001b[1mSize\u001b[0m   \n",
      "\u001b[36;1mfd947b1e-f519-4e67-b937-ac6b652399a6\u001b[0m   batch-job-outputs-connection                              2021-02-22T06:43:24.000Z                 connection   available   []                                 0   \n",
      "\u001b[36;1m0acc0587-2e30-4a24-8f25-e1cd35b53e13\u001b[0m   car_rental_training_data.csv                              2021-02-22T06:43:25.000Z                 data_asset   available   [cpdctl-demo promoted-7fb76cf7]]   79518   \n",
      "\u001b[36;1mc996d65f-5afe-44a8-9549-48a54ddd0000\u001b[0m   bank-marketing-batch-output.csv                           2021-02-22T06:43:25.000Z                 data_asset   available   [connected-data]                   0   \n",
      "\u001b[36;1m7372c4f5-a319-4242-973c-bb9ef695cf15\u001b[0m   boston-house-prices-prediction-model                      2021-02-22T06:43:25.000Z                 wml_model    available   []                                 839   \n",
      "\u001b[36;1m500ddd7e-29a5-47b1-b802-af43c85ed694\u001b[0m   WML-Deployment-Job-45fa001b-4202-43c9-b668-db2b3c7dc9a9   2021-02-22T07:20:20.000Z                 job          available   []                                 0   \n",
      "\u001b[36;1m850f5955-79a5-42fc-ace6-f315bcfb48be\u001b[0m   job run                                                   2021-02-22T07:20:21.000Z                 job_run      available   []                                 0   \n",
      "\u001b[36;1m87ac9f7c-ef61-427a-8ae6-50c6e0ca19b8\u001b[0m   batch_job_script.py                                       2021-02-22T06:43:25.000Z                 script       available   []                                 4183   \n"
     ]
    }
   ],
   "source": [
    "! cpdctl asset search --space-id {qa_space_id} --query '*:*' --type-name asset"
   ]
  },
  {
   "cell_type": "markdown",
   "metadata": {},
   "source": [
    "### 3.3 Run batch deployment job in the QA space<a class=\"anchor\" id=\"part3.3\"></a>"
   ]
  },
  {
   "cell_type": "markdown",
   "metadata": {},
   "source": [
    "Search for the imported script asset in the QA scpace"
   ]
  },
  {
   "cell_type": "code",
   "execution_count": 125,
   "metadata": {},
   "outputs": [
    {
     "name": "stdout",
     "output_type": "stream",
     "text": [
      "ID of the script in QA space: 87ac9f7c-ef61-427a-8ae6-50c6e0ca19b8\n"
     ]
    }
   ],
   "source": [
    "asset_type = 'script'\n",
    "query = 'asset.name:{}'.format('batch_job_script.py')\n",
    "jmes_query = 'results[0].metadata.asset_id'\n",
    "result = ! cpdctl asset search --space-id {qa_space_id} --query '{query}' --type-name {asset_type} --output json --jmes-query \"{jmes_query}\" --raw-output\n",
    "qa_script_id = result.s\n",
    "print(\"ID of the script in QA space: {}\".format(qa_script_id))\n"
   ]
  },
  {
   "cell_type": "markdown",
   "metadata": {},
   "source": [
    "Create the script batch deployment in the QA space:"
   ]
  },
  {
   "cell_type": "code",
   "execution_count": 129,
   "metadata": {},
   "outputs": [],
   "source": [
    "asset = {\n",
    "    'id': qa_script_id\n",
    "}\n",
    "asset_json = json.dumps(asset)\n",
    "\n",
    "hardware_spec = {\n",
    "    'name': 'S'\n",
    "}\n",
    "hardware_spec_json = json.dumps(hardware_spec)\n",
    "\n",
    "batch_json = '{}'\n",
    "\n",
    "deployment_name = 'script_batch_deployment'"
   ]
  },
  {
   "cell_type": "code",
   "execution_count": 138,
   "metadata": {},
   "outputs": [
    {
     "name": "stdout",
     "output_type": "stream",
     "text": [
      "ID of the deployment in QA space: 45fa001b-4202-43c9-b668-db2b3c7dc9a9\n"
     ]
    }
   ],
   "source": [
    "result = ! cpdctl ml deployment create --space-id {qa_space_id} --name '{deployment_name}' --asset '{asset_json}' --hardware-spec '{hardware_spec_json}' --batch '{batch_json}' --output json -j \"metadata.id\" --raw-output\n",
    "qa_deployment_id = result.s\n",
    "print(\"ID of the deployment in QA space: {}\".format(qa_deployment_id))"
   ]
  },
  {
   "cell_type": "markdown",
   "metadata": {},
   "source": [
    "Create a deployment job"
   ]
  },
  {
   "cell_type": "code",
   "execution_count": 139,
   "metadata": {},
   "outputs": [],
   "source": [
    "deployment_job_name = 'script_batch_deployment_job'\n",
    "\n",
    "deployment = {\n",
    "    'id': qa_deployment_id\n",
    "}\n",
    "deployment_json = json.dumps(deployment)\n",
    "\n",
    "scoring = {\n",
    "    \"input_data_references\": [\n",
    "      {\n",
    "        \"type\": \"data_asset\",\n",
    "        \"connection\": {},\n",
    "        \"location\": {\n",
    "          \"href\": \"/v2/assets/0acc0587-2e30-4a24-8f25-e1cd35b53e13?space_id=691dfe59-ffed-4241-a2a1-9c49be5aaf02\"\n",
    "        }\n",
    "      }\n",
    "    ],\n",
    "    \"output_data_reference\": {\n",
    "      \"type\": \"data_asset\",\n",
    "      \"connection\": {},\n",
    "      \"location\": {\n",
    "        \"href\": \"/v2/assets/c996d65f-5afe-44a8-9549-48a54ddd0000?space_id=691dfe59-ffed-4241-a2a1-9c49be5aaf02\"\n",
    "      }\n",
    "    }\n",
    "}\n",
    "scoring_json = json.dumps(scoring)"
   ]
  },
  {
   "cell_type": "code",
   "execution_count": 140,
   "metadata": {},
   "outputs": [
    {
     "name": "stdout",
     "output_type": "stream",
     "text": [
      "{\n",
      "  \"entity\": {\n",
      "    \"deployment\": {\n",
      "      \"id\": \"45fa001b-4202-43c9-b668-db2b3c7dc9a9\"\n",
      "    },\n",
      "    \"platform_job\": {\n",
      "      \"job_id\": \"500ddd7e-29a5-47b1-b802-af43c85ed694\",\n",
      "      \"run_id\": \"850f5955-79a5-42fc-ace6-f315bcfb48be\"\n",
      "    },\n",
      "    \"scoring\": {\n",
      "      \"input_data_references\": [\n",
      "        {\n",
      "          \"connection\": {},\n",
      "          \"location\": {\n",
      "            \"href\": \"/v2/assets/0acc0587-2e30-4a24-8f25-e1cd35b53e13?space_id=691dfe59-ffed-4241-a2a1-9c49be5aaf02\"\n",
      "          },\n",
      "          \"type\": \"data_asset\"\n",
      "        }\n",
      "      ],\n",
      "      \"output_data_reference\": {\n",
      "        \"connection\": {},\n",
      "        \"location\": {\n",
      "          \"href\": \"/v2/assets/c996d65f-5afe-44a8-9549-48a54ddd0000?space_id=691dfe59-ffed-4241-a2a1-9c49be5aaf02\"\n",
      "        },\n",
      "        \"type\": \"data_asset\"\n",
      "      },\n",
      "      \"status\": {\n",
      "        \"state\": \"queued\"\n",
      "      }\n",
      "    }\n",
      "  },\n",
      "  \"metadata\": {\n",
      "    \"created_at\": \"2021-02-22T07:20:21.087Z\",\n",
      "    \"id\": \"1c26fb04-04ea-4112-a307-550c432a9f29\",\n",
      "    \"name\": \"script_batch_deployment_job\",\n",
      "    \"space_id\": \"691dfe59-ffed-4241-a2a1-9c49be5aaf02\"\n",
      "  }\n",
      "}\n"
     ]
    }
   ],
   "source": [
    "result = ! cpdctl ml deployment-job create --space-id {qa_space_id} --name '{deployment_job_name}' --deployment '{deployment_json}' --scoring '{scoring_json}' --output json\n",
    "qa_deployment_job = json.loads(result.s)\n",
    "print(json.dumps(qa_deployment_job, indent=2))\n",
    "qa_job_id = qa_deployment_job['entity']['platform_job']['job_id']\n",
    "qa_run_id = qa_deployment_job['entity']['platform_job']['run_id']"
   ]
  },
  {
   "cell_type": "markdown",
   "metadata": {},
   "source": [
    "Wait for job completion"
   ]
  },
  {
   "cell_type": "code",
   "execution_count": 141,
   "metadata": {},
   "outputs": [
    {
     "name": "stdout",
     "output_type": "stream",
     "text": [
      "...\n",
      "\u001b[1m\u001b[0m               \u001b[1m\u001b[0m   \n",
      "\u001b[36;1mID:\u001b[0m            850f5955-79a5-42fc-ace6-f315bcfb48be   \n",
      "\u001b[36;1mName:\u001b[0m          job run   \n",
      "\u001b[36;1mCreated:\u001b[0m       2021-02-22T07:20:21Z   \n",
      "\u001b[36;1mDescription:\u001b[0m      \n",
      "\u001b[36;1mState:\u001b[0m         Completed   \n",
      "\u001b[36;1mTags:\u001b[0m          []   \n"
     ]
    }
   ],
   "source": [
    "! cpdctl job run wait --job-id {qa_job_id} --run-id {qa_run_id} --space-id {qa_space_id}"
   ]
  },
  {
   "cell_type": "markdown",
   "metadata": {},
   "source": [
    "You can see the batch deployment log:"
   ]
  },
  {
   "cell_type": "code",
   "execution_count": 142,
   "metadata": {},
   "outputs": [
    {
     "name": "stdout",
     "output_type": "stream",
     "text": [
      "...\n",
      "\u001b[1mtotal_count\u001b[0m   \u001b[1mresults\u001b[0m   \n",
      "\u001b[36;1m36\u001b[0m            {   \n",
      "\u001b[36;1m36\u001b[0m              \"deployment\": {   \n",
      "\u001b[36;1m36\u001b[0m                \"id\": \"45fa001b-4202-43c9-b668-db2b3c7dc9a9\"   \n",
      "\u001b[36;1m36\u001b[0m              },   \n",
      "\u001b[36;1m36\u001b[0m              \"platform_job\": {   \n",
      "\u001b[36;1m36\u001b[0m                \"job_id\": \"500ddd7e-29a5-47b1-b802-af43c85ed694\",   \n",
      "\u001b[36;1m36\u001b[0m                \"run_id\": \"850f5955-79a5-42fc-ace6-f315bcfb48be\"   \n",
      "\u001b[36;1m36\u001b[0m              },   \n",
      "\u001b[36;1m36\u001b[0m              \"scoring\": {   \n",
      "\u001b[36;1m36\u001b[0m                \"input_data_references\": [   \n",
      "\u001b[36;1m36\u001b[0m                  {   \n",
      "\u001b[36;1m36\u001b[0m                    \"connection\": {},   \n",
      "\u001b[36;1m36\u001b[0m                    \"location\": {   \n",
      "\u001b[36;1m36\u001b[0m                      \"href\": \"/v2/assets/0acc0587-2e30-4a24-8f25-e1cd35b53e13?space_id=691dfe59-ffed-4241-a2a1-9c49be5aaf02\"   \n",
      "\u001b[36;1m36\u001b[0m                    },   \n",
      "\u001b[36;1m36\u001b[0m                    \"type\": \"data_asset\"   \n",
      "\u001b[36;1m36\u001b[0m                  }   \n",
      "\u001b[36;1m36\u001b[0m                ],   \n",
      "\u001b[36;1m36\u001b[0m                \"output_data_reference\": {   \n",
      "\u001b[36;1m36\u001b[0m                  \"connection\": {},   \n",
      "\u001b[36;1m36\u001b[0m                  \"location\": {   \n",
      "\u001b[36;1m36\u001b[0m                    \"href\": \"/v2/assets/c996d65f-5afe-44a8-9549-48a54ddd0000?space_id=691dfe59-ffed-4241-a2a1-9c49be5aaf02\"   \n",
      "\u001b[36;1m36\u001b[0m                  },   \n",
      "\u001b[36;1m36\u001b[0m                  \"type\": \"data_asset\"   \n",
      "\u001b[36;1m36\u001b[0m                },   \n",
      "\u001b[36;1m36\u001b[0m                \"status\": {   \n",
      "\u001b[36;1m36\u001b[0m                  \"completed_at\": \"2021-02-22T07:20:56.985995Z\",   \n",
      "\u001b[36;1m36\u001b[0m                  \"message\": {   \n",
      "\u001b[36;1m36\u001b[0m                    \"text\": \"The directory pointed by the environment variable BATCH_OUTPUT_DIR is empty, skipping content upload to data asset\",   \n",
      "\u001b[36;1m36\u001b[0m                    \"level\": \"warning\"   \n",
      "\u001b[36;1m36\u001b[0m                  },   \n",
      "\u001b[36;1m36\u001b[0m                  \"running_at\": \"2021-02-22T07:20:34.967625Z\",   \n",
      "\u001b[36;1m36\u001b[0m                  \"state\": \"completed\"   \n",
      "\u001b[36;1m36\u001b[0m                }   \n",
      "\u001b[36;1m36\u001b[0m              }   \n",
      "\u001b[36;1m36\u001b[0m            }   \n"
     ]
    }
   ],
   "source": [
    "! cpdctl job run logs --job-id {qa_job_id} --run-id {qa_run_id} --space-id {qa_space_id}"
   ]
  },
  {
   "cell_type": "markdown",
   "metadata": {},
   "source": [
    "## 4. Demo 3: Download the script from the QA space and upload it to the production space <a class=\"anchor\" id=\"part4\"></a>"
   ]
  },
  {
   "cell_type": "markdown",
   "metadata": {},
   "source": [
    "Before starting with this section, please ensure that you have run the cells in all previous sections: [Section 1](#part1), [Section 2](#part2) and [Section 3](#part3)."
   ]
  },
  {
   "cell_type": "markdown",
   "metadata": {},
   "source": [
    "### 4.1 Downloading a script <a class=\"anchor\" id=\"part4.1\"></a>"
   ]
  },
  {
   "cell_type": "markdown",
   "metadata": {},
   "source": [
    "Download the script from the QA space"
   ]
  },
  {
   "cell_type": "code",
   "execution_count": 148,
   "metadata": {},
   "outputs": [
    {
     "name": "stdout",
     "output_type": "stream",
     "text": [
      "Path to the QA script: script/batch_job_script_63g58m853sl56suvhibtt2c99.py\n"
     ]
    }
   ],
   "source": [
    "jmes_query = 'attachments[0].object_key'\n",
    "result = ! cpdctl asset get --space-id {qa_space_id} --asset-id {qa_script_id} --output json --jmes-query {jmes_query} --raw-output\n",
    "qa_script_path = result.s\n",
    "print('Path to the QA script: {}'.format(qa_script_path))"
   ]
  },
  {
   "cell_type": "code",
   "execution_count": 150,
   "metadata": {},
   "outputs": [
    {
     "name": "stdout",
     "output_type": "stream",
     "text": [
      "...\n",
      "\u001b[32;1mOK\u001b[0m\n",
      "Output written to qa_batch_job_script.py\n"
     ]
    }
   ],
   "source": [
    "local_script_path = \"qa_batch_job_script.py\"\n",
    "! cpdctl asset file download --space-id {qa_space_id} --path {qa_script_path} --output-file {local_script_path}"
   ]
  },
  {
   "cell_type": "code",
   "execution_count": 151,
   "metadata": {},
   "outputs": [
    {
     "name": "stdout",
     "output_type": "stream",
     "text": [
      "import os\r\n",
      "import ibm_boto3\r\n",
      "import json\r\n",
      "import pandas as pd\r\n",
      "import requests\r\n",
      "from botocore.client import Config\r\n",
      "from ibm_watson_machine_learning import APIClient\r\n",
      "\r\n",
      "\r\n",
      "### Function to get asset details using REST API. This won't be needed once python client adds attachment details in asset meta ###\r\n"
     ]
    }
   ],
   "source": [
    "! head {local_script_path}"
   ]
  },
  {
   "cell_type": "markdown",
   "metadata": {},
   "source": [
    "### 4.2 Creating the new script in production space<a class=\"anchor\" id=\"part4.2\"></a>"
   ]
  },
  {
   "cell_type": "markdown",
   "metadata": {},
   "source": [
    "Upload the script file to production space:"
   ]
  },
  {
   "cell_type": "code",
   "execution_count": 167,
   "metadata": {},
   "outputs": [
    {
     "name": "stdout",
     "output_type": "stream",
     "text": [
      "Production space ID: 6c205951-1c61-49b9-b46d-e5e199492775\n"
     ]
    }
   ],
   "source": [
    "prod_space_name = 'cpdctl-prod-space-for-scripts'\n",
    "jmes_query = \"resources[?entity.name == '{}'] | [0].metadata.id\".format(prod_space_name)\n",
    "result = ! cpdctl space list --output json --jmes-query \"{jmes_query}\" --raw-output\n",
    "prod_space_id = result.s\n",
    "print('Production space ID: {}'.format(prod_space_id))"
   ]
  },
  {
   "cell_type": "code",
   "execution_count": 168,
   "metadata": {},
   "outputs": [
    {
     "name": "stdout",
     "output_type": "stream",
     "text": [
      "...\n",
      "\u001b[32;1mOK\u001b[0m\n"
     ]
    }
   ],
   "source": [
    "remote_script_path = \"script/batch_job_script.py\"\n",
    "! cpdctl asset file upload --path {remote_script_path} --file {local_script_path} --space-id {prod_space_id}"
   ]
  },
  {
   "cell_type": "code",
   "execution_count": 169,
   "metadata": {},
   "outputs": [
    {
     "name": "stdout",
     "output_type": "stream",
     "text": [
      "software specification id: e4429883-c883-42b6-87a8-f419d64088cd\n"
     ]
    }
   ],
   "source": [
    "jmes_query = \"resources[0].metadata.asset_id\"\n",
    "result = ! cpdctl environment software-specification list --space-id {prod_space_id} --name '{software_specification_name}' --output json --jmes-query '{jmes_query}' --raw-output\n",
    "prod_software_specification_id = result.s\n",
    "print(\"software specification id: {}\".format(prod_software_specification_id))"
   ]
  },
  {
   "cell_type": "markdown",
   "metadata": {},
   "source": [
    "Specify the metadata, entity and attachments of the script file in the production space:"
   ]
  },
  {
   "cell_type": "code",
   "execution_count": 178,
   "metadata": {},
   "outputs": [],
   "source": [
    "script_ts = datetime.now().strftime('%Y%m%d-%H%M%S')\n",
    "\n",
    "metadata = {\n",
    "    \"name\": \"batch_job_script_{}\".format(script_ts),\n",
    "    \"asset_type\": \"script\",\n",
    "    \"asset_category\": \"USER\",\n",
    "    \"origin_country\": \"us\"\n",
    "}\n",
    "metadata_json = json.dumps(metadata)\n",
    "\n",
    "entity = {\n",
    "    \"script\": {\n",
    "        \"language\": {\n",
    "            \"name\": \"python3\"\n",
    "        },\n",
    "        \"software_spec\": {\n",
    "            \"base_id\": \"{}\".format(prod_software_specification_id),\n",
    "            \"name\": software_specification_name\n",
    "        }\n",
    "    }\n",
    "}\n",
    "entity_json = json.dumps(entity)\n",
    "\n",
    "attachments = [\n",
    "    {\n",
    "        \"asset_type\": \"script\",\n",
    "        \"name\": \"batch_job_script.py\",\n",
    "        \"description\": \"attachment for script\",\n",
    "        \"mime\": \"application/text\",\n",
    "        \"object_key\": remote_script_path\n",
    "    }\n",
    "]\n",
    "attachments_json = json.dumps(attachments)"
   ]
  },
  {
   "cell_type": "markdown",
   "metadata": {},
   "source": [
    "Create a Python script asset:"
   ]
  },
  {
   "cell_type": "code",
   "execution_count": 179,
   "metadata": {},
   "outputs": [
    {
     "name": "stdout",
     "output_type": "stream",
     "text": [
      "ID of the script in production space: d42e3972-bcff-487e-bbb9-2058211af83a\n"
     ]
    }
   ],
   "source": [
    "result = ! cpdctl asset create --metadata '{metadata_json}' --entity '{entity_json}' --attachments '{attachments_json}' --space-id {prod_space_id} --output json -j \"metadata.asset_id\" --raw-output\n",
    "prod_script_id = result.s\n",
    "print(\"ID of the script in production space: {}\".format(prod_script_id))"
   ]
  },
  {
   "cell_type": "markdown",
   "metadata": {},
   "source": [
    "### 4.3 Updating the existing script deployment<a class=\"anchor\" id=\"part4.3\"></a>"
   ]
  },
  {
   "cell_type": "markdown",
   "metadata": {},
   "source": [
    "Update the **existing** script batch deployment in the production space:"
   ]
  },
  {
   "cell_type": "code",
   "execution_count": 186,
   "metadata": {},
   "outputs": [
    {
     "name": "stdout",
     "output_type": "stream",
     "text": [
      "Existing production deployment ID: 8be0d371-f2e8-4dd4-8c90-dd5fbd66800d\n"
     ]
    }
   ],
   "source": [
    "deployment_name = 'script_batch_deployment'\n",
    "jmes_query = 'resources[0].metadata.id'\n",
    "result = ! cpdctl ml deployment list --space-id {prod_space_id} --name {deployment_name} --output json --jmes-query '{jmes_query}' --raw-output\n",
    "prod_deployment_id = result.s\n",
    "print('Existing production deployment ID: {}'.format(prod_deployment_id))"
   ]
  },
  {
   "cell_type": "markdown",
   "metadata": {},
   "source": [
    "Update the deployed asset with the newly created script"
   ]
  },
  {
   "cell_type": "code",
   "execution_count": 188,
   "metadata": {},
   "outputs": [],
   "source": [
    "asset = {\n",
    "    'id': prod_script_id\n",
    "}\n",
    "asset_json = json.dumps(asset)"
   ]
  },
  {
   "cell_type": "code",
   "execution_count": 189,
   "metadata": {},
   "outputs": [
    {
     "name": "stdout",
     "output_type": "stream",
     "text": [
      "...\n",
      "\u001b[1m\u001b[0m           \u001b[1m\u001b[0m   \n",
      "\u001b[36;1mID:\u001b[0m        8be0d371-f2e8-4dd4-8c90-dd5fbd66800d   \n",
      "\u001b[36;1mName:\u001b[0m      script_batch_deployment   \n",
      "\u001b[36;1mCreated:\u001b[0m   2021-02-22T08:08:21.866Z   \n",
      "\u001b[36;1mState:\u001b[0m     ready   \n",
      "\u001b[36;1mTags:\u001b[0m      []   \n"
     ]
    }
   ],
   "source": [
    "! cpdctl ml deployment update --space-id {prod_space_id} --deployment-id {prod_deployment_id} --asset '{asset_json}'"
   ]
  },
  {
   "cell_type": "markdown",
   "metadata": {},
   "source": [
    "Get the deployment job"
   ]
  },
  {
   "cell_type": "code",
   "execution_count": 194,
   "metadata": {},
   "outputs": [
    {
     "name": "stdout",
     "output_type": "stream",
     "text": [
      "Production job ID: c00b56a7-2eca-44d7-9d9e-100357591d7f\n"
     ]
    }
   ],
   "source": [
    "jmes_query = 'resources[0].entity.platform_job.job_id'\n",
    "result = ! cpdctl ml deployment-job list --deployment-id {prod_deployment_id} --space-id {prod_space_id} --output json --jmes-query '{jmes_query}' --raw-output\n",
    "prod_job_id = result.s\n",
    "print('Production job ID: {}'.format(prod_job_id))"
   ]
  },
  {
   "cell_type": "code",
   "execution_count": 202,
   "metadata": {},
   "outputs": [
    {
     "name": "stdout",
     "output_type": "stream",
     "text": [
      "ID of the job run in production space: 17f85b05-8670-452f-babb-9c4882a04fbc\n"
     ]
    }
   ],
   "source": [
    "run = '{}'\n",
    "jmes_query = 'metadata.asset_id'\n",
    "result = ! cpdctl job run create --space-id {prod_space_id} --job-id {prod_job_id} --job-run '{run}' --output json --jmes-query '{jmes_query}' --raw-output\n",
    "prod_run_id = result.s\n",
    "print('ID of the job run in production space: {}'.format(prod_run_id))"
   ]
  },
  {
   "cell_type": "markdown",
   "metadata": {},
   "source": [
    "Wait for job completion"
   ]
  },
  {
   "cell_type": "code",
   "execution_count": 203,
   "metadata": {},
   "outputs": [
    {
     "name": "stdout",
     "output_type": "stream",
     "text": [
      "...\n",
      "\u001b[1m\u001b[0m               \u001b[1m\u001b[0m   \n",
      "\u001b[36;1mID:\u001b[0m            17f85b05-8670-452f-babb-9c4882a04fbc   \n",
      "\u001b[36;1mName:\u001b[0m          job run   \n",
      "\u001b[36;1mCreated:\u001b[0m       2021-02-22T08:33:30Z   \n",
      "\u001b[36;1mDescription:\u001b[0m      \n",
      "\u001b[36;1mState:\u001b[0m         Completed   \n",
      "\u001b[36;1mTags:\u001b[0m          []   \n"
     ]
    }
   ],
   "source": [
    "! cpdctl job run wait --job-id {prod_job_id} --run-id {prod_run_id} --space-id {prod_space_id}"
   ]
  },
  {
   "cell_type": "markdown",
   "metadata": {},
   "source": [
    "You can see the batch deployment log:"
   ]
  },
  {
   "cell_type": "code",
   "execution_count": 205,
   "metadata": {},
   "outputs": [
    {
     "name": "stdout",
     "output_type": "stream",
     "text": [
      "...\n",
      "\u001b[1mtotal_count\u001b[0m   \u001b[1mresults\u001b[0m   \n",
      "\u001b[36;1m39\u001b[0m            {   \n",
      "\u001b[36;1m39\u001b[0m              \"deployment\": {   \n",
      "\u001b[36;1m39\u001b[0m                \"id\": \"8be0d371-f2e8-4dd4-8c90-dd5fbd66800d\"   \n",
      "\u001b[36;1m39\u001b[0m              },   \n",
      "\u001b[36;1m39\u001b[0m              \"hardware_spec\": {   \n",
      "\u001b[36;1m39\u001b[0m                \"id\": \"f3ebac7d-0a75-410c-8b48-a931428cc4c5\"   \n",
      "\u001b[36;1m39\u001b[0m              },   \n",
      "\u001b[36;1m39\u001b[0m              \"platform_job\": {   \n",
      "\u001b[36;1m39\u001b[0m                \"job_id\": \"c00b56a7-2eca-44d7-9d9e-100357591d7f\",   \n",
      "\u001b[36;1m39\u001b[0m                \"run_id\": \"17f85b05-8670-452f-babb-9c4882a04fbc\"   \n",
      "\u001b[36;1m39\u001b[0m              },   \n",
      "\u001b[36;1m39\u001b[0m              \"scoring\": {   \n",
      "\u001b[36;1m39\u001b[0m                \"input_data_references\": [   \n",
      "\u001b[36;1m39\u001b[0m                  {   \n",
      "\u001b[36;1m39\u001b[0m                    \"connection\": {},   \n",
      "\u001b[36;1m39\u001b[0m                    \"location\": {   \n",
      "\u001b[36;1m39\u001b[0m                      \"href\": \"/v2/assets/8dbf6071-8e0e-4bae-96f8-e5035c607eca?space_id=6c205951-1c61-49b9-b46d-e5e199492775\"   \n",
      "\u001b[36;1m39\u001b[0m                    },   \n",
      "\u001b[36;1m39\u001b[0m                    \"type\": \"data_asset\"   \n",
      "\u001b[36;1m39\u001b[0m                  }   \n",
      "\u001b[36;1m39\u001b[0m                ],   \n",
      "\u001b[36;1m39\u001b[0m                \"output_data_reference\": {   \n",
      "\u001b[36;1m39\u001b[0m                  \"connection\": {},   \n",
      "\u001b[36;1m39\u001b[0m                  \"location\": {   \n",
      "\u001b[36;1m39\u001b[0m                    \"href\": \"/v2/assets/a857e1dd-620c-4ecb-876b-85ecd56f73a0?space_id=6c205951-1c61-49b9-b46d-e5e199492775\"   \n",
      "\u001b[36;1m39\u001b[0m                  },   \n",
      "\u001b[36;1m39\u001b[0m                  \"type\": \"data_asset\"   \n",
      "\u001b[36;1m39\u001b[0m                },   \n",
      "\u001b[36;1m39\u001b[0m                \"status\": {   \n",
      "\u001b[36;1m39\u001b[0m                  \"completed_at\": \"2021-02-22T08:34:20.993778Z\",   \n",
      "\u001b[36;1m39\u001b[0m                  \"message\": {   \n",
      "\u001b[36;1m39\u001b[0m                    \"text\": \"The directory pointed by the environment variable BATCH_OUTPUT_DIR is empty, skipping content upload to data asset\",   \n",
      "\u001b[36;1m39\u001b[0m                    \"level\": \"warning\"   \n",
      "\u001b[36;1m39\u001b[0m                  },   \n",
      "\u001b[36;1m39\u001b[0m                  \"running_at\": \"2021-02-22T08:33:44.182146Z\",   \n",
      "\u001b[36;1m39\u001b[0m                  \"state\": \"completed\"   \n",
      "\u001b[36;1m39\u001b[0m                }   \n",
      "\u001b[36;1m39\u001b[0m              }   \n",
      "\u001b[36;1m39\u001b[0m            }   \n"
     ]
    }
   ],
   "source": [
    "! cpdctl job run logs --job-id {prod_job_id} --run-id {prod_run_id} --space-id {prod_space_id}"
   ]
  },
  {
   "cell_type": "markdown",
   "metadata": {},
   "source": [
    "## 5. Cleanup <a class=\"anchor\" id=\"part5\"></a>"
   ]
  },
  {
   "cell_type": "markdown",
   "metadata": {},
   "source": [
    "Delete QA space"
   ]
  },
  {
   "cell_type": "code",
   "execution_count": 227,
   "metadata": {},
   "outputs": [
    {
     "name": "stdout",
     "output_type": "stream",
     "text": [
      "...\n",
      "\u001b[32;1mOK\u001b[0m\n"
     ]
    }
   ],
   "source": [
    "! cpdctl space delete --space-id {qa_space_id}"
   ]
  },
  {
   "cell_type": "markdown",
   "metadata": {},
   "source": [
    "### Author\n",
    "\n",
    "Rafał Bigaj, System Architect with long successful record of building and leading teams. Broad and practical knowledge in the area of cloud computing, machine learning and distributed systems development. "
   ]
  },
  {
   "cell_type": "markdown",
   "metadata": {},
   "source": [
    "Copyright © 2020 IBM. This notebook and its source code are released under the terms of the MIT License."
   ]
  }
 ],
 "metadata": {
  "kernelspec": {
   "display_name": "Python 3",
   "language": "python",
   "name": "python3"
  },
  "language_info": {
   "codemirror_mode": {
    "name": "ipython",
    "version": 3
   },
   "file_extension": ".py",
   "mimetype": "text/x-python",
   "name": "python",
   "nbconvert_exporter": "python",
   "pygments_lexer": "ipython3",
   "version": "3.7.4"
  }
 },
 "nbformat": 4,
 "nbformat_minor": 4
}
