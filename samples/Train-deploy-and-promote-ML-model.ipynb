{
 "cells": [
  {
   "cell_type": "markdown",
   "metadata": {},
   "source": [
    "# Train, promote and deploy Boston house prices prediction model"
   ]
  },
  {
   "cell_type": "markdown",
   "metadata": {},
   "source": [
    "This notebook contains steps and code to demonstrate support of AI Lifecycle features in Cloud Pak for Data. \n",
    "It contains steps and code to work with [`cpdctl`](https://github.com/IBM/cpdctl) CLI tool available in IBM github repository. \n",
    "It also introduces commands for getting model and training data, persisting model, deploying model\n",
    "and promoting it between deployment spaces.\n",
    "\n",
    "Some familiarity with Python is helpful. This notebook uses Python 3.7.\n"
   ]
  },
  {
   "cell_type": "code",
   "execution_count": 2,
   "metadata": {},
   "outputs": [],
   "source": [
    "import base64\n",
    "import json\n",
    "import os\n",
    "import platform\n",
    "import requests\n",
    "from IPython.core.display import display, HTML"
   ]
  },
  {
   "cell_type": "markdown",
   "metadata": {},
   "source": [
    "## CPD Credentials"
   ]
  },
  {
   "cell_type": "code",
   "execution_count": 3,
   "metadata": {},
   "outputs": [],
   "source": [
    "CPD35_USER_NAME = 'YOUR CPD 3.0.1 user name'\n",
    "CPD35_USER_PASSWORD = 'YOUR CPD 3.0.1 user password'\n",
    "CPD35_URL = 'YOUR CPD 3.0.1 CLUSTER URL'"
   ]
  },
  {
   "cell_type": "markdown",
   "metadata": {},
   "source": [
    "### Install the latest version of `cpdctl`"
   ]
  },
  {
   "cell_type": "code",
   "execution_count": 83,
   "metadata": {},
   "outputs": [
    {
     "data": {
      "text/html": [
       "<code>cpdctl</code> binary downloaded from: <a href=\"https://github.com/IBM/cpdctl/releases/download/v0.4/cpdctl_darwin_amd64.tar.gz\">cpdctl_darwin_amd64.tar.gz</a>"
      ],
      "text/plain": [
       "<IPython.core.display.HTML object>"
      ]
     },
     "metadata": {},
     "output_type": "display_data"
    }
   ],
   "source": [
    "PLATFORM = platform.system().lower()\n",
    "CPDCTL_ARCH = \"{}_amd64\".format(PLATFORM)\n",
    "CPDCTL_RELEASES_URL=\"https://api.github.com/repos/IBM/cpdctl/releases\"\n",
    "CWD = os.getcwd()\n",
    "PATH = os.environ['PATH']\n",
    "CPDCONFIG = os.path.join(CWD, '.cpdctl.config.yml')\n",
    "\n",
    "response = requests.get(CPDCTL_RELEASES_URL)\n",
    "assets = response.json()[0]['assets']\n",
    "platform_asset = next(a for a in assets if CPDCTL_ARCH in a['name'])\n",
    "cpdctl_url = platform_asset['url']\n",
    "cpdctl_file_name = platform_asset['name']\n",
    "\n",
    "response = requests.get(cpdctl_url, headers={'Accept': 'application/octet-stream'})\n",
    "with open(cpdctl_file_name, 'wb') as f:\n",
    "    f.write(response.content)\n",
    "    \n",
    "display(HTML('<code>cpdctl</code> binary downloaded from: <a href=\"{}\">{}</a>'.format(platform_asset['browser_download_url'], platform_asset['name'])))"
   ]
  },
  {
   "cell_type": "code",
   "execution_count": 84,
   "metadata": {},
   "outputs": [],
   "source": [
    "%%capture\n",
    "\n",
    "%env PATH={CWD}:{PATH}\n",
    "%env CPDCONFIG={CPDCONFIG}"
   ]
  },
  {
   "cell_type": "code",
   "execution_count": 85,
   "metadata": {},
   "outputs": [
    {
     "name": "stdout",
     "output_type": "stream",
     "text": [
      "cpdctl version: 0.4.23\n"
     ]
    }
   ],
   "source": [
    "if CPDCONFIG and os.path.exists(CPDCONFIG):\n",
    "    os.remove(CPDCONFIG)\n",
    "    \n",
    "! tar -xzf cpdctl.tag.gz\n",
    "\n",
    "version_r = ! cpdctl version\n",
    "CPDCTL_VERSION = version_r.s\n",
    "\n",
    "print(\"cpdctl version: {}\".format(CPDCTL_VERSION))"
   ]
  },
  {
   "cell_type": "markdown",
   "metadata": {},
   "source": [
    "# CPDCTL Demo\n",
    "\n",
    "AI Lifecycle automation using `cpdctl` CLI tool with CPD 3.5 cluster."
   ]
  },
  {
   "cell_type": "markdown",
   "metadata": {},
   "source": [
    "### Add CPD 3.5 cluster configuration"
   ]
  },
  {
   "cell_type": "markdown",
   "metadata": {},
   "source": [
    "Add \"cpd35_user\" user to the `cpdctl` configuration"
   ]
  },
  {
   "cell_type": "code",
   "execution_count": 8,
   "metadata": {},
   "outputs": [],
   "source": [
    "! cpdctl config user set cpd35_user --username {CPD35_USER_NAME} --password {CPD35_USER_PASSWORD}"
   ]
  },
  {
   "cell_type": "markdown",
   "metadata": {},
   "source": [
    "Add \"cpd35\" profile to the `cpdctl` configuration"
   ]
  },
  {
   "cell_type": "code",
   "execution_count": 9,
   "metadata": {},
   "outputs": [],
   "source": [
    "! cpdctl config profile set cpd35 --url {CPD35_URL} --user cpd35_user"
   ]
  },
  {
   "cell_type": "markdown",
   "metadata": {},
   "source": [
    "Add \"cpd35\" context to the `cpdctl` configuration"
   ]
  },
  {
   "cell_type": "code",
   "execution_count": 10,
   "metadata": {},
   "outputs": [],
   "source": [
    "! cpdctl config context set cpd35 --profile cpd35 --user cpd35_user"
   ]
  },
  {
   "cell_type": "markdown",
   "metadata": {},
   "source": [
    "List available contexts"
   ]
  },
  {
   "cell_type": "code",
   "execution_count": 11,
   "metadata": {},
   "outputs": [
    {
     "name": "stdout",
     "output_type": "stream",
     "text": [
      "\u001b[1mName\u001b[0m    \u001b[1mProfile\u001b[0m   \u001b[1mUser\u001b[0m         \u001b[1mCurrent\u001b[0m   \r\n",
      "\u001b[36;1mcpd35\u001b[0m   cpd35     cpd35_user   *   \r\n"
     ]
    }
   ],
   "source": [
    "! cpdctl config context list"
   ]
  },
  {
   "cell_type": "code",
   "execution_count": 12,
   "metadata": {},
   "outputs": [
    {
     "name": "stdout",
     "output_type": "stream",
     "text": [
      "Switched to context \"cpd35\".\r\n"
     ]
    }
   ],
   "source": [
    "! cpdctl config context use cpd35"
   ]
  },
  {
   "cell_type": "markdown",
   "metadata": {},
   "source": [
    "List available projects in current context"
   ]
  },
  {
   "cell_type": "code",
   "execution_count": 13,
   "metadata": {},
   "outputs": [
    {
     "name": "stdout",
     "output_type": "stream",
     "text": [
      "...\n",
      "\u001b[1mID\u001b[0m                                     \u001b[1mName\u001b[0m          \u001b[1mCreated\u001b[0m                    \u001b[1mDescription\u001b[0m   \u001b[1mTags\u001b[0m   \n",
      "\u001b[36;1m7fb76cf7-25be-435d-818e-bd6e9b5254f5\u001b[0m   cpdctl-demo   2021-01-29T08:01:23.363Z                 []   \n"
     ]
    }
   ],
   "source": [
    "! cpdctl project list"
   ]
  },
  {
   "cell_type": "markdown",
   "metadata": {},
   "source": [
    "### Access the selected project assets"
   ]
  },
  {
   "cell_type": "markdown",
   "metadata": {},
   "source": [
    "Get project the first project ID and show details"
   ]
  },
  {
   "cell_type": "code",
   "execution_count": 14,
   "metadata": {},
   "outputs": [],
   "source": [
    "result = ! cpdctl project list --output json --raw-output --jmes-query 'resources[0].metadata.guid'\n",
    "PROJECT_ID = result.s"
   ]
  },
  {
   "cell_type": "code",
   "execution_count": 15,
   "metadata": {
    "scrolled": true
   },
   "outputs": [
    {
     "name": "stdout",
     "output_type": "stream",
     "text": [
      "...\n",
      "\u001b[1m\u001b[0m               \u001b[1m\u001b[0m   \n",
      "\u001b[36;1mID:\u001b[0m            7fb76cf7-25be-435d-818e-bd6e9b5254f5   \n",
      "\u001b[36;1mName:\u001b[0m          cpdctl-demo   \n",
      "\u001b[36;1mCreated:\u001b[0m       2021-01-29T08:01:23.363Z   \n",
      "\u001b[36;1mDescription:\u001b[0m      \n",
      "\u001b[36;1mTags:\u001b[0m          []   \n"
     ]
    }
   ],
   "source": [
    "! cpdctl project get --project-id {PROJECT_ID}"
   ]
  },
  {
   "cell_type": "markdown",
   "metadata": {},
   "source": [
    "Get project details in JSON format and extract it's name"
   ]
  },
  {
   "cell_type": "code",
   "execution_count": 16,
   "metadata": {},
   "outputs": [
    {
     "name": "stdout",
     "output_type": "stream",
     "text": [
      "{\r\n",
      "  \"entity\": {\r\n",
      "    \"creator\": \"demouser\",\r\n",
      "    \"creator_iam_id\": \"1000331004\",\r\n",
      "    \"description\": \"\",\r\n",
      "    \"name\": \"cpdctl-demo\",\r\n",
      "    \"public\": false,\r\n",
      "    \"scope\": {\r\n",
      "      \"bss_account_id\": \"999\",\r\n",
      "      \"enforce_members\": true\r\n",
      "    },\r\n",
      "    \"storage\": {\r\n",
      "      \"guid\": \"95590fa0-1246-499d-84a8-7cb030d14112\",\r\n",
      "      \"type\": \"assetfiles\"\r\n",
      "    }\r\n",
      "  },\r\n",
      "  \"metadata\": {\r\n",
      "    \"created_at\": \"2021-01-29T08:01:23.363Z\",\r\n",
      "    \"guid\": \"7fb76cf7-25be-435d-818e-bd6e9b5254f5\",\r\n",
      "    \"updated_at\": \"2021-01-29T08:01:27.103Z\",\r\n",
      "    \"url\": \"/v2/projects/7fb76cf7-25be-435d-818e-bd6e9b5254f5\"\r\n",
      "  }\r\n",
      "}\r\n"
     ]
    }
   ],
   "source": [
    "! cpdctl project get --project-id {PROJECT_ID} --output json"
   ]
  },
  {
   "cell_type": "code",
   "execution_count": 17,
   "metadata": {},
   "outputs": [
    {
     "name": "stdout",
     "output_type": "stream",
     "text": [
      "'cpdctl-demo' project ID is: 7fb76cf7-25be-435d-818e-bd6e9b5254f5\n"
     ]
    }
   ],
   "source": [
    "result = ! cpdctl project get --project-id {PROJECT_ID} --output json --jmes-query \"entity.name\" --raw-output\n",
    "PROJECT_NAME = result.s\n",
    "print(\"'{}' project ID is: {}\".format(PROJECT_NAME, PROJECT_ID))"
   ]
  },
  {
   "cell_type": "markdown",
   "metadata": {},
   "source": [
    "List assets in the project"
   ]
  },
  {
   "cell_type": "code",
   "execution_count": 19,
   "metadata": {},
   "outputs": [
    {
     "name": "stdout",
     "output_type": "stream",
     "text": [
      "...\n",
      "\u001b[1mID\u001b[0m                                     \u001b[1mName\u001b[0m                       \u001b[1mCreated\u001b[0m                    \u001b[1mDescription\u001b[0m                 \u001b[1mType\u001b[0m         \u001b[1mState\u001b[0m       \u001b[1mTags\u001b[0m         \u001b[1mSize\u001b[0m   \n",
      "\u001b[36;1medb6fe21-77c4-4cb3-aa6d-9e36d2b18edd\u001b[0m   credit_risk_training.csv   2021-01-29T08:51:00.000Z                               data_asset   available   []           689622   \n",
      "\u001b[36;1mceea9923-7ff7-4084-a560-818716e65b4d\u001b[0m   Sample notebook            2021-01-29T08:51:49.000Z   Notebook run using cpdctl   notebook     available   [notebook]   207   \n"
     ]
    }
   ],
   "source": [
    "! cpdctl asset search --project-id {PROJECT_ID} --type-name asset --query \"*:*\""
   ]
  },
  {
   "cell_type": "markdown",
   "metadata": {},
   "source": [
    "### Download data asset"
   ]
  },
  {
   "cell_type": "markdown",
   "metadata": {},
   "source": [
    "Get \"credit_risk_training.csv\" data asset ID"
   ]
  },
  {
   "cell_type": "code",
   "execution_count": 20,
   "metadata": {},
   "outputs": [
    {
     "name": "stdout",
     "output_type": "stream",
     "text": [
      "'credit_risk_training.csv' data asset ID is: edb6fe21-77c4-4cb3-aa6d-9e36d2b18edd\n"
     ]
    }
   ],
   "source": [
    "result = ! cpdctl asset search --project-id {PROJECT_ID} --type-name data_asset --query \"asset.name:credit_risk_training.csv\" --output json --jmes-query \"results[0].metadata.asset_id\" --raw-output\n",
    "DATA_ASSET_ID = result.s\n",
    "print(\"'credit_risk_training.csv' data asset ID is: {}\".format(DATA_ASSET_ID))"
   ]
  },
  {
   "cell_type": "markdown",
   "metadata": {},
   "source": [
    "Download data asset"
   ]
  },
  {
   "cell_type": "code",
   "execution_count": 21,
   "metadata": {},
   "outputs": [
    {
     "name": "stdout",
     "output_type": "stream",
     "text": [
      "...\n",
      "\u001b[1m\u001b[0m               \u001b[1m\u001b[0m   \n",
      "\u001b[36;1mID:\u001b[0m            edb6fe21-77c4-4cb3-aa6d-9e36d2b18edd   \n",
      "\u001b[36;1mName:\u001b[0m          credit_risk_training.csv   \n",
      "\u001b[36;1mCreated:\u001b[0m       2021-01-29T08:51:00.000Z   \n",
      "\u001b[36;1mDescription:\u001b[0m      \n",
      "\u001b[36;1mType:\u001b[0m          data_asset   \n",
      "\u001b[36;1mState:\u001b[0m         available   \n",
      "\u001b[36;1mTags:\u001b[0m          []   \n",
      "\u001b[36;1mSize:\u001b[0m          689622   \n",
      "\u001b[36;1mAttachments:\u001b[0m   \u001b[1mID\u001b[0m                                     \u001b[1mName\u001b[0m                       \u001b[1mType\u001b[0m         \u001b[1mMime Type\u001b[0m      \n",
      "\u001b[36;1m\u001b[0m               \u001b[36;1m0d7bc498-8913-4a53-91d3-b419e8ba070a\u001b[0m   credit_risk_training.csv   data_asset   text/csv      \n",
      "\u001b[36;1m\u001b[0m                  \n"
     ]
    }
   ],
   "source": [
    "! cpdctl asset get --project-id {PROJECT_ID} --asset-id {DATA_ASSET_ID}"
   ]
  },
  {
   "cell_type": "code",
   "execution_count": 22,
   "metadata": {},
   "outputs": [
    {
     "name": "stdout",
     "output_type": "stream",
     "text": [
      "Data asset attachment ID is: 0d7bc498-8913-4a53-91d3-b419e8ba070a\n"
     ]
    }
   ],
   "source": [
    "result = ! cpdctl asset get --project-id {PROJECT_ID} --asset-id {DATA_ASSET_ID} --output json --jmes-query \"attachments[0].id\" --raw-output\n",
    "DATA_ATTACHMENT_ID = result.s\n",
    "print(\"Data asset attachment ID is: {}\".format(DATA_ATTACHMENT_ID))"
   ]
  },
  {
   "cell_type": "code",
   "execution_count": 23,
   "metadata": {},
   "outputs": [
    {
     "name": "stdout",
     "output_type": "stream",
     "text": [
      "...\n",
      "\u001b[32;1mOK\u001b[0m\n",
      "Output written to credit_risk_training.csv\n"
     ]
    }
   ],
   "source": [
    "! cpdctl asset attachment download --project-id {PROJECT_ID} --asset-id {DATA_ASSET_ID} --attachment-id {DATA_ATTACHMENT_ID} --output-path credit_risk_training.csv"
   ]
  },
  {
   "cell_type": "markdown",
   "metadata": {},
   "source": [
    "### Upload a new data asset"
   ]
  },
  {
   "cell_type": "markdown",
   "metadata": {},
   "source": [
    "Clean up the existing \"car_rental_training_data.csv\" data assets"
   ]
  },
  {
   "cell_type": "code",
   "execution_count": 24,
   "metadata": {},
   "outputs": [],
   "source": [
    "result = ! cpdctl asset search --project-id {PROJECT_ID} --type-name data_asset --query \"asset.name:car_rental_training_data.csv\" --output json --jmes-query \"results[*].metadata.asset_id\" --raw-output\n",
    "DATA_ASSET_IDS = json.loads(result.s)\n",
    "for data_asset_id in DATA_ASSET_IDS:\n",
    "    print(\"Deleteing data asset with ID: {}\".format(data_asset_id))\n",
    "    ! cpdctl asset delete --project-id {PROJECT_ID} --asset-id {data_asset_id}"
   ]
  },
  {
   "cell_type": "markdown",
   "metadata": {},
   "source": [
    "Download the another training data set from github "
   ]
  },
  {
   "cell_type": "code",
   "execution_count": 25,
   "metadata": {},
   "outputs": [
    {
     "name": "stdout",
     "output_type": "stream",
     "text": [
      "  % Total    % Received % Xferd  Average Speed   Time    Time     Time  Current\n",
      "                                 Dload  Upload   Total   Spent    Left  Speed\n",
      "100 79518  100 79518    0     0   207k      0 --:--:-- --:--:-- --:--:--  207k\n",
      "     486 car_rental_training_data.csv\n"
     ]
    }
   ],
   "source": [
    "! curl https://raw.githubusercontent.com/pmservice/wml-sample-models/master/spark/cars-4-you/data/car_rental_training_data.csv -o car_rental_training_data.csv\n",
    "! wc -l car_rental_training_data.csv"
   ]
  },
  {
   "cell_type": "markdown",
   "metadata": {},
   "source": [
    "Create a new data asset in the project from the downloaded file \"credit_risk_training.csv\""
   ]
  },
  {
   "cell_type": "code",
   "execution_count": 26,
   "metadata": {},
   "outputs": [
    {
     "name": "stdout",
     "output_type": "stream",
     "text": [
      "...\n",
      "77.87 KiB / 77.65 KiB [---------------------------------------] 100.28% ? p/s 0s\n",
      "\u001b[1m\u001b[0m               \u001b[1m\u001b[0m   \n",
      "\u001b[36;1mID:\u001b[0m            8a8c8daa-f6eb-4e2b-9526-b6f13a457785   \n",
      "\u001b[36;1mName:\u001b[0m          car_rental_training_data.csv   \n",
      "\u001b[36;1mCreated:\u001b[0m       2021-01-29T08:54:47.000Z   \n",
      "\u001b[36;1mDescription:\u001b[0m      \n",
      "\u001b[36;1mType:\u001b[0m          data_asset   \n",
      "\u001b[36;1mState:\u001b[0m         available   \n",
      "\u001b[36;1mTags:\u001b[0m          [cpdctl-demo]   \n",
      "\u001b[36;1mSize:\u001b[0m          79518   \n",
      "\u001b[36;1mAttachments:\u001b[0m   \u001b[1mID\u001b[0m                                     \u001b[1mName\u001b[0m                           \u001b[1mType\u001b[0m         \u001b[1mMime Type\u001b[0m      \n",
      "\u001b[36;1m\u001b[0m               \u001b[36;1m8c197d6a-ae23-4d30-a8be-0c4ad68e1be3\u001b[0m   car_rental_training_data.csv   data_asset   text/csv      \n",
      "\u001b[36;1m\u001b[0m                  \n"
     ]
    }
   ],
   "source": [
    "! cpdctl asset data-asset upload --file car_rental_training_data.csv --project-id {PROJECT_ID} --progress true --tag \"cpdctl-demo\" --mime \"text/csv\""
   ]
  },
  {
   "cell_type": "code",
   "execution_count": 27,
   "metadata": {},
   "outputs": [
    {
     "name": "stdout",
     "output_type": "stream",
     "text": [
      "'credit_risk_training.csv' data asset ID is: 8a8c8daa-f6eb-4e2b-9526-b6f13a457785\n"
     ]
    }
   ],
   "source": [
    "result = ! cpdctl asset search --project-id {PROJECT_ID} --type-name data_asset --query \"asset.name:car_rental_training_data.csv\" --output json --jmes-query \"results[0].metadata.asset_id\" --raw-output\n",
    "NEW_DATA_ASSET_ID = result.s\n",
    "print(\"'credit_risk_training.csv' data asset ID is: {}\".format(NEW_DATA_ASSET_ID))"
   ]
  },
  {
   "cell_type": "code",
   "execution_count": 28,
   "metadata": {},
   "outputs": [
    {
     "name": "stdout",
     "output_type": "stream",
     "text": [
      "...\n",
      "\u001b[1mID\u001b[0m                                     \u001b[1mName\u001b[0m                           \u001b[1mCreated\u001b[0m                    \u001b[1mDescription\u001b[0m   \u001b[1mType\u001b[0m         \u001b[1mState\u001b[0m       \u001b[1mTags\u001b[0m            \u001b[1mSize\u001b[0m   \n",
      "\u001b[36;1medb6fe21-77c4-4cb3-aa6d-9e36d2b18edd\u001b[0m   credit_risk_training.csv       2021-01-29T08:51:00.000Z                 data_asset   available   []              689622   \n",
      "\u001b[36;1m8a8c8daa-f6eb-4e2b-9526-b6f13a457785\u001b[0m   car_rental_training_data.csv   2021-01-29T08:54:47.000Z                 data_asset   available   [cpdctl-demo]   79518   \n"
     ]
    }
   ],
   "source": [
    "! cpdctl asset search --project-id {PROJECT_ID} --type-name data_asset --query \"*:*\""
   ]
  },
  {
   "cell_type": "markdown",
   "metadata": {},
   "source": [
    "Promote the new data asset to \"cpdctl-demo-space\" space"
   ]
  },
  {
   "cell_type": "code",
   "execution_count": 29,
   "metadata": {},
   "outputs": [
    {
     "name": "stdout",
     "output_type": "stream",
     "text": [
      "...\n",
      "Nothing to show.\n"
     ]
    }
   ],
   "source": [
    "! cpdctl space list"
   ]
  },
  {
   "cell_type": "markdown",
   "metadata": {},
   "source": [
    "Create a new space"
   ]
  },
  {
   "cell_type": "code",
   "execution_count": 30,
   "metadata": {},
   "outputs": [
    {
     "name": "stdout",
     "output_type": "stream",
     "text": [
      "...\n",
      "\u001b[1m\u001b[0m           \u001b[1m\u001b[0m   \n",
      "\u001b[36;1mID:\u001b[0m        d9bfa660-1be7-46ab-aa53-e9010a634bba   \n",
      "\u001b[36;1mName:\u001b[0m      cpdctl-demo-space   \n",
      "\u001b[36;1mCreated:\u001b[0m   2021-01-29T08:56:07.389Z   \n",
      "\u001b[36;1mState:\u001b[0m     active   \n",
      "\u001b[36;1mTags:\u001b[0m      []   \n"
     ]
    }
   ],
   "source": [
    "! cpdctl space create --name cpdctl-demo-space"
   ]
  },
  {
   "cell_type": "code",
   "execution_count": 31,
   "metadata": {},
   "outputs": [
    {
     "name": "stdout",
     "output_type": "stream",
     "text": [
      "...\n",
      "\u001b[1mID\u001b[0m                                     \u001b[1mName\u001b[0m                \u001b[1mCreated\u001b[0m                    \u001b[1mState\u001b[0m    \u001b[1mTags\u001b[0m   \n",
      "\u001b[36;1md9bfa660-1be7-46ab-aa53-e9010a634bba\u001b[0m   cpdctl-demo-space   2021-01-29T08:56:07.389Z   active   []   \n"
     ]
    }
   ],
   "source": [
    "! cpdctl space list"
   ]
  },
  {
   "cell_type": "markdown",
   "metadata": {},
   "source": [
    "Get the first space ID"
   ]
  },
  {
   "cell_type": "code",
   "execution_count": 32,
   "metadata": {},
   "outputs": [
    {
     "name": "stdout",
     "output_type": "stream",
     "text": [
      "Space ID is: d9bfa660-1be7-46ab-aa53-e9010a634bba\n"
     ]
    }
   ],
   "source": [
    "result = ! cpdctl space list --output json --jmes-query \"resources[0].metadata.id\" --raw-output\n",
    "DEV_SPACE_ID = result.s\n",
    "print(\"Space ID is: {}\".format(DEV_SPACE_ID))"
   ]
  },
  {
   "cell_type": "markdown",
   "metadata": {},
   "source": [
    "Clean up existing data asset"
   ]
  },
  {
   "cell_type": "code",
   "execution_count": 33,
   "metadata": {},
   "outputs": [],
   "source": [
    "result = ! cpdctl asset search --space-id {DEV_SPACE_ID} --type-name data_asset --query \"asset.name:car_rental_training_data.csv\" --output json --jmes-query \"results[*].metadata.asset_id\" --raw-output\n",
    "DATA_ASSET_IDS = json.loads(result.s)\n",
    "for data_asset_id in DATA_ASSET_IDS:\n",
    "    print(\"Deleteing data asset with ID: {}\".format(data_asset_id))\n",
    "    ! cpdctl asset delete --space-id {DEV_SPACE_ID} --asset-id {data_asset_id}"
   ]
  },
  {
   "cell_type": "code",
   "execution_count": 34,
   "metadata": {},
   "outputs": [
    {
     "name": "stdout",
     "output_type": "stream",
     "text": [
      "...\n",
      "\u001b[32;1mOK\u001b[0m\n"
     ]
    }
   ],
   "source": [
    "import json\n",
    "\n",
    "PROMOTE_BODY = {\n",
    "    \"mode\": 0,\n",
    "    \"space_id\": DEV_SPACE_ID,\n",
    "    \"metadata\": {\n",
    "        \"tags\": [\"cpdctl-demo\", \"promoted-{}]\".format(PROJECT_ID[0:8])]\n",
    "    }\n",
    "}\n",
    "PROMOTE_BODY_JSON = json.dumps(PROMOTE_BODY)\n",
    "\n",
    "! cpdctl asset promote --project-id {PROJECT_ID} --asset-id {NEW_DATA_ASSET_ID} --request-body '{PROMOTE_BODY_JSON}'"
   ]
  },
  {
   "cell_type": "code",
   "execution_count": 35,
   "metadata": {},
   "outputs": [
    {
     "name": "stdout",
     "output_type": "stream",
     "text": [
      "...\n",
      "\u001b[1mID\u001b[0m                                     \u001b[1mName\u001b[0m                           \u001b[1mCreated\u001b[0m                    \u001b[1mDescription\u001b[0m   \u001b[1mType\u001b[0m         \u001b[1mState\u001b[0m       \u001b[1mTags\u001b[0m                               \u001b[1mSize\u001b[0m   \n",
      "\u001b[36;1m783d8fc5-ae2c-47d0-a311-f8890dfa1ce0\u001b[0m   car_rental_training_data.csv   2021-01-29T08:57:12.000Z                 data_asset   available   [cpdctl-demo promoted-7fb76cf7]]   79518   \n"
     ]
    }
   ],
   "source": [
    "! cpdctl asset search --space-id {DEV_SPACE_ID} --type-name asset --query \"*:*\""
   ]
  },
  {
   "cell_type": "markdown",
   "metadata": {},
   "source": [
    "### Train and store model in the notebook"
   ]
  },
  {
   "cell_type": "markdown",
   "metadata": {},
   "source": [
    "List jobs in the project"
   ]
  },
  {
   "cell_type": "code",
   "execution_count": 47,
   "metadata": {},
   "outputs": [],
   "source": [
    "result = ! cpdctl asset search --project-id {PROJECT_ID} --type-name job --output json --query \"asset.name:train-scikit-model-job\" --jmes-query \"results[0].metadata.asset_id\" --raw-output\n",
    "EXISTING_JOB_ID = result.s\n",
    "if EXISTING_JOB_ID and EXISTING_JOB_ID != \"null\":\n",
    "    print(\"Deleteing job with ID: {}\".format(EXISTING_JOB_ID))\n",
    "    ! cpdctl job delete --project-id {PROJECT_ID} --job-id {EXISTING_JOB_ID}"
   ]
  },
  {
   "cell_type": "code",
   "execution_count": 41,
   "metadata": {},
   "outputs": [
    {
     "name": "stdout",
     "output_type": "stream",
     "text": [
      "...\n",
      "\u001b[1mID\u001b[0m                                     \u001b[1mName\u001b[0m                                                \u001b[1mCreated\u001b[0m                    \u001b[1mDescription\u001b[0m                 \u001b[1mType\u001b[0m       \u001b[1mState\u001b[0m       \u001b[1mTags\u001b[0m         \u001b[1mSize\u001b[0m   \n",
      "\u001b[36;1mceea9923-7ff7-4084-a560-818716e65b4d\u001b[0m   Sample notebook                                     2021-01-29T08:51:49.000Z   Notebook run using cpdctl   notebook   available   [notebook]   207   \n",
      "\u001b[36;1me4f0d078-04b1-49a4-b360-2939a2dfab34\u001b[0m   train-scikit-model-to-predict-boston-house-prices   2021-01-29T09:06:41.000Z                               notebook   available   [notebook]   19655   \n"
     ]
    }
   ],
   "source": [
    "! cpdctl asset search --project-id {PROJECT_ID} --type-name notebook --query \"*:*\""
   ]
  },
  {
   "cell_type": "code",
   "execution_count": 43,
   "metadata": {},
   "outputs": [
    {
     "name": "stdout",
     "output_type": "stream",
     "text": [
      "'train-scikit-model-to-predict-boston-house-prices' notebook ID is: e4f0d078-04b1-49a4-b360-2939a2dfab34\n"
     ]
    }
   ],
   "source": [
    "result = ! cpdctl asset search --project-id {PROJECT_ID} --type-name notebook --output json --query \"asset.name:train-scikit-model-to-predict-boston-house-prices\" --jmes-query \"results[0].metadata.asset_id\" --raw-output\n",
    "NOTEBOOK_ID = result.s\n",
    "print(\"'train-scikit-model-to-predict-boston-house-prices' notebook ID is: {}\".format(NOTEBOOK_ID))"
   ]
  },
  {
   "cell_type": "code",
   "execution_count": 44,
   "metadata": {},
   "outputs": [
    {
     "name": "stdout",
     "output_type": "stream",
     "text": [
      "...\n",
      "\u001b[1mID\u001b[0m                                                \u001b[1mName\u001b[0m         \u001b[1mDescription\u001b[0m   \n",
      "\u001b[36;1mjupconda37-7fb76cf7-25be-435d-818e-bd6e9b5254f5\u001b[0m   jupconda37      \n",
      "\u001b[36;1mjupconda36-7fb76cf7-25be-435d-818e-bd6e9b5254f5\u001b[0m   jupconda36   Default Python 3.6   \n"
     ]
    }
   ],
   "source": [
    "! cpdctl environment list --project-id {PROJECT_ID}"
   ]
  },
  {
   "cell_type": "code",
   "execution_count": 48,
   "metadata": {},
   "outputs": [
    {
     "name": "stdout",
     "output_type": "stream",
     "text": [
      "'train-scikit-model-job' job ID is: aa508183-945b-4c68-82b7-5557ab33a2be\n"
     ]
    }
   ],
   "source": [
    "JOB = {\n",
    "    \"asset_ref\": NOTEBOOK_ID,\n",
    "    \"name\": \"train-scikit-model-job\",\n",
    "    \"configuration\": {\n",
    "        \"env_id\": \"jupconda37-7fb76cf7-25be-435d-818e-bd6e9b5254f5\",\n",
    "        \"env_variables\": [\n",
    "            \"URL={}\".format(CPD35_URL),\n",
    "            \"USER_NAME={}\".format(CPD35_USER_NAME),\n",
    "            \"USER_PASSWORD={}\".format(CPD35_USER_PASSWORD),\n",
    "            \"SPACE_ID={}\".format(DEV_SPACE_ID)\n",
    "        ]\n",
    "    }\n",
    "}\n",
    "JOB_JSON = json.dumps(JOB)\n",
    "result = ! cpdctl job create --project-id {PROJECT_ID} --job '{JOB_JSON}' --output json --jmes-query \"metadata.asset_id\" --raw-output\n",
    "JOB_ID = result.s\n",
    "print(\"'train-scikit-model-job' job ID is: {}\".format(JOB_ID))"
   ]
  },
  {
   "cell_type": "markdown",
   "metadata": {},
   "source": [
    "Trigger job run"
   ]
  },
  {
   "cell_type": "code",
   "execution_count": 49,
   "metadata": {},
   "outputs": [
    {
     "name": "stdout",
     "output_type": "stream",
     "text": [
      "The new run ID for 'train-scikit-model-job' job: \"ec805c4c-1ba9-4a80-82e0-4c05b67043d9\"\n"
     ]
    }
   ],
   "source": [
    "JOB_RUN = {\n",
    "    \"job_run\": {}\n",
    "}\n",
    "JOB_RUN_JSON = json.dumps(JOB_RUN)\n",
    "result = ! cpdctl job run create --project-id {PROJECT_ID} --job-id {JOB_ID} --job-run '{JOB_RUN_JSON}' --async --output json --jmes-query 'metadata.asset_id'\n",
    "RUN_ID = result.s\n",
    "print(\"The new run ID for 'train-scikit-model-job' job: {}\".format(RUN_ID))"
   ]
  },
  {
   "cell_type": "markdown",
   "metadata": {},
   "source": [
    "Get notebook run status"
   ]
  },
  {
   "cell_type": "code",
   "execution_count": 53,
   "metadata": {},
   "outputs": [
    {
     "name": "stdout",
     "output_type": "stream",
     "text": [
      "Completed\r\n"
     ]
    }
   ],
   "source": [
    "! cpdctl job run get --project-id {PROJECT_ID} --job-id {JOB_ID} --run-id {RUN_ID} --output json --jmes-query \"entity.job_run.state\" --raw-output"
   ]
  },
  {
   "cell_type": "code",
   "execution_count": 54,
   "metadata": {},
   "outputs": [
    {
     "name": "stdout",
     "output_type": "stream",
     "text": [
      "...\n",
      "\u001b[1mtotal_count\u001b[0m   \u001b[1mresults\u001b[0m   \n",
      "\u001b[36;1m180\u001b[0m           Cell 8:   \n",
      "   6;1m180\u001b[0m           Collecting ibm-watson-machine-learning\n",
      "\u001b[36;1m180\u001b[0m              \n",
      "   6;1m180\u001b[0m             Downloading ibm_watson_machine_learning-1.0.45-py3-none-any.whl (1.7 MB)\n",
      "\u001b[K     |▏                               | 10 kB 11.0 MB/s eta 0:00:01   \n",
      "\u001b[K     |█▍                              | 71 kB 1.4 MB/s eta 0:00:02   \n",
      "\u001b[K     |████▏                           | 215 kB 1.6 MB/s eta 0:00:01   \n",
      "\u001b[K     |██████████▎                     | 532 kB 1.6 MB/s eta 0:00:01   \n",
      "\u001b[K     |████████████████████▉           | 1.1 MB 1.6 MB/s eta 0:00:01   \n",
      "\u001b[K     |████████████████████████████████| 1.7 MB 1.6 MB/s eta 0:00:01   \n",
      "        |████████████████████████████████| 1.7 MB 1.6 MB/s \n",
      "\u001b[36;1m180\u001b[0m              \n",
      "   6;1m180\u001b[0m           \u001b[?25hRequirement already satisfied, skipping upgrade: urllib3 in /opt/conda/envs/Python-3.7-main/lib/python3.7/site-packages (from ibm-watson-machine-learning) (1.25.9)\n",
      "   6;1m180\u001b[0m           Requirement already satisfied, skipping upgrade: certifi in /opt/conda/envs/Python-3.7-main/lib/python3.7/site-packages (from ibm-watson-machine-learning) (2020.6.20)\n",
      "   6;1m180\u001b[0m           Requirement already satisfied, skipping upgrade: requests in /opt/conda/envs/Python-3.7-main/lib/python3.7/site-packages (from ibm-watson-machine-learning) (2.24.0)\n",
      "   6;1m180\u001b[0m           Requirement already satisfied, skipping upgrade: ibm-cos-sdk==2.7.* in /opt/conda/envs/Python-3.7-main/lib/python3.7/site-packages (from ibm-watson-machine-learning) (2.7.0)\n",
      "   6;1m180\u001b[0m           Requirement already satisfied, skipping upgrade: lomond in /opt/conda/envs/Python-3.7-main/lib/python3.7/site-packages (from ibm-watson-machine-learning) (0.3.3)\n",
      "   6;1m180\u001b[0m           Requirement already satisfied, skipping upgrade: pandas<=1.0.5 in /opt/conda/envs/Python-3.7-main/lib/python3.7/site-packages (from ibm-watson-machine-learning) (1.0.5)\n",
      "\u001b[36;1m180\u001b[0m              \n",
      "   6;1m180\u001b[0m           Requirement already satisfied, skipping upgrade: tabulate in /opt/conda/envs/Python-3.7-main/lib/python3.7/site-packages (from ibm-watson-machine-learning) (0.8.3)\n",
      "   6;1m180\u001b[0m           Requirement already satisfied, skipping upgrade: chardet<4,>=3.0.2 in /opt/conda/envs/Python-3.7-main/lib/python3.7/site-packages (from requests->ibm-watson-machine-learning) (3.0.4)\n",
      "   6;1m180\u001b[0m           Requirement already satisfied, skipping upgrade: idna<3,>=2.5 in /opt/conda/envs/Python-3.7-main/lib/python3.7/site-packages (from requests->ibm-watson-machine-learning) (2.9)\n",
      "   6;1m180\u001b[0m           Requirement already satisfied, skipping upgrade: ibm-cos-sdk-core==2.7.0 in /opt/conda/envs/Python-3.7-main/lib/python3.7/site-packages (from ibm-cos-sdk==2.7.*->ibm-watson-machine-learning) (2.7.0)\n",
      "   6;1m180\u001b[0m           Requirement already satisfied, skipping upgrade: ibm-cos-sdk-s3transfer==2.7.0 in /opt/conda/envs/Python-3.7-main/lib/python3.7/site-packages (from ibm-cos-sdk==2.7.*->ibm-watson-machine-learning) (2.7.0)\n",
      "   6;1m180\u001b[0m           Requirement already satisfied, skipping upgrade: jmespath<1.0.0,>=0.7.1 in /opt/conda/envs/Python-3.7-main/lib/python3.7/site-packages (from ibm-cos-sdk==2.7.*->ibm-watson-machine-learning) (0.9.4)\n",
      "   6;1m180\u001b[0m           Requirement already satisfied, skipping upgrade: six>=1.10.0 in /opt/conda/envs/Python-3.7-main/lib/python3.7/site-packages (from lomond->ibm-watson-machine-learning) (1.15.0)\n",
      "   6;1m180\u001b[0m           Requirement already satisfied, skipping upgrade: numpy>=1.13.3 in /opt/conda/envs/Python-3.7-main/lib/python3.7/site-packages (from pandas<=1.0.5->ibm-watson-machine-learning) (1.18.5)\n",
      "   6;1m180\u001b[0m           Requirement already satisfied, skipping upgrade: python-dateutil>=2.6.1 in /opt/conda/envs/Python-3.7-main/lib/python3.7/site-packages (from pandas<=1.0.5->ibm-watson-machine-learning) (2.8.1)\n",
      "\u001b[36;1m180\u001b[0m              \n",
      "   6;1m180\u001b[0m           Requirement already satisfied, skipping upgrade: pytz>=2017.2 in /opt/conda/envs/Python-3.7-main/lib/python3.7/site-packages (from pandas<=1.0.5->ibm-watson-machine-learning) (2020.1)\n",
      "   6;1m180\u001b[0m           Requirement already satisfied, skipping upgrade: docutils<0.16,>=0.10 in /opt/conda/envs/Python-3.7-main/lib/python3.7/site-packages (from ibm-cos-sdk-core==2.7.0->ibm-cos-sdk==2.7.*->ibm-watson-machine-learning) (0.15.2)\n",
      "\u001b[36;1m180\u001b[0m              \n",
      "   6;1m180\u001b[0m           Installing collected packages: ibm-watson-machine-learning\n",
      "   6;1m180\u001b[0m             Attempting uninstall: ibm-watson-machine-learning\n",
      "   6;1m180\u001b[0m               Found existing installation: ibm-watson-machine-learning 1.0.38\n",
      "\u001b[36;1m180\u001b[0m              \n",
      "   6;1m180\u001b[0m               Uninstalling ibm-watson-machine-learning-1.0.38:\n",
      "\u001b[36;1m180\u001b[0m              \n",
      "   6;1m180\u001b[0m                 Successfully uninstalled ibm-watson-machine-learning-1.0.38\n",
      "\u001b[36;1m180\u001b[0m              \n",
      "   6;1m180\u001b[0m           Successfully installed ibm-watson-machine-learning-1.0.45\n",
      "\u001b[36;1m180\u001b[0m              \n",
      "\u001b[36;1m180\u001b[0m           Cell 9:   \n",
      "   6;1m180\u001b[0m           Collecting wget\n",
      "\u001b[36;1m180\u001b[0m              \n",
      "   6;1m180\u001b[0m             Downloading wget-3.2.zip (10 kB)\n",
      "\u001b[36;1m180\u001b[0m              \n",
      "   6;1m180\u001b[0m           Building wheels for collected packages: wget\n",
      "\u001b[36;1m180\u001b[0m              \n",
      "\u001b[36;1m180\u001b[0m             Building wheel for wget (setup.py) ... \u001b[?25l-   \n",
      "   6;1m180\u001b[0m          done\n",
      "   6;1m180\u001b[0m           \u001b[?25h  Created wheel for wget: filename=wget-3.2-py3-none-any.whl size=9681 sha256=22b1e6dc8ba5f456c44b189c02d25079712ed66d3693b54aaa00704ad6b379c5\n",
      "   6;1m180\u001b[0m             Stored in directory: /tmp/wsuser/.cache/pip/wheels/a1/b6/7c/0e63e34eb06634181c63adacca38b79ff8f35c37e3c13e3c02\n",
      "   6;1m180\u001b[0m           Successfully built wget\n",
      "\u001b[36;1m180\u001b[0m              \n",
      "   6;1m180\u001b[0m           Installing collected packages: wget\n",
      "\u001b[36;1m180\u001b[0m              \n",
      "   6;1m180\u001b[0m           Successfully installed wget-3.2\n",
      "\u001b[36;1m180\u001b[0m              \n",
      "\u001b[36;1m180\u001b[0m           Cell 14:   \n",
      "\u001b[36;1m180\u001b[0m           ------------------------------------  -----------------  ------------------------   \n",
      "\u001b[36;1m180\u001b[0m           ID                                    NAME               CREATED   \n",
      "\u001b[36;1m180\u001b[0m           d9bfa660-1be7-46ab-aa53-e9010a634bba  cpdctl-demo-space  2021-01-29T08:56:07.389Z   \n",
      "\u001b[36;1m180\u001b[0m           ------------------------------------  -----------------  ------------------------   \n",
      "\u001b[36;1m180\u001b[0m              \n",
      "\u001b[36;1m180\u001b[0m           Cell 16:   \n",
      "\u001b[36;1m180\u001b[0m              \n",
      "\u001b[36;1m180\u001b[0m           Cell 29:   \n",
      "\u001b[36;1m180\u001b[0m           {   \n",
      "\u001b[36;1m180\u001b[0m             \"entity\": {   \n",
      "\u001b[36;1m180\u001b[0m               \"software_spec\": {   \n",
      "\u001b[36;1m180\u001b[0m                 \"id\": \"e4429883-c883-42b6-87a8-f419d64088cd\",   \n",
      "\u001b[36;1m180\u001b[0m                 \"name\": \"default_py3.7\"   \n",
      "\u001b[36;1m180\u001b[0m               },   \n",
      "\u001b[36;1m180\u001b[0m               \"type\": \"scikit-learn_0.23\"   \n",
      "\u001b[36;1m180\u001b[0m             },   \n",
      "\u001b[36;1m180\u001b[0m             \"metadata\": {   \n",
      "\u001b[36;1m180\u001b[0m               \"created_at\": \"2021-01-29T09:22:14.783Z\",   \n",
      "\u001b[36;1m180\u001b[0m               \"id\": \"e4334207-617d-4dca-85b2-70c35f18ad97\",   \n",
      "\u001b[36;1m180\u001b[0m               \"modified_at\": \"2021-01-29T09:22:17.238Z\",   \n",
      "\u001b[36;1m180\u001b[0m               \"name\": \"External scikit model\",   \n",
      "\u001b[36;1m180\u001b[0m               \"owner\": \"1000331004\",   \n",
      "\u001b[36;1m180\u001b[0m               \"space_id\": \"d9bfa660-1be7-46ab-aa53-e9010a634bba\"   \n",
      "\u001b[36;1m180\u001b[0m             },   \n",
      "\u001b[36;1m180\u001b[0m             \"system\": {   \n",
      "\u001b[36;1m180\u001b[0m               \"warnings\": []   \n",
      "\u001b[36;1m180\u001b[0m             }   \n",
      "\u001b[36;1m180\u001b[0m           }   \n",
      "\u001b[36;1m180\u001b[0m              \n",
      "\u001b[36;1m180\u001b[0m           Cell 31:   \n",
      "\u001b[36;1m180\u001b[0m           ------------------------------------  ---------------------  ------------------------  -----------------   \n",
      "\u001b[36;1m180\u001b[0m           ID                                    NAME                   CREATED                   TYPE   \n",
      "\u001b[36;1m180\u001b[0m           e4334207-617d-4dca-85b2-70c35f18ad97  External scikit model  2021-01-29T09:22:14.002Z  scikit-learn_0.23   \n",
      "\u001b[36;1m180\u001b[0m           014d297c-910d-4acd-8add-344eeb2bbd9a  External scikit model  2021-01-29T09:15:00.002Z  scikit-learn_0.23   \n",
      "\u001b[36;1m180\u001b[0m           ------------------------------------  ---------------------  ------------------------  -----------------   \n",
      "\u001b[36;1m180\u001b[0m              \n",
      "\u001b[36;1m180\u001b[0m           Cell 36:   \n",
      "\u001b[36;1m180\u001b[0m              \n",
      "\u001b[36;1m180\u001b[0m              \n",
      "\u001b[36;1m180\u001b[0m           #######################################################################################   \n",
      "\u001b[36;1m180\u001b[0m              \n",
      "\u001b[36;1m180\u001b[0m           Synchronous deployment creation for uid: 'e4334207-617d-4dca-85b2-70c35f18ad97' started   \n",
      "\u001b[36;1m180\u001b[0m              \n",
      "\u001b[36;1m180\u001b[0m           #######################################################################################   \n",
      "\u001b[36;1m180\u001b[0m              \n",
      "\u001b[36;1m180\u001b[0m              \n",
      "\u001b[36;1m180\u001b[0m           initializing   \n",
      "\u001b[36;1m180\u001b[0m           .   \n",
      "\u001b[36;1m180\u001b[0m              \n",
      "\u001b[36;1m180\u001b[0m           ready   \n",
      "\u001b[36;1m180\u001b[0m              \n",
      "\u001b[36;1m180\u001b[0m              \n",
      "\u001b[36;1m180\u001b[0m           ------------------------------------------------------------------------------------------------   \n",
      "\u001b[36;1m180\u001b[0m           Successfully finished deployment creation, deployment_uid='0904dceb-a5cb-48ae-be56-ecb28be7fbeb'   \n",
      "\u001b[36;1m180\u001b[0m           ------------------------------------------------------------------------------------------------   \n",
      "\u001b[36;1m180\u001b[0m              \n",
      "\u001b[36;1m180\u001b[0m              \n",
      "\u001b[36;1m180\u001b[0m              \n",
      "\u001b[36;1m180\u001b[0m           Cell 40:   \n",
      "\u001b[36;1m180\u001b[0m           https://cpd350-cpd-cpd350.apps.wml-kf-cluster.os.fyre.ibm.com/ml/v4/deployments/0904dceb-a5cb-48ae-be56-ecb28be7fbeb/predictions   \n",
      "\u001b[36;1m180\u001b[0m              \n",
      "\u001b[36;1m180\u001b[0m           Cell 42:   \n",
      "\u001b[36;1m180\u001b[0m           ------------------------------------  -----------------------------------  -----  ------------------------   \n",
      "\u001b[36;1m180\u001b[0m           GUID                                  NAME                                 STATE  CREATED   \n",
      "\u001b[36;1m180\u001b[0m           0904dceb-a5cb-48ae-be56-ecb28be7fbeb  Deployment of external scikit model  ready  2021-01-29T09:22:30.449Z   \n",
      "\u001b[36;1m180\u001b[0m           9329bb8e-19a3-4fd3-9e36-9b6686753faf  Deployment of external scikit model  ready  2021-01-29T09:15:19.967Z   \n",
      "\u001b[36;1m180\u001b[0m           ------------------------------------  -----------------------------------  -----  ------------------------   \n",
      "\u001b[36;1m180\u001b[0m              \n",
      "\u001b[36;1m180\u001b[0m           Cell 44:   \n",
      "\u001b[36;1m180\u001b[0m           {   \n",
      "\u001b[36;1m180\u001b[0m             \"entity\": {   \n",
      "\u001b[36;1m180\u001b[0m               \"asset\": {   \n",
      "\u001b[36;1m180\u001b[0m                 \"id\": \"e4334207-617d-4dca-85b2-70c35f18ad97\"   \n",
      "\u001b[36;1m180\u001b[0m               },   \n",
      "\u001b[36;1m180\u001b[0m               \"custom\": {},   \n",
      "\u001b[36;1m180\u001b[0m               \"deployed_asset_type\": \"model\",   \n",
      "\u001b[36;1m180\u001b[0m               \"hardware_spec\": {   \n",
      "\u001b[36;1m180\u001b[0m                 \"id\": \"Not_Applicable\",   \n",
      "\u001b[36;1m180\u001b[0m                 \"name\": \"S\",   \n",
      "\u001b[36;1m180\u001b[0m                 \"num_nodes\": 1   \n",
      "\u001b[36;1m180\u001b[0m               },   \n",
      "\u001b[36;1m180\u001b[0m               \"name\": \"Deployment of external scikit model\",   \n",
      "\u001b[36;1m180\u001b[0m               \"online\": {},   \n",
      "\u001b[36;1m180\u001b[0m               \"space_id\": \"d9bfa660-1be7-46ab-aa53-e9010a634bba\",   \n",
      "\u001b[36;1m180\u001b[0m               \"status\": {   \n",
      "\u001b[36;1m180\u001b[0m                 \"online_url\": {   \n",
      "\u001b[36;1m180\u001b[0m                   \"url\": \"https://cpd350-cpd-cpd350.apps.wml-kf-cluster.os.fyre.ibm.com/ml/v4/deployments/0904dceb-a5cb-48ae-be56-ecb28be7fbeb/predictions\"   \n",
      "\u001b[36;1m180\u001b[0m                 },   \n",
      "\u001b[36;1m180\u001b[0m                 \"state\": \"ready\"   \n",
      "\u001b[36;1m180\u001b[0m               }   \n",
      "\u001b[36;1m180\u001b[0m             },   \n",
      "\u001b[36;1m180\u001b[0m             \"metadata\": {   \n",
      "\u001b[36;1m180\u001b[0m               \"created_at\": \"2021-01-29T09:22:30.449Z\",   \n",
      "\u001b[36;1m180\u001b[0m               \"id\": \"0904dceb-a5cb-48ae-be56-ecb28be7fbeb\",   \n",
      "\u001b[36;1m180\u001b[0m               \"modified_at\": \"2021-01-29T09:22:30.449Z\",   \n",
      "\u001b[36;1m180\u001b[0m               \"name\": \"Deployment of external scikit model\",   \n",
      "\u001b[36;1m180\u001b[0m               \"owner\": \"1000331004\",   \n",
      "\u001b[36;1m180\u001b[0m               \"space_id\": \"d9bfa660-1be7-46ab-aa53-e9010a634bba\"   \n",
      "\u001b[36;1m180\u001b[0m             }   \n",
      "\u001b[36;1m180\u001b[0m           }   \n",
      "\u001b[36;1m180\u001b[0m              \n",
      "\u001b[36;1m180\u001b[0m           Cell 52:   \n",
      "\u001b[36;1m180\u001b[0m           {   \n",
      "\u001b[36;1m180\u001b[0m             \"predictions\": [   \n",
      "\u001b[36;1m180\u001b[0m               {   \n",
      "\u001b[36;1m180\u001b[0m                 \"fields\": [   \n",
      "\u001b[36;1m180\u001b[0m                   \"prediction\"   \n",
      "\u001b[36;1m180\u001b[0m                 ],   \n",
      "\u001b[36;1m180\u001b[0m                 \"values\": [   \n",
      "\u001b[36;1m180\u001b[0m                   [   \n",
      "\u001b[36;1m180\u001b[0m                     30.0038433770168   \n",
      "\u001b[36;1m180\u001b[0m                   ],   \n",
      "\u001b[36;1m180\u001b[0m                   [   \n",
      "\u001b[36;1m180\u001b[0m                     25.02556237905341   \n",
      "\u001b[36;1m180\u001b[0m                   ]   \n",
      "\u001b[36;1m180\u001b[0m                 ]   \n",
      "\u001b[36;1m180\u001b[0m               }   \n",
      "\u001b[36;1m180\u001b[0m             ]   \n",
      "\u001b[36;1m180\u001b[0m           }   \n",
      "\u001b[36;1m180\u001b[0m              \n"
     ]
    }
   ],
   "source": [
    "! cpdctl job run logs --project-id {PROJECT_ID} --job-id {JOB_ID} --run-id {RUN_ID}"
   ]
  },
  {
   "cell_type": "code",
   "execution_count": 61,
   "metadata": {},
   "outputs": [
    {
     "name": "stdout",
     "output_type": "stream",
     "text": [
      "...\n",
      "\u001b[1mID\u001b[0m                                     \u001b[1mName\u001b[0m                                   \u001b[1mCreated\u001b[0m                    \u001b[1mType\u001b[0m                \u001b[1mTags\u001b[0m   \n",
      "\u001b[36;1m384ddcde-a7fe-4652-baa9-b41c40b08284\u001b[0m   boston-house-prices-prediction-model   2021-01-29T09:27:11.002Z   scikit-learn_0.23   []   \n"
     ]
    }
   ],
   "source": [
    "! cpdctl ml model list --space-id {DEV_SPACE_ID}"
   ]
  },
  {
   "cell_type": "code",
   "execution_count": 59,
   "metadata": {},
   "outputs": [
    {
     "name": "stdout",
     "output_type": "stream",
     "text": [
      "'boston-house-prices-prediction-model' model ID is: 384ddcde-a7fe-4652-baa9-b41c40b08284\n"
     ]
    }
   ],
   "source": [
    "result = ! cpdctl asset search --space-id {DEV_SPACE_ID} --type-name wml_model --query \"asset.name:boston-house-prices-prediction-model\" --output json --jmes-query \"results[0].metadata.asset_id\" --raw-output\n",
    "MODEL_ID = result.s\n",
    "print(\"'boston-house-prices-prediction-model' model ID is: {}\".format(MODEL_ID))"
   ]
  },
  {
   "cell_type": "markdown",
   "metadata": {},
   "source": [
    "Export space assets"
   ]
  },
  {
   "cell_type": "code",
   "execution_count": 62,
   "metadata": {},
   "outputs": [
    {
     "name": "stdout",
     "output_type": "stream",
     "text": [
      "The new export with ID: \"d66b9fd0-5e3b-4f1a-9e61-ffab16076368\"\n"
     ]
    }
   ],
   "source": [
    "EXPORT = {\n",
    "    'asset_ids': [MODEL_ID]\n",
    "}\n",
    "EXPORT_JSON = json.dumps(EXPORT)\n",
    "result = ! cpdctl asset export start --space-id {DEV_SPACE_ID} --assets '{EXPORT_JSON}' --name dev-space-assets --output json --jmes-query \"metadata.id\"\n",
    "EXPORT_ID = result.s\n",
    "print(\"The new export with ID: {}\".format(EXPORT_ID))"
   ]
  },
  {
   "cell_type": "code",
   "execution_count": 63,
   "metadata": {},
   "outputs": [
    {
     "name": "stdout",
     "output_type": "stream",
     "text": [
      "...\n",
      "\u001b[1m\u001b[0m           \u001b[1m\u001b[0m   \n",
      "\u001b[36;1mID:\u001b[0m        d66b9fd0-5e3b-4f1a-9e61-ffab16076368   \n",
      "\u001b[36;1mName:\u001b[0m      dev-space-assets   \n",
      "\u001b[36;1mCreated:\u001b[0m   2021-01-29T09:30:37.926Z   \n",
      "\u001b[36;1mState:\u001b[0m     completed   \n"
     ]
    }
   ],
   "source": [
    "! cpdctl asset export get --space-id {DEV_SPACE_ID} --export-id {EXPORT_ID}"
   ]
  },
  {
   "cell_type": "code",
   "execution_count": 64,
   "metadata": {},
   "outputs": [
    {
     "name": "stdout",
     "output_type": "stream",
     "text": [
      "...\n",
      "\u001b[32;1mOK\u001b[0m\n",
      "Output written to dev-space-assets.zip\n"
     ]
    }
   ],
   "source": [
    "! cpdctl asset export download --space-id {DEV_SPACE_ID} --export-id {EXPORT_ID} --output-file dev-space-assets.zip"
   ]
  },
  {
   "cell_type": "code",
   "execution_count": 65,
   "metadata": {},
   "outputs": [
    {
     "name": "stdout",
     "output_type": "stream",
     "text": [
      "Archive:  dev-space-assets.zip\r\n",
      "  Length      Date    Time    Name\r\n",
      "---------  ---------- -----   ----\r\n",
      "       44  01-29-2021 09:30   deflate.log\r\n",
      "      416  01-29-2021 09:30   assettypes/folder_asset.json\r\n",
      "      988  01-29-2021 09:30   assettypes/column_info.json\r\n",
      "      234  01-29-2021 09:30   assettypes/policy_transform.json\r\n",
      "      543  01-29-2021 09:30   assettypes/asset_terms.json\r\n",
      "      459  01-29-2021 09:30   assettypes/omrs_relationship_message.json\r\n",
      "      288  01-29-2021 09:30   assettypes/package_extension.json\r\n",
      "      465  01-29-2021 09:30   assettypes/connection_credentials.json\r\n",
      "      526  01-29-2021 09:30   assettypes/environment.json\r\n",
      "      311  01-29-2021 09:30   assettypes/shiny_asset.json\r\n",
      "     1442  01-29-2021 09:30   assettypes/job_run.json\r\n",
      "    38778  01-29-2021 09:30   assettypes/wml_model.json\r\n",
      "     2528  01-29-2021 09:30   assettypes/wml_remote_training_system.json\r\n",
      "    27504  01-29-2021 09:30   assettypes/wml_training_definition.json\r\n",
      "      327  01-29-2021 09:30   assettypes/omrs_entity.json\r\n",
      "      462  01-29-2021 09:30   assettypes/omrs_relationship.json\r\n",
      "      452  01-29-2021 09:30   assettypes/data_asset.json\r\n",
      "      309  01-29-2021 09:30   assettypes/connection.json\r\n",
      "      477  01-29-2021 09:30   assettypes/notebook.json\r\n",
      "      513  01-29-2021 09:30   assettypes/software_specification.json\r\n",
      "     1026  01-29-2021 09:30   assettypes/hardware_specification.json\r\n",
      "     1038  01-29-2021 09:30   assettypes/job.json\r\n",
      "    43368  01-29-2021 09:30   assettypes/wml_pipeline.json\r\n",
      "     2846  01-29-2021 09:30   assettypes/wml_model_definition.json\r\n",
      "    16556  01-29-2021 09:30   assettypes/wml_function.json\r\n",
      "    12964  01-29-2021 09:30   assettypes/wml_experiment.json\r\n",
      "      389  01-29-2021 09:30   assettypes/script.json\r\n",
      "      189  01-29-2021 09:30   assettypes/data_flow.json\r\n",
      "    40733  01-29-2021 09:30   assettypes/wml_deployment_job_definition.json\r\n",
      "      208  01-29-2021 09:30   assettypes/datasource_type.json\r\n",
      "      839  01-29-2021 09:30   assets/wml_model/384ddcde-a7fe-4652-baa9-b41c40b08284/3e405342-ac97-450b-8727-8ae4b86d6692\r\n",
      "      376  01-29-2021 09:30   space.json\r\n",
      "     1446  01-29-2021 09:30   assets/.METADATA/wml_model.384ddcde-a7fe-4652-baa9-b41c40b08284.json\r\n",
      "---------                     -------\r\n",
      "   199044                     33 files\r\n"
     ]
    }
   ],
   "source": [
    "! unzip -l dev-space-assets.zip "
   ]
  },
  {
   "cell_type": "markdown",
   "metadata": {},
   "source": [
    "### Create a new QA space and import assets"
   ]
  },
  {
   "cell_type": "markdown",
   "metadata": {},
   "source": [
    "Ensure there is no QA space"
   ]
  },
  {
   "cell_type": "code",
   "execution_count": 71,
   "metadata": {},
   "outputs": [],
   "source": [
    "result = ! cpdctl space list --output json --jmes-query \"resources[?name == \\\"cpdctl-demo-qa-space\\\"] | metadata.id\"\n",
    "SPACE_IDS = json.loads(result.s)\n",
    "if SPACE_IDS:\n",
    "    for space_id in SPACE_IDS:\n",
    "        result = ! cpdctl ml deployment list --space-id {space_id} --output json --jmes-query \"resources[*].metadata.id\"\n",
    "        DEPLOYMENT_IDS = json.loads(result.s)\n",
    "        if DEPLOYMENT_IDS:\n",
    "            for deployment_id in DEPLOYMENT_IDS:\n",
    "                print('Deleting deployment with ID: {}'.format(space_id))\n",
    "                ! cpdctl ml deployment delete --space-id {space_id} --deployment-id {deployment_id}\n",
    "        print('Deleting space with ID: {}'.format(space_id))\n",
    "        ! cpdctl space delete --space-id {space_id}"
   ]
  },
  {
   "cell_type": "markdown",
   "metadata": {},
   "source": [
    "Create a new QA space"
   ]
  },
  {
   "cell_type": "code",
   "execution_count": 74,
   "metadata": {},
   "outputs": [
    {
     "name": "stdout",
     "output_type": "stream",
     "text": [
      "The new 'cpdctl-demo-qa-space' space ID is: c280acdb-69ab-4fc3-81cb-86b28f5db80f\n"
     ]
    }
   ],
   "source": [
    "result = ! cpdctl space create --name cpdctl-demo-qa-space --output json --jmes-query \"metadata.id\" --raw-output\n",
    "QA_SPACE_ID = result.s\n",
    "print(\"The new 'cpdctl-demo-qa-space' space ID is: {}\".format(QA_SPACE_ID))"
   ]
  },
  {
   "cell_type": "markdown",
   "metadata": {},
   "source": [
    "Import assets exported from DEV space"
   ]
  },
  {
   "cell_type": "code",
   "execution_count": 75,
   "metadata": {},
   "outputs": [
    {
     "name": "stdout",
     "output_type": "stream",
     "text": [
      "The new import ID is: d6b729fa-1b8c-4db0-8e3c-f58cb4746882\n"
     ]
    }
   ],
   "source": [
    "result = ! cpdctl asset import start --space-id {QA_SPACE_ID} --import-file dev-space-assets.zip --output json --jmes-query \"metadata.id\" --raw-output\n",
    "QA_IMPORT_ID = result.s\n",
    "print(\"The new import ID is: {}\".format(QA_IMPORT_ID))"
   ]
  },
  {
   "cell_type": "code",
   "execution_count": 76,
   "metadata": {},
   "outputs": [
    {
     "name": "stdout",
     "output_type": "stream",
     "text": [
      "...\n",
      "\u001b[1m\u001b[0m           \u001b[1m\u001b[0m   \n",
      "\u001b[36;1mID:\u001b[0m        d6b729fa-1b8c-4db0-8e3c-f58cb4746882   \n",
      "\u001b[36;1mCreated:\u001b[0m   2021-01-29T09:40:51.099Z   \n",
      "\u001b[36;1mState:\u001b[0m     completed   \n"
     ]
    }
   ],
   "source": [
    "! cpdctl asset import get --space-id {QA_SPACE_ID} --import-id {QA_IMPORT_ID}"
   ]
  },
  {
   "cell_type": "code",
   "execution_count": 77,
   "metadata": {},
   "outputs": [
    {
     "name": "stdout",
     "output_type": "stream",
     "text": [
      "...\n",
      "\u001b[1mID\u001b[0m                                     \u001b[1mName\u001b[0m                                   \u001b[1mCreated\u001b[0m                    \u001b[1mType\u001b[0m                \u001b[1mTags\u001b[0m   \n",
      "\u001b[36;1m2da9a4d6-85c3-458a-9b84-557d1015e955\u001b[0m   boston-house-prices-prediction-model   2021-01-29T09:41:05.002Z   scikit-learn_0.23   []   \n"
     ]
    }
   ],
   "source": [
    "! cpdctl ml model list --space-id {QA_SPACE_ID}"
   ]
  },
  {
   "cell_type": "code",
   "execution_count": 79,
   "metadata": {},
   "outputs": [
    {
     "name": "stdout",
     "output_type": "stream",
     "text": [
      "QA model ID is: 2da9a4d6-85c3-458a-9b84-557d1015e955\n"
     ]
    }
   ],
   "source": [
    "result = ! cpdctl ml model list --space-id {QA_SPACE_ID} --output json --jmes-query \"resources[0].metadata.id\" --raw-output\n",
    "QA_MODEL_ID = result.s\n",
    "print(\"QA model ID is: {}\".format(QA_MODEL_ID))"
   ]
  },
  {
   "cell_type": "code",
   "execution_count": 80,
   "metadata": {},
   "outputs": [
    {
     "name": "stdout",
     "output_type": "stream",
     "text": [
      "...\n",
      "\u001b[1m\u001b[0m           \u001b[1m\u001b[0m   \n",
      "\u001b[36;1mID:\u001b[0m        cc9b9665-dfc6-4604-aae1-efd75a97b911   \n",
      "\u001b[36;1mName:\u001b[0m         \n",
      "\u001b[36;1mCreated:\u001b[0m   2021-01-29T09:41:49.154Z   \n",
      "\u001b[36;1mState:\u001b[0m     ready   \n",
      "\u001b[36;1mTags:\u001b[0m      []   \n"
     ]
    }
   ],
   "source": [
    "ASSET_JSON = json.dumps({\"id\": QA_MODEL_ID})\n",
    "ONLINE_JSON = json.dumps({})\n",
    "\n",
    "! cpdctl ml deployment create --space-id {QA_SPACE_ID} --asset '{ASSET_JSON}' --online '{ONLINE_JSON}'"
   ]
  },
  {
   "cell_type": "code",
   "execution_count": 81,
   "metadata": {},
   "outputs": [
    {
     "name": "stdout",
     "output_type": "stream",
     "text": [
      "...\n",
      "\u001b[1mID\u001b[0m                                     \u001b[1mName\u001b[0m   \u001b[1mCreated\u001b[0m                    \u001b[1mState\u001b[0m   \u001b[1mTags\u001b[0m   \n",
      "\u001b[36;1mcc9b9665-dfc6-4604-aae1-efd75a97b911\u001b[0m          2021-01-29T09:41:49.154Z   ready   []   \n"
     ]
    }
   ],
   "source": [
    "! cpdctl ml deployment list  --space-id {QA_SPACE_ID}"
   ]
  },
  {
   "cell_type": "markdown",
   "metadata": {},
   "source": [
    "### Author\n",
    "\n",
    "Rafał Bigaj, System Architect with long successful record of building and leading teams. Broad and practical knowledge in the area of cloud computing, machine learning and distributed systems development. "
   ]
  },
  {
   "cell_type": "markdown",
   "metadata": {},
   "source": [
    "Copyright © 2020 IBM. This notebook and its source code are released under the terms of the MIT License."
   ]
  }
 ],
 "metadata": {
  "kernelspec": {
   "display_name": "Python 3",
   "language": "python",
   "name": "python3"
  },
  "language_info": {
   "codemirror_mode": {
    "name": "ipython",
    "version": 3
   },
   "file_extension": ".py",
   "mimetype": "text/x-python",
   "name": "python",
   "nbconvert_exporter": "python",
   "pygments_lexer": "ipython3",
   "version": "3.7.4"
  }
 },
 "nbformat": 4,
 "nbformat_minor": 1
}
