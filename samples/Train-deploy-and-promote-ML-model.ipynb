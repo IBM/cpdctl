{
 "cells": [
  {
   "cell_type": "markdown",
   "metadata": {},
   "source": [
    "# Train, promote and deploy Boston house prices prediction model"
   ]
  },
  {
   "cell_type": "markdown",
   "metadata": {},
   "source": [
    "This notebook contains steps and code to demonstrate support of AI Lifecycle features in Cloud Pak for Data. \n",
    "It contains steps and code to work with [`cpdctl`](https://github.com/IBM/cpdctl) CLI tool available in IBM github repository. \n",
    "It also introduces commands for getting model and training data, persisting model, deploying model\n",
    "and promoting it between deployment spaces.\n",
    "\n",
    "Some familiarity with Python is helpful. This notebook uses Python 3.7.\n"
   ]
  },
  {
   "cell_type": "code",
   "execution_count": 1,
   "metadata": {},
   "outputs": [],
   "source": [
    "import base64\n",
    "import json\n",
    "import os\n",
    "import platform\n",
    "import requests\n",
    "import tarfile\n",
    "import zipfile\n",
    "from IPython.core.display import display, HTML"
   ]
  },
  {
   "cell_type": "markdown",
   "metadata": {},
   "source": [
    "## CPD Credentials\n",
    "**Note**: when running this notebook inside IBM Cloud Pak for Data (CP4D) cluster, cpdctl takes advantage of [zero-configuration mode](https://github.com/IBM/cpdctl#zero-configuration) which means it can connect to the CP4D without explicit configuration. In that case the cells below that set credential and URL variables as well as cells that run `cpdctl config ...` commands can be skipped."
   ]
  },
  {
   "cell_type": "code",
   "execution_count": 2,
   "metadata": {},
   "outputs": [],
   "source": [
    "CPD_USER_NAME = 'YOUR CPD USER NAME'\n",
    "CPD_USER_PASSWORD = 'YOUR CPD USER PASSWORD'\n",
    "CPD_URL = 'YOUR CPD CLUSTER URL'"
   ]
  },
  {
   "cell_type": "markdown",
   "metadata": {},
   "source": [
    "### Install the latest version of `cpdctl`"
   ]
  },
  {
   "cell_type": "code",
   "execution_count": 3,
   "metadata": {},
   "outputs": [
    {
     "data": {
      "text/html": [
       "<code>cpdctl</code> binary downloaded from: <a href=\"https://github.com/IBM/cpdctl/releases/download/v1.0.0/cpdctl_darwin_amd64.tar.gz\">cpdctl_darwin_amd64.tar.gz</a>"
      ],
      "text/plain": [
       "<IPython.core.display.HTML object>"
      ]
     },
     "metadata": {},
     "output_type": "display_data"
    }
   ],
   "source": [
    "PLATFORM = platform.system().lower()\n",
    "CPDCTL_ARCH = \"{}_amd64\".format(PLATFORM)\n",
    "CPDCTL_RELEASES_URL=\"https://api.github.com/repos/IBM/cpdctl/releases\"\n",
    "CWD = os.getcwd()\n",
    "PATH = os.environ['PATH']\n",
    "CPD_CONFIG = os.path.join(CWD, '.cpdctl.config.yml')\n",
    "\n",
    "response = requests.get(CPDCTL_RELEASES_URL)\n",
    "assets = response.json()[0]['assets']\n",
    "platform_asset = next(a for a in assets if CPDCTL_ARCH in a['name'])\n",
    "cpdctl_url = platform_asset['url']\n",
    "cpdctl_file_name = platform_asset['name']\n",
    "\n",
    "response = requests.get(cpdctl_url, headers={'Accept': 'application/octet-stream'})\n",
    "with open(cpdctl_file_name, 'wb') as f:\n",
    "    f.write(response.content)\n",
    "    \n",
    "display(HTML('<code>cpdctl</code> binary downloaded from: <a href=\"{}\">{}</a>'.format(platform_asset['browser_download_url'], platform_asset['name'])))"
   ]
  },
  {
   "cell_type": "code",
   "execution_count": 4,
   "metadata": {},
   "outputs": [],
   "source": [
    "%%capture\n",
    "\n",
    "%env PATH={CWD}:{PATH}\n",
    "%env CPD_CONFIG={CPD_CONFIG}"
   ]
  },
  {
   "cell_type": "code",
   "execution_count": 5,
   "metadata": {},
   "outputs": [
    {
     "name": "stdout",
     "text": [
      "cpdctl version: 1.0.105\n"
     ],
     "output_type": "stream"
    }
   ],
   "source": [
    "if cpdctl_file_name.endswith('tar.gz'):\n",
    "    with tarfile.open(cpdctl_file_name, \"r:gz\") as tar:\n",
    "        tar.extractall()\n",
    "elif cpdctl_file_name.endswith('zip'):\n",
    "    with zipfile.ZipFile(cpdctl_file_name, 'r') as zf:\n",
    "        zf.extractall()\n",
    "\n",
    "if CPD_CONFIG and os.path.exists(CPD_CONFIG):\n",
    "    os.remove(CPD_CONFIG)\n",
    "    \n",
    "version_r = ! cpdctl version\n",
    "CPDCTL_VERSION = version_r.s\n",
    "\n",
    "print(\"cpdctl version: {}\".format(CPDCTL_VERSION))"
   ]
  },
  {
   "cell_type": "markdown",
   "metadata": {},
   "source": [
    "### Add CPD user and profile configuration"
   ]
  },
  {
   "cell_type": "markdown",
   "metadata": {},
   "source": [
    "Add \"cpd_user\" user to the `cpdctl` configuration"
   ]
  },
  {
   "cell_type": "code",
   "execution_count": 6,
   "metadata": {},
   "outputs": [],
   "source": [
    "! cpdctl config user set cpd_user --username {CPD_USER_NAME} --password {CPD_USER_PASSWORD}"
   ]
  },
  {
   "cell_type": "markdown",
   "metadata": {},
   "source": [
    "Add \"cpd\" profile to the `cpdctl` configuration"
   ]
  },
  {
   "cell_type": "code",
   "execution_count": 7,
   "metadata": {},
   "outputs": [],
   "source": [
    "! cpdctl config profile set cpd --url {CPD_URL} --user cpd_user"
   ]
  },
  {
   "cell_type": "markdown",
   "metadata": {},
   "source": [
    "List available profiles"
   ]
  },
  {
   "cell_type": "code",
   "execution_count": 1,
   "metadata": {},
   "outputs": [
    {
     "name": "stdout",
     "output_type": "stream",
     "text": [
      "\u001b[1mName\u001b[0m   \u001b[1mType\u001b[0m      \u001b[1mUser\u001b[0m       \u001b[1mURL\u001b[0m                                              \u001b[1mCurrent\u001b[0m\r\n",
      "\u001b[36;1mcpd\u001b[0m    private   cpd_user   https://cpd-zen.apps.wp463case.cp.fyre.ibm.com   *\r\n"
     ]
    }
   ],
   "source": [
    "! cpdctl config profile list"
   ]
  },
  {
   "cell_type": "code",
   "execution_count": 2,
   "metadata": {},
   "outputs": [
    {
     "name": "stdout",
     "output_type": "stream",
     "text": [
      "Switched to profile \"cpd\".\r\n"
     ]
    }
   ],
   "source": [
    "! cpdctl config profile use cpd"
   ]
  },
  {
   "cell_type": "markdown",
   "metadata": {},
   "source": [
    "List available projects in current profile"
   ]
  },
  {
   "cell_type": "code",
   "execution_count": 11,
   "metadata": {
    "pycharm": {
     "is_executing": false
    }
   },
   "outputs": [
    {
     "name": "stdout",
     "text": [
      "...\r\n",
      "\u001b[1mID\u001b[0m                                     \u001b[1mName\u001b[0m                               \u001b[1mCreated\u001b[0m                    \u001b[1mDescription\u001b[0m                                          \u001b[1mTags\u001b[0m   \r\n",
      "\u001b[36;1m47c57769-9876-46bc-ad26-259c559cbc3f\u001b[0m   Clustering Demo (git-integrated)   2021-06-21T10:59:35.265Z   Demo showing how to cluster data in CPD using cod…   []   \r\n",
      "\u001b[36;1m68d739dd-7c54-41ae-9ed3-f04db182e559\u001b[0m   jm-proj                            2021-07-15T10:27:38.452Z                                                        []   \r\n",
      "\u001b[36;1m87d3b6e0-19e1-4e4e-8c4c-11f1a9df789c\u001b[0m   fvt-project                        2021-06-28T12:46:42.246Z                                                        []   \r\n",
      "\u001b[36;1ma5d7960c-5194-4013-9a0c-4da2d3f6583e\u001b[0m   test-mo                            2021-06-23T11:43:56.992Z                                                        []   \r\n",
      "\u001b[36;1me655370d-4513-45f9-b4c6-c45692044773\u001b[0m   cpdctl-demo                        2021-07-15T09:28:43.603Z                                                        []   \r\n",
      "\u001b[36;1mfc5888cd-89d8-411b-b24a-ea1b9c5fd87e\u001b[0m   fvt-jobs                           2021-07-08T09:25:36.060Z                                                        []   \r\n"
     ],
     "output_type": "stream"
    }
   ],
   "source": [
    "! cpdctl project list"
   ]
  },
  {
   "cell_type": "markdown",
   "metadata": {},
   "source": [
    "### Access the selected project assets"
   ]
  },
  {
   "cell_type": "markdown",
   "metadata": {},
   "source": [
    "Get cpdctl-demo project ID and show details"
   ]
  },
  {
   "cell_type": "code",
   "execution_count": 12,
   "metadata": {
    "pycharm": {
     "is_executing": false
    }
   },
   "outputs": [],
   "source": [
    "result = ! cpdctl project list --output json --raw-output --jmes-query 'resources[4].metadata.guid'\n",
    "PROJECT_ID = result.s"
   ]
  },
  {
   "cell_type": "code",
   "execution_count": 13,
   "metadata": {
    "scrolled": true,
    "pycharm": {
     "is_executing": false
    }
   },
   "outputs": [
    {
     "name": "stdout",
     "text": [
      "...\r\n",
      "\u001b[1m\u001b[0m               \u001b[1m\u001b[0m   \r\n",
      "\u001b[36;1mID:\u001b[0m            e655370d-4513-45f9-b4c6-c45692044773   \r\n",
      "\u001b[36;1mName:\u001b[0m          cpdctl-demo   \r\n",
      "\u001b[36;1mCreated:\u001b[0m       2021-07-15T09:28:43.603Z   \r\n",
      "\u001b[36;1mDescription:\u001b[0m      \r\n",
      "\u001b[36;1mTags:\u001b[0m          []   \r\n"
     ],
     "output_type": "stream"
    }
   ],
   "source": [
    "! cpdctl project get --project-id {PROJECT_ID}"
   ]
  },
  {
   "cell_type": "markdown",
   "metadata": {},
   "source": [
    "Get project details in JSON format and extract it's name"
   ]
  },
  {
   "cell_type": "code",
   "execution_count": 14,
   "metadata": {
    "pycharm": {
     "is_executing": false
    }
   },
   "outputs": [
    {
     "name": "stdout",
     "text": [
      "{\r\n",
      "  \"entity\": {\r\n",
      "    \"creator\": \"admin\",\r\n",
      "    \"creator_iam_id\": \"1000330999\",\r\n",
      "    \"description\": \"\",\r\n",
      "    \"name\": \"cpdctl-demo\",\r\n",
      "    \"public\": false,\r\n",
      "    \"scope\": {\r\n",
      "      \"bss_account_id\": \"999\",\r\n",
      "      \"enforce_members\": true\r\n",
      "    },\r\n",
      "    \"storage\": {\r\n",
      "      \"guid\": \"451b5035-8dde-4684-96fc-a4c88aa77711\",\r\n",
      "      \"type\": \"assetfiles\"\r\n",
      "    }\r\n",
      "  },\r\n",
      "  \"metadata\": {\r\n",
      "    \"created_at\": \"2021-07-15T09:28:43.603Z\",\r\n",
      "    \"guid\": \"e655370d-4513-45f9-b4c6-c45692044773\",\r\n",
      "    \"updated_at\": \"2021-07-15T09:28:44.737Z\",\r\n",
      "    \"url\": \"/v2/projects/e655370d-4513-45f9-b4c6-c45692044773\"\r\n",
      "  }\r\n",
      "}\r\n"
     ],
     "output_type": "stream"
    }
   ],
   "source": [
    "! cpdctl project get --project-id {PROJECT_ID} --output json"
   ]
  },
  {
   "cell_type": "code",
   "execution_count": 15,
   "metadata": {
    "pycharm": {
     "is_executing": false
    }
   },
   "outputs": [
    {
     "name": "stdout",
     "text": [
      "'cpdctl-demo' project ID is: e655370d-4513-45f9-b4c6-c45692044773\n"
     ],
     "output_type": "stream"
    }
   ],
   "source": [
    "result = ! cpdctl project get --project-id {PROJECT_ID} --output json --jmes-query \"entity.name\" --raw-output\n",
    "PROJECT_NAME = result.s\n",
    "print(\"'{}' project ID is: {}\".format(PROJECT_NAME, PROJECT_ID))"
   ]
  },
  {
   "cell_type": "markdown",
   "metadata": {},
   "source": [
    "List assets in the project"
   ]
  },
  {
   "cell_type": "code",
   "execution_count": 16,
   "metadata": {
    "pycharm": {
     "is_executing": false
    }
   },
   "outputs": [
    {
     "name": "stdout",
     "text": [
      "...\r\n",
      "\u001b[1mID\u001b[0m                                     \u001b[1mName\u001b[0m                       \u001b[1mCreated\u001b[0m                    \u001b[1mDescription\u001b[0m   \u001b[1mType\u001b[0m         \u001b[1mState\u001b[0m       \u001b[1mTags\u001b[0m            \u001b[1mSize\u001b[0m   \r\n",
      "\u001b[36;1m91248743-3524-4b0f-878d-3aeef88c5fa5\u001b[0m   Sample notebook            2021-07-15T09:29:11.000Z                 notebook     available   [notebook]      207   \r\n",
      "\u001b[36;1mbbeea775-b464-4abf-b2a2-17c31970cc47\u001b[0m   credit_risk_training.csv   2021-07-15T10:19:26.000Z                 data_asset   available   [cpdctl-demo]   689222   \r\n"
     ],
     "output_type": "stream"
    }
   ],
   "source": [
    "! cpdctl asset search --project-id {PROJECT_ID} --type-name asset --query \"*:*\""
   ]
  },
  {
   "cell_type": "markdown",
   "metadata": {},
   "source": [
    "### Download data asset"
   ]
  },
  {
   "cell_type": "markdown",
   "metadata": {},
   "source": [
    "Get \"credit_risk_training.csv\" data asset ID"
   ]
  },
  {
   "cell_type": "code",
   "execution_count": 17,
   "metadata": {
    "pycharm": {
     "is_executing": false
    }
   },
   "outputs": [
    {
     "name": "stdout",
     "text": [
      "'credit_risk_training.csv' data asset ID is: bbeea775-b464-4abf-b2a2-17c31970cc47\n"
     ],
     "output_type": "stream"
    }
   ],
   "source": [
    "result = ! cpdctl asset search --project-id {PROJECT_ID} --type-name data_asset --query \"asset.name:credit_risk_training.csv\" --output json --jmes-query \"results[0].metadata.asset_id\" --raw-output\n",
    "DATA_ASSET_ID = result.s\n",
    "print(\"'credit_risk_training.csv' data asset ID is: {}\".format(DATA_ASSET_ID))"
   ]
  },
  {
   "cell_type": "markdown",
   "metadata": {},
   "source": [
    "Download data asset"
   ]
  },
  {
   "cell_type": "code",
   "execution_count": 18,
   "metadata": {
    "pycharm": {
     "is_executing": false
    }
   },
   "outputs": [
    {
     "name": "stdout",
     "text": [
      "...\r\n",
      "\u001b[1m\u001b[0m               \u001b[1m\u001b[0m   \r\n",
      "\u001b[36;1mID:\u001b[0m            bbeea775-b464-4abf-b2a2-17c31970cc47   \r\n",
      "\u001b[36;1mName:\u001b[0m          credit_risk_training.csv   \r\n",
      "\u001b[36;1mCreated:\u001b[0m       2021-07-15T10:19:26.000Z   \r\n",
      "\u001b[36;1mDescription:\u001b[0m      \r\n",
      "\u001b[36;1mType:\u001b[0m          data_asset   \r\n",
      "\u001b[36;1mState:\u001b[0m         available   \r\n",
      "\u001b[36;1mTags:\u001b[0m          [cpdctl-demo]   \r\n",
      "\u001b[36;1mSize:\u001b[0m          689222   \r\n",
      "\u001b[36;1mAttachments:\u001b[0m   \u001b[1mID\u001b[0m                                     \u001b[1mName\u001b[0m                       \u001b[1mType\u001b[0m         \u001b[1mMime Type\u001b[0m      \r\n",
      "\u001b[36;1m\u001b[0m               \u001b[36;1md7c77cf9-a52a-4692-b9ec-ea1ec73d1f3a\u001b[0m   credit_risk_training.csv   data_asset   text/csv      \r\n",
      "\u001b[36;1m\u001b[0m                  \r\n"
     ],
     "output_type": "stream"
    }
   ],
   "source": [
    "! cpdctl asset get --project-id {PROJECT_ID} --asset-id {DATA_ASSET_ID}"
   ]
  },
  {
   "cell_type": "code",
   "execution_count": 19,
   "metadata": {
    "pycharm": {
     "is_executing": false
    }
   },
   "outputs": [
    {
     "name": "stdout",
     "text": [
      "Data asset attachment ID is: d7c77cf9-a52a-4692-b9ec-ea1ec73d1f3a\n"
     ],
     "output_type": "stream"
    }
   ],
   "source": [
    "result = ! cpdctl asset get --project-id {PROJECT_ID} --asset-id {DATA_ASSET_ID} --output json --jmes-query \"attachments[0].id\" --raw-output\n",
    "DATA_ATTACHMENT_ID = result.s\n",
    "print(\"Data asset attachment ID is: {}\".format(DATA_ATTACHMENT_ID))"
   ]
  },
  {
   "cell_type": "code",
   "execution_count": 20,
   "metadata": {
    "pycharm": {
     "is_executing": false
    }
   },
   "outputs": [
    {
     "name": "stdout",
     "text": [
      "...\r\n",
      "544.00 KiB / 673.07 KiB [------------------------------->_______] 80.82% ? p/s ?\u001b[32;1mOK\u001b[0m\r\n",
      "Output written to credit_risk_training.csv\r\n"
     ],
     "output_type": "stream"
    }
   ],
   "source": [
    "! cpdctl asset attachment download --project-id {PROJECT_ID} --asset-id {DATA_ASSET_ID} --attachment-id {DATA_ATTACHMENT_ID} --output-file credit_risk_training.csv"
   ]
  },
  {
   "cell_type": "markdown",
   "metadata": {},
   "source": [
    "### Upload a new data asset"
   ]
  },
  {
   "cell_type": "markdown",
   "metadata": {},
   "source": [
    "Clean up the existing \"car_rental_training_data.csv\" data assets"
   ]
  },
  {
   "cell_type": "code",
   "execution_count": 21,
   "metadata": {
    "pycharm": {
     "is_executing": false
    }
   },
   "outputs": [
    {
     "name": "stdout",
     "text": [
      "Deleting data asset with ID: 80767054-a472-4e7b-ab19-89fdea8592c8\n",
      "...\r\n",
      "\u001b[32;1mOK\u001b[0m\r\n"
     ],
     "output_type": "stream"
    }
   ],
   "source": [
    "result = ! cpdctl asset search --project-id {PROJECT_ID} --type-name data_asset --query \"asset.name:car_rental_training_data.csv\" --output json --jmes-query \"results[*].metadata.asset_id\" --raw-output\n",
    "DATA_ASSET_IDS = json.loads(result.s)\n",
    "for data_asset_id in DATA_ASSET_IDS:\n",
    "    print(\"Deleting data asset with ID: {}\".format(data_asset_id))\n",
    "    ! cpdctl asset delete --project-id {PROJECT_ID} --asset-id {data_asset_id}"
   ]
  },
  {
   "cell_type": "markdown",
   "metadata": {},
   "source": [
    "Download another training data set from github "
   ]
  },
  {
   "cell_type": "code",
   "execution_count": 22,
   "metadata": {
    "pycharm": {
     "is_executing": false
    }
   },
   "outputs": [
    {
     "name": "stdout",
     "text": [
      "  % Total    % Received % Xferd  Average Speed   Time    Time     Time  Current\r\n",
      "                                 Dload  Upload   Total   Spent    Left  Speed\r\n",
      "100 79518  100 79518    0     0   129k      0 --:--:-- --:--:-- --:--:--  129k\r\n",
      "     486 car_rental_training_data.csv\r\n"
     ],
     "output_type": "stream"
    }
   ],
   "source": [
    "! curl https://raw.githubusercontent.com/pmservice/wml-sample-models/master/spark/cars-4-you/data/car_rental_training_data.csv -o car_rental_training_data.csv\n",
    "! wc -l car_rental_training_data.csv"
   ]
  },
  {
   "cell_type": "markdown",
   "metadata": {},
   "source": [
    "Create a new data asset in the project from the downloaded file \"car_rental_training_data.csv\" "
   ]
  },
  {
   "cell_type": "code",
   "execution_count": 23,
   "metadata": {
    "pycharm": {
     "is_executing": false
    }
   },
   "outputs": [
    {
     "name": "stdout",
     "text": [
      "...\r\n",
      "77.87 KiB / 77.65 KiB [---------------------------------------] 100.28% ? p/s 0s\r\n",
      "\u001b[1m\u001b[0m               \u001b[1m\u001b[0m   \r\n",
      "\u001b[36;1mID:\u001b[0m            7b3720e3-1d13-4ea3-a76a-79ada7ff11e1   \r\n",
      "\u001b[36;1mName:\u001b[0m          car_rental_training_data.csv   \r\n",
      "\u001b[36;1mCreated:\u001b[0m       2021-07-15T11:33:21.000Z   \r\n",
      "\u001b[36;1mDescription:\u001b[0m      \r\n",
      "\u001b[36;1mType:\u001b[0m          data_asset   \r\n",
      "\u001b[36;1mState:\u001b[0m         available   \r\n",
      "\u001b[36;1mTags:\u001b[0m          [cpdctl-demo]   \r\n",
      "\u001b[36;1mSize:\u001b[0m          79518   \r\n",
      "\u001b[36;1mAttachments:\u001b[0m   \u001b[1mID\u001b[0m                                     \u001b[1mName\u001b[0m                           \u001b[1mType\u001b[0m         \u001b[1mMime Type\u001b[0m      \r\n",
      "\u001b[36;1m\u001b[0m               \u001b[36;1m84b6baaa-0cb9-4d09-854c-ca85361c155b\u001b[0m   car_rental_training_data.csv   data_asset   text/csv      \r\n",
      "\u001b[36;1m\u001b[0m                  \r\n"
     ],
     "output_type": "stream"
    }
   ],
   "source": [
    "! cpdctl asset data-asset upload --file car_rental_training_data.csv --project-id {PROJECT_ID} --progress true --tag \"cpdctl-demo\" --mime \"text/csv\""
   ]
  },
  {
   "cell_type": "code",
   "execution_count": 24,
   "metadata": {
    "pycharm": {
     "is_executing": false
    }
   },
   "outputs": [
    {
     "name": "stdout",
     "text": [
      "'car_rental_training_data.csv' data asset ID is: 7b3720e3-1d13-4ea3-a76a-79ada7ff11e1\n"
     ],
     "output_type": "stream"
    }
   ],
   "source": [
    "result = ! cpdctl asset search --project-id {PROJECT_ID} --type-name data_asset --query \"asset.name:car_rental_training_data.csv\" --output json --jmes-query \"results[0].metadata.asset_id\" --raw-output\n",
    "NEW_DATA_ASSET_ID = result.s\n",
    "print(\"'car_rental_training_data.csv' data asset ID is: {}\".format(NEW_DATA_ASSET_ID))"
   ]
  },
  {
   "cell_type": "code",
   "execution_count": 25,
   "metadata": {
    "pycharm": {
     "is_executing": false
    }
   },
   "outputs": [
    {
     "name": "stdout",
     "text": [
      "...\r\n",
      "\u001b[1mID\u001b[0m                                     \u001b[1mName\u001b[0m                           \u001b[1mCreated\u001b[0m                    \u001b[1mDescription\u001b[0m   \u001b[1mType\u001b[0m         \u001b[1mState\u001b[0m       \u001b[1mTags\u001b[0m            \u001b[1mSize\u001b[0m   \r\n",
      "\u001b[36;1mbbeea775-b464-4abf-b2a2-17c31970cc47\u001b[0m   credit_risk_training.csv       2021-07-15T10:19:26.000Z                 data_asset   available   [cpdctl-demo]   689222   \r\n",
      "\u001b[36;1m7b3720e3-1d13-4ea3-a76a-79ada7ff11e1\u001b[0m   car_rental_training_data.csv   2021-07-15T11:33:21.000Z                 data_asset   available   [cpdctl-demo]   79518   \r\n"
     ],
     "output_type": "stream"
    }
   ],
   "source": [
    "! cpdctl asset search --project-id {PROJECT_ID} --type-name data_asset --query \"*:*\""
   ]
  },
  {
   "cell_type": "markdown",
   "metadata": {},
   "source": [
    "Promote the new data asset to \"cpdctl-demo-space\" space"
   ]
  },
  {
   "cell_type": "code",
   "execution_count": 26,
   "metadata": {
    "pycharm": {
     "is_executing": false
    }
   },
   "outputs": [
    {
     "name": "stdout",
     "text": [
      "...\r\n",
      "\u001b[1mID\u001b[0m                                     \u001b[1mName\u001b[0m           \u001b[1mCreated\u001b[0m                    \u001b[1mDescription\u001b[0m   \u001b[1mState\u001b[0m    \u001b[1mTags\u001b[0m   \r\n",
      "\u001b[36;1m9001e03a-e3b9-4ddf-88db-063651d735b4\u001b[0m   qa-space       2021-06-21T11:11:22.988Z                 active   []   \r\n",
      "\u001b[36;1m715f068a-a8c8-4093-a7f2-15ab111c21e5\u001b[0m   prod-space     2021-06-21T11:12:12.958Z                 active   []   \r\n",
      "\u001b[36;1ma72bfe88-5fc9-4323-90ad-53d94511d120\u001b[0m   fvt-space      2021-06-28T12:50:33.447Z                 active   []   \r\n",
      "\u001b[36;1mcdd90e91-792c-4834-a26a-ac979b998fd8\u001b[0m   export-space   2021-07-09T12:02:55.754Z                 active   []   \r\n",
      "\u001b[36;1mbe32f9b8-702f-444e-9902-754464f39853\u001b[0m   jm-space       2021-07-15T10:40:36.849Z                 active   []   \r\n"
     ],
     "output_type": "stream"
    }
   ],
   "source": [
    "! cpdctl space list"
   ]
  },
  {
   "cell_type": "markdown",
   "metadata": {},
   "source": [
    "Create a new space"
   ]
  },
  {
   "cell_type": "code",
   "execution_count": 27,
   "metadata": {
    "pycharm": {
     "is_executing": false
    }
   },
   "outputs": [
    {
     "name": "stdout",
     "text": [
      "...\r\n",
      "\u001b[1m\u001b[0m           \u001b[1m\u001b[0m   \r\n",
      "\u001b[36;1mID:\u001b[0m        4265aad6-f75c-4ae9-b6ae-ea432822fde6   \r\n",
      "\u001b[36;1mName:\u001b[0m      cpdctl-demo-space   \r\n",
      "\u001b[36;1mCreated:\u001b[0m   2021-07-15T11:34:42.285Z   \r\n",
      "\u001b[36;1mState:\u001b[0m     active   \r\n",
      "\u001b[36;1mTags:\u001b[0m      []   \r\n"
     ],
     "output_type": "stream"
    }
   ],
   "source": [
    "! cpdctl space create --name cpdctl-demo-space"
   ]
  },
  {
   "cell_type": "code",
   "execution_count": 28,
   "metadata": {
    "pycharm": {
     "is_executing": false
    }
   },
   "outputs": [
    {
     "name": "stdout",
     "text": [
      "...\r\n",
      "\u001b[1mID\u001b[0m                                     \u001b[1mName\u001b[0m                \u001b[1mCreated\u001b[0m                    \u001b[1mDescription\u001b[0m   \u001b[1mState\u001b[0m    \u001b[1mTags\u001b[0m   \r\n",
      "\u001b[36;1m9001e03a-e3b9-4ddf-88db-063651d735b4\u001b[0m   qa-space            2021-06-21T11:11:22.988Z                 active   []   \r\n",
      "\u001b[36;1m715f068a-a8c8-4093-a7f2-15ab111c21e5\u001b[0m   prod-space          2021-06-21T11:12:12.958Z                 active   []   \r\n",
      "\u001b[36;1ma72bfe88-5fc9-4323-90ad-53d94511d120\u001b[0m   fvt-space           2021-06-28T12:50:33.447Z                 active   []   \r\n",
      "\u001b[36;1mcdd90e91-792c-4834-a26a-ac979b998fd8\u001b[0m   export-space        2021-07-09T12:02:55.754Z                 active   []   \r\n",
      "\u001b[36;1mbe32f9b8-702f-444e-9902-754464f39853\u001b[0m   jm-space            2021-07-15T10:40:36.849Z                 active   []   \r\n",
      "\u001b[36;1m4265aad6-f75c-4ae9-b6ae-ea432822fde6\u001b[0m   cpdctl-demo-space   2021-07-15T11:34:42.285Z                 active   []   \r\n"
     ],
     "output_type": "stream"
    }
   ],
   "source": [
    "! cpdctl space list"
   ]
  },
  {
   "cell_type": "markdown",
   "metadata": {},
   "source": [
    "Get the ID of cpdctl-demo-space"
   ]
  },
  {
   "cell_type": "code",
   "execution_count": 29,
   "metadata": {
    "pycharm": {
     "is_executing": false
    }
   },
   "outputs": [
    {
     "name": "stdout",
     "text": [
      "Space ID is: 4265aad6-f75c-4ae9-b6ae-ea432822fde6\n"
     ],
     "output_type": "stream"
    }
   ],
   "source": [
    "result = ! cpdctl space list --output json --jmes-query \"resources[5].metadata.id\" --raw-output\n",
    "DEV_SPACE_ID = result.s\n",
    "print(\"Space ID is: {}\".format(DEV_SPACE_ID))"
   ]
  },
  {
   "cell_type": "markdown",
   "metadata": {},
   "source": [
    "Clean up existing data asset"
   ]
  },
  {
   "cell_type": "code",
   "execution_count": 30,
   "metadata": {
    "pycharm": {
     "is_executing": false
    }
   },
   "outputs": [],
   "source": [
    "result = ! cpdctl asset search --space-id {DEV_SPACE_ID} --type-name data_asset --query \"asset.name:car_rental_training_data.csv\" --output json --jmes-query \"results[*].metadata.asset_id\" --raw-output\n",
    "DATA_ASSET_IDS = json.loads(result.s)\n",
    "for data_asset_id in DATA_ASSET_IDS:\n",
    "    print(\"Deleting data asset with ID: {}\".format(data_asset_id))\n",
    "    ! cpdctl asset delete --space-id {DEV_SPACE_ID} --asset-id {data_asset_id}"
   ]
  },
  {
   "cell_type": "code",
   "execution_count": 31,
   "metadata": {
    "pycharm": {
     "is_executing": false
    }
   },
   "outputs": [
    {
     "name": "stdout",
     "text": [
      "...\r\n",
      "\u001b[32;1mOK\u001b[0m\r\n"
     ],
     "output_type": "stream"
    }
   ],
   "source": [
    "PROMOTE_BODY = {\n",
    "    \"mode\": 0,\n",
    "    \"space_id\": DEV_SPACE_ID,\n",
    "    \"metadata\": {\n",
    "        \"tags\": [\"cpdctl-demo\", \"promoted-{}]\".format(PROJECT_ID[0:8])]\n",
    "    }\n",
    "}\n",
    "PROMOTE_BODY_JSON = json.dumps(PROMOTE_BODY)\n",
    "\n",
    "! cpdctl asset promote --project-id {PROJECT_ID} --asset-id {NEW_DATA_ASSET_ID} --request-body '{PROMOTE_BODY_JSON}'"
   ]
  },
  {
   "cell_type": "code",
   "execution_count": 32,
   "metadata": {
    "pycharm": {
     "is_executing": false
    }
   },
   "outputs": [
    {
     "name": "stdout",
     "text": [
      "...\r\n",
      "\u001b[1mID\u001b[0m                                     \u001b[1mName\u001b[0m                           \u001b[1mCreated\u001b[0m                    \u001b[1mDescription\u001b[0m   \u001b[1mType\u001b[0m         \u001b[1mState\u001b[0m       \u001b[1mTags\u001b[0m                               \u001b[1mSize\u001b[0m   \r\n",
      "\u001b[36;1m6fff9b89-324e-405d-b6d8-0b14e89aa214\u001b[0m   car_rental_training_data.csv   2021-07-15T11:35:09.000Z                 data_asset   available   [cpdctl-demo promoted-e655370d]]   79518   \r\n"
     ],
     "output_type": "stream"
    }
   ],
   "source": [
    "! cpdctl asset search --space-id {DEV_SPACE_ID} --type-name asset --query \"*:*\""
   ]
  },
  {
   "cell_type": "markdown",
   "metadata": {},
   "source": [
    "### Train and store model in the notebook"
   ]
  },
  {
   "cell_type": "markdown",
   "metadata": {},
   "source": [
    "List jobs in the project"
   ]
  },
  {
   "cell_type": "code",
   "execution_count": 33,
   "metadata": {
    "pycharm": {
     "is_executing": false
    }
   },
   "outputs": [],
   "source": [
    "result = ! cpdctl asset search --project-id {PROJECT_ID} --type-name job --output json --query \"asset.name:train-scikit-model-job\" --jmes-query \"results[0].metadata.asset_id\" --raw-output\n",
    "EXISTING_JOB_ID = result.s\n",
    "if EXISTING_JOB_ID and EXISTING_JOB_ID != \"null\":\n",
    "    print(\"Deleting job with ID: {}\".format(EXISTING_JOB_ID))\n",
    "    ! cpdctl job delete --project-id {PROJECT_ID} --job-id {EXISTING_JOB_ID}\n",
    "    "
   ]
  },
  {
   "cell_type": "markdown",
   "source": [
    "List all the environments in your project, filter them by their display name and get the ID of the environment in which your notebook will be run"
   ],
   "metadata": {
    "collapsed": false
   }
  },
  {
   "cell_type": "code",
   "execution_count": 34,
   "outputs": [
    {
     "name": "stdout",
     "text": [
      "environment id: jupconda37oce-e655370d-4513-45f9-b4c6-c45692044773\n"
     ],
     "output_type": "stream"
    }
   ],
   "source": [
    "environment_name = \"Default Python 3.7\"\n",
    "query_string = \"(resources[?entity.environment.display_name == '{}'].metadata.asset_id)[0]\".format(environment_name)\n",
    "result = ! cpdctl environment list --project-id {PROJECT_ID} --output json -j \"{query_string}\" --raw-output\n",
    "env_id = result.s\n",
    "print(\"environment id: {}\".format(env_id))"
   ],
   "metadata": {
    "collapsed": false,
    "pycharm": {
     "name": "#%%\n",
     "is_executing": false
    }
   }
  },
  {
   "cell_type": "markdown",
   "source": [
    "\n",
    "Upload the notebook"
   ],
   "metadata": {
    "collapsed": false,
    "pycharm": {
     "name": "#%% md\n"
    }
   }
  },
  {
   "cell_type": "code",
   "execution_count": 35,
   "outputs": [
    {
     "name": "stdout",
     "text": [
      "...\r\n",
      "\u001b[32;1mOK\u001b[0m\r\n"
     ],
     "output_type": "stream"
    }
   ],
   "source": [
    "remote_file_path = \"notebook/train-scikit-model-to-predict-boston-house-prices.ipynb\"\n",
    "local_file_path = \"train-scikit-model-to-predict-boston-house-prices.ipynb\"\n",
    "\n",
    "! cpdctl asset file upload --path {remote_file_path} --file {local_file_path} --project-id {PROJECT_ID}"
   ],
   "metadata": {
    "collapsed": false,
    "pycharm": {
     "name": "#%%\n",
     "is_executing": false
    }
   }
  },
  {
   "cell_type": "markdown",
   "source": [
    "Create a notebook asset"
   ],
   "metadata": {
    "collapsed": false,
    "pycharm": {
     "name": "#%% md\n"
    }
   }
  },
  {
   "cell_type": "code",
   "execution_count": 36,
   "outputs": [
    {
     "name": "stdout",
     "text": [
      "'train-scikit-model-to-predict-boston-house-prices' notebook ID is: 07f0b515-f125-49bc-8628-719c98c889d7\n"
     ],
     "output_type": "stream"
    }
   ],
   "source": [
    "file_name = \"train-scikit-model-to-predict-boston-house-prices.ipynb\"\n",
    "runtime = {\n",
    "    'environment': env_id\n",
    "}\n",
    "runtime_json = json.dumps(runtime)\n",
    "\n",
    "result = ! cpdctl notebook create --file-reference {remote_file_path} --name {file_name} --project {PROJECT_ID} --runtime '{runtime_json}' --output json -j \"metadata.asset_id\" --raw-output\n",
    "NOTEBOOK_ID = result.s\n",
    "print(\"'train-scikit-model-to-predict-boston-house-prices' notebook ID is: {}\".format(NOTEBOOK_ID))"
   ],
   "metadata": {
    "collapsed": false,
    "pycharm": {
     "name": "#%%\n",
     "is_executing": false
    }
   }
  },
  {
   "cell_type": "code",
   "execution_count": 37,
   "metadata": {
    "pycharm": {
     "is_executing": false
    }
   },
   "outputs": [
    {
     "name": "stdout",
     "text": [
      "...\r\n",
      "\u001b[1mID\u001b[0m                                     \u001b[1mName\u001b[0m                                                 \u001b[1mCreated\u001b[0m                    \u001b[1mDescription\u001b[0m   \u001b[1mType\u001b[0m       \u001b[1mState\u001b[0m       \u001b[1mTags\u001b[0m         \u001b[1mSize\u001b[0m   \r\n",
      "\u001b[36;1m91248743-3524-4b0f-878d-3aeef88c5fa5\u001b[0m   Sample notebook                                      2021-07-15T09:29:11.000Z                 notebook   available   [notebook]   207   \r\n",
      "\u001b[36;1m07f0b515-f125-49bc-8628-719c98c889d7\u001b[0m   train-scikit-model-to-predict-boston-house-prices…   2021-07-15T11:35:48.000Z                 notebook   available   [notebook]   36283   \r\n"
     ],
     "output_type": "stream"
    }
   ],
   "source": [
    "! cpdctl asset search --project-id {PROJECT_ID} --type-name notebook --query \"*:*\""
   ]
  },
  {
   "cell_type": "markdown",
   "source": [
    "In order to run the notebook, you must fill it in with your user name, password, url and space ID"
   ],
   "metadata": {
    "collapsed": false,
    "pycharm": {
     "name": "#%% md\n"
    }
   }
  },
  {
   "cell_type": "code",
   "execution_count": 38,
   "metadata": {
    "pycharm": {
     "is_executing": false
    }
   },
   "outputs": [
    {
     "name": "stdout",
     "text": [
      "'train-scikit-model-job' job ID is: 08539857-20f3-4d4a-ac14-846e75e34e04\n"
     ],
     "output_type": "stream"
    }
   ],
   "source": [
    "JOB = {\n",
    "    \"asset_ref\": NOTEBOOK_ID,\n",
    "    \"name\": \"train-scikit-model-job\",\n",
    "    \"configuration\": {\n",
    "        \"env_id\": env_id\n",
    "    }\n",
    "}\n",
    "JOB_JSON = json.dumps(JOB)\n",
    "result = ! cpdctl job create --project-id {PROJECT_ID} --job '{JOB_JSON}' --output json --jmes-query \"metadata.asset_id\" --raw-output\n",
    "JOB_ID = result.s\n",
    "print(\"'train-scikit-model-job' job ID is: {}\".format(JOB_ID))"
   ]
  },
  {
   "cell_type": "markdown",
   "metadata": {},
   "source": [
    "Trigger job run"
   ]
  },
  {
   "cell_type": "code",
   "execution_count": 39,
   "metadata": {
    "pycharm": {
     "is_executing": false
    }
   },
   "outputs": [
    {
     "name": "stdout",
     "text": [
      "The new run ID for 'train-scikit-model-job' job: \"afc59353-35c2-4524-a579-673ae6750253\"\n"
     ],
     "output_type": "stream"
    }
   ],
   "source": [
    "JOB_RUN = {\n",
    "    \"job_run\": {}\n",
    "}\n",
    "JOB_RUN_JSON = json.dumps(JOB_RUN)\n",
    "result = ! cpdctl job run create --project-id {PROJECT_ID} --job-id {JOB_ID} --job-run '{JOB_RUN_JSON}' --async --output json --jmes-query 'metadata.asset_id'\n",
    "RUN_ID = result.s\n",
    "print(\"The new run ID for 'train-scikit-model-job' job: {}\".format(RUN_ID))"
   ]
  },
  {
   "cell_type": "markdown",
   "metadata": {},
   "source": [
    "Get notebook run status"
   ]
  },
  {
   "cell_type": "code",
   "execution_count": 40,
   "metadata": {
    "pycharm": {
     "is_executing": false
    }
   },
   "outputs": [
    {
     "name": "stdout",
     "text": [
      "Running\r\n"
     ],
     "output_type": "stream"
    }
   ],
   "source": [
    "! cpdctl job run get --project-id {PROJECT_ID} --job-id {JOB_ID} --run-id {RUN_ID} --output json --jmes-query \"entity.job_run.state\" --raw-output"
   ]
  },
  {
   "cell_type": "code",
   "execution_count": 42,
   "metadata": {
    "pycharm": {
     "is_executing": false
    }
   },
   "outputs": [
    {
     "name": "stdout",
     "text": [
      "...\r\n",
      "\r\n",
      "Cell 9:\r\n",
      "Collecting ibm-watson-machine-learning\r\n",
      "\r\n",
      "  Downloading ibm_watson_machine_learning-1.0.116-py3-none-any.whl (1.9 MB)\r\n",
      "\u001b[K     |▌                               | 30 kB 2.0 MB/s eta 0:00:01\r\n",
      "\u001b[K     |██                              | 112 kB 1.0 MB/s eta 0:00:02\r\n",
      "\u001b[K     |███                             | 174 kB 1.0 MB/s eta 0:00:02\r\n",
      "\u001b[K     |████▏                           | 245 kB 1.0 MB/s eta 0:00:02\r\n",
      "\u001b[K     |█████▌                          | 327 kB 1.0 MB/s eta 0:00:02\r\n",
      "\u001b[K     |███████                         | 409 kB 1.0 MB/s eta 0:00:02\r\n",
      "\u001b[K     |███████▍                        | 440 kB 1.0 MB/s eta 0:00:02\r\n",
      "\u001b[K     |█████████▎                      | 552 kB 1.0 MB/s eta 0:00:02\r\n",
      "\u001b[K     |██████████▍                     | 614 kB 1.0 MB/s eta 0:00:02\r\n",
      "\u001b[K     |███████████▊                    | 696 kB 1.0 MB/s eta 0:00:02\r\n",
      "\u001b[K     |████████████▋                   | 747 kB 1.0 MB/s eta 0:00:02\r\n",
      "\u001b[K     |██████████████                  | 829 kB 1.0 MB/s eta 0:00:02\r\n",
      "\u001b[K     |███████████████▏                | 901 kB 1.0 MB/s eta 0:00:01\r\n",
      "\u001b[K     |████████████████▎               | 962 kB 1.0 MB/s eta 0:00:01\r\n",
      "\u001b[K     |█████████████████▎              | 1.0 MB 1.0 MB/s eta 0:00:01\r\n",
      "\u001b[K     |██████████████████▌             | 1.1 MB 1.0 MB/s eta 0:00:01\r\n",
      "\u001b[K     |███████████████████▉            | 1.2 MB 1.0 MB/s eta 0:00:01\r\n",
      "\u001b[K     |████████████████████▋           | 1.2 MB 1.0 MB/s eta 0:00:01\r\n",
      "\u001b[K     |██████████████████████          | 1.3 MB 1.0 MB/s eta 0:00:01\r\n",
      "\u001b[K     |██████████████████████▌         | 1.3 MB 1.0 MB/s eta 0:00:01\r\n",
      "\u001b[K     |████████████████████████▏       | 1.4 MB 1.0 MB/s eta 0:00:01\r\n",
      "\u001b[K     |█████████████████████████▏      | 1.5 MB 4.2 MB/s eta 0:00:01\r\n",
      "\u001b[K     |██████████████████████████      | 1.5 MB 4.2 MB/s eta 0:00:01\r\n",
      "\u001b[K     |██████████████████████████▊     | 1.6 MB 4.2 MB/s eta 0:00:01\r\n",
      "\u001b[K     |████████████████████████████    | 1.7 MB 4.2 MB/s eta 0:00:01\r\n",
      "\u001b[K     |████████████████████████████▉   | 1.7 MB 4.2 MB/s eta 0:00:01\r\n",
      "\u001b[K     |█████████████████████████████▊  | 1.8 MB 4.2 MB/s eta 0:00:01\r\n",
      "\u001b[K     |██████████████████████████████▋ | 1.8 MB 4.2 MB/s eta 0:00:01\r\n",
      "\u001b[K     |███████████████████████████████▋| 1.9 MB 4.2 MB/s eta 0:00:01\r\n",
      "\u001b[K     |████████████████████████████████| 1.9 MB 4.2 MB/s eta 0:00:01\r\n",
      "\r\n",
      "\u001b[?25hRequirement already satisfied, skipping upgrade: requests in /opt/conda/envs/Python-3.7-OpenCE/lib/python3.7/site-packages (from ibm-watson-machine-learning) (2.22.0)\r\n",
      "Requirement already satisfied, skipping upgrade: ibm-cos-sdk==2.7.* in /opt/conda/envs/Python-3.7-OpenCE/lib/python3.7/site-packages (from ibm-watson-machine-learning) (2.7.0)\r\n",
      "Requirement already satisfied, skipping upgrade: tabulate in /opt/conda/envs/Python-3.7-OpenCE/lib/python3.7/site-packages (from ibm-watson-machine-learning) (0.8.3)\r\n",
      "Requirement already satisfied, skipping upgrade: pandas<1.3.0,>=0.24.2 in /opt/conda/envs/Python-3.7-OpenCE/lib/python3.7/site-packages (from ibm-watson-machine-learning) (1.0.5)\r\n",
      "\r\n",
      "Requirement already satisfied, skipping upgrade: certifi in /opt/conda/envs/Python-3.7-OpenCE/lib/python3.7/site-packages (from ibm-watson-machine-learning) (2020.12.5)\r\n",
      "Requirement already satisfied, skipping upgrade: lomond in /opt/conda/envs/Python-3.7-OpenCE/lib/python3.7/site-packages (from ibm-watson-machine-learning) (0.3.3)\r\n",
      "Requirement already satisfied, skipping upgrade: packaging in /opt/conda/envs/Python-3.7-OpenCE/lib/python3.7/site-packages (from ibm-watson-machine-learning) (20.4)\r\n",
      "Requirement already satisfied, skipping upgrade: urllib3 in /opt/conda/envs/Python-3.7-OpenCE/lib/python3.7/site-packages (from ibm-watson-machine-learning) (1.25.9)\r\n",
      "Requirement already satisfied, skipping upgrade: idna<2.9,>=2.5 in /opt/conda/envs/Python-3.7-OpenCE/lib/python3.7/site-packages (from requests->ibm-watson-machine-learning) (2.8)\r\n",
      "Requirement already satisfied, skipping upgrade: chardet<3.1.0,>=3.0.2 in /opt/conda/envs/Python-3.7-OpenCE/lib/python3.7/site-packages (from requests->ibm-watson-machine-learning) (3.0.4)\r\n",
      "Requirement already satisfied, skipping upgrade: ibm-cos-sdk-s3transfer==2.7.0 in /opt/conda/envs/Python-3.7-OpenCE/lib/python3.7/site-packages (from ibm-cos-sdk==2.7.*->ibm-watson-machine-learning) (2.7.0)\r\n",
      "Requirement already satisfied, skipping upgrade: jmespath<1.0.0,>=0.7.1 in /opt/conda/envs/Python-3.7-OpenCE/lib/python3.7/site-packages (from ibm-cos-sdk==2.7.*->ibm-watson-machine-learning) (0.9.4)\r\n",
      "Requirement already satisfied, skipping upgrade: ibm-cos-sdk-core==2.7.0 in /opt/conda/envs/Python-3.7-OpenCE/lib/python3.7/site-packages (from ibm-cos-sdk==2.7.*->ibm-watson-machine-learning) (2.7.0)\r\n",
      "Requirement already satisfied, skipping upgrade: python-dateutil>=2.6.1 in /opt/conda/envs/Python-3.7-OpenCE/lib/python3.7/site-packages (from pandas<1.3.0,>=0.24.2->ibm-watson-machine-learning) (2.8.1)\r\n",
      "\r\n",
      "Requirement already satisfied, skipping upgrade: pytz>=2017.2 in /opt/conda/envs/Python-3.7-OpenCE/lib/python3.7/site-packages (from pandas<1.3.0,>=0.24.2->ibm-watson-machine-learning) (2020.1)\r\n",
      "Requirement already satisfied, skipping upgrade: numpy>=1.13.3 in /opt/conda/envs/Python-3.7-OpenCE/lib/python3.7/site-packages (from pandas<1.3.0,>=0.24.2->ibm-watson-machine-learning) (1.19.2)\r\n",
      "Requirement already satisfied, skipping upgrade: six>=1.10.0 in /opt/conda/envs/Python-3.7-OpenCE/lib/python3.7/site-packages (from lomond->ibm-watson-machine-learning) (1.15.0)\r\n",
      "Requirement already satisfied, skipping upgrade: pyparsing>=2.0.2 in /opt/conda/envs/Python-3.7-OpenCE/lib/python3.7/site-packages (from packaging->ibm-watson-machine-learning) (2.4.7)\r\n",
      "Requirement already satisfied, skipping upgrade: docutils<0.16,>=0.10 in /opt/conda/envs/Python-3.7-OpenCE/lib/python3.7/site-packages (from ibm-cos-sdk-core==2.7.0->ibm-cos-sdk==2.7.*->ibm-watson-machine-learning) (0.15.2)\r\n",
      "\r\n",
      "Installing collected packages: ibm-watson-machine-learning\r\n",
      "  Attempting uninstall: ibm-watson-machine-learning\r\n",
      "    Found existing installation: ibm-watson-machine-learning 1.0.91\r\n",
      "\r\n",
      "    Uninstalling ibm-watson-machine-learning-1.0.91:\r\n",
      "\r\n",
      "      Successfully uninstalled ibm-watson-machine-learning-1.0.91\r\n",
      "\r\n",
      "Successfully installed ibm-watson-machine-learning-1.0.116\r\n",
      "\r\n",
      "Cell 14:\r\n",
      "------------------------------------  -----------------  ------------------------\r\n",
      "ID                                    NAME               CREATED\r\n",
      "4265aad6-f75c-4ae9-b6ae-ea432822fde6  cpdctl-demo-space  2021-07-15T11:34:42.285Z\r\n",
      "be32f9b8-702f-444e-9902-754464f39853  jm-space           2021-07-15T10:40:36.849Z\r\n",
      "cdd90e91-792c-4834-a26a-ac979b998fd8  export-space       2021-07-09T12:02:55.754Z\r\n",
      "a72bfe88-5fc9-4323-90ad-53d94511d120  fvt-space          2021-06-28T12:50:33.447Z\r\n",
      "715f068a-a8c8-4093-a7f2-15ab111c21e5  prod-space         2021-06-21T11:12:12.958Z\r\n",
      "9001e03a-e3b9-4ddf-88db-063651d735b4  qa-space           2021-06-21T11:11:22.988Z\r\n",
      "------------------------------------  -----------------  ------------------------\r\n",
      "\r\n",
      "Cell 16:\r\n",
      "\r\n",
      "Cell 18:\r\n",
      "Collecting wget\r\n",
      "\r\n",
      "  Downloading wget-3.2.zip (10 kB)\r\n",
      "\r\n",
      "Building wheels for collected packages: wget\r\n",
      "\r\n",
      "  Building wheel for wget (setup.py) ... \u001b[?25l-\r\n",
      "\b \b\\\r\n",
      "\b \bdone\r\n",
      "\u001b[?25h  Created wheel for wget: filename=wget-3.2-py3-none-any.whl size=9681 sha256=b3465c06d7be7a11662aa121667726a9f6e9f6b36f13e2fb97b08c88704c5b6d\r\n",
      "  Stored in directory: /tmp/1000650000/.cache/pip/wheels/a1/b6/7c/0e63e34eb06634181c63adacca38b79ff8f35c37e3c13e3c02\r\n",
      "Successfully built wget\r\n",
      "\r\n",
      "Installing collected packages: wget\r\n",
      "\r\n",
      "Successfully installed wget-3.2\r\n",
      "\r\n",
      "Cell 29:\r\n",
      "{\r\n",
      "  \"entity\": {\r\n",
      "    \"software_spec\": {\r\n",
      "      \"id\": \"e4429883-c883-42b6-87a8-f419d64088cd\",\r\n",
      "      \"name\": \"default_py3.7\"\r\n",
      "    },\r\n",
      "    \"type\": \"scikit-learn_0.23\"\r\n",
      "  },\r\n",
      "  \"metadata\": {\r\n",
      "    \"created_at\": \"2021-08-11T13:42:13.945Z\",\r\n",
      "    \"id\": \"ba8ae04b-a049-4346-a654-be364a1d0db9\",\r\n",
      "    \"modified_at\": \"2021-08-11T13:42:14.744Z\",\r\n",
      "    \"name\": \"boston-house-prices-prediction-model\",\r\n",
      "    \"owner\": \"1000330999\",\r\n",
      "    \"space_id\": \"ad234d0d-1991-4655-bef0-23542131789d\"\r\n",
      "  },\r\n",
      "  \"system\": {\r\n",
      "    \"warnings\": []\r\n",
      "  }\r\n",
      "}\r\n",
      "\r\n",
      "Cell 31:\r\n",
      "------------------------------------  ------------------------------------  ------------------------  -----------------\r\n",
      "ID                                    NAME                                  CREATED                   TYPE\r\n",
      "ba8ae04b-a049-4346-a654-be364a1d0db9  boston-house-prices-prediction-model  2021-08-11T13:42:13.002Z  scikit-learn_0.23\r\n",
      "------------------------------------  ------------------------------------  ------------------------  -----------------\r\n",
      "\r\n",
      "\r\n"
     ],
     "output_type": "stream"
    }
   ],
   "source": [
    "! cpdctl job run logs --project-id {PROJECT_ID} --job-id {JOB_ID} --run-id {RUN_ID}"
   ]
  },
  {
   "cell_type": "code",
   "execution_count": 43,
   "metadata": {
    "pycharm": {
     "is_executing": false
    }
   },
   "outputs": [
    {
     "name": "stdout",
     "text": [
      "'boston-house-prices-prediction-model' model ID is: ba8ae04b-a049-4346-a654-be364a1d0db9\n"
     ],
     "output_type": "stream"
    }
   ],
   "source": [
    "result = ! cpdctl asset search --space-id {DEV_SPACE_ID} --type-name wml_model --query \"asset.name:External scikit model - updated\" --output json --jmes-query \"results[0].metadata.asset_id\" --raw-output\n",
    "MODEL_ID = result.s\n",
    "print(\"'boston-house-prices-prediction-model' model ID is: {}\".format(MODEL_ID))"
   ]
  },
  {
   "cell_type": "code",
   "execution_count": 45,
   "outputs": [
    {
     "name": "stdout",
     "text": [
      "...\r\n",
      "\u001b[1mID\u001b[0m                                     \u001b[1mName\u001b[0m                                   \u001b[1mCreated\u001b[0m                    \u001b[1mType\u001b[0m                \u001b[1mTags\u001b[0m   \r\n",
      "\u001b[36;1mba8ae04b-a049-4346-a654-be364a1d0db9\u001b[0m   boston-house-prices-prediction-model   2021-08-11T13:42:13.002Z   scikit-learn_0.23   []   \r\n"
     ],
     "output_type": "stream"
    }
   ],
   "source": [
    "! cpdctl ml model list --space-id {DEV_SPACE_ID}"
   ],
   "metadata": {
    "collapsed": false,
    "pycharm": {
     "name": "#%%\n",
     "is_executing": false
    }
   }
  },
  {
   "cell_type": "markdown",
   "metadata": {},
   "source": [
    "Export space assets"
   ]
  },
  {
   "cell_type": "code",
   "execution_count": 45,
   "metadata": {
    "pycharm": {
     "is_executing": false
    }
   },
   "outputs": [
    {
     "name": "stdout",
     "text": [
      "The new export with ID: \"5a0e7988-253f-4d48-b780-ae345b10069e\"\n"
     ],
     "output_type": "stream"
    }
   ],
   "source": [
    "EXPORT = {\n",
    "    'asset_ids': [MODEL_ID]\n",
    "}\n",
    "EXPORT_JSON = json.dumps(EXPORT)\n",
    "result = ! cpdctl asset export start --space-id {DEV_SPACE_ID} --assets '{EXPORT_JSON}' --name dev-space-assets --output json --jmes-query \"metadata.id\"\n",
    "EXPORT_ID = result.s\n",
    "print(\"The new export with ID: {}\".format(EXPORT_ID))"
   ]
  },
  {
   "cell_type": "code",
   "execution_count": 46,
   "metadata": {
    "pycharm": {
     "is_executing": false
    }
   },
   "outputs": [
    {
     "name": "stdout",
     "text": [
      "...\r\n",
      "\u001b[1m\u001b[0m           \u001b[1m\u001b[0m   \r\n",
      "\u001b[36;1mID:\u001b[0m        5a0e7988-253f-4d48-b780-ae345b10069e   \r\n",
      "\u001b[36;1mName:\u001b[0m      dev-space-assets   \r\n",
      "\u001b[36;1mCreated:\u001b[0m   2021-07-15T11:44:09.475Z   \r\n",
      "\u001b[36;1mState:\u001b[0m     completed   \r\n"
     ],
     "output_type": "stream"
    }
   ],
   "source": [
    "! cpdctl asset export get --space-id {DEV_SPACE_ID} --export-id {EXPORT_ID}"
   ]
  },
  {
   "cell_type": "code",
   "execution_count": 47,
   "metadata": {
    "pycharm": {
     "is_executing": false
    }
   },
   "outputs": [
    {
     "name": "stdout",
     "text": [
      "...\r\n",
      "\u001b[32;1mOK\u001b[0m\r\n",
      "Output written to dev-space-assets.zip\r\n"
     ],
     "output_type": "stream"
    }
   ],
   "source": [
    "! cpdctl asset export download --space-id {DEV_SPACE_ID} --export-id {EXPORT_ID} --output-file dev-space-assets.zip"
   ]
  },
  {
   "cell_type": "code",
   "execution_count": 48,
   "metadata": {
    "pycharm": {
     "is_executing": false
    }
   },
   "outputs": [
    {
     "name": "stdout",
     "text": [
      "Archive:  dev-space-assets.zip\r\n",
      "  Length      Date    Time    Name\r\n",
      "---------  ---------- -----   ----\r\n",
      "       44  08-11-2021 13:44   deflate.log\r\n",
      "      476  08-11-2021 13:44   assettypes/omrs_relationship_message.json\r\n",
      "      344  08-11-2021 13:44   assettypes/omrs_entity.json\r\n",
      "      469  08-11-2021 13:44   assettypes/data_asset.json\r\n",
      "      479  08-11-2021 13:44   assettypes/omrs_relationship.json\r\n",
      "      251  08-11-2021 13:44   assettypes/policy_transform.json\r\n",
      "      206  08-11-2021 13:44   assettypes/data_flow.json\r\n",
      "      326  08-11-2021 13:44   assettypes/connection.json\r\n",
      "    16789  08-11-2021 13:44   assettypes/wml_function.json\r\n",
      "     2545  08-11-2021 13:44   assettypes/wml_remote_training_system.json\r\n",
      "    43577  08-11-2021 13:44   assettypes/wml_pipeline.json\r\n",
      "    40878  08-11-2021 13:44   assettypes/wml_deployment_job_definition.json\r\n",
      "      546  08-11-2021 13:44   assettypes/connection_credentials.json\r\n",
      "      543  08-11-2021 13:44   assettypes/environment.json\r\n",
      "      494  08-11-2021 13:44   assettypes/notebook.json\r\n",
      "      433  08-11-2021 13:44   assettypes/folder_asset.json\r\n",
      "     1941  08-11-2021 13:44   assettypes/script.json\r\n",
      "     1005  08-11-2021 13:44   assettypes/column_info.json\r\n",
      "      560  08-11-2021 13:44   assettypes/asset_terms.json\r\n",
      "     1459  08-11-2021 13:44   assettypes/job_run.json\r\n",
      "     1055  08-11-2021 13:44   assettypes/job.json\r\n",
      "     1043  08-11-2021 13:44   assettypes/hardware_specification.json\r\n",
      "      530  08-11-2021 13:44   assettypes/software_specification.json\r\n",
      "      305  08-11-2021 13:44   assettypes/package_extension.json\r\n",
      "      236  08-11-2021 13:44   assettypes/code_package.json\r\n",
      "      449  08-11-2021 13:44   assettypes/shiny_asset.json\r\n",
      "    28155  08-11-2021 13:44   assettypes/wml_training_definition.json\r\n",
      "     3079  08-11-2021 13:44   assettypes/wml_model_definition.json\r\n",
      "    41328  08-11-2021 13:44   assettypes/wml_model.json\r\n",
      "    13237  08-11-2021 13:44   assettypes/wml_experiment.json\r\n",
      "     1446  08-11-2021 13:44   assets/.METADATA/wml_model.ba8ae04b-a049-4346-a654-be364a1d0db9.json\r\n",
      "      839  08-11-2021 13:44   assets/wml_model/ba8ae04b-a049-4346-a654-be364a1d0db9/30a8502d-8783-4508-8252-693b612b87c5\r\n",
      "      376  08-11-2021 13:44   space.json\r\n",
      "---------                     -------\r\n",
      "   205443                     33 files\r\n"
     ],
     "output_type": "stream"
    }
   ],
   "source": [
    "! unzip -l dev-space-assets.zip "
   ]
  },
  {
   "cell_type": "markdown",
   "metadata": {},
   "source": [
    "### Create a new QA space and import assets"
   ]
  },
  {
   "cell_type": "markdown",
   "metadata": {},
   "source": [
    "Ensure there is no QA space"
   ]
  },
  {
   "cell_type": "code",
   "execution_count": 49,
   "metadata": {
    "pycharm": {
     "is_executing": false
    }
   },
   "outputs": [],
   "source": [
    "result = ! cpdctl space list --output json --jmes-query \"resources[?entity.name == 'cpdctl-demo-qa-space'].metadata.id\"\n",
    "SPACE_IDS = json.loads(result.s)\n",
    "if SPACE_IDS:\n",
    "    for space_id in SPACE_IDS:\n",
    "        result = ! cpdctl ml deployment list --space-id {space_id} --output json --jmes-query \"resources[*].metadata.id\"\n",
    "        DEPLOYMENT_IDS = json.loads(result.s)\n",
    "        if DEPLOYMENT_IDS:\n",
    "            for deployment_id in DEPLOYMENT_IDS:\n",
    "                print('Deleting deployment with ID: {}'.format(space_id))\n",
    "                ! cpdctl ml deployment delete --space-id {space_id} --deployment-id {deployment_id}\n",
    "        print('Deleting space with ID: {}'.format(space_id))\n",
    "        ! cpdctl space delete --space-id {space_id}"
   ]
  },
  {
   "cell_type": "markdown",
   "metadata": {},
   "source": [
    "Create a new QA space"
   ]
  },
  {
   "cell_type": "code",
   "execution_count": 50,
   "metadata": {
    "pycharm": {
     "is_executing": false
    }
   },
   "outputs": [
    {
     "name": "stdout",
     "text": [
      "The new 'cpdctl-demo-qa-space' space ID is: 2c83e24c-c36e-41d3-ad94-c2f5ce6fa723\n"
     ],
     "output_type": "stream"
    }
   ],
   "source": [
    "result = ! cpdctl space create --name cpdctl-demo-qa-space --output json --jmes-query \"metadata.id\" --raw-output\n",
    "QA_SPACE_ID = result.s\n",
    "print(\"The new 'cpdctl-demo-qa-space' space ID is: {}\".format(QA_SPACE_ID))"
   ]
  },
  {
   "cell_type": "markdown",
   "metadata": {},
   "source": [
    "Import assets exported from DEV space"
   ]
  },
  {
   "cell_type": "code",
   "execution_count": 51,
   "metadata": {
    "pycharm": {
     "is_executing": false
    }
   },
   "outputs": [
    {
     "name": "stdout",
     "text": [
      "The new import ID is: 07b74a2b-799b-4de3-8bb5-7fd9783a05e7\n"
     ],
     "output_type": "stream"
    }
   ],
   "source": [
    "result = ! cpdctl asset import start --space-id {QA_SPACE_ID} --import-file dev-space-assets.zip --output json --jmes-query \"metadata.id\" --raw-output\n",
    "QA_IMPORT_ID = result.s\n",
    "print(\"The new import ID is: {}\".format(QA_IMPORT_ID))"
   ]
  },
  {
   "cell_type": "code",
   "execution_count": 52,
   "metadata": {
    "pycharm": {
     "is_executing": false
    }
   },
   "outputs": [
    {
     "name": "stdout",
     "text": [
      "...\r\n",
      "\u001b[1m\u001b[0m           \u001b[1m\u001b[0m   \r\n",
      "\u001b[36;1mID:\u001b[0m        07b74a2b-799b-4de3-8bb5-7fd9783a05e7   \r\n",
      "\u001b[36;1mCreated:\u001b[0m   2021-07-15T11:45:03.886Z   \r\n",
      "\u001b[36;1mState:\u001b[0m     completed   \r\n"
     ],
     "output_type": "stream"
    }
   ],
   "source": [
    "! cpdctl asset import get --space-id {QA_SPACE_ID} --import-id {QA_IMPORT_ID}"
   ]
  },
  {
   "cell_type": "code",
   "execution_count": 53,
   "metadata": {
    "pycharm": {
     "is_executing": false
    }
   },
   "outputs": [
    {
     "name": "stdout",
     "text": [
      "...\r\n",
      "\u001b[1mID\u001b[0m                                     \u001b[1mName\u001b[0m                                   \u001b[1mCreated\u001b[0m                    \u001b[1mType\u001b[0m                \u001b[1mTags\u001b[0m   \r\n",
      "\u001b[36;1m42f3fdcb-9304-44a3-b711-0a9761dc6f5d\u001b[0m   boston-house-prices-prediction-model   2021-08-11T13:45:23.002Z   scikit-learn_0.23   []   \r\n"
     ],
     "output_type": "stream"
    }
   ],
   "source": [
    "! cpdctl ml model list --space-id {QA_SPACE_ID}"
   ]
  },
  {
   "cell_type": "code",
   "execution_count": 54,
   "metadata": {
    "pycharm": {
     "is_executing": false
    }
   },
   "outputs": [
    {
     "name": "stdout",
     "text": [
      "QA model ID is: 42f3fdcb-9304-44a3-b711-0a9761dc6f5d\n"
     ],
     "output_type": "stream"
    }
   ],
   "source": [
    "result = ! cpdctl ml model list --space-id {QA_SPACE_ID} --output json --jmes-query \"resources[0].metadata.id\" --raw-output\n",
    "QA_MODEL_ID = result.s\n",
    "print(\"QA model ID is: {}\".format(QA_MODEL_ID))"
   ]
  },
  {
   "cell_type": "markdown",
   "source": [
    "Create online deployment"
   ],
   "metadata": {
    "collapsed": false
   }
  },
  {
   "cell_type": "code",
   "execution_count": 55,
   "metadata": {
    "pycharm": {
     "is_executing": false
    }
   },
   "outputs": [
    {
     "name": "stdout",
     "text": [
      "...\r\n",
      "\u001b[1m\u001b[0m           \u001b[1m\u001b[0m   \r\n",
      "\u001b[36;1mID:\u001b[0m        81c95d17-3a55-4c4d-a6e7-26bbbb459f43   \r\n",
      "\u001b[36;1mName:\u001b[0m         \r\n",
      "\u001b[36;1mCreated:\u001b[0m   2021-07-15T11:45:36.826Z   \r\n",
      "\u001b[36;1mState:\u001b[0m     ready   \r\n",
      "\u001b[36;1mTags:\u001b[0m      []   \r\n"
     ],
     "output_type": "stream"
    }
   ],
   "source": [
    "ASSET_JSON = json.dumps({\"id\": QA_MODEL_ID})\n",
    "ONLINE_JSON = json.dumps({})\n",
    "\n",
    "! cpdctl ml deployment create --space-id {QA_SPACE_ID} --asset '{ASSET_JSON}' --online '{ONLINE_JSON}'"
   ]
  },
  {
   "cell_type": "code",
   "execution_count": 56,
   "metadata": {
    "pycharm": {
     "is_executing": false
    }
   },
   "outputs": [
    {
     "name": "stdout",
     "text": [
      "...\r\n",
      "\u001b[1mID\u001b[0m                                     \u001b[1mName\u001b[0m   \u001b[1mCreated\u001b[0m                    \u001b[1mState\u001b[0m   \u001b[1mTags\u001b[0m   \r\n",
      "\u001b[36;1m81c95d17-3a55-4c4d-a6e7-26bbbb459f43\u001b[0m          2021-07-15T11:45:36.826Z   ready   []   \r\n"
     ],
     "output_type": "stream"
    }
   ],
   "source": [
    "! cpdctl ml deployment list  --space-id {QA_SPACE_ID}"
   ]
  },
  {
   "cell_type": "markdown",
   "metadata": {},
   "source": [
    "### Author\n",
    "\n",
    "Rafał Bigaj, System Architect with long successful record of building and leading teams. Broad and practical knowledge in the area of cloud computing, machine learning and distributed systems development. "
   ]
  },
  {
   "cell_type": "markdown",
   "metadata": {},
   "source": [
    "Copyright © 2020 IBM. This notebook and its source code are released under the terms of the MIT License."
   ]
  }
 ],
 "metadata": {
  "kernelspec": {
   "name": "python3",
   "language": "python",
   "display_name": "Python 3 (ipykernel)"
  },
  "language_info": {
   "codemirror_mode": {
    "name": "ipython",
    "version": 3
   },
   "file_extension": ".py",
   "mimetype": "text/x-python",
   "name": "python",
   "nbconvert_exporter": "python",
   "pygments_lexer": "ipython3",
   "version": "3.7.4"
  },
  "pycharm": {
   "stem_cell": {
    "cell_type": "raw",
    "source": [],
    "metadata": {
     "collapsed": false
    }
   }
  }
 },
 "nbformat": 4,
 "nbformat_minor": 1
}
